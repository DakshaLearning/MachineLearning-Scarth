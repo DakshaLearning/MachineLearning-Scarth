{
  "nbformat": 4,
  "nbformat_minor": 0,
  "metadata": {
    "colab": {
      "name": "Data Analysis Final class.ipynb",
      "provenance": [],
      "collapsed_sections": []
    },
    "kernelspec": {
      "name": "python3",
      "display_name": "Python 3"
    }
  },
  "cells": [
    {
      "cell_type": "markdown",
      "metadata": {
        "id": "p2oAE6wOct96",
        "colab_type": "text"
      },
      "source": [
        "\n",
        "Explonatory Analsis\n"
      ]
    },
    {
      "cell_type": "code",
      "metadata": {
        "id": "W6kcNiIlcxTa",
        "colab_type": "code",
        "colab": {}
      },
      "source": [
        "import pandas as pd\n",
        "import numpy as np                     # For mathematical calculations\n",
        "import seaborn as sns                  # For data visualization\n",
        "import matplotlib.pyplot as plt        # For plotting graphs\n",
        "%matplotlib inline\n",
        "import warnings                        # To ignore any warnings\n",
        "warnings.filterwarnings(\"ignore\")"
      ],
      "execution_count": 0,
      "outputs": []
    },
    {
      "cell_type": "code",
      "metadata": {
        "id": "0EHqMdtTpuEK",
        "colab_type": "code",
        "colab": {}
      },
      "source": [
        ""
      ],
      "execution_count": 0,
      "outputs": []
    },
    {
      "cell_type": "code",
      "metadata": {
        "id": "l85F9nnQpMRb",
        "colab_type": "code",
        "colab": {}
      },
      "source": [
        ""
      ],
      "execution_count": 0,
      "outputs": []
    },
    {
      "cell_type": "markdown",
      "metadata": {
        "id": "jEb0yJ_qdGzA",
        "colab_type": "text"
      },
      "source": [
        "*Dat*a\n",
        "For this practice problem,  two CSV files: train, test \n",
        "Train file will be used for training the model, i.e. our model will learn from this file. It contains all the independent variables and the target variable. Test file contains all the independent variables, but not the target variable. We will apply the model to predict the target variable for the test data. Sample submission file contains the format in which we have to submit our predictions. Reading data"
      ]
    },
    {
      "cell_type": "code",
      "metadata": {
        "id": "vYobV13QYPx8",
        "colab_type": "code",
        "colab": {}
      },
      "source": [
        ""
      ],
      "execution_count": 0,
      "outputs": []
    },
    {
      "cell_type": "code",
      "metadata": {
        "id": "I_3I2BYwdOjQ",
        "colab_type": "code",
        "colab": {}
      },
      "source": [
        "train = pd.read_csv('train_u6lujuX_CVtuZ9i.csv')\n",
        "\n",
        "test  = pd.read_csv('test_Y3wMUE5_7gLdaTN.csv')"
      ],
      "execution_count": 0,
      "outputs": []
    },
    {
      "cell_type": "code",
      "metadata": {
        "id": "IqyWt0K2pvJz",
        "colab_type": "code",
        "colab": {}
      },
      "source": [
        ""
      ],
      "execution_count": 0,
      "outputs": []
    },
    {
      "cell_type": "code",
      "metadata": {
        "id": "WIXU4tw5d7su",
        "colab_type": "code",
        "colab": {}
      },
      "source": [
        "train_original = train.copy()\n",
        "test_original = test.copy()"
      ],
      "execution_count": 0,
      "outputs": []
    },
    {
      "cell_type": "code",
      "metadata": {
        "id": "ohXmMEyepw2Q",
        "colab_type": "code",
        "colab": {}
      },
      "source": [
        ""
      ],
      "execution_count": 0,
      "outputs": []
    },
    {
      "cell_type": "code",
      "metadata": {
        "id": "I3Mkvn9Ed_3-",
        "colab_type": "code",
        "outputId": "e0db18cd-fd9b-4ef3-a7b6-17ea1c730bd1",
        "colab": {
          "base_uri": "https://localhost:8080/",
          "height": 232
        }
      },
      "source": [
        "test.head()"
      ],
      "execution_count": 0,
      "outputs": [
        {
          "output_type": "execute_result",
          "data": {
            "text/html": [
              "<div>\n",
              "<style scoped>\n",
              "    .dataframe tbody tr th:only-of-type {\n",
              "        vertical-align: middle;\n",
              "    }\n",
              "\n",
              "    .dataframe tbody tr th {\n",
              "        vertical-align: top;\n",
              "    }\n",
              "\n",
              "    .dataframe thead th {\n",
              "        text-align: right;\n",
              "    }\n",
              "</style>\n",
              "<table border=\"1\" class=\"dataframe\">\n",
              "  <thead>\n",
              "    <tr style=\"text-align: right;\">\n",
              "      <th></th>\n",
              "      <th>Loan_ID</th>\n",
              "      <th>Gender</th>\n",
              "      <th>Married</th>\n",
              "      <th>Dependents</th>\n",
              "      <th>Education</th>\n",
              "      <th>Self_Employed</th>\n",
              "      <th>ApplicantIncome</th>\n",
              "      <th>CoapplicantIncome</th>\n",
              "      <th>LoanAmount</th>\n",
              "      <th>Loan_Amount_Term</th>\n",
              "      <th>Credit_History</th>\n",
              "      <th>Property_Area</th>\n",
              "    </tr>\n",
              "  </thead>\n",
              "  <tbody>\n",
              "    <tr>\n",
              "      <th>0</th>\n",
              "      <td>LP001015</td>\n",
              "      <td>Male</td>\n",
              "      <td>Yes</td>\n",
              "      <td>0</td>\n",
              "      <td>Graduate</td>\n",
              "      <td>No</td>\n",
              "      <td>5720</td>\n",
              "      <td>0</td>\n",
              "      <td>110.0</td>\n",
              "      <td>360.0</td>\n",
              "      <td>1.0</td>\n",
              "      <td>Urban</td>\n",
              "    </tr>\n",
              "    <tr>\n",
              "      <th>1</th>\n",
              "      <td>LP001022</td>\n",
              "      <td>Male</td>\n",
              "      <td>Yes</td>\n",
              "      <td>1</td>\n",
              "      <td>Graduate</td>\n",
              "      <td>No</td>\n",
              "      <td>3076</td>\n",
              "      <td>1500</td>\n",
              "      <td>126.0</td>\n",
              "      <td>360.0</td>\n",
              "      <td>1.0</td>\n",
              "      <td>Urban</td>\n",
              "    </tr>\n",
              "    <tr>\n",
              "      <th>2</th>\n",
              "      <td>LP001031</td>\n",
              "      <td>Male</td>\n",
              "      <td>Yes</td>\n",
              "      <td>2</td>\n",
              "      <td>Graduate</td>\n",
              "      <td>No</td>\n",
              "      <td>5000</td>\n",
              "      <td>1800</td>\n",
              "      <td>208.0</td>\n",
              "      <td>360.0</td>\n",
              "      <td>1.0</td>\n",
              "      <td>Urban</td>\n",
              "    </tr>\n",
              "    <tr>\n",
              "      <th>3</th>\n",
              "      <td>LP001035</td>\n",
              "      <td>Male</td>\n",
              "      <td>Yes</td>\n",
              "      <td>2</td>\n",
              "      <td>Graduate</td>\n",
              "      <td>No</td>\n",
              "      <td>2340</td>\n",
              "      <td>2546</td>\n",
              "      <td>100.0</td>\n",
              "      <td>360.0</td>\n",
              "      <td>NaN</td>\n",
              "      <td>Urban</td>\n",
              "    </tr>\n",
              "    <tr>\n",
              "      <th>4</th>\n",
              "      <td>LP001051</td>\n",
              "      <td>Male</td>\n",
              "      <td>No</td>\n",
              "      <td>0</td>\n",
              "      <td>Not Graduate</td>\n",
              "      <td>No</td>\n",
              "      <td>3276</td>\n",
              "      <td>0</td>\n",
              "      <td>78.0</td>\n",
              "      <td>360.0</td>\n",
              "      <td>1.0</td>\n",
              "      <td>Urban</td>\n",
              "    </tr>\n",
              "  </tbody>\n",
              "</table>\n",
              "</div>"
            ],
            "text/plain": [
              "    Loan_ID Gender Married  ... Loan_Amount_Term Credit_History Property_Area\n",
              "0  LP001015   Male     Yes  ...            360.0            1.0         Urban\n",
              "1  LP001022   Male     Yes  ...            360.0            1.0         Urban\n",
              "2  LP001031   Male     Yes  ...            360.0            1.0         Urban\n",
              "3  LP001035   Male     Yes  ...            360.0            NaN         Urban\n",
              "4  LP001051   Male      No  ...            360.0            1.0         Urban\n",
              "\n",
              "[5 rows x 12 columns]"
            ]
          },
          "metadata": {
            "tags": []
          },
          "execution_count": 8
        }
      ]
    },
    {
      "cell_type": "code",
      "metadata": {
        "id": "-unlEGrvgMoA",
        "colab_type": "code",
        "colab": {}
      },
      "source": [
        ""
      ],
      "execution_count": 0,
      "outputs": []
    },
    {
      "cell_type": "markdown",
      "metadata": {
        "id": "OwCV4gd8eD83",
        "colab_type": "text"
      },
      "source": [
        "In this section, we will look at the structure of the train and test datasets. Firstly, we will check the features present in our data and then we will look at their data types."
      ]
    },
    {
      "cell_type": "code",
      "metadata": {
        "id": "7QpGgTxNeEbu",
        "colab_type": "code",
        "outputId": "c42b1ef6-de29-4e4b-d68a-f8c061a9960b",
        "colab": {
          "base_uri": "https://localhost:8080/",
          "height": 84
        }
      },
      "source": [
        "train.keys()\n"
      ],
      "execution_count": 0,
      "outputs": [
        {
          "output_type": "execute_result",
          "data": {
            "text/plain": [
              "Index(['Loan_ID', 'Gender', 'Married', 'Dependents', 'Education',\n",
              "       'Self_Employed', 'ApplicantIncome', 'CoapplicantIncome', 'LoanAmount',\n",
              "       'Loan_Amount_Term', 'Credit_History', 'Property_Area', 'Loan_Status'],\n",
              "      dtype='object')"
            ]
          },
          "metadata": {
            "tags": []
          },
          "execution_count": 9
        }
      ]
    },
    {
      "cell_type": "code",
      "metadata": {
        "id": "GcnZ6BCteHE9",
        "colab_type": "code",
        "outputId": "e8262057-7864-47cb-e08b-c620f46932a1",
        "colab": {
          "base_uri": "https://localhost:8080/",
          "height": 85
        }
      },
      "source": [
        "train.columns"
      ],
      "execution_count": 0,
      "outputs": [
        {
          "output_type": "execute_result",
          "data": {
            "text/plain": [
              "Index(['Loan_ID', 'Gender', 'Married', 'Dependents', 'Education',\n",
              "       'Self_Employed', 'ApplicantIncome', 'CoapplicantIncome', 'LoanAmount',\n",
              "       'Loan_Amount_Term', 'Credit_History', 'Property_Area', 'Loan_Status'],\n",
              "      dtype='object')"
            ]
          },
          "metadata": {
            "tags": []
          },
          "execution_count": 8
        }
      ]
    },
    {
      "cell_type": "code",
      "metadata": {
        "id": "YEU2EgHMeJeN",
        "colab_type": "code",
        "outputId": "90d8b64b-8fd2-4232-d388-ab8bee6e7f53",
        "colab": {
          "base_uri": "https://localhost:8080/",
          "height": 252
        }
      },
      "source": [
        "# print datatypes for each variables\n",
        "train.dtypes"
      ],
      "execution_count": 0,
      "outputs": [
        {
          "output_type": "execute_result",
          "data": {
            "text/plain": [
              "Loan_ID               object\n",
              "Gender                object\n",
              "Married               object\n",
              "Dependents            object\n",
              "Education             object\n",
              "Self_Employed         object\n",
              "ApplicantIncome        int64\n",
              "CoapplicantIncome    float64\n",
              "LoanAmount           float64\n",
              "Loan_Amount_Term     float64\n",
              "Credit_History       float64\n",
              "Property_Area         object\n",
              "Loan_Status           object\n",
              "dtype: object"
            ]
          },
          "metadata": {
            "tags": []
          },
          "execution_count": 14
        }
      ]
    },
    {
      "cell_type": "code",
      "metadata": {
        "id": "Xq1485MBeLyd",
        "colab_type": "code",
        "outputId": "26a5b350-1506-4a5f-fd7f-fd7fb86147a0",
        "colab": {
          "base_uri": "https://localhost:8080/",
          "height": 34
        }
      },
      "source": [
        "train.shape,test.shape"
      ],
      "execution_count": 0,
      "outputs": [
        {
          "output_type": "execute_result",
          "data": {
            "text/plain": [
              "((614, 13), (367, 12))"
            ]
          },
          "metadata": {
            "tags": []
          },
          "execution_count": 10
        }
      ]
    },
    {
      "cell_type": "code",
      "metadata": {
        "id": "5ITUgTn0eVW1",
        "colab_type": "code",
        "colab": {}
      },
      "source": [
        ""
      ],
      "execution_count": 0,
      "outputs": []
    },
    {
      "cell_type": "markdown",
      "metadata": {
        "id": "HhjRliOaeYSd",
        "colab_type": "text"
      },
      "source": [
        "\n",
        "Univariate Analysis\n",
        "We will first look at the target variable, i.e., Loan_Status. As it is a categorical variable, let us look at its frequency table, percentage distribution and bar plot.\n",
        "\n",
        "Frequency table of a variable will give us the count of each category in that variable."
      ]
    },
    {
      "cell_type": "code",
      "metadata": {
        "id": "-Ml_otrReY9c",
        "colab_type": "code",
        "outputId": "ace5cb7f-4e4c-4786-e700-89af2b7c5d2c",
        "colab": {
          "base_uri": "https://localhost:8080/",
          "height": 67
        }
      },
      "source": [
        "train['Loan_Status'].value_counts()"
      ],
      "execution_count": 0,
      "outputs": [
        {
          "output_type": "execute_result",
          "data": {
            "text/plain": [
              "Y    422\n",
              "N    192\n",
              "Name: Loan_Status, dtype: int64"
            ]
          },
          "metadata": {
            "tags": []
          },
          "execution_count": 15
        }
      ]
    },
    {
      "cell_type": "code",
      "metadata": {
        "id": "St0_qTc3edVN",
        "colab_type": "code",
        "outputId": "d1975c56-5cde-4a48-db07-851fa400e2da",
        "colab": {
          "base_uri": "https://localhost:8080/",
          "height": 67
        }
      },
      "source": [
        "# Normalise can be set to true to print the proportions instead of Numbers.\n",
        "train['Loan_Status'].value_counts(normalize=True)"
      ],
      "execution_count": 0,
      "outputs": [
        {
          "output_type": "execute_result",
          "data": {
            "text/plain": [
              "Y    0.687296\n",
              "N    0.312704\n",
              "Name: Loan_Status, dtype: float64"
            ]
          },
          "metadata": {
            "tags": []
          },
          "execution_count": 16
        }
      ]
    },
    {
      "cell_type": "code",
      "metadata": {
        "id": "oLcQ4kyoeh6M",
        "colab_type": "code",
        "outputId": "ccfbf17d-f592-4e64-eb8e-d87d7d2bcb39",
        "colab": {
          "base_uri": "https://localhost:8080/",
          "height": 282
        }
      },
      "source": [
        "train['Loan_Status'].value_counts().plot.bar()"
      ],
      "execution_count": 0,
      "outputs": [
        {
          "output_type": "execute_result",
          "data": {
            "text/plain": [
              "<matplotlib.axes._subplots.AxesSubplot at 0x7f9b947d6940>"
            ]
          },
          "metadata": {
            "tags": []
          },
          "execution_count": 17
        },
        {
          "output_type": "display_data",
          "data": {
            "image/png": "[encoded data removed]",
            "text/plain": [
              "<Figure size 432x288 with 1 Axes>"
            ]
          },
          "metadata": {
            "tags": []
          }
        }
      ]
    },
    {
      "cell_type": "code",
      "metadata": {
        "id": "H8xEg8KYemgc",
        "colab_type": "code",
        "colab": {}
      },
      "source": [
        ""
      ],
      "execution_count": 0,
      "outputs": []
    },
    {
      "cell_type": "markdown",
      "metadata": {
        "id": "6vKoPuqIerRE",
        "colab_type": "text"
      },
      "source": [
        "The loan of 422(around 69%) people out of 614 was approved.\n",
        "\n",
        "Now lets visualize each variable separately. Different types of variables are Categorical, ordinal and numerical.\n",
        "\n",
        "Categorical features: These features have categories (Gender, Married, Self_Employed, Credit_History, Loan_Status)\n",
        "Ordinal features: Variables in categorical features having some order involved (Dependents, Education, Property_Area)\n",
        "\n",
        "\n",
        "Numerical features: These features have numerical values (ApplicantIncome, CoapplicantIncome, LoanAmount, Loan_Amount_Term)"
      ]
    },
    {
      "cell_type": "code",
      "metadata": {
        "id": "9rIpHtPcexhN",
        "colab_type": "code",
        "outputId": "76934f04-dd4b-4efc-9852-11eeeebbd502",
        "colab": {
          "base_uri": "https://localhost:8080/",
          "height": 652
        }
      },
      "source": [
        "plt.figure(1)\n",
        "plt.subplot(221)\n",
        "train['Gender'].value_counts(normalize=True).plot.bar(figsize=(20,10),title='Gender')\n",
        "\n",
        "plt.subplot(222)\n",
        "train['Married'].value_counts(normalize=True).plot.bar(figsize=(20,10),title='Married')\n",
        "\n",
        "plt.subplot(223)\n",
        "train['Self_Employed'].value_counts(normalize=True).plot.bar(figsize=(20,10),title='Self_Employed')\n",
        "\n",
        "plt.subplot(224)\n",
        "train['Credit_History'].value_counts(normalize=True).plot.bar(figsize=(20,10),title='Credit_History')"
      ],
      "execution_count": 0,
      "outputs": [
        {
          "output_type": "execute_result",
          "data": {
            "text/plain": [
              "<matplotlib.axes._subplots.AxesSubplot at 0x7f9b90c0c240>"
            ]
          },
          "metadata": {
            "tags": []
          },
          "execution_count": 18
        },
        {
          "output_type": "display_data",
          "data": {
            "image/png": "[encoded data removed]",
            "text/plain": [
              "<Figure size 1440x720 with 4 Axes>"
            ]
          },
          "metadata": {
            "tags": []
          }
        }
      ]
    },
    {
      "cell_type": "code",
      "metadata": {
        "id": "Za3SSMBTe4ds",
        "colab_type": "code",
        "colab": {}
      },
      "source": [
        ""
      ],
      "execution_count": 0,
      "outputs": []
    },
    {
      "cell_type": "markdown",
      "metadata": {
        "id": "acZ6rSeNfGpL",
        "colab_type": "text"
      },
      "source": [
        "**Conclusions:**\n",
        "\n",
        "It can be inferred from the above bar plots that:\n",
        "\n",
        "80% applicants in the dataset are male.\n",
        "Around 65% of the applicants in the dataset are married.\n",
        "Around 15% applicants in the dataset are self employed.\n",
        "Around 85% applicants have repaid their debts."
      ]
    },
    {
      "cell_type": "markdown",
      "metadata": {
        "id": "Bcng2F0KfWUb",
        "colab_type": "text"
      },
      "source": [
        "Now lets visuvalize ordinal variables"
      ]
    },
    {
      "cell_type": "code",
      "metadata": {
        "id": "_b-2ZhZCfdYa",
        "colab_type": "code",
        "outputId": "f34525e1-0d7d-4e24-aa25-3b172fc426d9",
        "colab": {
          "base_uri": "https://localhost:8080/",
          "height": 484
        }
      },
      "source": [
        "plt.figure(1)\n",
        "plt.subplot(131)\n",
        "train['Dependents'].value_counts(normalize=True).plot.bar(figsize=(24,6),title='Dependents')\n",
        "\n",
        "plt.subplot(132)\n",
        "train['Education'].value_counts(normalize=True).plot.bar(figsize=(24,6),title='Education')\n",
        "\n",
        "plt.subplot(133)\n",
        "train['Property_Area'].value_counts(normalize=True).plot.bar(figsize=(24,6),title='Property_Area')"
      ],
      "execution_count": 0,
      "outputs": [
        {
          "output_type": "execute_result",
          "data": {
            "text/plain": [
              "<matplotlib.axes._subplots.AxesSubplot at 0x7f9b90ab8240>"
            ]
          },
          "metadata": {
            "tags": []
          },
          "execution_count": 19
        },
        {
          "output_type": "display_data",
          "data": {
            "image/png": "[encoded data removed]",
            "text/plain": [
              "<Figure size 1728x432 with 3 Axes>"
            ]
          },
          "metadata": {
            "tags": []
          }
        }
      ]
    },
    {
      "cell_type": "code",
      "metadata": {
        "id": "q-VI7VQDffpi",
        "colab_type": "code",
        "colab": {}
      },
      "source": [
        ""
      ],
      "execution_count": 0,
      "outputs": []
    },
    {
      "cell_type": "markdown",
      "metadata": {
        "id": "g3jhvU92fntK",
        "colab_type": "text"
      },
      "source": [
        "Conclusions:*italicized text*\n",
        "\n",
        "Following inferences can be made from the above bar plots:\n",
        "\n",
        "Most of the applicants don’t have any dependents.\n",
        "Around 80% of the applicants are Graduate.\n",
        "Most of the applicants are from Semiurban area."
      ]
    },
    {
      "cell_type": "code",
      "metadata": {
        "id": "bz5Jiq3TfsIZ",
        "colab_type": "code",
        "colab": {}
      },
      "source": [
        ""
      ],
      "execution_count": 0,
      "outputs": []
    },
    {
      "cell_type": "markdown",
      "metadata": {
        "id": "QSmpWlEJfvux",
        "colab_type": "text"
      },
      "source": [
        "**Lets visualise Numerical data**"
      ]
    },
    {
      "cell_type": "code",
      "metadata": {
        "id": "X7_rmGSnfxHo",
        "colab_type": "code",
        "outputId": "156fb7d2-38ec-403f-f514-2a9784898cd1",
        "colab": {
          "base_uri": "https://localhost:8080/",
          "height": 337
        }
      },
      "source": [
        "plt.figure(1)\n",
        "plt.subplot(121)\n",
        "sns.distplot(train['ApplicantIncome']);\n",
        "\n",
        "plt.subplot(122)\n",
        "train['ApplicantIncome'].plot.box(figsize=(16,5))\n",
        "plt.show()"
      ],
      "execution_count": 0,
      "outputs": [
        {
          "output_type": "display_data",
          "data": {
            "image/png": "[encoded data removed]",
            "text/plain": [
              "<Figure size 1152x360 with 2 Axes>"
            ]
          },
          "metadata": {
            "tags": []
          }
        }
      ]
    },
    {
      "cell_type": "code",
      "metadata": {
        "id": "fdZFlVe4f7Lx",
        "colab_type": "code",
        "outputId": "1ad1acdd-402c-4f6d-b6f6-cd45c61f6039",
        "colab": {
          "base_uri": "https://localhost:8080/",
          "height": 337
        }
      },
      "source": [
        "plt.figure(1)\n",
        "plt.subplot(121)\n",
        "sns.distplot(train['CoapplicantIncome'])\n",
        "\n",
        "plt.subplot(122)\n",
        "train['CoapplicantIncome'].plot.box(figsize=(16,5))\n",
        "\n",
        "plt.show()"
      ],
      "execution_count": 0,
      "outputs": [
        {
          "output_type": "display_data",
          "data": {
            "image/png": "[encoded data removed]",
            "text/plain": [
              "<Figure size 1152x360 with 2 Axes>"
            ]
          },
          "metadata": {
            "tags": []
          }
        }
      ]
    },
    {
      "cell_type": "code",
      "metadata": {
        "id": "b3hJVeRJf_bg",
        "colab_type": "code",
        "outputId": "0ba4334c-0c20-445a-ab0e-5703ca8acb7d",
        "colab": {
          "base_uri": "https://localhost:8080/",
          "height": 337
        }
      },
      "source": [
        "plt.figure(1)\n",
        "plt.subplot(121)\n",
        "df = train.dropna()\n",
        "sns.distplot(df['LoanAmount']);\n",
        "\n",
        "plt.subplot(122)\n",
        "train['LoanAmount'].plot.box(figsize=(16,5))\n",
        "\n",
        "plt.show()"
      ],
      "execution_count": 0,
      "outputs": [
        {
          "output_type": "display_data",
          "data": {
            "image/png": "[encoded data removed]",
            "text/plain": [
              "<Figure size 1152x360 with 2 Axes>"
            ]
          },
          "metadata": {
            "tags": []
          }
        }
      ]
    },
    {
      "cell_type": "code",
      "metadata": {
        "id": "z_KYdwgIgFh4",
        "colab_type": "code",
        "colab": {}
      },
      "source": [
        ""
      ],
      "execution_count": 0,
      "outputs": []
    },
    {
      "cell_type": "markdown",
      "metadata": {
        "id": "f3dV1DK_gamx",
        "colab_type": "text"
      },
      "source": [
        "## **Missing values Treatment and Outlier**"
      ]
    },
    {
      "cell_type": "code",
      "metadata": {
        "id": "j6IC0is5gfXX",
        "colab_type": "code",
        "outputId": "b1f2e782-02ee-4bb2-af72-1fc3528ebce9",
        "colab": {
          "base_uri": "https://localhost:8080/",
          "height": 319
        }
      },
      "source": [
        "train.info()"
      ],
      "execution_count": 0,
      "outputs": [
        {
          "output_type": "stream",
          "text": [
            "<class 'pandas.core.frame.DataFrame'>\n",
            "RangeIndex: 614 entries, 0 to 613\n",
            "Data columns (total 13 columns):\n",
            "Loan_ID              614 non-null object\n",
            "Gender               601 non-null object\n",
            "Married              611 non-null object\n",
            "Dependents           599 non-null object\n",
            "Education            614 non-null object\n",
            "Self_Employed        582 non-null object\n",
            "ApplicantIncome      614 non-null int64\n",
            "CoapplicantIncome    614 non-null float64\n",
            "LoanAmount           592 non-null float64\n",
            "Loan_Amount_Term     600 non-null float64\n",
            "Credit_History       564 non-null float64\n",
            "Property_Area        614 non-null object\n",
            "Loan_Status          614 non-null object\n",
            "dtypes: float64(4), int64(1), object(8)\n",
            "memory usage: 62.4+ KB\n"
          ],
          "name": "stdout"
        }
      ]
    },
    {
      "cell_type": "code",
      "metadata": {
        "id": "l3Gy1BDzghW2",
        "colab_type": "code",
        "outputId": "b5d43920-9db7-4a52-930f-0b97f5724467",
        "colab": {
          "base_uri": "https://localhost:8080/",
          "height": 252
        }
      },
      "source": [
        "train.isnull().sum()"
      ],
      "execution_count": 0,
      "outputs": [
        {
          "output_type": "execute_result",
          "data": {
            "text/plain": [
              "Loan_ID               0\n",
              "Gender               13\n",
              "Married               3\n",
              "Dependents           15\n",
              "Education             0\n",
              "Self_Employed        32\n",
              "ApplicantIncome       0\n",
              "CoapplicantIncome     0\n",
              "LoanAmount           22\n",
              "Loan_Amount_Term     14\n",
              "Credit_History       50\n",
              "Property_Area         0\n",
              "Loan_Status           0\n",
              "dtype: int64"
            ]
          },
          "metadata": {
            "tags": []
          },
          "execution_count": 25
        }
      ]
    },
    {
      "cell_type": "code",
      "metadata": {
        "id": "ebxB2YM_gjrO",
        "colab_type": "code",
        "colab": {}
      },
      "source": [
        "train['Gender'].fillna(train['Gender'].mode()[0],inplace=True)\n",
        "train['Married'].fillna(train['Married'].mode()[0],inplace=True)\n",
        "train['Dependents'].fillna(train['Dependents'].mode()[0],inplace=True)\n",
        "train['Self_Employed'].fillna(train['Self_Employed'].mode()[0], inplace=True)\n",
        "train['Credit_History'].fillna(train['Credit_History'].mode()[0], inplace=True)"
      ],
      "execution_count": 0,
      "outputs": []
    },
    {
      "cell_type": "markdown",
      "metadata": {
        "id": "gBf945maXql8",
        "colab_type": "text"
      },
      "source": [
        "Categorical Mode--- Best"
      ]
    },
    {
      "cell_type": "code",
      "metadata": {
        "id": "nuot0jehXvSc",
        "colab_type": "code",
        "colab": {}
      },
      "source": [
        ""
      ],
      "execution_count": 0,
      "outputs": []
    },
    {
      "cell_type": "code",
      "metadata": {
        "id": "gtK_dBPZgoNO",
        "colab_type": "code",
        "outputId": "caddb3ee-b920-4054-aebe-5826a78562d8",
        "colab": {
          "base_uri": "https://localhost:8080/",
          "height": 252
        }
      },
      "source": [
        "train.isnull().sum()"
      ],
      "execution_count": 0,
      "outputs": [
        {
          "output_type": "execute_result",
          "data": {
            "text/plain": [
              "Loan_ID               0\n",
              "Gender                0\n",
              "Married               0\n",
              "Dependents            0\n",
              "Education             0\n",
              "Self_Employed         0\n",
              "ApplicantIncome       0\n",
              "CoapplicantIncome     0\n",
              "LoanAmount           22\n",
              "Loan_Amount_Term     14\n",
              "Credit_History        0\n",
              "Property_Area         0\n",
              "Loan_Status           0\n",
              "dtype: int64"
            ]
          },
          "metadata": {
            "tags": []
          },
          "execution_count": 27
        }
      ]
    },
    {
      "cell_type": "code",
      "metadata": {
        "id": "-DXNIC8Dgql-",
        "colab_type": "code",
        "outputId": "3df72d9a-2e76-4ee7-cb18-ac380874924c",
        "colab": {
          "base_uri": "https://localhost:8080/",
          "height": 204
        }
      },
      "source": [
        "train['Loan_Amount_Term'].valu()"
      ],
      "execution_count": 0,
      "outputs": [
        {
          "output_type": "execute_result",
          "data": {
            "text/plain": [
              "360.0    512\n",
              "180.0     44\n",
              "480.0     15\n",
              "300.0     13\n",
              "84.0       4\n",
              "240.0      4\n",
              "120.0      3\n",
              "36.0       2\n",
              "60.0       2\n",
              "12.0       1\n",
              "Name: Loan_Amount_Term, dtype: int64"
            ]
          },
          "metadata": {
            "tags": []
          },
          "execution_count": 25
        }
      ]
    },
    {
      "cell_type": "code",
      "metadata": {
        "id": "3429B4d8gvA2",
        "colab_type": "code",
        "colab": {}
      },
      "source": [
        "train['Loan_Amount_Term'].fillna(train['Loan_Amount_Term'].mode()[0],inplace=True)"
      ],
      "execution_count": 0,
      "outputs": []
    },
    {
      "cell_type": "code",
      "metadata": {
        "id": "RYd4T6nCg0Nu",
        "colab_type": "code",
        "colab": {}
      },
      "source": [
        "train['LoanAmount'].fillna(train['LoanAmount'].median(),inplace=True)"
      ],
      "execution_count": 0,
      "outputs": []
    },
    {
      "cell_type": "code",
      "metadata": {
        "id": "9rIvh16sg4D2",
        "colab_type": "code",
        "outputId": "28540c5b-49ae-4676-94d9-1464afff7224",
        "colab": {
          "base_uri": "https://localhost:8080/",
          "height": 252
        }
      },
      "source": [
        "train.isnull().sum()"
      ],
      "execution_count": 0,
      "outputs": [
        {
          "output_type": "execute_result",
          "data": {
            "text/plain": [
              "Loan_ID              0\n",
              "Gender               0\n",
              "Married              0\n",
              "Dependents           0\n",
              "Education            0\n",
              "Self_Employed        0\n",
              "ApplicantIncome      0\n",
              "CoapplicantIncome    0\n",
              "LoanAmount           0\n",
              "Loan_Amount_Term     0\n",
              "Credit_History       0\n",
              "Property_Area        0\n",
              "Loan_Status          0\n",
              "dtype: int64"
            ]
          },
          "metadata": {
            "tags": []
          },
          "execution_count": 32
        }
      ]
    },
    {
      "cell_type": "code",
      "metadata": {
        "id": "MHwbXAZfg6cV",
        "colab_type": "code",
        "colab": {}
      },
      "source": [
        "test['Gender'].fillna(train['Gender'].mode()[0], inplace=True)\n",
        "test['Dependents'].fillna(train['Dependents'].mode()[0], inplace=True)\n",
        "test['Self_Employed'].fillna(train['Self_Employed'].mode()[0], inplace=True)\n",
        "test['Credit_History'].fillna(train['Credit_History'].mode()[0], inplace=True)\n",
        "test['Loan_Amount_Term'].fillna(train['Loan_Amount_Term'].mode()[0], inplace=True)\n",
        "test['LoanAmount'].fillna(train['LoanAmount'].median(), inplace=True)"
      ],
      "execution_count": 0,
      "outputs": []
    },
    {
      "cell_type": "code",
      "metadata": {
        "id": "TcFa6VN9hC-9",
        "colab_type": "code",
        "colab": {}
      },
      "source": [
        ""
      ],
      "execution_count": 0,
      "outputs": []
    },
    {
      "cell_type": "markdown",
      "metadata": {
        "id": "EmPgL7wNbyvF",
        "colab_type": "text"
      },
      "source": [
        "Very Very Important"
      ]
    },
    {
      "cell_type": "code",
      "metadata": {
        "id": "GmnaP7cib1gC",
        "colab_type": "code",
        "colab": {}
      },
      "source": [
        ""
      ],
      "execution_count": 0,
      "outputs": []
    },
    {
      "cell_type": "code",
      "metadata": {
        "id": "907CXPnXhAAV",
        "colab_type": "code",
        "outputId": "84b39928-e354-4d62-fad3-bd02ffffb85d",
        "colab": {
          "base_uri": "https://localhost:8080/",
          "height": 269
        }
      },
      "source": [
        "train['LoanAmount_log'] = np.log(train['LoanAmount'])\n",
        "\n",
        "train['LoanAmount_log'].hist(bins=20)\n",
        "test['LoanAmount_log'] = np.log(test['LoanAmount'])"
      ],
      "execution_count": 0,
      "outputs": [
        {
          "output_type": "display_data",
          "data": {
            "image/png": "[encoded data removed]",
            "text/plain": [
              "<Figure size 432x288 with 1 Axes>"
            ]
          },
          "metadata": {
            "tags": []
          }
        }
      ]
    },
    {
      "cell_type": "markdown",
      "metadata": {
        "id": "36LJ_RmkhLwl",
        "colab_type": "text"
      },
      "source": [
        "**Bivariate Analysis**"
      ]
    },
    {
      "cell_type": "markdown",
      "metadata": {
        "id": "ZcsicaCghR85",
        "colab_type": "text"
      },
      "source": [
        "**Categorical Independent Variable vs Target Variable¶**"
      ]
    },
    {
      "cell_type": "code",
      "metadata": {
        "id": "7YjHfLdzhTD1",
        "colab_type": "code",
        "colab": {}
      },
      "source": [
        ""
      ],
      "execution_count": 0,
      "outputs": []
    },
    {
      "cell_type": "markdown",
      "metadata": {
        "id": "8SF7FMZGhYPF",
        "colab_type": "text"
      },
      "source": [
        "First of all we will find the relation between target variable and categorical independent variables. Let us look at the stacked bar plot now which will give us the proportion of approved and unapproved loans."
      ]
    },
    {
      "cell_type": "code",
      "metadata": {
        "id": "mbqfDJ0VhY6c",
        "colab_type": "code",
        "outputId": "5f478b1b-31df-45bf-9319-7170c2928387",
        "colab": {
          "base_uri": "https://localhost:8080/",
          "height": 284
        }
      },
      "source": [
        "train.describe()"
      ],
      "execution_count": 0,
      "outputs": [
        {
          "output_type": "execute_result",
          "data": {
            "text/html": [
              "<div>\n",
              "<style scoped>\n",
              "    .dataframe tbody tr th:only-of-type {\n",
              "        vertical-align: middle;\n",
              "    }\n",
              "\n",
              "    .dataframe tbody tr th {\n",
              "        vertical-align: top;\n",
              "    }\n",
              "\n",
              "    .dataframe thead th {\n",
              "        text-align: right;\n",
              "    }\n",
              "</style>\n",
              "<table border=\"1\" class=\"dataframe\">\n",
              "  <thead>\n",
              "    <tr style=\"text-align: right;\">\n",
              "      <th></th>\n",
              "      <th>ApplicantIncome</th>\n",
              "      <th>CoapplicantIncome</th>\n",
              "      <th>LoanAmount</th>\n",
              "      <th>Loan_Amount_Term</th>\n",
              "      <th>Credit_History</th>\n",
              "      <th>LoanAmount_log</th>\n",
              "    </tr>\n",
              "  </thead>\n",
              "  <tbody>\n",
              "    <tr>\n",
              "      <th>count</th>\n",
              "      <td>614.000000</td>\n",
              "      <td>614.000000</td>\n",
              "      <td>614.000000</td>\n",
              "      <td>614.000000</td>\n",
              "      <td>614.000000</td>\n",
              "      <td>614.000000</td>\n",
              "    </tr>\n",
              "    <tr>\n",
              "      <th>mean</th>\n",
              "      <td>5403.459283</td>\n",
              "      <td>1621.245798</td>\n",
              "      <td>145.752443</td>\n",
              "      <td>342.410423</td>\n",
              "      <td>0.855049</td>\n",
              "      <td>4.857250</td>\n",
              "    </tr>\n",
              "    <tr>\n",
              "      <th>std</th>\n",
              "      <td>6109.041673</td>\n",
              "      <td>2926.248369</td>\n",
              "      <td>84.107233</td>\n",
              "      <td>64.428629</td>\n",
              "      <td>0.352339</td>\n",
              "      <td>0.495996</td>\n",
              "    </tr>\n",
              "    <tr>\n",
              "      <th>min</th>\n",
              "      <td>150.000000</td>\n",
              "      <td>0.000000</td>\n",
              "      <td>9.000000</td>\n",
              "      <td>12.000000</td>\n",
              "      <td>0.000000</td>\n",
              "      <td>2.197225</td>\n",
              "    </tr>\n",
              "    <tr>\n",
              "      <th>25%</th>\n",
              "      <td>2877.500000</td>\n",
              "      <td>0.000000</td>\n",
              "      <td>100.250000</td>\n",
              "      <td>360.000000</td>\n",
              "      <td>1.000000</td>\n",
              "      <td>4.607658</td>\n",
              "    </tr>\n",
              "    <tr>\n",
              "      <th>50%</th>\n",
              "      <td>3812.500000</td>\n",
              "      <td>1188.500000</td>\n",
              "      <td>128.000000</td>\n",
              "      <td>360.000000</td>\n",
              "      <td>1.000000</td>\n",
              "      <td>4.852030</td>\n",
              "    </tr>\n",
              "    <tr>\n",
              "      <th>75%</th>\n",
              "      <td>5795.000000</td>\n",
              "      <td>2297.250000</td>\n",
              "      <td>164.750000</td>\n",
              "      <td>360.000000</td>\n",
              "      <td>1.000000</td>\n",
              "      <td>5.104426</td>\n",
              "    </tr>\n",
              "    <tr>\n",
              "      <th>max</th>\n",
              "      <td>81000.000000</td>\n",
              "      <td>41667.000000</td>\n",
              "      <td>700.000000</td>\n",
              "      <td>480.000000</td>\n",
              "      <td>1.000000</td>\n",
              "      <td>6.551080</td>\n",
              "    </tr>\n",
              "  </tbody>\n",
              "</table>\n",
              "</div>"
            ],
            "text/plain": [
              "       ApplicantIncome  CoapplicantIncome  ...  Credit_History  LoanAmount_log\n",
              "count       614.000000         614.000000  ...      614.000000      614.000000\n",
              "mean       5403.459283        1621.245798  ...        0.855049        4.857250\n",
              "std        6109.041673        2926.248369  ...        0.352339        0.495996\n",
              "min         150.000000           0.000000  ...        0.000000        2.197225\n",
              "25%        2877.500000           0.000000  ...        1.000000        4.607658\n",
              "50%        3812.500000        1188.500000  ...        1.000000        4.852030\n",
              "75%        5795.000000        2297.250000  ...        1.000000        5.104426\n",
              "max       81000.000000       41667.000000  ...        1.000000        6.551080\n",
              "\n",
              "[8 rows x 6 columns]"
            ]
          },
          "metadata": {
            "tags": []
          },
          "execution_count": 35
        }
      ]
    },
    {
      "cell_type": "code",
      "metadata": {
        "id": "vntaicI4hjsU",
        "colab_type": "code",
        "outputId": "f8fc9661-e1fc-41b2-b7fb-76d0f0ef93ab",
        "colab": {
          "base_uri": "https://localhost:8080/",
          "height": 34
        }
      },
      "source": [
        "train.dropna()\n",
        "train.shape"
      ],
      "execution_count": 0,
      "outputs": [
        {
          "output_type": "execute_result",
          "data": {
            "text/plain": [
              "(614, 14)"
            ]
          },
          "metadata": {
            "tags": []
          },
          "execution_count": 35
        }
      ]
    },
    {
      "cell_type": "code",
      "metadata": {
        "id": "VKVgfV3Zhrec",
        "colab_type": "code",
        "outputId": "f82d5f38-84c4-45bd-f0b3-9e0c1afebd4e",
        "colab": {
          "base_uri": "https://localhost:8080/",
          "height": 326
        }
      },
      "source": [
        "Gender=pd.crosstab(train['Gender'],train['Loan_Status'])\n",
        "Gender.div(Gender.sum(1).astype(float), axis=0).plot(kind=\"bar\", stacked=True, figsize=(4,4))"
      ],
      "execution_count": 0,
      "outputs": [
        {
          "output_type": "execute_result",
          "data": {
            "text/plain": [
              "<matplotlib.axes._subplots.AxesSubplot at 0x7f9b908dff98>"
            ]
          },
          "metadata": {
            "tags": []
          },
          "execution_count": 36
        },
        {
          "output_type": "display_data",
          "data": {
            "image/png": "[encoded data removed]",
            "text/plain": [
              "<Figure size 288x288 with 1 Axes>"
            ]
          },
          "metadata": {
            "tags": []
          }
        }
      ]
    },
    {
      "cell_type": "code",
      "metadata": {
        "id": "XOaYffOYhz0D",
        "colab_type": "code",
        "colab": {}
      },
      "source": [
        ""
      ],
      "execution_count": 0,
      "outputs": []
    },
    {
      "cell_type": "markdown",
      "metadata": {
        "id": "I8AZJLTvh1EE",
        "colab_type": "text"
      },
      "source": [
        "It can be inferred that the proportion of male and female applicants is more or less same for both approved and unapproved loans."
      ]
    },
    {
      "cell_type": "code",
      "metadata": {
        "id": "0XkcvfXqh3Cr",
        "colab_type": "code",
        "colab": {}
      },
      "source": [
        ""
      ],
      "execution_count": 0,
      "outputs": []
    },
    {
      "cell_type": "markdown",
      "metadata": {
        "id": "-P0oa2Fzh3kn",
        "colab_type": "text"
      },
      "source": [
        "**Now let us visualize the remaining categorical variables vs target variable.**"
      ]
    },
    {
      "cell_type": "code",
      "metadata": {
        "id": "htJImP3ah5nK",
        "colab_type": "code",
        "outputId": "92870261-ff53-41b0-e79c-2199970fce23",
        "colab": {
          "base_uri": "https://localhost:8080/",
          "height": 1000
        }
      },
      "source": [
        "\n",
        "Married = pd.crosstab(train['Married'],train['Loan_Status'])\n",
        "Dependents = pd.crosstab(train['Dependents'],train['Loan_Status'])\n",
        "Education = pd.crosstab(train['Education'],train['Loan_Status'])\n",
        "Self_Employed = pd.crosstab(train['Self_Employed'],train['Loan_Status'])\n",
        "\n",
        "Married.div(Married.sum(1).astype(float),axis=0).plot(kind ='bar',stacked ='True', figsize =(4,4))\n",
        "plt.show()\n",
        "\n",
        "Dependents.div(Dependents.sum(1).astype(float),axis=0).plot(kind='bar',stacked='True',figsize=(4,4))\n",
        "plt.show()\n",
        "\n",
        "Education.div(Education.sum(1).astype(float), axis=0).plot(kind=\"bar\", stacked=True, figsize=(4,4))\n",
        "plt.show()\n",
        "\n",
        "Self_Employed.div(Self_Employed.sum(1).astype(float), axis=0).plot(kind=\"bar\", stacked=True, figsize=(4,4))\n",
        "plt.show()"
      ],
      "execution_count": 0,
      "outputs": [
        {
          "output_type": "display_data",
          "data": {
            "image/png": "[encoded data removed]",
            "text/plain": [
              "<Figure size 288x288 with 1 Axes>"
            ]
          },
          "metadata": {
            "tags": []
          }
        },
        {
          "output_type": "display_data",
          "data": {
            "image/png": "[encoded data removed]",
            "text/plain": [
              "<Figure size 288x288 with 1 Axes>"
            ]
          },
          "metadata": {
            "tags": []
          }
        },
        {
          "output_type": "display_data",
          "data": {
            "image/png": "[encoded data removed]",
            "text/plain": [
              "<Figure size 288x288 with 1 Axes>"
            ]
          },
          "metadata": {
            "tags": []
          }
        },
        {
          "output_type": "display_data",
          "data": {
            "image/png": "[encoded data removed]",
            "text/plain": [
              "<Figure size 288x288 with 1 Axes>"
            ]
          },
          "metadata": {
            "tags": []
          }
        }
      ]
    },
    {
      "cell_type": "code",
      "metadata": {
        "id": "xaYBWvs4iQoi",
        "colab_type": "code",
        "colab": {}
      },
      "source": [
        ""
      ],
      "execution_count": 0,
      "outputs": []
    },
    {
      "cell_type": "markdown",
      "metadata": {
        "id": "6dA-6EC9iR-3",
        "colab_type": "text"
      },
      "source": [
        "Proportion of married applicants is higher for the approved loans.\n",
        "Distribution of applicants with 1 or 3+ dependents is similar across both the categories of Loan_Status.\n",
        "There is nothing significant we can infer from Self_Employed vs Loan_Status plot."
      ]
    },
    {
      "cell_type": "code",
      "metadata": {
        "id": "spaAAlIaiWMi",
        "colab_type": "code",
        "colab": {}
      },
      "source": [
        ""
      ],
      "execution_count": 0,
      "outputs": []
    },
    {
      "cell_type": "markdown",
      "metadata": {
        "id": "5vVfZUBwicYC",
        "colab_type": "text"
      },
      "source": [
        "**Now we will look at the relationship between remaining categorical independent variables and Loan_Status.**"
      ]
    },
    {
      "cell_type": "code",
      "metadata": {
        "id": "RyHGsAwkidnc",
        "colab_type": "code",
        "outputId": "182932a2-61ac-499d-b776-eef3d4bf0f6a",
        "colab": {
          "base_uri": "https://localhost:8080/",
          "height": 601
        }
      },
      "source": [
        "Credit_History=pd.crosstab(train['Credit_History'],train['Loan_Status'])\n",
        "Property_Area=pd.crosstab(train['Property_Area'],train['Loan_Status'])\n",
        "\n",
        "Credit_History.div(Credit_History.sum(1).astype(float), axis=0).plot(kind=\"bar\", stacked=True, figsize=(4,4))\n",
        "plt.show()\n",
        "\n",
        "Property_Area.div(Property_Area.sum(1).astype(float), axis=0).plot(kind=\"bar\", stacked=True)\n",
        "plt.show()"
      ],
      "execution_count": 0,
      "outputs": [
        {
          "output_type": "display_data",
          "data": {
            "image/png": "[encoded data removed]",
            "text/plain": [
              "<Figure size 288x288 with 1 Axes>"
            ]
          },
          "metadata": {
            "tags": []
          }
        },
        {
          "output_type": "display_data",
          "data": {
            "image/png": "[encoded data removed]",
            "text/plain": [
              "<Figure size 432x288 with 1 Axes>"
            ]
          },
          "metadata": {
            "tags": []
          }
        }
      ]
    },
    {
      "cell_type": "code",
      "metadata": {
        "id": "MKvbYexnigVS",
        "colab_type": "code",
        "colab": {}
      },
      "source": [
        ""
      ],
      "execution_count": 0,
      "outputs": []
    },
    {
      "cell_type": "markdown",
      "metadata": {
        "id": "fr85Tg4oijXK",
        "colab_type": "text"
      },
      "source": [
        "\n",
        "It seems people with credit history as 1 are more likely to get their loans approved.\n",
        "Proportion of loans getting approved in semiurban area is higher as compared to that in rural or urban areas"
      ]
    },
    {
      "cell_type": "code",
      "metadata": {
        "id": "Licg7dWiikCB",
        "colab_type": "code",
        "colab": {}
      },
      "source": [
        ""
      ],
      "execution_count": 0,
      "outputs": []
    },
    {
      "cell_type": "markdown",
      "metadata": {
        "id": "vKLIDy3nixVC",
        "colab_type": "text"
      },
      "source": [
        "**Now let’s visualize numerical independent variables with respect to target variable**"
      ]
    },
    {
      "cell_type": "markdown",
      "metadata": {
        "id": "WKTy-wqii2WK",
        "colab_type": "text"
      },
      "source": [
        "**Numerical Independent Variable vs Target Variable**"
      ]
    },
    {
      "cell_type": "markdown",
      "metadata": {
        "id": "d6x38kpLi8xy",
        "colab_type": "text"
      },
      "source": [
        "We will try to find the mean income of people for which the loan has been approved vs the mean income of people for which the loan has not been approved."
      ]
    },
    {
      "cell_type": "code",
      "metadata": {
        "id": "dcNsSwmOi9uA",
        "colab_type": "code",
        "outputId": "ac941be6-b6ef-4809-82ec-e720c424d002",
        "colab": {
          "base_uri": "https://localhost:8080/",
          "height": 298
        }
      },
      "source": [
        "train.groupby('Loan_Status')['ApplicantIncome'].mean().plot.bar()"
      ],
      "execution_count": 0,
      "outputs": [
        {
          "output_type": "execute_result",
          "data": {
            "text/plain": [
              "<matplotlib.axes._subplots.AxesSubplot at 0x7f9b90b00630>"
            ]
          },
          "metadata": {
            "tags": []
          },
          "execution_count": 39
        },
        {
          "output_type": "display_data",
          "data": {
            "image/png": "[encoded data removed]",
            "text/plain": [
              "<Figure size 432x288 with 1 Axes>"
            ]
          },
          "metadata": {
            "tags": []
          }
        }
      ]
    },
    {
      "cell_type": "code",
      "metadata": {
        "id": "phY478nkjDPP",
        "colab_type": "code",
        "colab": {}
      },
      "source": [
        ""
      ],
      "execution_count": 0,
      "outputs": []
    },
    {
      "cell_type": "markdown",
      "metadata": {
        "id": "yxH65gvLjHbA",
        "colab_type": "text"
      },
      "source": [
        "Here the y-axis represents the mean applicant income. We don’t see any change in the mean income. So, let’s make bins for the applicant income variable based on the values in it and analyze the corresponding loan status for each bin."
      ]
    },
    {
      "cell_type": "code",
      "metadata": {
        "id": "QGEXTt5VjH7g",
        "colab_type": "code",
        "colab": {}
      },
      "source": [
        ""
      ],
      "execution_count": 0,
      "outputs": []
    },
    {
      "cell_type": "markdown",
      "metadata": {
        "id": "OPDQ3-9zjc7y",
        "colab_type": "text"
      },
      "source": [
        "**Let’s visualize the Loan amount variable.**"
      ]
    },
    {
      "cell_type": "code",
      "metadata": {
        "id": "L4RNtEyVjeF3",
        "colab_type": "code",
        "colab": {}
      },
      "source": [
        "bins=[0,100,200,700]\n",
        "group=['Average','Low','High']\n",
        "train['LoanAmount_bin']=pd.cut(train['LoanAmount'],bins,labels=group)\n"
      ],
      "execution_count": 0,
      "outputs": []
    },
    {
      "cell_type": "code",
      "metadata": {
        "id": "cbWyn-6vjgVO",
        "colab_type": "code",
        "outputId": "e7ce4292-6007-4d71-e1cf-13a08092e223",
        "colab": {
          "base_uri": "https://localhost:8080/",
          "height": 314
        }
      },
      "source": [
        "LoanAmount_bin=pd.crosstab(train['LoanAmount_bin'],train['Loan_Status'])\n",
        "LoanAmount_bin.div(LoanAmount_bin.sum(1).astype(float), axis=0).plot(kind=\"bar\", stacked=True)\n",
        "plt.xlabel('LoanAmount')\n",
        "P = plt.ylabel('Percentage')"
      ],
      "execution_count": 0,
      "outputs": [
        {
          "output_type": "display_data",
          "data": {
            "image/png": "[encoded data removed]",
            "text/plain": [
              "<Figure size 432x288 with 1 Axes>"
            ]
          },
          "metadata": {
            "tags": []
          }
        }
      ]
    },
    {
      "cell_type": "code",
      "metadata": {
        "id": "9fyB1oRCji8e",
        "colab_type": "code",
        "colab": {}
      },
      "source": [
        ""
      ],
      "execution_count": 0,
      "outputs": []
    },
    {
      "cell_type": "markdown",
      "metadata": {
        "id": "-rMskuiXjonZ",
        "colab_type": "text"
      },
      "source": [
        "It can be seen that the proportion of approved loans is higher for Low and Average Loan Amount as compared to that of High Loan Amount which supports our hypothesis in which we considered that the chances of loan approval will be high when the loan amount is less."
      ]
    },
    {
      "cell_type": "code",
      "metadata": {
        "id": "1-UMH1tFjpRf",
        "colab_type": "code",
        "colab": {}
      },
      "source": [
        "train['Dependents'].replace('3+', 3,inplace=True)\n",
        "test['Dependents'].replace('3+', 3,inplace=True)\n",
        "train['Loan_Status'].replace('N', 0,inplace=True)\n",
        "train['Loan_Status'].replace('Y', 1,inplace=True)"
      ],
      "execution_count": 0,
      "outputs": []
    },
    {
      "cell_type": "markdown",
      "metadata": {
        "id": "SDjAJ3tqjs_l",
        "colab_type": "text"
      },
      "source": [
        "**Now lets look at the correlation between all the numerical variables. We will use the heat map to visualize the correlation. Heatmaps visualize data through variations in coloring. The variables with darker color means their correlation is more.**"
      ]
    },
    {
      "cell_type": "code",
      "metadata": {
        "id": "MHMJlKrVjt_O",
        "colab_type": "code",
        "outputId": "9be0eaae-b038-4464-8542-1eda503dccb7",
        "colab": {
          "base_uri": "https://localhost:8080/",
          "height": 467
        }
      },
      "source": [
        "matrix = train.corr()\n",
        "f, ax = plt.subplots(figsize=(9, 6))\n",
        "sns.heatmap(matrix, vmax=.8, square=True, cmap=\"RdBu\");"
      ],
      "execution_count": 0,
      "outputs": [
        {
          "output_type": "display_data",
          "data": {
            "image/png": "[encoded data removed]",
            "text/plain": [
              "<Figure size 648x432 with 2 Axes>"
            ]
          },
          "metadata": {
            "tags": []
          }
        }
      ]
    },
    {
      "cell_type": "code",
      "metadata": {
        "id": "TqnMI6plkzd7",
        "colab_type": "code",
        "colab": {}
      },
      "source": [
        "matrix = train.corr()"
      ],
      "execution_count": 0,
      "outputs": []
    },
    {
      "cell_type": "code",
      "metadata": {
        "id": "gahHysjbk_AS",
        "colab_type": "code",
        "outputId": "9806fca2-1686-4f92-a787-93fa609f5f3a",
        "colab": {
          "base_uri": "https://localhost:8080/",
          "height": 266
        }
      },
      "source": [
        "matrix"
      ],
      "execution_count": 0,
      "outputs": [
        {
          "output_type": "execute_result",
          "data": {
            "text/html": [
              "<div>\n",
              "<style scoped>\n",
              "    .dataframe tbody tr th:only-of-type {\n",
              "        vertical-align: middle;\n",
              "    }\n",
              "\n",
              "    .dataframe tbody tr th {\n",
              "        vertical-align: top;\n",
              "    }\n",
              "\n",
              "    .dataframe thead th {\n",
              "        text-align: right;\n",
              "    }\n",
              "</style>\n",
              "<table border=\"1\" class=\"dataframe\">\n",
              "  <thead>\n",
              "    <tr style=\"text-align: right;\">\n",
              "      <th></th>\n",
              "      <th>ApplicantIncome</th>\n",
              "      <th>CoapplicantIncome</th>\n",
              "      <th>LoanAmount</th>\n",
              "      <th>Loan_Amount_Term</th>\n",
              "      <th>Credit_History</th>\n",
              "      <th>Loan_Status</th>\n",
              "      <th>LoanAmount_log</th>\n",
              "    </tr>\n",
              "  </thead>\n",
              "  <tbody>\n",
              "    <tr>\n",
              "      <th>ApplicantIncome</th>\n",
              "      <td>1.000000</td>\n",
              "      <td>-0.116605</td>\n",
              "      <td>0.565181</td>\n",
              "      <td>-0.046531</td>\n",
              "      <td>-0.018615</td>\n",
              "      <td>-0.004710</td>\n",
              "      <td>0.435392</td>\n",
              "    </tr>\n",
              "    <tr>\n",
              "      <th>CoapplicantIncome</th>\n",
              "      <td>-0.116605</td>\n",
              "      <td>1.000000</td>\n",
              "      <td>0.189218</td>\n",
              "      <td>-0.059383</td>\n",
              "      <td>0.011134</td>\n",
              "      <td>-0.059187</td>\n",
              "      <td>0.206330</td>\n",
              "    </tr>\n",
              "    <tr>\n",
              "      <th>LoanAmount</th>\n",
              "      <td>0.565181</td>\n",
              "      <td>0.189218</td>\n",
              "      <td>1.000000</td>\n",
              "      <td>0.036960</td>\n",
              "      <td>-0.000607</td>\n",
              "      <td>-0.033214</td>\n",
              "      <td>0.895708</td>\n",
              "    </tr>\n",
              "    <tr>\n",
              "      <th>Loan_Amount_Term</th>\n",
              "      <td>-0.046531</td>\n",
              "      <td>-0.059383</td>\n",
              "      <td>0.036960</td>\n",
              "      <td>1.000000</td>\n",
              "      <td>-0.004705</td>\n",
              "      <td>-0.022549</td>\n",
              "      <td>0.085353</td>\n",
              "    </tr>\n",
              "    <tr>\n",
              "      <th>Credit_History</th>\n",
              "      <td>-0.018615</td>\n",
              "      <td>0.011134</td>\n",
              "      <td>-0.000607</td>\n",
              "      <td>-0.004705</td>\n",
              "      <td>1.000000</td>\n",
              "      <td>0.540556</td>\n",
              "      <td>-0.018547</td>\n",
              "    </tr>\n",
              "    <tr>\n",
              "      <th>Loan_Status</th>\n",
              "      <td>-0.004710</td>\n",
              "      <td>-0.059187</td>\n",
              "      <td>-0.033214</td>\n",
              "      <td>-0.022549</td>\n",
              "      <td>0.540556</td>\n",
              "      <td>1.000000</td>\n",
              "      <td>-0.037997</td>\n",
              "    </tr>\n",
              "    <tr>\n",
              "      <th>LoanAmount_log</th>\n",
              "      <td>0.435392</td>\n",
              "      <td>0.206330</td>\n",
              "      <td>0.895708</td>\n",
              "      <td>0.085353</td>\n",
              "      <td>-0.018547</td>\n",
              "      <td>-0.037997</td>\n",
              "      <td>1.000000</td>\n",
              "    </tr>\n",
              "  </tbody>\n",
              "</table>\n",
              "</div>"
            ],
            "text/plain": [
              "                   ApplicantIncome  CoapplicantIncome  LoanAmount  \\\n",
              "ApplicantIncome           1.000000          -0.116605    0.565181   \n",
              "CoapplicantIncome        -0.116605           1.000000    0.189218   \n",
              "LoanAmount                0.565181           0.189218    1.000000   \n",
              "Loan_Amount_Term         -0.046531          -0.059383    0.036960   \n",
              "Credit_History           -0.018615           0.011134   -0.000607   \n",
              "Loan_Status              -0.004710          -0.059187   -0.033214   \n",
              "LoanAmount_log            0.435392           0.206330    0.895708   \n",
              "\n",
              "                   Loan_Amount_Term  Credit_History  Loan_Status  \\\n",
              "ApplicantIncome           -0.046531       -0.018615    -0.004710   \n",
              "CoapplicantIncome         -0.059383        0.011134    -0.059187   \n",
              "LoanAmount                 0.036960       -0.000607    -0.033214   \n",
              "Loan_Amount_Term           1.000000       -0.004705    -0.022549   \n",
              "Credit_History            -0.004705        1.000000     0.540556   \n",
              "Loan_Status               -0.022549        0.540556     1.000000   \n",
              "LoanAmount_log             0.085353       -0.018547    -0.037997   \n",
              "\n",
              "                   LoanAmount_log  \n",
              "ApplicantIncome          0.435392  \n",
              "CoapplicantIncome        0.206330  \n",
              "LoanAmount               0.895708  \n",
              "Loan_Amount_Term         0.085353  \n",
              "Credit_History          -0.018547  \n",
              "Loan_Status             -0.037997  \n",
              "LoanAmount_log           1.000000  "
            ]
          },
          "metadata": {
            "tags": []
          },
          "execution_count": 54
        }
      ]
    },
    {
      "cell_type": "code",
      "metadata": {
        "id": "YDGdCoTzlCID",
        "colab_type": "code",
        "colab": {}
      },
      "source": [
        ""
      ],
      "execution_count": 0,
      "outputs": []
    },
    {
      "cell_type": "markdown",
      "metadata": {
        "id": "BxESGHDklP3s",
        "colab_type": "text"
      },
      "source": [
        "**Conclusion**"
      ]
    },
    {
      "cell_type": "markdown",
      "metadata": {
        "id": "Lhdd69OJlVHl",
        "colab_type": "text"
      },
      "source": [
        "We see that the most correlated variables are (ApplicantIncome - LoanAmount) and (Credit_History - Loan_Status). LoanAmount is also correlated with CoapplicantIncome."
      ]
    },
    {
      "cell_type": "code",
      "metadata": {
        "id": "Re8i9DyglXFh",
        "colab_type": "code",
        "colab": {}
      },
      "source": [
        ""
      ],
      "execution_count": 0,
      "outputs": []
    },
    {
      "cell_type": "code",
      "metadata": {
        "id": "y3GdIMrAlV1B",
        "colab_type": "code",
        "colab": {}
      },
      "source": [
        ""
      ],
      "execution_count": 0,
      "outputs": []
    },
    {
      "cell_type": "code",
      "metadata": {
        "id": "7TYywtPlkgtz",
        "colab_type": "code",
        "colab": {}
      },
      "source": [
        ""
      ],
      "execution_count": 0,
      "outputs": []
    },
    {
      "cell_type": "code",
      "metadata": {
        "id": "mTKJOKVbj851",
        "colab_type": "code",
        "outputId": "0b30b663-ad51-4c50-d892-6f33d6efbfab",
        "colab": {
          "base_uri": "https://localhost:8080/",
          "height": 272
        }
      },
      "source": [
        ""
      ],
      "execution_count": 0,
      "outputs": [
        {
          "output_type": "stream",
          "text": [
            "                   ApplicantIncome  CoapplicantIncome  LoanAmount  \\\n",
            "ApplicantIncome           1.000000          -0.116605    0.565181   \n",
            "CoapplicantIncome        -0.116605           1.000000    0.189218   \n",
            "LoanAmount                0.565181           0.189218    1.000000   \n",
            "Loan_Amount_Term         -0.046531          -0.059383    0.036960   \n",
            "Credit_History           -0.018615           0.011134   -0.000607   \n",
            "LoanAmount_log            0.435392           0.206330    0.895708   \n",
            "\n",
            "                   Loan_Amount_Term  Credit_History  LoanAmount_log  \n",
            "ApplicantIncome           -0.046531       -0.018615        0.435392  \n",
            "CoapplicantIncome         -0.059383        0.011134        0.206330  \n",
            "LoanAmount                 0.036960       -0.000607        0.895708  \n",
            "Loan_Amount_Term           1.000000       -0.004705        0.085353  \n",
            "Credit_History            -0.004705        1.000000       -0.018547  \n",
            "LoanAmount_log             0.085353       -0.018547        1.000000  \n"
          ],
          "name": "stdout"
        }
      ]
    },
    {
      "cell_type": "code",
      "metadata": {
        "id": "5hjb4icKkVyc",
        "colab_type": "code",
        "outputId": "ea120ae3-86c8-492e-c3f4-a3018e2ff448",
        "colab": {
          "base_uri": "https://localhost:8080/",
          "height": 1000
        }
      },
      "source": [
        "import pandas_profiling as pf\n",
        "pf.ProfileReport(train_original)\n"
      ],
      "execution_count": 0,
      "outputs": [
        {
          "output_type": "execute_result",
          "data": {
            "text/html": [
              "<meta charset=\"UTF-8\">\n",
              "\n",
              "<style>\n",
              "\n",
              "        .variablerow {\n",
              "            border: 1px solid #e1e1e8;\n",
              "            border-top: hidden;\n",
              "            padding-top: 2em;\n",
              "            padding-bottom: 2em;\n",
              "            padding-left: 1em;\n",
              "            padding-right: 1em;\n",
              "        }\n",
              "\n",
              "        .headerrow {\n",
              "            border: 1px solid #e1e1e8;\n",
              "            background-color: #f5f5f5;\n",
              "            padding: 2em;\n",
              "        }\n",
              "        .namecol {\n",
              "            margin-top: -1em;\n",
              "            overflow-x: auto;\n",
              "        }\n",
              "\n",
              "        .dl-horizontal dt {\n",
              "            text-align: left;\n",
              "            padding-right: 1em;\n",
              "            white-space: normal;\n",
              "        }\n",
              "\n",
              "        .dl-horizontal dd {\n",
              "            margin-left: 0;\n",
              "        }\n",
              "\n",
              "        .ignore {\n",
              "            opacity: 0.4;\n",
              "        }\n",
              "\n",
              "        .container.pandas-profiling {\n",
              "            max-width:975px;\n",
              "        }\n",
              "\n",
              "        .col-md-12 {\n",
              "            padding-left: 2em;\n",
              "        }\n",
              "\n",
              "        .indent {\n",
              "            margin-left: 1em;\n",
              "        }\n",
              "\n",
              "        .center-img {\n",
              "            margin-left: auto !important;\n",
              "            margin-right: auto !important;\n",
              "            display: block;\n",
              "        }\n",
              "\n",
              "        /* Table example_values */\n",
              "            table.example_values {\n",
              "                border: 0;\n",
              "            }\n",
              "\n",
              "            .example_values th {\n",
              "                border: 0;\n",
              "                padding: 0 ;\n",
              "                color: #555;\n",
              "                font-weight: 600;\n",
              "            }\n",
              "\n",
              "            .example_values tr, .example_values td{\n",
              "                border: 0;\n",
              "                padding: 0;\n",
              "                color: #555;\n",
              "            }\n",
              "\n",
              "        /* STATS */\n",
              "            table.stats {\n",
              "                border: 0;\n",
              "            }\n",
              "\n",
              "            .stats th {\n",
              "                border: 0;\n",
              "                padding: 0 2em 0 0;\n",
              "                color: #555;\n",
              "                font-weight: 600;\n",
              "            }\n",
              "\n",
              "            .stats tr {\n",
              "                border: 0;\n",
              "            }\n",
              "\n",
              "            .stats td{\n",
              "                color: #555;\n",
              "                padding: 1px;\n",
              "                border: 0;\n",
              "            }\n",
              "\n",
              "\n",
              "        /* Sample table */\n",
              "            table.sample {\n",
              "                border: 0;\n",
              "                margin-bottom: 2em;\n",
              "                margin-left:1em;\n",
              "            }\n",
              "            .sample tr {\n",
              "                border:0;\n",
              "            }\n",
              "            .sample td, .sample th{\n",
              "                padding: 0.5em;\n",
              "                white-space: nowrap;\n",
              "                border: none;\n",
              "\n",
              "            }\n",
              "\n",
              "            .sample thead {\n",
              "                border-top: 0;\n",
              "                border-bottom: 2px solid #ddd;\n",
              "            }\n",
              "\n",
              "            .sample td {\n",
              "                width:100%;\n",
              "            }\n",
              "\n",
              "\n",
              "        /* There is no good solution available to make the divs equal height and then center ... */\n",
              "            .histogram {\n",
              "                margin-top: 3em;\n",
              "            }\n",
              "        /* Freq table */\n",
              "\n",
              "            table.freq {\n",
              "                margin-bottom: 2em;\n",
              "                border: 0;\n",
              "            }\n",
              "            table.freq th, table.freq tr, table.freq td {\n",
              "                border: 0;\n",
              "                padding: 0;\n",
              "            }\n",
              "\n",
              "            .freq thead {\n",
              "                font-weight: 600;\n",
              "                white-space: nowrap;\n",
              "                overflow: hidden;\n",
              "                text-overflow: ellipsis;\n",
              "\n",
              "            }\n",
              "\n",
              "            td.fillremaining{\n",
              "                width:auto;\n",
              "                max-width: none;\n",
              "            }\n",
              "\n",
              "            td.number, th.number {\n",
              "                text-align:right ;\n",
              "            }\n",
              "\n",
              "        /* Freq mini */\n",
              "            .freq.mini td{\n",
              "                width: 50%;\n",
              "                padding: 1px;\n",
              "                font-size: 12px;\n",
              "\n",
              "            }\n",
              "            table.freq.mini {\n",
              "                 width:100%;\n",
              "            }\n",
              "            .freq.mini th {\n",
              "                overflow: hidden;\n",
              "                text-overflow: ellipsis;\n",
              "                white-space: nowrap;\n",
              "                max-width: 5em;\n",
              "                font-weight: 400;\n",
              "                text-align:right;\n",
              "                padding-right: 0.5em;\n",
              "            }\n",
              "\n",
              "            .missing {\n",
              "                color: #a94442;\n",
              "            }\n",
              "            .alert, .alert > th, .alert > td {\n",
              "                color: #a94442;\n",
              "            }\n",
              "\n",
              "\n",
              "        /* Bars in tables */\n",
              "            .freq .bar{\n",
              "                float: left;\n",
              "                width: 0;\n",
              "                height: 100%;\n",
              "                line-height: 20px;\n",
              "                color: #fff;\n",
              "                text-align: center;\n",
              "                background-color: #337ab7;\n",
              "                border-radius: 3px;\n",
              "                margin-right: 4px;\n",
              "            }\n",
              "            .other .bar {\n",
              "                background-color: #999;\n",
              "            }\n",
              "            .missing .bar{\n",
              "                background-color: #a94442;\n",
              "            }\n",
              "            .tooltip-inner {\n",
              "                width: 100%;\n",
              "                white-space: nowrap;\n",
              "                text-align:left;\n",
              "            }\n",
              "\n",
              "            .extrapadding{\n",
              "                padding: 2em;\n",
              "            }\n",
              "\n",
              "            .pp-anchor{\n",
              "\n",
              "            }\n",
              "\n",
              "</style>\n",
              "\n",
              "<div class=\"container pandas-profiling\">\n",
              "    <div class=\"row headerrow highlight\">\n",
              "        <h1>Overview</h1>\n",
              "    </div>\n",
              "    <div class=\"row variablerow\">\n",
              "    <div class=\"col-md-6 namecol\">\n",
              "        <p class=\"h4\">Dataset info</p>\n",
              "        <table class=\"stats\" style=\"margin-left: 1em;\">\n",
              "            <tbody>\n",
              "            <tr>\n",
              "                <th>Number of variables</th>\n",
              "                <td>13 </td>\n",
              "            </tr>\n",
              "            <tr>\n",
              "                <th>Number of observations</th>\n",
              "                <td>614 </td>\n",
              "            </tr>\n",
              "            <tr>\n",
              "                <th>Total Missing (%)</th>\n",
              "                <td>1.9% </td>\n",
              "            </tr>\n",
              "            <tr>\n",
              "                <th>Total size in memory</th>\n",
              "                <td>62.4 KiB </td>\n",
              "            </tr>\n",
              "            <tr>\n",
              "                <th>Average record size in memory</th>\n",
              "                <td>104.1 B </td>\n",
              "            </tr>\n",
              "            </tbody>\n",
              "        </table>\n",
              "    </div>\n",
              "    <div class=\"col-md-6 namecol\">\n",
              "        <p class=\"h4\">Variables types</p>\n",
              "        <table class=\"stats\" style=\"margin-left: 1em;\">\n",
              "            <tbody>\n",
              "            <tr>\n",
              "                <th>Numeric</th>\n",
              "                <td>5 </td>\n",
              "            </tr>\n",
              "            <tr>\n",
              "                <th>Categorical</th>\n",
              "                <td>7 </td>\n",
              "            </tr>\n",
              "            <tr>\n",
              "                <th>Boolean</th>\n",
              "                <td>0 </td>\n",
              "            </tr>\n",
              "            <tr>\n",
              "                <th>Date</th>\n",
              "                <td>0 </td>\n",
              "            </tr>\n",
              "            <tr>\n",
              "                <th>Text (Unique)</th>\n",
              "                <td>1 </td>\n",
              "            </tr>\n",
              "            <tr>\n",
              "                <th>Rejected</th>\n",
              "                <td>0 </td>\n",
              "            </tr>\n",
              "            <tr>\n",
              "                <th>Unsupported</th>\n",
              "                <td>0 </td>\n",
              "            </tr>\n",
              "            </tbody>\n",
              "        </table>\n",
              "    </div>\n",
              "    <div class=\"col-md-12\" style=\"padding-left: 1em;\">\n",
              "        \n",
              "        <p class=\"h4\">Warnings</p>\n",
              "        <ul class=\"list-unstyled\"><li><a href=\"#pp_var_CoapplicantIncome\"><code>CoapplicantIncome</code></a> has 273 / 44.5% zeros <span class=\"label label-info\">Zeros</span></li><li><a href=\"#pp_var_Credit_History\"><code>Credit_History</code></a> has 89 / 14.5% zeros <span class=\"label label-info\">Zeros</span></li><li><a href=\"#pp_var_Credit_History\"><code>Credit_History</code></a> has 50 / 8.1% missing values <span class=\"label label-default\">Missing</span></li><li><a href=\"#pp_var_Dependents\"><code>Dependents</code></a> has 15 / 2.4% missing values <span class=\"label label-default\">Missing</span></li><li><a href=\"#pp_var_Gender\"><code>Gender</code></a> has 13 / 2.1% missing values <span class=\"label label-default\">Missing</span></li><li><a href=\"#pp_var_LoanAmount\"><code>LoanAmount</code></a> has 22 / 3.6% missing values <span class=\"label label-default\">Missing</span></li><li><a href=\"#pp_var_Loan_Amount_Term\"><code>Loan_Amount_Term</code></a> has 14 / 2.3% missing values <span class=\"label label-default\">Missing</span></li><li><a href=\"#pp_var_Self_Employed\"><code>Self_Employed</code></a> has 32 / 5.2% missing values <span class=\"label label-default\">Missing</span></li> </ul>\n",
              "    </div>\n",
              "</div>\n",
              "    <div class=\"row headerrow highlight\">\n",
              "        <h1>Variables</h1>\n",
              "    </div>\n",
              "    <div class=\"row variablerow\">\n",
              "    <div class=\"col-md-3 namecol\">\n",
              "        <p class=\"h4 pp-anchor\" id=\"pp_var_ApplicantIncome\">ApplicantIncome<br/>\n",
              "            <small>Numeric</small>\n",
              "        </p>\n",
              "    </div><div class=\"col-md-6\">\n",
              "    <div class=\"row\">\n",
              "        <div class=\"col-sm-6\">\n",
              "            <table class=\"stats \">\n",
              "                <tr>\n",
              "                    <th>Distinct count</th>\n",
              "                    <td>505</td>\n",
              "                </tr>\n",
              "                <tr>\n",
              "                    <th>Unique (%)</th>\n",
              "                    <td>82.2%</td>\n",
              "                </tr>\n",
              "                <tr class=\"ignore\">\n",
              "                    <th>Missing (%)</th>\n",
              "                    <td>0.0%</td>\n",
              "                </tr>\n",
              "                <tr class=\"ignore\">\n",
              "                    <th>Missing (n)</th>\n",
              "                    <td>0</td>\n",
              "                </tr>\n",
              "                <tr class=\"ignore\">\n",
              "                    <th>Infinite (%)</th>\n",
              "                    <td>0.0%</td>\n",
              "                </tr>\n",
              "                <tr class=\"ignore\">\n",
              "                    <th>Infinite (n)</th>\n",
              "                    <td>0</td>\n",
              "                </tr>\n",
              "            </table>\n",
              "\n",
              "        </div>\n",
              "        <div class=\"col-sm-6\">\n",
              "            <table class=\"stats \">\n",
              "\n",
              "                <tr>\n",
              "                    <th>Mean</th>\n",
              "                    <td>5403.5</td>\n",
              "                </tr>\n",
              "                <tr>\n",
              "                    <th>Minimum</th>\n",
              "                    <td>150</td>\n",
              "                </tr>\n",
              "                <tr>\n",
              "                    <th>Maximum</th>\n",
              "                    <td>81000</td>\n",
              "                </tr>\n",
              "                <tr class=\"ignore\">\n",
              "                    <th>Zeros (%)</th>\n",
              "                    <td>0.0%</td>\n",
              "                </tr>\n",
              "            </table>\n",
              "        </div>\n",
              "    </div>\n",
              "</div>\n",
              "<div class=\"col-md-3 collapse in\" id=\"minihistogram2251320580135673787\">\n",
              "    <img src=\"data:image/png;base64,iVBORw0KGgoAAAANSUhEUgAAAMgAAABLCAYAAAA1fMjoAAAABHNCSVQICAgIfAhkiAAAAAlwSFlzAAAPYQAAD2EBqD%2BnaQAAADl0RVh0U29mdHdhcmUAbWF0cGxvdGxpYiB2ZXJzaW9uIDMuMC4zLCBodHRwOi8vbWF0cGxvdGxpYi5vcmcvnQurowAAARdJREFUeJzt17sNAjEABUFAlHRF0BPx9XRF0JPJEVoBAo7PTG7pJSvb2zHG2ABX7dYeAJ9sv/aAS9NxufvMaT68YAm4QSAJBIJAIAgEgkAgCASCQCAIBIJAIAgEgkAgCASCQCAIBIJAIAgEgkAgCASCQCAIBIJAIAgEgkAgCASCQCAIBIJAIAgEgkAgCASCQCAIBIJAIAgEgkAgCASCQCAIBIJAIAgEgkAg7Nce8AzTcbn7zGk%2BvGAJv8YNAkEgEH7iifUIzzJu8beBvIMIv992jDHWHgGfyh8EgkAgCASCQCAIBIJAIAgEgkAgCASCQCAIBIJAIAgEgkAgCASCQCAIBIJAIAgEgkAgCASCQCAIBIJAIAgEwhkR6xSVb2avkQAAAABJRU5ErkJggg%3D%3D\">\n",
              "\n",
              "</div>\n",
              "<div class=\"col-md-12 text-right\">\n",
              "    <a role=\"button\" data-toggle=\"collapse\" data-target=\"#descriptives2251320580135673787,#minihistogram2251320580135673787\"\n",
              "       aria-expanded=\"false\" aria-controls=\"collapseExample\">\n",
              "        Toggle details\n",
              "    </a>\n",
              "</div>\n",
              "<div class=\"row collapse col-md-12\" id=\"descriptives2251320580135673787\">\n",
              "    <ul class=\"nav nav-tabs\" role=\"tablist\">\n",
              "        <li role=\"presentation\" class=\"active\"><a href=\"#quantiles2251320580135673787\"\n",
              "                                                  aria-controls=\"quantiles2251320580135673787\" role=\"tab\"\n",
              "                                                  data-toggle=\"tab\">Statistics</a></li>\n",
              "        <li role=\"presentation\"><a href=\"#histogram2251320580135673787\" aria-controls=\"histogram2251320580135673787\"\n",
              "                                   role=\"tab\" data-toggle=\"tab\">Histogram</a></li>\n",
              "        <li role=\"presentation\"><a href=\"#common2251320580135673787\" aria-controls=\"common2251320580135673787\"\n",
              "                                   role=\"tab\" data-toggle=\"tab\">Common Values</a></li>\n",
              "        <li role=\"presentation\"><a href=\"#extreme2251320580135673787\" aria-controls=\"extreme2251320580135673787\"\n",
              "                                   role=\"tab\" data-toggle=\"tab\">Extreme Values</a></li>\n",
              "\n",
              "    </ul>\n",
              "\n",
              "    <div class=\"tab-content\">\n",
              "        <div role=\"tabpanel\" class=\"tab-pane active row\" id=\"quantiles2251320580135673787\">\n",
              "            <div class=\"col-md-4 col-md-offset-1\">\n",
              "                <p class=\"h4\">Quantile statistics</p>\n",
              "                <table class=\"stats indent\">\n",
              "                    <tr>\n",
              "                        <th>Minimum</th>\n",
              "                        <td>150</td>\n",
              "                    </tr>\n",
              "                    <tr>\n",
              "                        <th>5-th percentile</th>\n",
              "                        <td>1897.6</td>\n",
              "                    </tr>\n",
              "                    <tr>\n",
              "                        <th>Q1</th>\n",
              "                        <td>2877.5</td>\n",
              "                    </tr>\n",
              "                    <tr>\n",
              "                        <th>Median</th>\n",
              "                        <td>3812.5</td>\n",
              "                    </tr>\n",
              "                    <tr>\n",
              "                        <th>Q3</th>\n",
              "                        <td>5795</td>\n",
              "                    </tr>\n",
              "                    <tr>\n",
              "                        <th>95-th percentile</th>\n",
              "                        <td>14583</td>\n",
              "                    </tr>\n",
              "                    <tr>\n",
              "                        <th>Maximum</th>\n",
              "                        <td>81000</td>\n",
              "                    </tr>\n",
              "                    <tr>\n",
              "                        <th>Range</th>\n",
              "                        <td>80850</td>\n",
              "                    </tr>\n",
              "                    <tr>\n",
              "                        <th>Interquartile range</th>\n",
              "                        <td>2917.5</td>\n",
              "                    </tr>\n",
              "                </table>\n",
              "            </div>\n",
              "            <div class=\"col-md-4 col-md-offset-2\">\n",
              "                <p class=\"h4\">Descriptive statistics</p>\n",
              "                <table class=\"stats indent\">\n",
              "                    <tr>\n",
              "                        <th>Standard deviation</th>\n",
              "                        <td>6109</td>\n",
              "                    </tr>\n",
              "                    <tr>\n",
              "                        <th>Coef of variation</th>\n",
              "                        <td>1.1306</td>\n",
              "                    </tr>\n",
              "                    <tr>\n",
              "                        <th>Kurtosis</th>\n",
              "                        <td>60.541</td>\n",
              "                    </tr>\n",
              "                    <tr>\n",
              "                        <th>Mean</th>\n",
              "                        <td>5403.5</td>\n",
              "                    </tr>\n",
              "                    <tr>\n",
              "                        <th>MAD</th>\n",
              "                        <td>3034.9</td>\n",
              "                    </tr>\n",
              "                    <tr class=\"\">\n",
              "                        <th>Skewness</th>\n",
              "                        <td>6.5395</td>\n",
              "                    </tr>\n",
              "                    <tr>\n",
              "                        <th>Sum</th>\n",
              "                        <td>3317724</td>\n",
              "                    </tr>\n",
              "                    <tr>\n",
              "                        <th>Variance</th>\n",
              "                        <td>37320000</td>\n",
              "                    </tr>\n",
              "                    <tr>\n",
              "                        <th>Memory size</th>\n",
              "                        <td>4.9 KiB</td>\n",
              "                    </tr>\n",
              "                </table>\n",
              "            </div>\n",
              "        </div>\n",
              "        <div role=\"tabpanel\" class=\"tab-pane col-md-8 col-md-offset-2\" id=\"histogram2251320580135673787\">\n",
              "            <img src=\"data:image/png;base64,iVBORw0KGgoAAAANSUhEUgAAAlgAAAGQCAYAAAByNR6YAAAABHNCSVQICAgIfAhkiAAAAAlwSFlzAAAPYQAAD2EBqD%2BnaQAAADl0RVh0U29mdHdhcmUAbWF0cGxvdGxpYiB2ZXJzaW9uIDMuMC4zLCBodHRwOi8vbWF0cGxvdGxpYi5vcmcvnQurowAAIABJREFUeJzt3XtU1XW%2B//EXl8TxAkqFzZilJxVF8C4UWig1mDI6hRfU8ZSlpUY6ms5oWlMeO%2BIcdZrSjkmtOpqdiXQ1eUnTU16qyZlmSmuD5uTtpIRByhZRQIHP749%2B7NMWC9QP7P3dPR9ruVZ8Pnt/v%2B8Xblov9nfvbZAxxggAAADWBPt6AAAAgEBDwQIAALCMggUAAGAZBQsAAMAyChYAAIBlFCwAAADLKFgAAACWUbAAAAAso2ABAABYRsECAACwjIIFAABgGQULAADAMgoWAACAZRQsAAAAyyhYAAAAllGwAAAALKNgAQAAWEbBAgAAsIyCBQAAYBkFCwAAwDIKFgAAgGUULAAAAMsoWAAAAJZRsAAAACyjYAEAAFhGwQIAALCMggUAAGAZBQsAAMAyChYAAIBlFCwAAADLKFgAAACWUbAAAAAso2ABAABYRsECAACwjIIFAABgGQULAADAMgoWAACAZRQsAAAAyyhYAAAAloX6eoAfi8LC01aPFxwcpMjIpjp58oyqqozVY/sSuZyFXM5CLmchlx3XXtu83s9xMTyD5VDBwUEKCgpScHCQr0exilzOQi5nIZezkMvZKFgAAACWUbAAAAAso2ABAABYRsECAACwjIIFAABgGQULAADAMgoWAACAZRQsAAAAyyhYAAAAllGwAAAALKNgAQAAWEbBAgAAsIyCBQAAYFmorwfAlfn54vd9PUKdbZ7W19cjAADQIHgGCwAAwDIKFgAAgGUULAAAAMsoWAAAAJZRsAAAACyjYAEAAFhGwQIAALCMggUAAGAZBQsAAMAyChYAAIBlFCwAAADLKFgAAACWUbAAAAAso2ABAABYFrAFKzo6WrGxsYqLi/P8mT9/viRp165dGj58uHr27KnU1FStX7/e676rVq3SwIED1bNnT40ePVo5OTm%2BiAAAABwq1NcD1Ke3335b119/vddaQUGBHnroIc2dO1dDhgzRxx9/rMmTJ6tdu3aKi4vTtm3btHTpUr344ouKjo7WqlWrNGnSJG3dulVNmjTxURIAAOAkAfsM1vfZsGGD2rZtq%2BHDhyssLEyJiYlKTk7WmjVrJEnZ2dlKS0tTt27d1LhxY02YMEGStH37dl%2BODQAAHCSgn8FasmSJdu/erZKSEg0aNEizZ89Wbm6uYmJivG4XExOjzZs3S5Jyc3M1ePBgz15wcLA6d%2B4sl8ul1NTUOp23oKBAhYWFXmuhoU0UFRV1hYn%2BT0iI87pxaGjtM1fncmK%2BH0IuZyGXs5DLWQI114UCtmB1795diYmJ%2Bv3vf6%2BjR49q2rRpmjdvntxut1q1auV12xYtWqioqEiS5Ha7FRER4bUfERHh2a%2BL7OxsLVu2zGstIyNDU6dOvcw0gaFly6Z1vm14%2BE/qcRLfIZezkMtZyOUsgZqrWsAWrOzsbM9/33TTTZo5c6YmT56sXr161XpfY8wVnTs9PV3Jyclea6GhTVRUdOaKjvtdISHBjntw1iV/da7i4lJVVlY1wFQNg1zOQi5nIZezNHSuS/nl3qaALVgXuv7661VZWang4GC53W6vvaKiIkVGRkqSWrZsWWPf7XarQ4cOdT5XVFRUjcuBhYWnVVEROD8gl%2BNS8ldWVgXk94tczkIuZyGXswRqrmoBeQF07969WrhwodfawYMH1ahRIyUlJdX42IWcnBx169ZNkhQbG6vc3FzPXmVlpfbu3evZBwAAqE1AFqyrr75a2dnZysrK0rlz53T48GE988wzSk9P1y9/%2BUvl5eVpzZo1Ki8v186dO7Vz506NHDlSkjR69Gi9%2Beab2rNnj0pLS7V8%2BXI1atRI/fv3920oAADgGAF5ibBVq1bKysrSkiVLPAXp7rvv1vTp0xUWFqYVK1boqaee0rx589S6dWstWrRInTp1kiTddttteuSRRzRt2jSdOHFCcXFxysrKUuPGjX2cCgAAOEVAFixJ6tOnj1577bXv3Vu3bt333nfMmDEaM2ZMfY0GAAACXEBeIgQAAPAlChYAAIBlFCwAAADLKFgAAACWUbAAAAAso2ABAABYRsECAACwjIIFAABgGQULAADAMgoWAACAZRQsAAAAyyhYAAAAllGwAAAALKNgAQAAWEbBAgAAsIyCBQAAYBkFCwAAwDIKFgAAgGUULAAAAMsoWAAAAJZRsAAAACyjYAEAAFhGwQIAALCMggUAAGAZBQsAAMAyChYAAIBlFCwAAADLKFgAAACWUbAAAAAso2ABAABYRsECAACwjIIFAABgGQULAADAMgoWAACAZRQsAAAAyyhYAAAAllGwAAAALKNgAQAAWEbBAgAAsIyCBQAAYBkFCwAAwDIKFgAAgGUULAAAAMsoWAAAAJZRsAAAACyjYAEAAFj2oyhYCxYsUHR0tOfrXbt2afjw4erZs6dSU1O1fv16r9uvWrVKAwcOVM%2BePTV69Gjl5OQ09MgAAMDBAr5g7du3T%2BvWrfN8XVBQoIceekijRo3Srl27NHfuXD3%2B%2BONyuVySpG3btmnp0qX6j//4D3344YcaMGCAJk2apLNnz/oqAgAAcJiALlhVVVV64oknNG7cOM/ahg0b1LZtWw0fPlxhYWFKTExUcnKy1qxZI0nKzs5WWlqaunXrpsaNG2vChAmSpO3bt/siAgAAcKBQXw9Qn1577TWFhYVpyJAh%2BuMf/yhJys3NVUxMjNftYmJitHnzZs/%2B4MGDPXvBwcHq3LmzXC6XUlNT63TegoICFRYWeq2FhjZRVFTUlcTxEhLivG4cGlr7zNW5nJjvh5DLWcjlLORylkDNdaGALVjffPONli5dqldeecVr3e12q1WrVl5rLVq0UFFRkWc/IiLCaz8iIsKzXxfZ2dlatmyZ11pGRoamTp16KRECTsuWTet82/Dwn9TjJL5DLmchl7OQy1kCNVe1gC1YmZmZSktLU/v27XXs2LFLuq8x5orOnZ6eruTkZK%2B10NAmKio6c0XH/a6QkGDHPTjrkr86V3FxqSorqxpgqoZBLmchl7OQy1kaOtel/HJvU0AWrF27dmn37t3auHFjjb2WLVvK7XZ7rRUVFSkyMvJ7991utzp06FDn80dFRdW4HFhYeFoVFYHzA3I5LiV/ZWVVQH6/yOUs5HIWcjlLoOaqFpAXQNevX68TJ05owIABSkhIUFpamiQpISFBHTt2rPGxCzk5OerWrZskKTY2Vrm5uZ69yspK7d2717MPAABQm4AsWLNnz9aWLVu0bt06rVu3TllZWZKkdevWaciQIcrLy9OaNWtUXl6unTt3aufOnRo5cqQkafTo0XrzzTe1Z88elZaWavny5WrUqJH69%2B/vw0QAAMBJAvISYUREhNcL1SsqKiRJ1113nSRpxYoVeuqppzRv3jy1bt1aixYtUqdOnSRJt912mx555BFNmzZNJ06cUFxcnLKystS4ceOGDwIAABwpIAvWha6//nrt37/f83WfPn28Pnz0QmPGjNGYMWMaYjQAABCAAvISIQAAgC9RsAAAACyjYAEAAFhGwQIAALCMggUAAGAZBQsAAMAyChYAAIBlFCwAAADLKFgAAACWUbAAAAAso2ABAABYRsECAACwjIIFAABgGQULAADAMgoWAACAZRQsAAAAyyhYAAAAllGwAAAALKNgAQAAWEbBAgAAsIyCBQAAYBkFCwAAwDIKFgAAgGUULAAAAMsoWAAAAJZRsAAAACyjYAEAAFhGwQIAALCMggUAAGCZ3xWs5ORkLVu2TPn5%2Bb4eBQAA4LL4XcEaNmyYNm3apDvuuEMTJkzQ1q1bVVFR4euxAAAA6szvClZGRoY2bdqk119/XR06dNCCBQuUlJSkRYsW6fDhw74eDwAAoFZ%2BV7CqdenSRbNmzdL27ds1Z84cvf766xo8eLDGjx%2Bvzz77zNfjAQAAfC%2B/LVjnz5/Xpk2b9MADD2jWrFlq1aqVHn30UXXu3Fnjxo3Thg0bfD0iAADARYX6eoALHTx4UGvXrtWbb76pM2fOaODAgVq5cqV69erluU2fPn305JNPasiQIT6cFAAA4OL8rmClpqaqXbt2mjhxou666y61aNGixm2SkpJ08uRJH0wHAABQO78rWKtWrVJ8fHytt/v0008bYBoAAIBL53evwYqOjtakSZP0zjvveNb%2B67/%2BSw888IDcbrcPJwMAAKgbvytYmZmZOn36tNq3b%2B9Z69%2B/v6qqqrRw4UIfTgYAAFA3fneJ8IMPPtCGDRvUsmVLz1rbtm21ePFi/eIXv/DhZAAAAHXjd89glZWVKSwsrMZ6cHCwSktLfTARAADApfG7gtWnTx8tXLhQp06d8qx9/fXXmjdvntdHNQAAAPgrv7tEOGfOHN1///265ZZb1KxZM1VVVenMmTNq06aNXnnlFV%2BPBwAAUCu/K1ht2rTRW2%2B9pffee09ffvmlgoOD1a5dO/Xr108hISG%2BHg8AAKBWflewJKlRo0a64447fD0GAADAZfG7gnX06FEtWbJEX3zxhcrKymrsv/vuuz6YCgAAoO78rmDNmTNHBQUF6tevn5o0aXLZx/n888%2BVmZmpnJwchYWFKT4%2BXnPnztW1116rXbt2acmSJTp06JB%2B%2BtOfauLEiRo6dKjnvqtWrdKrr76qwsJCRUdHa%2B7cuYqNjbURDwAA/Aj4XcHKycnRu%2B%2B%2Bq8jIyMs%2Bxrlz53T//ffrV7/6lV544QWVlJTo17/%2BtZ588kk98cQTeuihhzR37lwNGTJEH3/8sSZPnqx27dopLi5O27Zt09KlS/Xiiy8qOjpaq1at0qRJk7R169YrKnwAAODHw%2B8%2BpuHqq6%2B%2B4iJTWlqq6dOna%2BLEiWrUqJEiIyP185//XF988YU2bNigtm3bavjw4QoLC1NiYqKSk5O1Zs0aSVJ2drbS0tLUrVs3NW7cWBMmTJAkbd%2B%2B/YqzAQCAHwe/ewZr4sSJWrZsmWbMmKGgoKDLOkZERIRGjBjh%2BfrQoUP685//rEGDBik3N1cxMTFet4%2BJidHmzZslSbm5uRo8eLBnLzg4WJ07d5bL5VJqamqdzl9QUKDCwkKvtdDQJoqKirqsPBcTEuJ33bhWoaG1z1ydy4n5fgi5nIVczkIuZwnUXBfyu4L13nvv6ZNPPtEbb7yh66%2B/XsHB3n8Br732Wp2PlZeXp4EDB6qiokIjR47U1KlT9cADD6hVq1Zet2vRooWKiookSW63WxEREV77ERERnv26yM7O1rJly7zWMjIyNHXq1DofIxC1bNm0zrcND/9JPU7iO%2BRyFnI5C7mcJVBzVfO7gtWsWTPddtttVo7VunVruVwu/e///q9%2B97vf6be//W2d7meMuaLzpqenKzk52WstNLSJiorOXNFxvyskJNhxD8665K/OVVxcqsrKqgaYqmGQy1nI5SzkcpaGznUpv9zb5HcFKzMz0%2BrxgoKC1LZtW02fPl2jRo1SUlKS3G63122Kioo8L6pv2bJljX23260OHTrU%2BZxRUVE1LgcWFp5WRUXg/IBcjkvJX1lZFZDfL3I5C7mchVzOEqi5qvnlBdBDhw5p6dKlevTRRz1ru3fvrvP9d%2B3apYEDB6qq6v/%2B4qovNXbt2lU5OTlet8/JyVG3bt0kSbGxscrNzfXsVVZWau/evZ59AACA2vhdwdq1a5eGDh2qrVu3auPGjZK%2B/fDRe%2B65p84fMhobG6uSkhItWrRIpaWlOnnypJYuXarevXtr9OjRysvL05o1a1ReXq6dO3dq586dGjlypCRp9OjRevPNN7Vnzx6VlpZq%2BfLlatSokfr3719fkQEAQIDxu4L19NNP6ze/%2BY02bNjgeRdhmzZttHDhQj333HN1Okbz5s310ksvKScnRzfffLNSU1PVvHlz/eEPf9DVV1%2BtFStWaPXq1erVq5cWLFigRYsWqVOnTpKk2267TY888oimTZum%2BPh4ffjhh8rKylLjxo3rLTMAAAgsfvcarH/%2B859avXq1JHl9TMOdd96pOXPm1Pk40dHReuWVVy6616dPH61bt%2B577ztmzBiNGTOmzucCAAD4Lr97Bqt58%2BYX/TcICwoK1KhRIx9MBAAAcGn8rmD17NlTCxYsUElJiWft8OHDmjVrlm655RYfTgYAAFA3fneJ8NFHH9W9996rhIQEVVZWqmfPniotLVWHDh20cOFCX48HAABQK78rWNddd502btyonTt36vDhw2rcuLHatWunvn37XvY/nQMAANCQ/K5gSdJVV12lO%2B64w9djAAAAXBa/K1jJyck/%2BExVXT8LCwAAwFf8rmANHjzYq2BVVlbq8OHDcrlcuvfee304GQAAQN34XcGaOXPmRde3bNmiv/3tbw08DQAAwKXzu49p%2BD533HGH3nrrLV%2BPAQAAUCvHFKy9e/fKGOPrMQAAAGrld5cIR40aVWOttLRUBw8eVEpKig8mAgAAuDR%2BV7Datm1b412EYWFhGj58uEaMGOGjqQAAAOrO7woWn9YOAACczu8K1ptvvlnn29511131OAkAAMDl8buCNXfuXFVVVdV4QXtQUJDXWlBQEAULAAD4Jb8rWC%2B%2B%2BKJeeuklTZo0SdHR0TLGaP/%2B/XrhhRc0duxYJSQk%2BHpEAACAH%2BR3BWvhwoXKyspSq1atPGu9e/dWmzZtNH78eG3cuNGH0wEAANTO7z4H68iRI4qIiKixHh4erry8PB9MBAAAcGn8rmC1bt1aCxcuVFFRkWetuLhYS5Ys0Q033ODDyQAAAOrG7y4RzpkzRzNmzFB2draaNm2q4OBglZSUqHHjxnruued8PR4AAECt/K5g9evXTzt27NDOnTt1/PhxGWPUqlUr3XrrrWrevLmvxwMAAKiV3xUsSfrJT36i22%2B/XcePH1ebNm18PQ4AAMAl8bvXYJWVlWnWrFnq0aOHBg0aJOnb12BNmDBBxcXFPp4OAACgdn5XsBYtWqR9%2B/Zp8eLFCg7%2Bv/EqKyu1ePFiH04GAABQN35XsLZs2aJnn31Wd955p%2BcffQ4PD1dmZqa2bt3q4%2BkAAABq53cF68yZM2rbtm2N9cjISJ09e7bhBwIAALhEflewbrjhBv3tb3%2BTJK9/e/Dtt9/Wz372M1%2BNBQAAUGd%2B9y7CMWPGaMqUKRo2bJiqqqr08ssvKycnR1u2bNHcuXN9PR4AAECt/K5gpaenKzQ0VKtXr1ZISIief/55tWvXTosXL9add97p6/EAAABq5XcF6%2BTJkxo2bJiGDRvm61EAAAAui9%2B9Buv222/3eu0VAACA0/hdwUpISNDmzZt9PQYAAMBl87tLhD/96U/17//%2B78rKytINN9ygq666ymt/yZIlPpoMAACgbvyuYB04cED/8i//IkkqKiry8TQAAACXzm8K1vTp0/X000/rlVde8aw999xzysjI8OFUAAAAl85vXoO1bdu2GmtZWVk%2BmAQAAODK%2BE3Butg7B3k3IQAAcCK/KVjV/7BzbWsAAAD%2Bzm8KFgAAQKCgYAEAAFjmN%2B8iPH/%2BvGbMmFHrGp%2BDBQAA/J3fFKxevXqpoKCg1jUAAAB/5zcF67uffwUAAOBkvAYLAADAMgoWAACAZRQsAAAAywK2YOXl5SkjI0MJCQlKTEzU7NmzVVxcLEnat2%2Bfxo4dq169eiklJUUvvfSS1303bdqkIUOGqEePHkpLS9MHH3zgiwgAAMChArZgTZo0SeHh4dq2bZveeOMNffHFF/r973%2BvsrIyTZw4UTfffLPef/99Pf3001qxYoW2bt0q6dvyNWvWLM2cOVN//etfNW7cOD388MM6fvy4jxMBAACnCMiCVVxcrNjYWM2YMUNNmzbVddddp7vvvlv/%2BMc/tGPHDp0/f16TJ09WkyZN1KVLF40YMULZ2dmSpDVr1igpKUlJSUkKCwvT0KFD1bFjR61fv97HqQAAgFMEZMEKDw9XZmamrrnmGs9afn6%2BoqKilJubq%2BjoaIWEhHj2YmJilJOTI0nKzc1VTEyM1/FiYmLkcrkaZngAAOB4fvM5WPXJ5XJp9erVWr58uTZv3qzw8HCv/RYtWsjtdquqqkput1sRERFe%2BxERETpw4ECdz1dQUKDCwkKvtdDQJoqKirr8EBcICXFeNw4NrX3m6lxOzPdDyOUs5HIWcjlLoOa6UMAXrI8//liTJ0/WjBkzlJiYqM2bN1/0dkFBQZ7/NsZc0Tmzs7O1bNkyr7WMjAxNnTr1io7rdC1bNq3zbcPDf1KPk/gOuZyFXM5CLmcJ1FzVArpgbdu2Tb/5zW/0%2BOOP66677pIkRUZG6siRI163c7vdatGihYKDg9WyZUu53e4a%2B5GRkXU%2Bb3p6upKTk73WQkObqKjozOUFuYiQkGDHPTjrkr86V3FxqSorqxpgqoZBLmchl7OQy1kaOtel/HJvU8AWrE8%2B%2BUSzZs3SM888o379%2BnnWY2Nj9ac//UkVFRUKDf02vsvlUrdu3Tz71a/HquZyuZSamlrnc0dFRdW4HFhYeFoVFYHzA3I5LiV/ZWVVQH6/yOUs5HIWcjlLoOaqFpAXQCsqKvTYY49p5syZXuVKkpKSktSsWTMtX75cpaWl%2BvTTT7V27VqNHj1akjRy5Eh9%2BOGH2rFjh8rLy7V27VodOXJEQ4cO9UUUAADgQAH5DNaePXt08OBBPfXUU3rqqae89t5%2B%2B209//zzeuKJJ5SVlaVrrrlG06dPV//%2B/SVJHTt21OLFi5WZmam8vDy1b99eK1as0LXXXuuDJAAAwIkCsmD17t1b%2B/fv/8Hb/OlPf/revZSUFKWkpNgeCwAA/EgE5CVCAAAAX6JgAQAAWEbBAgAAsIyCBQAAYBkFCwAAwDIKFgAAgGUULAAAAMsoWAAAAJZRsAAAACyjYAEAAFhGwQIAALCMggUAAGAZBQsAAMAyChYAAIBlFCwAAADLKFgAAACWUbAAAAAso2ABAABYRsECAACwjIIFAABgGQULAADAMgoWAACAZRQsAAAAyyhYAAAAllGwAAAALKNgAQAAWEbBAgAAsIyCBQAAYBkFCwAAwDIKFgAAgGUULAAAAMsoWAAAAJZRsAAAACyjYAEAAFhGwQIAALCMggUAAGAZBQsAAMAyChYAAIBlFCwAAADLKFgAAACWUbAAAAAso2ABAABYRsECAACwjIIFAABgGQULAADAMgoWAACAZQFbsN5//30lJiZq%2BvTpNfY2bdqkIUOGqEePHkpLS9MHH3zg2auqqtLTTz%2Bt22%2B/XX369NH48eN19OjRhhwdAAA4XEAWrBdeeEFPPfWUbrzxxhp7%2B/bt06xZszRz5kz99a9/1bhx4/Twww/r%2BPHjkqRXX31VGzZsUFZWlrZv3662bdsqIyNDxpiGjgEAABwqIAtWWFiY1q5de9GCtWbNGiUlJSkpKUlhYWEaOnSoOnbsqPXr10uSsrOzNW7cON10001q1qyZpk%2BfroMHD%2BrTTz9t6BgAAMChArJg3XPPPWrevPlF93JzcxUTE%2BO1FhMTI5fLpbKyMh04cMBrv1mzZrrxxhvlcrnqdWYAABA4Qn09QENzu92KiIjwWouIiNCBAwd06tQpGWMuul9UVFTncxQUFKiwsNBrLTS0iaKioi5/8AuEhDivG4eG1j5zdS4n5vsh5HIWcjkLuZwlUHNd6EdXsCTV%2BnqqK329VXZ2tpYtW%2Ba1lpGRoalTp17RcZ2uZcumdb5tePhP6nES3yGXs5DLWcjlLIGaq9qPrmC1bNlSbrfba83tdisyMlItWrRQcHDwRfevvvrqOp8jPT1dycnJXmuhoU1UVHTm8ge/QEhIsOMenHXJX52ruLhUlZVVDTBVwyCXs5DLWcjlLA2d61J%2BubfpR1ewYmNjlZOT47XmcrmUmpqqsLAwdejQQbm5uYqPj5ckFRcX68svv1TXrl3rfI6oqKgalwMLC0%2BroiJwfkAux6Xkr6ysCsjvF7mchVzOQi5nCdRc1QL7AuhFjBw5Uh9%2B%2BKF27Nih8vJyrV27VkeOHNHQoUMlSaNHj9aqVat08OBBlZSUaPHixercubPi4uJ8PDkAAHCKgHwGq7oMVVRUSJLeeecdSd8%2BU9WxY0ctXrxYmZmZysvLU/v27bVixQpde%2B21kqRRo0apsLBQ//qv/6ozZ84oISGhxuupAAAAfkhAFqzaPlIhJSVFKSkpF90LCgrS1KlTf/QvSAcAAJfvR3eJEAAAoL5RsAAAACyjYAEAAFhGwQIAALCMggUAAGAZBQsAAMAyChYAAIBlFCwAAADLKFgAAACWUbAAAAAso2ABAABYRsECAACwjIIFAABgGQULAADAMgoWAACAZRQsAAAAyyhYAAAAloX6egD8eAz64198PcIl2Tytr69HAAA4FM9gAQAAWEbBAgAAsIyCBQAAYBkFCwAAwDIKFgAAgGUULAAAAMsoWAAAAJZRsAAAACyjYAEAAFhGwQIAALCMggUAAGAZBQsAAMAyChYAAIBlFCwAAADLKFgAAACWUbAAAAAso2ABAABYRsECAACwjIIFAABgGQULAADAMgoWAACAZRQsAAAAyyhYAAAAllGwAAAALAv19QCAvxr0x7/4eoRLsnlaX1%2BPAAD4/3gGCwAAwDIKFgAAgGUULAAAAMsoWAAAAJZRsC4iLy9PDz74oBISEjRgwAAtWrRIVVVVvh4LAAA4BO8ivIgpU6aoS5cueuedd3TixAlNnDhR11xzje677z5fjwYAAByAgnUBl8ulzz//XC%2B//LKaN2%2Bu5s2ba9y4cVq5ciUFC7CEj8AAEOgoWBfIzc1V69atFRER4Vnr0qWLDh8%2BrJKSEjVr1qzWYxQUFKiwsNBrLTS0iaKioqzNGRLC1V14Cw1t%2BMdE9eMw0B%2BPvvjeXomfL37f1yMErP%2BZeWuDncvGz5eTHgsN%2Bb1tCBSsC7jdboWHh3utVZetoqKiOhWs7OxsLVu2zGvt4Ycf1pQpU6zNWVBQoJUrX9SmX6dbLW6%2BVlBQoOzsbKWnk8sJqh%2BHl5rrH/9%2BZz1OdeWc/vf1fd9fp%2Bf6PoGc63LNKV65AAANmUlEQVR%2Bvr7LH3/WAvXv60LO%2BrWsgRhjruj%2B6enpeuONN7z%2BpKenW5ruW4WFhVq2bFmNZ8qcjlzOQi5nIZezkMvZeAbrApGRkXK73V5rbrdbQUFBioyMrNMxoqKiArqVAwCAH8YzWBeIjY1Vfn6%2BTp486VlzuVxq3769mjZt6sPJAACAU1CwLhATE6O4uDgtWbJEJSUlOnjwoF5%2B%2BWWNHj3a16MBAACHCHnyySef9PUQ/ubWW2/Vxo0bNX/%2BfL311lsaPny4xo8fr6CgIF%2BP5qVp06aKj48PuGfWyOUs5HIWcjkLuZwryFzpK7oBAADghUuEAAAAllGwAAAALKNgAQAAWEbBAgAAsIyCBQAAYBkFCwAAwDIKFgAAgGUULAAAAMsoWAAAAJZRsBwoLy9PDz74oBISEjRgwAAtWrRIVVVVvh5LkvT%2B%2B%2B8rMTFR06dPr7G3adMmDRkyRD169FBaWpo%2B%2BOADz15VVZWefvpp3X777erTp4/Gjx%2Bvo0ePevbdbremTZumxMRE9evXT3PnzlVZWZlnf9%2B%2BfRo7dqx69eqllJQUvfTSS9Yy5eXlKSMjQwkJCUpMTNTs2bNVXFxcp/PWZ%2BYr9fnnn%2Bvee%2B9Vr169lJiYqGnTpqmwsFCStGvXLg0fPlw9e/ZUamqq1q9f73XfVatWaeDAgerZs6dGjx6tnJwcz155ebl%2B97vf6bbbblNCQoKmTp2qoqIir%2B9nQz1%2BFyxYoOjoaM/XTs4VHR2t2NhYxcXFef7Mnz/f8bkkafny5erXr5%2B6d%2B%2BucePG6dixY47O9fe//93r7ykuLk6xsbGex6JTc0nS3r17dc8996h3797q27evZs6cqZMnTzo%2BV70wcJy7777bPPbYY6a4uNgcPnzYpKSkmJdeesnXY5msrCyTkpJiRo0aZaZNm%2Ba1t3fvXhMbG2t27NhhysrKzLp160y3bt1Mfn6%2BMcaYVatWmQEDBpgDBw6Y06dPm3/7t38zQ4YMMVVVVcYYYx5%2B%2BGHz4IMPmhMnTpjjx4%2Bb9PR0M3/%2BfGOMMaWlpebWW281S5cuNWfOnDE5OTkmPj7ebNmyxUquX/ziF2b27NmmpKTE5Ofnm7S0NDNnzpxaz1ufma9UeXm5ueWWW8yyZctMeXm5OXHihBk7dqx56KGHzNdff226d%2B9u1qxZY8rKysxf/vIX07VrV/PZZ58ZY4x59913Te/evc2ePXtMaWmpWbFihenbt685c%2BaMMcaYzMxMk5aWZr766itTVFRkHn74YTNx4kTPuRvq8bt3714THx9vOnbsaIwxjs/VsWNHc/To0RrrTs%2B1evVqc%2Bedd5qDBw%2Ba06dPm/nz55v58%2Bc7PteFli9fbn796187Otf58%2BdN3759zZIlS0x5ebk5efKkue%2B%2B%2B8yUKVMcnau%2BULAc5rPPPjOdO3c2brfbs/bf//3fZuDAgT6c6lsrV640xcXFZtasWTUK1rx580xGRobX2ogRI8yKFSuMMcakpqaalStXevZOnz5tYmJizO7du01hYaHp1KmT2bdvn2d/586dpnv37ubcuXNm8%2BbN5uabbzYVFRWe/UWLFpn777//ijOdOnXKzJ492xQWFnrWXnnlFZOSklLreesz85Vyu93m9ddfN%2BfPn/esrVy50vz85z83L774ornrrru8bj9t2jTz%2BOOPG2OMefDBB82CBQs8e5WVlaZv375m48aN5vz586ZXr17mnXfe8ewfOHDAREdHm%2BPHjzfY47eystKMGDHC/Od//qenYDk91/cVLKfnSk5OvugvQ07P9V15eXkmPj7e5OXlOTrXV199ZTp27GgOHDjgdfw77rjD0bnqC5cIHSY3N1etW7dWRESEZ61Lly46fPiwSkpKfDiZdM8996h58%2BYX3cvNzVVMTIzXWkxMjFwul8rKynTgwAGv/WbNmunGG2%2BUy%2BXSvn37FBIS4nWpp0uXLjp79qwOHTqk3NxcRUdHKyQkxOvY3336%2BXKFh4crMzNT11xzjWctPz9fUVFRtZ63PjNfqYiICI0YMUKhoaGSpEOHDunPf/6zBg0a9L1zf1%2Bu4OBgde7cWS6XS19%2B%2BaVOnz6tLl26ePZvuukmNW7cWLm5uQ32%2BH3ttdcUFhamIUOGeNYCIdeSJUvUv39/9e7dW48//rjOnDnj6Fxff/21jh07plOnTmnw4MGeS0MnT550dK4LPfPMMxo2bJh%2B9rOfOTpXq1at1LlzZ2VnZ%2BvMmTM6ceKEtm7dqv79%2Bzs6V32hYDmM2%2B1WeHi411r1g%2B6716v9jdvt9vrhkL6du6ioSKdOnZIx5nv33W63mjVrpqCgIK89SZ79C78nLVq0kNvttn6N3uVyafXq1Zo8eXKt563PzLbk5eUpNjZWgwcPVlxcnKZOnfq9uarP%2B0O53G63JNW4f3h4%2BPf%2BXdnO9c0332jp0qV64oknvNadnqt79%2B5KTEzU1q1blZ2drT179mjevHmOznX8%2BHFJ0ttvv62XX35Z69at0/Hjx/XYY485Otd3HTt2TFu3btV9993nmdupuYKDg7V06VK9%2B%2B676tmzpxITE1VRUaEZM2Y4Old9oWA5kDHG1yNcltrm/qH9y8n83XJiw8cff6zx48drxowZSkxMrNN5GzrzpWrdurVcLpfefvttHTlyRL/97W/rdD9/zpWZmam0tDS1b9/%2Bku/rz7mys7M1YsQINWrUSDfddJNmzpypjRs36vz587Xe119zVR97woQJatWqla677jpNmTJF27Ztu6T7X85%2BQ/1/9NVXX1VKSoquvfbaOt/HX3OdO3dOkyZN0p133ql//OMfeu%2B999S8eXPNnDmzTvf311z1hYLlMJGRkZ62X83tdisoKEiRkZE%2Bmqp2LVu2vOjckZGRatGihYKDgy%2B6f/XVVysyMlIlJSWqrKz02pPk2b/wtxi32%2B05rg3btm3Tgw8%2BqDlz5uiee%2B6RpFrPW5%2BZbQoKClLbtm01ffp0bdy4UaGhoTXmKioq8jy%2BfihX9W0u3D916pQnV30%2Bfnft2qXdu3crIyOjxt7F5nZKrou5/vrrVVlZedHHkVNyVV96/%2B6zE61bt5YxRufPn3dsru/asmWLkpOTPV87%2BXG4a9cuHTt2TI888oiaN2%2BuVq1aaerUqfqf//kfRz8O6wsFy2FiY2OVn5/veVus9O1lq/bt26tp06Y%2BnOyHxcbG1nhNlMvlUrdu3RQWFqYOHTooNzfXs1dcXKwvv/xSXbt2VefOnWWM0eeff%2B513/DwcLVr106xsbHav3%2B/Kioqahzbhk8%2B%2BUSzZs3SM888o7vuussr0w%2Bdtz4zX6ldu3Zp4MCBXpdQq8to165da8ydk5Pjleu7c1dWVmrv3r3q1q2b2rRpo4iICK/9f/7znzp37pxiY2Pr/fG7fv16nThxQgMGDFBCQoLS0tIkSQkJCerYsaNjc%2B3du1cLFy70Wjt48KAaNWqkpKQkx%2Ba67rrr1KxZM%2B3bt8%2BzlpeXp6uuusrRuart27dPeXl56tu3r2ctLi7OsbkqKytVVVXl9WzSuXPnJEmJiYmOzVVv6v919LBtxIgRZs6cOeb06dPmwIEDJjk52axevdrXY3lc7F2E%2B/fvN3FxcWb79u2mrKzMrFmzxvTo0cMUFBQYY759R0j//v09H1nw%2BOOPm2HDhnnuP23aNDNhwgRz4sQJk5%2Bfb4YNG2YWLlxojPn2IwcGDBhgnn32WXP27FmzZ88e07t3b7N9%2B/YrznL%2B/HkzaNAg89prr9XYq%2B289Zn5ShUXF5vExESzcOFCc/bsWXPixAkzfvx4M2bMGPPNN9%2BYHj16mNdff92UlZWZHTt2mK5du3re0bhz507Tq1cvs3v3bnP27FmzdOlSk5SUZEpLS40x376T8u677zZfffWVOXnypJk4caKZMmWK59z1%2Bfh1u90mPz/f82f37t2mY8eOJj8/3%2BTl5Tk21/Hjx0337t3NihUrTHl5uTl06JAZPHiwmT9/vqP/vowxZsGCBeb22283R44cMd98841JT083s2fPdnwuY4xZu3atiY%2BP91pzcq6TJ0%2Ba%2BPh484c//MGcPXvWnDx50kyaNMn86le/cnSu%2BkLBcqD8/HwzYcIE07VrV5OYmGieffZZz2cn%2BVJsbKyJjY01nTp1Mp06dfJ8XW3Lli0mJSXFdOnSxfzyl780H330kWevqqrKPPPMM%2BaWW24xXbt2NQ888IDn86KM%2BbYQTJ8%2B3XTv3t306dPHzJs3z5SXl3v29%2B/fb0aNGmViY2NN//79zauvvmol09///nfTsWNHT5bv/jl27Fit563PzFfq888/N2PHjjVdu3Y1N998s5k2bZo5fvy4McaYjz76yAwdOtR06dLFpKSk1Hgb/auvvmqSkpJMbGysGT16tNm/f79nr7y83Dz55JOmT58%2BpkePHuaRRx4xxcXFnv2GfPwePXrU8zENTs/10UcfmfT0dNO9e3cTHx9vMjMzTVlZmeNzfff83bt3N7NmzTIlJSWOz2WMMc8//7xJTU2tse7kXC6Xy4wdO9b07t3bJCYmBuT/N2wJMsaBrxwDAADwY7wGCwAAwDIKFgAAgGUULAAAAMsoWAAAAJZRsAAAACyjYAEAAFhGwQIAALCMggUAAGAZBQsAAMAyChYAAIBlFCwAAADLKFgAAACWUbAAAAAs%2B39E4f/pDQgIWQAAAABJRU5ErkJggg%3D%3D\"/>\n",
              "        </div>\n",
              "        <div role=\"tabpanel\" class=\"tab-pane col-md-12\" id=\"common2251320580135673787\">\n",
              "            \n",
              "<table class=\"freq table table-hover\">\n",
              "    <thead>\n",
              "    <tr>\n",
              "        <td class=\"fillremaining\">Value</td>\n",
              "        <td class=\"number\">Count</td>\n",
              "        <td class=\"number\">Frequency (%)</td>\n",
              "        <td style=\"min-width:200px\">&nbsp;</td>\n",
              "    </tr>\n",
              "    </thead>\n",
              "    <tr class=\"\">\n",
              "        <td class=\"fillremaining\">2500</td>\n",
              "        <td class=\"number\">9</td>\n",
              "        <td class=\"number\">1.5%</td>\n",
              "        <td>\n",
              "            <div class=\"bar\" style=\"width:2%\">&nbsp;</div>\n",
              "        </td>\n",
              "</tr><tr class=\"\">\n",
              "        <td class=\"fillremaining\">4583</td>\n",
              "        <td class=\"number\">6</td>\n",
              "        <td class=\"number\">1.0%</td>\n",
              "        <td>\n",
              "            <div class=\"bar\" style=\"width:2%\">&nbsp;</div>\n",
              "        </td>\n",
              "</tr><tr class=\"\">\n",
              "        <td class=\"fillremaining\">2600</td>\n",
              "        <td class=\"number\">6</td>\n",
              "        <td class=\"number\">1.0%</td>\n",
              "        <td>\n",
              "            <div class=\"bar\" style=\"width:2%\">&nbsp;</div>\n",
              "        </td>\n",
              "</tr><tr class=\"\">\n",
              "        <td class=\"fillremaining\">6000</td>\n",
              "        <td class=\"number\">6</td>\n",
              "        <td class=\"number\">1.0%</td>\n",
              "        <td>\n",
              "            <div class=\"bar\" style=\"width:2%\">&nbsp;</div>\n",
              "        </td>\n",
              "</tr><tr class=\"\">\n",
              "        <td class=\"fillremaining\">5000</td>\n",
              "        <td class=\"number\">5</td>\n",
              "        <td class=\"number\">0.8%</td>\n",
              "        <td>\n",
              "            <div class=\"bar\" style=\"width:1%\">&nbsp;</div>\n",
              "        </td>\n",
              "</tr><tr class=\"\">\n",
              "        <td class=\"fillremaining\">4166</td>\n",
              "        <td class=\"number\">5</td>\n",
              "        <td class=\"number\">0.8%</td>\n",
              "        <td>\n",
              "            <div class=\"bar\" style=\"width:1%\">&nbsp;</div>\n",
              "        </td>\n",
              "</tr><tr class=\"\">\n",
              "        <td class=\"fillremaining\">3333</td>\n",
              "        <td class=\"number\">5</td>\n",
              "        <td class=\"number\">0.8%</td>\n",
              "        <td>\n",
              "            <div class=\"bar\" style=\"width:1%\">&nbsp;</div>\n",
              "        </td>\n",
              "</tr><tr class=\"\">\n",
              "        <td class=\"fillremaining\">3750</td>\n",
              "        <td class=\"number\">5</td>\n",
              "        <td class=\"number\">0.8%</td>\n",
              "        <td>\n",
              "            <div class=\"bar\" style=\"width:1%\">&nbsp;</div>\n",
              "        </td>\n",
              "</tr><tr class=\"\">\n",
              "        <td class=\"fillremaining\">2400</td>\n",
              "        <td class=\"number\">4</td>\n",
              "        <td class=\"number\">0.7%</td>\n",
              "        <td>\n",
              "            <div class=\"bar\" style=\"width:1%\">&nbsp;</div>\n",
              "        </td>\n",
              "</tr><tr class=\"\">\n",
              "        <td class=\"fillremaining\">8333</td>\n",
              "        <td class=\"number\">4</td>\n",
              "        <td class=\"number\">0.7%</td>\n",
              "        <td>\n",
              "            <div class=\"bar\" style=\"width:1%\">&nbsp;</div>\n",
              "        </td>\n",
              "</tr><tr class=\"other\">\n",
              "        <td class=\"fillremaining\">Other values (495)</td>\n",
              "        <td class=\"number\">559</td>\n",
              "        <td class=\"number\">91.0%</td>\n",
              "        <td>\n",
              "            <div class=\"bar\" style=\"width:100%\">&nbsp;</div>\n",
              "        </td>\n",
              "</tr>\n",
              "</table>\n",
              "        </div>\n",
              "        <div role=\"tabpanel\" class=\"tab-pane col-md-12\"  id=\"extreme2251320580135673787\">\n",
              "            <p class=\"h4\">Minimum 5 values</p>\n",
              "            \n",
              "<table class=\"freq table table-hover\">\n",
              "    <thead>\n",
              "    <tr>\n",
              "        <td class=\"fillremaining\">Value</td>\n",
              "        <td class=\"number\">Count</td>\n",
              "        <td class=\"number\">Frequency (%)</td>\n",
              "        <td style=\"min-width:200px\">&nbsp;</td>\n",
              "    </tr>\n",
              "    </thead>\n",
              "    <tr class=\"\">\n",
              "        <td class=\"fillremaining\">150</td>\n",
              "        <td class=\"number\">1</td>\n",
              "        <td class=\"number\">0.2%</td>\n",
              "        <td>\n",
              "            <div class=\"bar\" style=\"width:100%\">&nbsp;</div>\n",
              "        </td>\n",
              "</tr><tr class=\"\">\n",
              "        <td class=\"fillremaining\">210</td>\n",
              "        <td class=\"number\">1</td>\n",
              "        <td class=\"number\">0.2%</td>\n",
              "        <td>\n",
              "            <div class=\"bar\" style=\"width:100%\">&nbsp;</div>\n",
              "        </td>\n",
              "</tr><tr class=\"\">\n",
              "        <td class=\"fillremaining\">416</td>\n",
              "        <td class=\"number\">1</td>\n",
              "        <td class=\"number\">0.2%</td>\n",
              "        <td>\n",
              "            <div class=\"bar\" style=\"width:100%\">&nbsp;</div>\n",
              "        </td>\n",
              "</tr><tr class=\"\">\n",
              "        <td class=\"fillremaining\">645</td>\n",
              "        <td class=\"number\">1</td>\n",
              "        <td class=\"number\">0.2%</td>\n",
              "        <td>\n",
              "            <div class=\"bar\" style=\"width:100%\">&nbsp;</div>\n",
              "        </td>\n",
              "</tr><tr class=\"\">\n",
              "        <td class=\"fillremaining\">674</td>\n",
              "        <td class=\"number\">1</td>\n",
              "        <td class=\"number\">0.2%</td>\n",
              "        <td>\n",
              "            <div class=\"bar\" style=\"width:100%\">&nbsp;</div>\n",
              "        </td>\n",
              "</tr>\n",
              "</table>\n",
              "            <p class=\"h4\">Maximum 5 values</p>\n",
              "            \n",
              "<table class=\"freq table table-hover\">\n",
              "    <thead>\n",
              "    <tr>\n",
              "        <td class=\"fillremaining\">Value</td>\n",
              "        <td class=\"number\">Count</td>\n",
              "        <td class=\"number\">Frequency (%)</td>\n",
              "        <td style=\"min-width:200px\">&nbsp;</td>\n",
              "    </tr>\n",
              "    </thead>\n",
              "    <tr class=\"\">\n",
              "        <td class=\"fillremaining\">39147</td>\n",
              "        <td class=\"number\">1</td>\n",
              "        <td class=\"number\">0.2%</td>\n",
              "        <td>\n",
              "            <div class=\"bar\" style=\"width:100%\">&nbsp;</div>\n",
              "        </td>\n",
              "</tr><tr class=\"\">\n",
              "        <td class=\"fillremaining\">39999</td>\n",
              "        <td class=\"number\">1</td>\n",
              "        <td class=\"number\">0.2%</td>\n",
              "        <td>\n",
              "            <div class=\"bar\" style=\"width:100%\">&nbsp;</div>\n",
              "        </td>\n",
              "</tr><tr class=\"\">\n",
              "        <td class=\"fillremaining\">51763</td>\n",
              "        <td class=\"number\">1</td>\n",
              "        <td class=\"number\">0.2%</td>\n",
              "        <td>\n",
              "            <div class=\"bar\" style=\"width:100%\">&nbsp;</div>\n",
              "        </td>\n",
              "</tr><tr class=\"\">\n",
              "        <td class=\"fillremaining\">63337</td>\n",
              "        <td class=\"number\">1</td>\n",
              "        <td class=\"number\">0.2%</td>\n",
              "        <td>\n",
              "            <div class=\"bar\" style=\"width:100%\">&nbsp;</div>\n",
              "        </td>\n",
              "</tr><tr class=\"\">\n",
              "        <td class=\"fillremaining\">81000</td>\n",
              "        <td class=\"number\">1</td>\n",
              "        <td class=\"number\">0.2%</td>\n",
              "        <td>\n",
              "            <div class=\"bar\" style=\"width:100%\">&nbsp;</div>\n",
              "        </td>\n",
              "</tr>\n",
              "</table>\n",
              "        </div>\n",
              "    </div>\n",
              "</div>\n",
              "</div><div class=\"row variablerow\">\n",
              "    <div class=\"col-md-3 namecol\">\n",
              "        <p class=\"h4 pp-anchor\" id=\"pp_var_CoapplicantIncome\">CoapplicantIncome<br/>\n",
              "            <small>Numeric</small>\n",
              "        </p>\n",
              "    </div><div class=\"col-md-6\">\n",
              "    <div class=\"row\">\n",
              "        <div class=\"col-sm-6\">\n",
              "            <table class=\"stats \">\n",
              "                <tr>\n",
              "                    <th>Distinct count</th>\n",
              "                    <td>287</td>\n",
              "                </tr>\n",
              "                <tr>\n",
              "                    <th>Unique (%)</th>\n",
              "                    <td>46.7%</td>\n",
              "                </tr>\n",
              "                <tr class=\"ignore\">\n",
              "                    <th>Missing (%)</th>\n",
              "                    <td>0.0%</td>\n",
              "                </tr>\n",
              "                <tr class=\"ignore\">\n",
              "                    <th>Missing (n)</th>\n",
              "                    <td>0</td>\n",
              "                </tr>\n",
              "                <tr class=\"ignore\">\n",
              "                    <th>Infinite (%)</th>\n",
              "                    <td>0.0%</td>\n",
              "                </tr>\n",
              "                <tr class=\"ignore\">\n",
              "                    <th>Infinite (n)</th>\n",
              "                    <td>0</td>\n",
              "                </tr>\n",
              "            </table>\n",
              "\n",
              "        </div>\n",
              "        <div class=\"col-sm-6\">\n",
              "            <table class=\"stats \">\n",
              "\n",
              "                <tr>\n",
              "                    <th>Mean</th>\n",
              "                    <td>1621.2</td>\n",
              "                </tr>\n",
              "                <tr>\n",
              "                    <th>Minimum</th>\n",
              "                    <td>0</td>\n",
              "                </tr>\n",
              "                <tr>\n",
              "                    <th>Maximum</th>\n",
              "                    <td>41667</td>\n",
              "                </tr>\n",
              "                <tr class=\"alert\">\n",
              "                    <th>Zeros (%)</th>\n",
              "                    <td>44.5%</td>\n",
              "                </tr>\n",
              "            </table>\n",
              "        </div>\n",
              "    </div>\n",
              "</div>\n",
              "<div class=\"col-md-3 collapse in\" id=\"minihistogram-2023023141111309519\">\n",
              "    <img src=\"data:image/png;base64,iVBORw0KGgoAAAANSUhEUgAAAMgAAABLCAYAAAA1fMjoAAAABHNCSVQICAgIfAhkiAAAAAlwSFlzAAAPYQAAD2EBqD%2BnaQAAADl0RVh0U29mdHdhcmUAbWF0cGxvdGxpYiB2ZXJzaW9uIDMuMC4zLCBodHRwOi8vbWF0cGxvdGxpYi5vcmcvnQurowAAAQlJREFUeJzt1cEJAlEQBUEVQzIIc/JsTgaxOY13kQbB5YtU3QfepZnjzMwBeOu0egD8svPqAa8ut8fHN9v9usMS8EEgCQSCQCAIBIJAIAgEgkAgCASCQCAIBIJAIAgEgkAgCASCQCAIBIJAIAgEgkAgCASCQCAIBIJAIAgEgkAgCASCQCAIBIJAIAgEgkAgCASCQCAIBIJAIAgEgkAgCASCQCAIBIJAIAgEwnn1gG%2B43B4f32z36w5L%2BDc%2BCASBQBAIhOPMzOoR8Kt8EAgCgSAQCAKBIBAIAoEgEAgCgSAQCAKBIBAIAoEgEAgCgSAQCAKBIBAIAoEgEAgCgSAQCAKBIBAIAoEgEAhPmysOkXs/W4oAAAAASUVORK5CYII%3D\">\n",
              "\n",
              "</div>\n",
              "<div class=\"col-md-12 text-right\">\n",
              "    <a role=\"button\" data-toggle=\"collapse\" data-target=\"#descriptives-2023023141111309519,#minihistogram-2023023141111309519\"\n",
              "       aria-expanded=\"false\" aria-controls=\"collapseExample\">\n",
              "        Toggle details\n",
              "    </a>\n",
              "</div>\n",
              "<div class=\"row collapse col-md-12\" id=\"descriptives-2023023141111309519\">\n",
              "    <ul class=\"nav nav-tabs\" role=\"tablist\">\n",
              "        <li role=\"presentation\" class=\"active\"><a href=\"#quantiles-2023023141111309519\"\n",
              "                                                  aria-controls=\"quantiles-2023023141111309519\" role=\"tab\"\n",
              "                                                  data-toggle=\"tab\">Statistics</a></li>\n",
              "        <li role=\"presentation\"><a href=\"#histogram-2023023141111309519\" aria-controls=\"histogram-2023023141111309519\"\n",
              "                                   role=\"tab\" data-toggle=\"tab\">Histogram</a></li>\n",
              "        <li role=\"presentation\"><a href=\"#common-2023023141111309519\" aria-controls=\"common-2023023141111309519\"\n",
              "                                   role=\"tab\" data-toggle=\"tab\">Common Values</a></li>\n",
              "        <li role=\"presentation\"><a href=\"#extreme-2023023141111309519\" aria-controls=\"extreme-2023023141111309519\"\n",
              "                                   role=\"tab\" data-toggle=\"tab\">Extreme Values</a></li>\n",
              "\n",
              "    </ul>\n",
              "\n",
              "    <div class=\"tab-content\">\n",
              "        <div role=\"tabpanel\" class=\"tab-pane active row\" id=\"quantiles-2023023141111309519\">\n",
              "            <div class=\"col-md-4 col-md-offset-1\">\n",
              "                <p class=\"h4\">Quantile statistics</p>\n",
              "                <table class=\"stats indent\">\n",
              "                    <tr>\n",
              "                        <th>Minimum</th>\n",
              "                        <td>0</td>\n",
              "                    </tr>\n",
              "                    <tr>\n",
              "                        <th>5-th percentile</th>\n",
              "                        <td>0</td>\n",
              "                    </tr>\n",
              "                    <tr>\n",
              "                        <th>Q1</th>\n",
              "                        <td>0</td>\n",
              "                    </tr>\n",
              "                    <tr>\n",
              "                        <th>Median</th>\n",
              "                        <td>1188.5</td>\n",
              "                    </tr>\n",
              "                    <tr>\n",
              "                        <th>Q3</th>\n",
              "                        <td>2297.2</td>\n",
              "                    </tr>\n",
              "                    <tr>\n",
              "                        <th>95-th percentile</th>\n",
              "                        <td>4997.4</td>\n",
              "                    </tr>\n",
              "                    <tr>\n",
              "                        <th>Maximum</th>\n",
              "                        <td>41667</td>\n",
              "                    </tr>\n",
              "                    <tr>\n",
              "                        <th>Range</th>\n",
              "                        <td>41667</td>\n",
              "                    </tr>\n",
              "                    <tr>\n",
              "                        <th>Interquartile range</th>\n",
              "                        <td>2297.2</td>\n",
              "                    </tr>\n",
              "                </table>\n",
              "            </div>\n",
              "            <div class=\"col-md-4 col-md-offset-2\">\n",
              "                <p class=\"h4\">Descriptive statistics</p>\n",
              "                <table class=\"stats indent\">\n",
              "                    <tr>\n",
              "                        <th>Standard deviation</th>\n",
              "                        <td>2926.2</td>\n",
              "                    </tr>\n",
              "                    <tr>\n",
              "                        <th>Coef of variation</th>\n",
              "                        <td>1.8049</td>\n",
              "                    </tr>\n",
              "                    <tr>\n",
              "                        <th>Kurtosis</th>\n",
              "                        <td>84.956</td>\n",
              "                    </tr>\n",
              "                    <tr>\n",
              "                        <th>Mean</th>\n",
              "                        <td>1621.2</td>\n",
              "                    </tr>\n",
              "                    <tr>\n",
              "                        <th>MAD</th>\n",
              "                        <td>1561.4</td>\n",
              "                    </tr>\n",
              "                    <tr class=\"\">\n",
              "                        <th>Skewness</th>\n",
              "                        <td>7.4915</td>\n",
              "                    </tr>\n",
              "                    <tr>\n",
              "                        <th>Sum</th>\n",
              "                        <td>995440</td>\n",
              "                    </tr>\n",
              "                    <tr>\n",
              "                        <th>Variance</th>\n",
              "                        <td>8562900</td>\n",
              "                    </tr>\n",
              "                    <tr>\n",
              "                        <th>Memory size</th>\n",
              "                        <td>4.9 KiB</td>\n",
              "                    </tr>\n",
              "                </table>\n",
              "            </div>\n",
              "        </div>\n",
              "        <div role=\"tabpanel\" class=\"tab-pane col-md-8 col-md-offset-2\" id=\"histogram-2023023141111309519\">\n",
              "            <img src=\"data:image/png;base64,iVBORw0KGgoAAAANSUhEUgAAAlgAAAGQCAYAAAByNR6YAAAABHNCSVQICAgIfAhkiAAAAAlwSFlzAAAPYQAAD2EBqD%2BnaQAAADl0RVh0U29mdHdhcmUAbWF0cGxvdGxpYiB2ZXJzaW9uIDMuMC4zLCBodHRwOi8vbWF0cGxvdGxpYi5vcmcvnQurowAAIABJREFUeJzt3Xt8VPWd//F3kpFwTUjQ4C6isHINCcg1GNBI1CDSUORiwGWVFQQxyIZCC4IXWBHoA3iwQlwX6gMX1F1jqFWgIPyUS7GN7VZRk3CpIKw0DU2EGQIhQZJ8f3%2BwTB0SSYAvnDPJ6/l48FC%2B3znnfL7zieN7zjkzCTHGGAEAAMCaUKcLAAAAqG8IWAAAAJYRsAAAACwjYAEAAFhGwAIAALCMgAUAAGAZAQsAAMAyAhYAAIBlBCwAAADLCFgAAACWEbAAAAAsI2ABAABYRsACAACwjIAFAABgGQELAADAMgIWAACAZQQsAAAAywhYAAAAlhGwAAAALCNgAQAAWEbAAgAAsIyABQAAYBkBCwAAwDICFgAAgGUELAAAAMsIWAAAAJYRsAAAACwjYAEAAFhGwAIAALCMgAUAAGAZAQsAAMAyAhYAAIBlBCwAAADLCFgAAACWEbAAAAAsI2ABAABYRsACAACwjIAFAABgGQELAADAMo/TBTQUxcWnrO8zNDRE0dHNdOJEqaqqjPX94%2BrRI3ejP%2B5Hj9zP7T266aYWjhyXM1hBLDQ0RCEhIQoNDXG6FPwAeuRu9Mf96JH70aOaEbAAAAAsI2ABAABYRsACAACwjIAFAABgGQELAADAMgIWAACAZQQsAAAAywhYAAAAlhGwAAAALCNgAQAAWEbAAgAAsIyABQAAYBkBCwAAwDKP0wXg6vSZ%2B4HTJdTZlowBTpcAAMB1wRksAAAAywhYAAAAlhGwAAAALCNgAQAAWEbAAgAAsIyABQAAYBkBCwAAwDICFgAAgGUELAAAAMsIWAAAAJYRsAAAACwjYAEAAFhGwAIAALCMgAUAAGAZAQsAAMAyAhYAAIBlBCwAAADLCFgAAACWEbAAAAAsI2ABAABYRsACAACwjIAFAABgGQELAADAMgIWAACAZQQsAAAAywhYAAAAlhGwAAAALCNgAQAAWFZvA1bnzp0VFxen%2BPh4/58XX3xRkpSTk6NRo0apV69eGjp0qDZs2BCw7bp16zR48GD16tVLY8eOVV5enhNLAAAAQcrjdAHX0gcffKBbbrklYKyoqEhPPfWU5s6dq9TUVH366aeaMmWK2rdvr/j4eG3fvl0rV67Ua6%2B9ps6dO2vdunV68skntW3bNjVt2tShlQAAgGBSb89g/ZCNGzeqXbt2GjVqlMLDw5WYmKjk5GRlZ2dLkrKysjRixAj16NFDjRs31sSJEyVJO3bscLJsAAAQROr1Gaxly5Zpz549On36tIYMGaLZs2crPz9fsbGxAY%2BLjY3Vli1bJEn5%2Bfl68MEH/XOhoaHq2rWrcnNzNXTo0Dodt6ioSMXFxQFjHk9TxcTEXOWKAoWFBVc%2B9niCq14bLvQo2HrVUNAf96NH7kePalZvA9Ydd9yhxMRE/fznP9fRo0eVkZGh%2BfPny%2BfzqXXr1gGPbdmypbxeryTJ5/MpMjIyYD4yMtI/XxdZWVnKzMwMGEtPT9e0adOucDX1Q1RUM6dLcExERBOnS8Al0B/3o0fuR48C1duAlZWV5f/322%2B/XTNnztSUKVPUu3fvWrc1xlzVsdPS0pScnBww5vE0lddbelX7vViwvVuwvf5gEBYWqoiIJiopKVNlZZXT5eAi9Mf96JH7ub1HTr25r7cB62K33HKLKisrFRoaKp/PFzDn9XoVHR0tSYqKiqo27/P51LFjxzofKyYmptrlwOLiU6qocN8P3vXUkNdfWVnVoNfvdvTH/eiR%2B9GjQMF1CqSO9u7dq8WLFweMHTp0SI0aNVJSUlK1r13Iy8tTjx49JElxcXHKz8/3z1VWVmrv3r3%2BeQAAgNrUy4DVqlUrZWVlafXq1fruu%2B90%2BPBhvfzyy0pLS9OPf/xjFRQUKDs7W2fPntWuXbu0a9cuPfzww5KksWPH6r333tPnn3%2BusrIyvfrqq2rUqJHuueceZxcFAACCRr28RNi6dWutXr1ay5Yt8wekhx56SNOnT1d4eLhWrVqlBQsWaP78%2BWrTpo2WLFmiLl26SJLuvvtu/eQnP1FGRoaOHz%2Bu%2BPh4rV69Wo0bN3Z4VQAAIFiEmKu9oxt1Ulx8yvo%2BPZ5Q3b90t/X9XitbMgY4XcJ15/GEKiqqmbzeUu5NcCH64370yP3c3qObbmrhyHHr5SVCAAAAJxGwAAAALCNgAQAAWEbAAgAAsIyABQAAYBkBCwAAwDICFgAAgGUELAAAAMsIWAAAAJYRsAAAACwjYAEAAFhGwAIAALCMgAUAAGAZAQsAAMAyAhYAAIBlBCwAAADLCFgAAACWEbAAAAAsI2ABAABYRsACAACwjIAFAABgGQELAADAMgIWAACAZQQsAAAAywhYAAAAlhGwAAAALCNgAQAAWEbAAgAAsIyABQAAYBkBCwAAwDICFgAAgGUELAAAAMsIWAAAAJYRsAAAACwjYAEAAFhGwAIAALCMgAUAAGAZAQsAAMAyAhYAAIBlBCwAAADLCFgAAACWEbAAAAAsI2ABAABYVu8D1sKFC9W5c%2BeAsZycHI0aNUq9evXS0KFDtWHDBoeqAwAA9ZHH6QKupX379un9998PGCsqKtJTTz2luXPnKjU1VZ9%2B%2BqmmTJmi9u3bKz4%2B3qFKAQBAfVJvz2BVVVXphRde0Pjx4wPGN27cqHbt2mnUqFEKDw9XYmKikpOTlZ2d7UyhAACg3qm3Aevtt99WeHi4UlNTA8bz8/MVGxsbMBYbG6u8vLzrWR4AAKjH6uUlwm%2B//VYrV67UG2%2B8UW3O5/OpdevWAWMtW7aU1%2Bu1dvyioiIVFxcHjHk8TRUTE2PtGJIUFhZc%2BdjjCa56bbjQo2DrVUNBf9yPHrkfPapZvQxYixYt0ogRI9ShQwf9%2Bc9/vu7Hz8rKUmZmZsBYenq6pk2bdt1rcZOoqGZOl%2BCYiIgmTpeAS6A/7keP3I8eBap3ASsnJ0d79uzRpk2bapyPioqSz%2BcLGPN6vYqOjrZWQ1pampKTkwPGPJ6m8npLrR1DCr53C7bXHwzCwkIVEdFEJSVlqqyscrocXIT%2BuB89cj%2B398ipN/f1LmBt2LBBx48f16BBgyRJxhhJUkJCgp5//nnFx8frl7/8ZcA2eXl56tGjh7UaYmJiql0OLC4%2BpYoK9/3gXU8Nef2VlVUNev1uR3/cjx65Hz0KVO8C1uzZs/Uv//Iv/r8fO3ZMaWlpev/99xUZGakzZ85oxYoVys7O1rBhw/TJJ59o165dysrKcrBqAABQn9S7gBUZGanIyEj/3ysqKiRJN998sySpSZMmWrVqlRYsWKD58%2BerTZs2WrJkibp06eJIvQAAoP6pdwHrYrfccosOHDgQMNa3b99qX0AKAABgS3DdJQ0AABAECFgAAACWEbAAAAAsI2ABAABYRsACAACwjIAFAABgGQELAADAMgIWAACAZQQsAAAAywhYAAAAlhGwAAAALCNgAQAAWEbAAgAAsIyABQAAYBkBCwAAwDICFgAAgGUELAAAAMsIWAAAAJa5LmAlJycrMzNThYWFTpcCAABwRVwXsEaOHKnNmzfrvvvu08SJE7Vt2zZVVFQ4XRYAAECduS5gpaena/PmzXrnnXfUsWNHLVy4UElJSVqyZIkOHz7sdHkAAAC1cl3AuqBbt26aNWuWduzYoTlz5uidd97Rgw8%2BqAkTJujLL790ujwAAIAf5NqAde7cOW3evFlPPPGEZs2apdatW%2BuZZ55R165dNX78eG3cuNHpEgEAAGrkcbqAix06dEjr16/Xe%2B%2B9p9LSUg0ePFhr165V7969/Y/p27ev5s2bp9TUVAcrBQAAqJnrAtbQoUPVvn17TZ48WcOHD1fLli2rPSYpKUknTpxwoDoAAIDauS5grVu3Tv369av1cV988cV1qAYAAODyue4erM6dO%2BvJJ5/Uhx9%2B6B/7z//8Tz3xxBPy%2BXwOVgYAAFA3rgtYixYt0qlTp9ShQwf/2D333KOqqiotXrzYwcoAAADqxnWXCD/%2B%2BGNt3LhRUVFR/rF27dpp6dKl%2BtGPfuRgZQAAAHXjujNY5eXlCg8PrzYeGhqqsrIyByoCAAC4PK4LWH379tXixYt18uRJ/9hf//pXzZ8/P%2BCrGgAAANzKdZcI58yZo8cff1x33nmnmjdvrqqqKpWWlqpt27Z64403nC4PAACgVq4LWG3bttWvf/1r/eY3v9E333yj0NBQtW/fXgMHDlRYWJjT5QEAANTKdQFLkho1aqT77rvP6TIAAACuiOsC1tGjR7Vs2TJ99dVXKi8vrzb/0UcfOVAVAABA3bkuYM2ZM0dFRUUaOHCgmjZt6nQ5AAAAl811ASsvL08fffSRoqOjnS4FAADgirjuaxpatWrFmSsAABDUXBewJk%2BerMzMTBljnC4FAADgirjuEuFvfvMbffbZZ3r33Xd1yy23KDQ0MAO%2B/fbbDlUGAABQN64LWM2bN9fdd9/tdBkAAABXzHUBa9GiRU6XAAAAcFVcdw%2BWJH399ddauXKlnnnmGf/Ynj17HKwIAACg7lwXsHJycjRs2DBt27ZNmzZtknT%2By0cfffRRvmQUAAAEBdcFrOXLl%2BunP/2pNm7cqJCQEEnnfz/h4sWL9corr9RpH/v379djjz2m3r17KzExURkZGSouLvbP5%2BTkaNSoUerVq5eGDh2qDRs2XJO1AACAhsl1AetPf/qTxo4dK0n%2BgCVJDzzwgA4dOlTr9t99950ef/xx9evXTzk5Odq0aZOOHz%2BuefPmSZKKior01FNPacyYMcrJydHcuXP13HPPKTc395qsBwAANDyuC1gtWrSo8XcQFhUVqVGjRrVuX1ZWpunTp2vy5Mlq1KiRoqOjdf/99%2Burr76SJG3cuFHt2rXTqFGjFB4ersTERCUnJys7O9v6WgAAQMPkuk8R9urVSwsXLtSzzz7rHzt8%2BLBeeOEF3XnnnbVuHxkZqdGjR/v//vXXX%2BtXv/qVhgwZIknKz89XbGxswDaxsbHasmWLpRWcD4PfvyQpSR5PU8XExFg7hiSFhbkuH1%2BSxxNc9dpwoUfB1quGgv64Hz1yP3pUM9cFrGeeeUaPPfaYEhISVFlZqV69eqmsrEwdO3bU4sWL67yfgoICDR48WBUVFXr44Yc1bdo0SZLP51Pr1q0DHtuyZUt5vV5ra8jKylJmZmbAWHp6ur%2BGhioqqpnTJTgmIqKJ0yXgEuiP%2B9Ej96NHgVwXsG6%2B%2BWZt2rRJu3bt0uHDh9W4cWO1b99eAwYMCLgnqzZt2rRRbm6u/vd//1fPP/%2B8fvazn2nZsmXXsPK/SUtLU3JycsCYx9NUXm%2Bp1eME27sF2%2BsPBmFhoYqIaKKSkjJVVlY5XQ4uQn/cjx65n9t75NSbe9cFLEm64YYbdN999131fkJCQtSuXTtNnz5dY8aM0dy5cxUVFSWfzxfwOK/Xq%2Bjo6Ks%2B3gUxMTHVLgcWF59SRYX7fvCup4a8/srKqga9frejP%2B5Hj9yPHgVyXcBKTk6%2B5Jmq2r4LKycnR/PmzdOWLVv8v8fwwj9vuOEGxcfH65e//GXANnl5eerRo8dVVg4AAHCe6wLWgw8%2BGBCwKisrdfjwYeXm5uqxxx6rdfu4uDidPn1aS5Ys0bRp01RWVqaVK1eqT58%2BatGihVJTU7VixQplZ2dr2LBh%2BuSTT7Rr1y5lZWVdy2UBAIAGxHUBa%2BbMmTWOb926Vb///e9r3b5FixZas2aNFixYoP79%2B6tp06bq37%2B/XnrpJUlSq1attGrVKi1YsEDz589XmzZttGTJEnXp0sXqOgAAQMMVYowxThdRF5WVlUpMTKxTyHKj4uJT1vfp8YTq/qW7re/3WtmSMcDpEq47jydUUVHN5PWWcm%2BCC9Ef96NH7uf2Ht10UwtHjhs0H0Pbu3evgiQLAgCABs51lwjHjBlTbaysrEyHDh1SSkqKAxUBAABcHtcFrHbt2lX7FGF4eLhGjRoV8A3tAAAAbuW6gHU539YOAADgRq4LWO%2B9916dHzt8%2BPBrWAkAAMCVcV3Amjt3rqqqqqrd0B4SEhIwFhISQsACAACu5LqA9dprr2nNmjV68skn1blzZxljdODAAf3iF7/QuHHjlJCQ4HSJAAAAl%2BS6gLV48WKtXr1arVu39o/16dNHbdu21YQJE7Rp0yYHqwMAAKid674H68iRI4qMjKw2HhERoYKCAgcqAgAAuDyuC1ht2rTR4sWL5fV6/WMlJSVatmyZbr31VgcrAwAAqBvXXSKcM2eOZsyYoaysLDVr1kyhoaE6ffq0GjdurFdeecXp8gAAAGrluoA1cOBA7dy5U7t27dKxY8dkjFHr1q111113qUULZ36fEAAAwOVwXcCSpCZNmujee%2B/VsWPH1LZtW6fLAQAAuCyuuwervLxcs2bNUs%2BePTVkyBBJ5%2B/BmjhxokpKShyuDgAAoHauC1hLlizRvn37tHTpUoWG/q28yspKLV261MHKAAAA6sZ1AWvr1q1asWKFHnjgAf8vfY6IiNCiRYu0bds2h6sDAAConesCVmlpqdq1a1dtPDo6WmfOnLn%2BBQEAAFwm1wWsW2%2B9Vb///e8lKeB3D37wwQf6%2B7//e6fKAgAAqDPXfYrwkUce0dNPP62RI0eqqqpKr7/%2BuvLy8rR161bNnTvX6fIAAABq5bqAlZaWJo/HozfffFNhYWH6j//4D7Vv315Lly7VAw884HR5AAAAtXJdwDpx4oRGjhypkSNHOl0KAADAFXHdPVj33ntvwL1XAAAAwcZ1ASshIUFbtmxxugwAAIAr5rpLhH/3d3%2Bnl156SatXr9att96qG264IWB%2B2bJlDlUGAABQN64LWAcPHtQ//MM/SJK8Xq/D1QAAAFw%2B1wSs6dOna/ny5XrjjTf8Y6%2B88orS09MdrAoAAODyueYerO3bt1cbW716tQOVAAAAXB3XBKyaPjnIpwkBAEAwck3AuvCLnWsbAwAAcDvXBCwAAID6goAFAABgmWs%2BRXju3DnNmDGj1jG%2BBwsAALidawJW7969VVRUVOsYAACA27kmYH3/%2B68AAACCGfdgAQAAWEbAAgAAsIyABQAAYBkBCwAAwDICFgAAgGUELAAAAMsIWAAAAJYRsAAAACwjYAEAAFhWbwNWQUGB0tPTlZCQoMTERM2ePVslJSWSpH379mncuHHq3bu3UlJStGbNmoBtN2/erNTUVPXs2VMjRozQxx9/7MQSAABAkKq3AevJJ59URESEtm/frnfffVdfffWVfv7zn6u8vFyTJ09W//79tXv3bi1fvlyrVq3Stm3bJJ0PX7NmzdLMmTP1ySefaPz48Zo6daqOHTvm8IoAAECwqJcBq6SkRHFxcZoxY4aaNWumm2%2B%2BWQ899JD%2B%2BMc/aufOnTp37pymTJmipk2bqlu3bho9erSysrIkSdnZ2UpKSlJSUpLCw8M1bNgwderUSRs2bHB4VQAAIFi45pc92xQREaFFixYFjBUWFiomJkb5%2Bfnq3LmzwsLC/HOxsbHKzs6WJOXn5yspKSlg29jYWOXm5tb5%2BEVFRSouLg4Y83iaKiYm5nKXcklhYcGVjz2e4KrXhgs9CrZeNRT0x/3okfvRo5rVy4B1sdzcXL355pt69dVXtWXLFkVERATMt2zZUj6fT1VVVfL5fIqMjAyYj4yM1MGDB%2Bt8vKysLGVmZgaMpaena9q0aVe%2BiHogKqqZ0yU4JiKiidMl4BLoj/vRI/ejR4HqfcD69NNPNWXKFM2YMUOJiYnasmVLjY8LCQnx/7sx5qqOmZaWpuTk5IAxj6epvN7Sq9rvxYLt3YLt9QeDsLBQRUQ0UUlJmSorq5wuBxehP%2B5Hj9zP7T1y6s19vQ5Y27dv109/%2BlM999xzGj58uCQpOjpaR44cCXicz%2BdTy5YtFRoaqqioKPl8vmrz0dHRdT5uTExMtcuBxcWnVFHhvh%2B866khr7%2BysqpBr9/t6I/70SP3o0eBgusUyGX47LPPNGvWLL388sv%2BcCVJcXFxOnDggCoqKvxjubm56tGjh38%2BLy8vYF/fnwcAAKhNvQxYFRUVevbZZzVz5kwNHDgwYC4pKUnNmzfXq6%2B%2BqrKyMn3xxRdav369xo4dK0l6%2BOGH9bvf/U47d%2B7U2bNntX79eh05ckTDhg1zYikAACAIhZirveHIhf74xz/qH//xH9WoUaNqcx988IFKS0v1wgsvKC8vTzfeeKOeeOIJPfLII/7HbNu2TcuWLVNBQYE6dOiguXPnqm/fvldVU3HxqavaviYeT6juX7rb%2Bn6vlS0ZA5wu4brzeEIVFdVMXm8pp85diP64Hz1yP7f36KabWjhy3Hp5D1afPn104MCBSz7mv//7v39wLiUlRSkpKbbLAgAADUS9vEQIAADgJAIWAACAZQQsAAAAywhYAAAAlhGwAAAALCNgAQAAWEbAAgAAsIyABQAAYBkBCwAAwDICFgAAgGUELAAAAMsIWAAAAJYRsAAAACwjYAEAAFhGwAIAALCMgAUAAGAZAQsAAMAyAhYAAIBlBCwAAADLCFgAAACWEbAAAAAsI2ABAABYRsACAACwjIAFAABgGQELAADAMgIWAACAZQQsAAAAywhYAAAAlhGwAAAALCNgAQAAWEbAAgAAsIyABQAAYBkBCwAAwDICFgAAgGUELAAAAMsIWAAAAJYRsAAAACwjYAEAAFhGwAIAALCMgAUAAGAZAQsAAMAyAhYAAIBlBCwAAADL6m3A2r17txITEzV9%2BvRqc5s3b1Zqaqp69uypESNG6OOPP/bPVVVVafny5br33nvVt29fTZgwQUePHr2epQMAgCBXLwPWL37xCy1YsEC33XZbtbl9%2B/Zp1qxZmjlzpj755BONHz9eU6dO1bFjxyRJb731ljZu3KjVq1drx44dateundLT02WMud7LAAAAQapeBqzw8HCtX7%2B%2BxoCVnZ2tpKQkJSUlKTw8XMOGDVOnTp20YcMGSVJWVpbGjx%2Bv22%2B/Xc2bN9f06dN16NAhffHFF9d7GQAAIEjVy4D16KOPqkWLFjXO5efnKzY2NmAsNjZWubm5Ki8v18GDBwPmmzdvrttuu025ubnXtGYAAFB/eJwu4Hrz%2BXyKjIwMGIuMjNTBgwd18uRJGWNqnPd6vXU%2BRlFRkYqLiwPGPJ6miomJufLCaxAWFlz52OMJrnptuNCjYOtVQ0F/3I8euR89qlmDC1iSar2f6mrvt8rKylJmZmbAWHp6uqZNm3ZV%2Bw12UVHNnC7BMRERTZwuAZdAf9yPHrkfPQrU4AJWVFSUfD5fwJjP51N0dLRatmyp0NDQGudbtWpV52OkpaUpOTk5YMzjaSqvt/TKC69BsL1bsL3%2BYBAWFqqIiCYqKSlTZWWV0%2BXgIvTH/eiR%2B7m9R069uW9wASsuLk55eXkBY7m5uRo6dKjCw8PVsWNH5efnq1%2B/fpKkkpISffPNN%2BrevXudjxETE1PtcmBx8SlVVLjvB%2B96asjrr6ysatDrdzv64370yP3oUaDgOgViwcMPP6zf/e532rlzp86ePav169fryJEjGjZsmCRp7NixWrdunQ4dOqTTp09r6dKl6tq1q%2BLj4x2uHAAABIt6eQbrQhiqqKiQJH344YeSzp%2Bp6tSpk5YuXapFixapoKBAHTp00KpVq3TTTTdJksaMGaPi4mL90z/9k0pLS5WQkFDtfioAAIBLCTF8g%2BZ1UVx8yvo%2BPZ5Q3b90t/X9XitbMgY4XcJ15/GEKiqqmbzeUk6duxD9cT965H5u79FNN9X8tU3XWoO7RAgAAHCtEbAAAAAsI2ABAABYRsACAACwjIAFAABgGQELAADAMgIWAACAZQQsAAAAywhYAAAAlhGwAAAALCNgAQAAWEbAAgAAsIyABQAAYBkBCwAAwDICFgAAgGUELAAAAMsIWAAAAJYRsAAAACwjYAEAAFhGwAIAALCMgAUAAGAZAQsAAMAyAhYAAIBlHqcLQMMx5N9%2B63QJl2VLxgCnSwAABCnOYAEAAFhGwAIAALCMgAUAAGAZAQsAAMAyAhYAAIBlBCwAAADLCFgAAACWEbAAAAAsI2ABAABYRsACAACwjIAFAABgGQELAADAMgIWAACAZQQsAAAAywhYAAAAlhGwAAAALCNgAQAAWEbAAgAAsIyABQAAYBkBCwAAwDICVg0KCgo0adIkJSQkaNCgQVqyZImqqqqcLgsAAAQJj9MFuNHTTz%2Btbt266cMPP9Tx48c1efJk3Xjjjfrnf/5np0sDAABBgIB1kdzcXO3fv1%2Bvv/66WrRooRYtWmj8%2BPFau3YtAauBGfJvv3W6hMuyJWOA0yUAAP4PAesi%2Bfn5atOmjSIjI/1j3bp10%2BHDh3X69Gk1b9681n0UFRWpuLg4YMzjaaqYmBirtYaFcYUXf%2BPxBM/Pw/1LdztdwmX5fzPvcrqEBuvC65xbXu%2BC7Wc3mNS3/84IWBfx%2BXyKiIgIGLsQtrxeb50CVlZWljIzMwPGpk6dqqefftpeoTof5B67%2BSulpaVZD2%2Bwo6ioSFlZWfToIn986QGnS5BEf4JBUVGR1q59zTU9csvPrpvw31HN3PGWwGWMMVe1fVpamt59992AP2lpaZaq%2B5vi4mJlZmZWO1sG96BH7kZ/3I8euR89qhlnsC4SHR0tn88XMObz%2BRQSEqLo6Og67SMmJoYUDwBAA8YZrIvExcWpsLBQJ06c8I/l5uaqQ4cOatasmYOVAQCAYEHAukhsbKzi4%2BO1bNkynT59WocOHdLrr7%2BusWPHOl0aAAAIEmHz5s2b53QRbnPXXXdp06ZNevHFF/XrX/9ao0aN0oQJExQSEuJ0adU0a9ZM/fr14%2Byai9Ejd6M/7keP3I8eVRdirvaObgAAAATgEiEAAIBlBCwAAADLCFgAAACWEbAAAAAsI2ABAABYRsACAACwjIAFAABgGQELAADAMgIWAACAZQSsIFRQUKBJkyYpISFBgwYN0pIlS1RVVeV0WfXO7t27lZiYqOnTp1eb27x5s1JTU9WzZ0/58kFBAAAJF0lEQVSNGDFCH3/8sX%2BuqqpKy5cv17333qu%2BfftqwoQJOnr0qH/e5/MpIyNDiYmJGjhwoObOnavy8nL//L59%2BzRu3Dj17t1bKSkpWrNmzbVdaBArKChQenq6EhISlJiYqNmzZ6ukpERS7c/jtewhztu/f78ee%2Bwx9e7dW4mJicrIyFBxcbEkKScnR6NGjVKvXr00dOhQbdiwIWDbdevWafDgwerVq5fGjh2rvLw8/9zZs2f1/PPP6%2B6771ZCQoKmTZsmr9frn%2Bc18sosXLhQnTt39v%2BdHl0lg6Dz0EMPmWeffdaUlJSYw4cPm5SUFLNmzRqny6pXVq9ebVJSUsyYMWNMRkZGwNzevXtNXFyc2blzpykvLzfvv/%2B%2B6dGjhyksLDTGGLNu3TozaNAgc/DgQXPq1Cnzr//6ryY1NdVUVVUZY4yZOnWqmTRpkjl%2B/Lg5duyYSUtLMy%2B%2B%2BKIxxpiysjJz1113mZUrV5rS0lKTl5dn%2BvXrZ7Zu3Xp9n4Ag8aMf/cjMnj3bnD592hQWFpoRI0aYOXPm1Po8Xsse4ryzZ8%2BaO%2B%2B802RmZpqzZ8%2Ba48ePm3HjxpmnnnrK/PWvfzV33HGHyc7ONuXl5ea3v/2t6d69u/nyyy%2BNMcZ89NFHpk%2BfPubzzz83ZWVlZtWqVWbAgAGmtLTUGGPMokWLzIgRI8xf/vIX4/V6zdSpU83kyZP9x%2BY18vLt3bvX9OvXz3Tq1MkYY%2BiRBQSsIPPll1%2Barl27Gp/P5x/7r//6LzN48GAHq6p/1q5da0pKSsysWbOqBaz58%2Beb9PT0gLHRo0ebVatWGWOMGTp0qFm7dq1/7tSpUyY2Ntbs2bPHFBcXmy5duph9%2B/b553ft2mXuuOMO891335ktW7aY/v37m4qKCv/8kiVLzOOPP34tlhnUTp48aWbPnm2Ki4v9Y2%2B88YZJSUmp9Xm8lj3EeT6fz7zzzjvm3Llz/rG1a9ea%2B%2B%2B/37z22mtm%2BPDhAY/PyMgwzz33nDHGmEmTJpmFCxf65yorK82AAQPMpk2bzLlz50zv3r3Nhx9%2B6J8/ePCg6dy5szl27BivkVegsrLSjB492vz7v/%2B7P2DRo6vHJcIgk5%2BfrzZt2igyMtI/1q1bNx0%2BfFinT592sLL65dFHH1WLFi1qnMvPz1dsbGzAWGxsrHJzc1VeXq6DBw8GzDdv3ly33XabcnNztW/fPoWFhQWchu/WrZvOnDmjr7/%2BWvn5%2BercubPCwsIC9v39U%2B84LyIiQosWLdKNN97oHyssLFRMTEytz%2BO17CHOi4yM1OjRo%2BXxeCRJX3/9tX71q19pyJAhP/j8/1B/QkND1bVrV%2BXm5uqbb77RqVOn1K1bN//87bffrsaNGys/P5/XyCvw9ttvKzw8XKmpqf4xenT1CFhBxufzKSIiImDswg/p969v49rx%2BXwBLwzS%2BR54vV6dPHlSxpgfnPf5fGrevLlCQkIC5iT55y/ub8uWLeXz%2Berf/QmW5ebm6s0339SUKVNqfR6vZQ8RqKCgQHFxcXrwwQcVHx%2BvadOm/WB/Ljx/l%2BqPz%2BeTpGrbR0RE/OB/Q/Tnh3377bdauXKlXnjhhYBxenT1CFhByBjjdAkNXm09uNT8lfTv%2B/8zR3WffvqpJkyYoBkzZigxMfEHH/f95/F697ChatOmjXJzc/XBBx/oyJEj%2BtnPflan7ejP9bFo0SKNGDFCHTp0uOxt6dGlEbCCTHR0tP/dwQU%2Bn08hISGKjo52qKqGJSoqqsYeREdHq2XLlgoNDa1xvlWrVoqOjtbp06dVWVkZMCfJP3/xOzifz%2BffL6rbvn27Jk2apDlz5ujRRx%2BVpFqfx2vZQ1QXEhKidu3aafr06dq0aZM8Hk%2B159fr9fpfwy7VnwuPuXj%2B5MmT/v7wGlk3OTk52rNnj9LT06vN1dQDenR5eMUOMnFxcSosLNSJEyf8Y7m5uerQoYOaNWvmYGUNR1xcXLV7onJzc9WjRw%2BFh4erY8eOys/P98%2BVlJTom2%2B%2BUffu3dW1a1cZY7R///6AbSMiItS%2BfXvFxcXpwIEDqqioqLZvVPfZZ59p1qxZevnllzV8%2BHD/eG3P47XsIc7LycnR4MGDAy5tX3iT0L1792rPf15eXkB/vv/8V1ZWau/everRo4fatm2ryMjIgPk//elP%2Bu677xQXF8dr5GXYsGGDjh8/rkGDBikhIUEjRoyQJCUkJKhTp0706Gpd99vqcdVGjx5t5syZY06dOmUOHjxokpOTzZtvvul0WfVSTZ8iPHDggImPjzc7duww5eXlJjs72/Ts2dMUFRUZY85/Guaee%2B7xf8T/ueeeMyNHjvRvn5GRYSZOnGiOHz9uCgsLzciRI83ixYuNMec/2j5o0CCzYsUKc%2BbMGfP555%2BbPn36mB07dly3NQeLc%2BfOmSFDhpi333672lxtz%2BO17CHOKykpMYmJiWbx4sXmzJkz5vjx42bChAnmkUceMd9%2B%2B63p2bOneeedd0x5ebnZuXOn6d69u/%2BTmbt27TK9e/c2e/bsMWfOnDErV640SUlJpqyszBhz/hOhDz30kPnLX/5iTpw4YSZPnmyefvpp/7F5jawbn89nCgsL/X/27NljOnXqZAoLC01BQQE9ukoErCBUWFhoJk6caLp3724SExPNihUr/N/PAzvi4uJMXFyc6dKli%2BnSpYv/7xds3brVpKSkmG7dupkf//jH5g9/%2BIN/rqqqyrz88svmzjvvNN27dzdPPPGE//uVjDn/P57p06ebO%2B64w/Tt29fMnz/fnD171j9/4MABM2bMGBMXF2fuuece89Zbb12fRQeZ//mf/zGdOnXy9%2Bb7f/785z/X%2Bjxeyx7ivP3795tx48aZ7t27m/79%2B5uMjAxz7NgxY4wxf/jDH8ywYcNMt27dTEpKSrXvenvrrbdMUlKSiYuLM2PHjjUHDhzwz509e9bMmzfP9O3b1/Ts2dP85Cc/MSUlJf55XiOvzNGjR/1f02AMPbpaIcY0gDvNAAAAriPuwQIAALCMgAUAAGAZAQsAAMAyAhYAAIBlBCwAAADLCFgAAACWEbAAAAAsI2ABAABYRsACAACwjIAFAABgGQELAADAMgIWAACAZQQsAAAAy/4/oaibLvsP4ZYAAAAASUVORK5CYII%3D\"/>\n",
              "        </div>\n",
              "        <div role=\"tabpanel\" class=\"tab-pane col-md-12\" id=\"common-2023023141111309519\">\n",
              "            \n",
              "<table class=\"freq table table-hover\">\n",
              "    <thead>\n",
              "    <tr>\n",
              "        <td class=\"fillremaining\">Value</td>\n",
              "        <td class=\"number\">Count</td>\n",
              "        <td class=\"number\">Frequency (%)</td>\n",
              "        <td style=\"min-width:200px\">&nbsp;</td>\n",
              "    </tr>\n",
              "    </thead>\n",
              "    <tr class=\"\">\n",
              "        <td class=\"fillremaining\">0.0</td>\n",
              "        <td class=\"number\">273</td>\n",
              "        <td class=\"number\">44.5%</td>\n",
              "        <td>\n",
              "            <div class=\"bar\" style=\"width:88%\">&nbsp;</div>\n",
              "        </td>\n",
              "</tr><tr class=\"\">\n",
              "        <td class=\"fillremaining\">1666.0</td>\n",
              "        <td class=\"number\">5</td>\n",
              "        <td class=\"number\">0.8%</td>\n",
              "        <td>\n",
              "            <div class=\"bar\" style=\"width:2%\">&nbsp;</div>\n",
              "        </td>\n",
              "</tr><tr class=\"\">\n",
              "        <td class=\"fillremaining\">2083.0</td>\n",
              "        <td class=\"number\">5</td>\n",
              "        <td class=\"number\">0.8%</td>\n",
              "        <td>\n",
              "            <div class=\"bar\" style=\"width:2%\">&nbsp;</div>\n",
              "        </td>\n",
              "</tr><tr class=\"\">\n",
              "        <td class=\"fillremaining\">2500.0</td>\n",
              "        <td class=\"number\">5</td>\n",
              "        <td class=\"number\">0.8%</td>\n",
              "        <td>\n",
              "            <div class=\"bar\" style=\"width:2%\">&nbsp;</div>\n",
              "        </td>\n",
              "</tr><tr class=\"\">\n",
              "        <td class=\"fillremaining\">1750.0</td>\n",
              "        <td class=\"number\">3</td>\n",
              "        <td class=\"number\">0.5%</td>\n",
              "        <td>\n",
              "            <div class=\"bar\" style=\"width:1%\">&nbsp;</div>\n",
              "        </td>\n",
              "</tr><tr class=\"\">\n",
              "        <td class=\"fillremaining\">1459.0</td>\n",
              "        <td class=\"number\">3</td>\n",
              "        <td class=\"number\">0.5%</td>\n",
              "        <td>\n",
              "            <div class=\"bar\" style=\"width:1%\">&nbsp;</div>\n",
              "        </td>\n",
              "</tr><tr class=\"\">\n",
              "        <td class=\"fillremaining\">2333.0</td>\n",
              "        <td class=\"number\">3</td>\n",
              "        <td class=\"number\">0.5%</td>\n",
              "        <td>\n",
              "            <div class=\"bar\" style=\"width:1%\">&nbsp;</div>\n",
              "        </td>\n",
              "</tr><tr class=\"\">\n",
              "        <td class=\"fillremaining\">1800.0</td>\n",
              "        <td class=\"number\">3</td>\n",
              "        <td class=\"number\">0.5%</td>\n",
              "        <td>\n",
              "            <div class=\"bar\" style=\"width:1%\">&nbsp;</div>\n",
              "        </td>\n",
              "</tr><tr class=\"\">\n",
              "        <td class=\"fillremaining\">1625.0</td>\n",
              "        <td class=\"number\">3</td>\n",
              "        <td class=\"number\">0.5%</td>\n",
              "        <td>\n",
              "            <div class=\"bar\" style=\"width:1%\">&nbsp;</div>\n",
              "        </td>\n",
              "</tr><tr class=\"\">\n",
              "        <td class=\"fillremaining\">2250.0</td>\n",
              "        <td class=\"number\">3</td>\n",
              "        <td class=\"number\">0.5%</td>\n",
              "        <td>\n",
              "            <div class=\"bar\" style=\"width:1%\">&nbsp;</div>\n",
              "        </td>\n",
              "</tr><tr class=\"other\">\n",
              "        <td class=\"fillremaining\">Other values (277)</td>\n",
              "        <td class=\"number\">308</td>\n",
              "        <td class=\"number\">50.2%</td>\n",
              "        <td>\n",
              "            <div class=\"bar\" style=\"width:100%\">&nbsp;</div>\n",
              "        </td>\n",
              "</tr>\n",
              "</table>\n",
              "        </div>\n",
              "        <div role=\"tabpanel\" class=\"tab-pane col-md-12\"  id=\"extreme-2023023141111309519\">\n",
              "            <p class=\"h4\">Minimum 5 values</p>\n",
              "            \n",
              "<table class=\"freq table table-hover\">\n",
              "    <thead>\n",
              "    <tr>\n",
              "        <td class=\"fillremaining\">Value</td>\n",
              "        <td class=\"number\">Count</td>\n",
              "        <td class=\"number\">Frequency (%)</td>\n",
              "        <td style=\"min-width:200px\">&nbsp;</td>\n",
              "    </tr>\n",
              "    </thead>\n",
              "    <tr class=\"\">\n",
              "        <td class=\"fillremaining\">0.0</td>\n",
              "        <td class=\"number\">273</td>\n",
              "        <td class=\"number\">44.5%</td>\n",
              "        <td>\n",
              "            <div class=\"bar\" style=\"width:100%\">&nbsp;</div>\n",
              "        </td>\n",
              "</tr><tr class=\"\">\n",
              "        <td class=\"fillremaining\">16.12000084</td>\n",
              "        <td class=\"number\">1</td>\n",
              "        <td class=\"number\">0.2%</td>\n",
              "        <td>\n",
              "            <div class=\"bar\" style=\"width:1%\">&nbsp;</div>\n",
              "        </td>\n",
              "</tr><tr class=\"\">\n",
              "        <td class=\"fillremaining\">189.0</td>\n",
              "        <td class=\"number\">1</td>\n",
              "        <td class=\"number\">0.2%</td>\n",
              "        <td>\n",
              "            <div class=\"bar\" style=\"width:1%\">&nbsp;</div>\n",
              "        </td>\n",
              "</tr><tr class=\"\">\n",
              "        <td class=\"fillremaining\">240.0</td>\n",
              "        <td class=\"number\">1</td>\n",
              "        <td class=\"number\">0.2%</td>\n",
              "        <td>\n",
              "            <div class=\"bar\" style=\"width:1%\">&nbsp;</div>\n",
              "        </td>\n",
              "</tr><tr class=\"\">\n",
              "        <td class=\"fillremaining\">242.0</td>\n",
              "        <td class=\"number\">1</td>\n",
              "        <td class=\"number\">0.2%</td>\n",
              "        <td>\n",
              "            <div class=\"bar\" style=\"width:1%\">&nbsp;</div>\n",
              "        </td>\n",
              "</tr>\n",
              "</table>\n",
              "            <p class=\"h4\">Maximum 5 values</p>\n",
              "            \n",
              "<table class=\"freq table table-hover\">\n",
              "    <thead>\n",
              "    <tr>\n",
              "        <td class=\"fillremaining\">Value</td>\n",
              "        <td class=\"number\">Count</td>\n",
              "        <td class=\"number\">Frequency (%)</td>\n",
              "        <td style=\"min-width:200px\">&nbsp;</td>\n",
              "    </tr>\n",
              "    </thead>\n",
              "    <tr class=\"\">\n",
              "        <td class=\"fillremaining\">10968.0</td>\n",
              "        <td class=\"number\">1</td>\n",
              "        <td class=\"number\">0.2%</td>\n",
              "        <td>\n",
              "            <div class=\"bar\" style=\"width:50%\">&nbsp;</div>\n",
              "        </td>\n",
              "</tr><tr class=\"\">\n",
              "        <td class=\"fillremaining\">11300.0</td>\n",
              "        <td class=\"number\">1</td>\n",
              "        <td class=\"number\">0.2%</td>\n",
              "        <td>\n",
              "            <div class=\"bar\" style=\"width:50%\">&nbsp;</div>\n",
              "        </td>\n",
              "</tr><tr class=\"\">\n",
              "        <td class=\"fillremaining\">20000.0</td>\n",
              "        <td class=\"number\">2</td>\n",
              "        <td class=\"number\">0.3%</td>\n",
              "        <td>\n",
              "            <div class=\"bar\" style=\"width:100%\">&nbsp;</div>\n",
              "        </td>\n",
              "</tr><tr class=\"\">\n",
              "        <td class=\"fillremaining\">33837.0</td>\n",
              "        <td class=\"number\">1</td>\n",
              "        <td class=\"number\">0.2%</td>\n",
              "        <td>\n",
              "            <div class=\"bar\" style=\"width:50%\">&nbsp;</div>\n",
              "        </td>\n",
              "</tr><tr class=\"\">\n",
              "        <td class=\"fillremaining\">41667.0</td>\n",
              "        <td class=\"number\">1</td>\n",
              "        <td class=\"number\">0.2%</td>\n",
              "        <td>\n",
              "            <div class=\"bar\" style=\"width:50%\">&nbsp;</div>\n",
              "        </td>\n",
              "</tr>\n",
              "</table>\n",
              "        </div>\n",
              "    </div>\n",
              "</div>\n",
              "</div><div class=\"row variablerow\">\n",
              "    <div class=\"col-md-3 namecol\">\n",
              "        <p class=\"h4 pp-anchor\" id=\"pp_var_Credit_History\">Credit_History<br/>\n",
              "            <small>Numeric</small>\n",
              "        </p>\n",
              "    </div><div class=\"col-md-6\">\n",
              "    <div class=\"row\">\n",
              "        <div class=\"col-sm-6\">\n",
              "            <table class=\"stats \">\n",
              "                <tr>\n",
              "                    <th>Distinct count</th>\n",
              "                    <td>3</td>\n",
              "                </tr>\n",
              "                <tr>\n",
              "                    <th>Unique (%)</th>\n",
              "                    <td>0.5%</td>\n",
              "                </tr>\n",
              "                <tr class=\"alert\">\n",
              "                    <th>Missing (%)</th>\n",
              "                    <td>8.1%</td>\n",
              "                </tr>\n",
              "                <tr class=\"alert\">\n",
              "                    <th>Missing (n)</th>\n",
              "                    <td>50</td>\n",
              "                </tr>\n",
              "                <tr class=\"ignore\">\n",
              "                    <th>Infinite (%)</th>\n",
              "                    <td>0.0%</td>\n",
              "                </tr>\n",
              "                <tr class=\"ignore\">\n",
              "                    <th>Infinite (n)</th>\n",
              "                    <td>0</td>\n",
              "                </tr>\n",
              "            </table>\n",
              "\n",
              "        </div>\n",
              "        <div class=\"col-sm-6\">\n",
              "            <table class=\"stats \">\n",
              "\n",
              "                <tr>\n",
              "                    <th>Mean</th>\n",
              "                    <td>0.8422</td>\n",
              "                </tr>\n",
              "                <tr>\n",
              "                    <th>Minimum</th>\n",
              "                    <td>0</td>\n",
              "                </tr>\n",
              "                <tr>\n",
              "                    <th>Maximum</th>\n",
              "                    <td>1</td>\n",
              "                </tr>\n",
              "                <tr class=\"alert\">\n",
              "                    <th>Zeros (%)</th>\n",
              "                    <td>14.5%</td>\n",
              "                </tr>\n",
              "            </table>\n",
              "        </div>\n",
              "    </div>\n",
              "</div>\n",
              "<div class=\"col-md-3 collapse in\" id=\"minihistogram5779751393131308880\">\n",
              "    <img src=\"data:image/png;base64,iVBORw0KGgoAAAANSUhEUgAAAMgAAABLCAYAAAA1fMjoAAAABHNCSVQICAgIfAhkiAAAAAlwSFlzAAAPYQAAD2EBqD%2BnaQAAADl0RVh0U29mdHdhcmUAbWF0cGxvdGxpYiB2ZXJzaW9uIDMuMC4zLCBodHRwOi8vbWF0cGxvdGxpYi5vcmcvnQurowAAAQVJREFUeJzt3cEJAkEQRUFXDMkgzMmzORmEObUJyAMFmWWpug/8y6OPs83MnICPzqsHwJ5dVg/guK7359dvXo/bH5b8zgWBIBAIAoEgEAgCgSAQCAKBIBAIAoEgEAgCgSAQCAKBIBAIAoEgEAgCgSAQCAKBIBAIAoEgEAgCgSAQCAKBIBAIAoEgEAgCgSAQCAKBIBAIAoEgEAgCgSAQCAKBsLtfbo/wMyrH4YJAEAgEgUAQCASBQBAIBIFAEAiEbWZm9QjYKxcEgkAgCASCQCAIBIJAIAgEgkAgCASCQCAIBIJAIAgEgkAgCASCQCAIBIJAIAgEgkAgCASCQCAIBIJAIAgEwhvj6w6RULc1CwAAAABJRU5ErkJggg%3D%3D\">\n",
              "\n",
              "</div>\n",
              "<div class=\"col-md-12 text-right\">\n",
              "    <a role=\"button\" data-toggle=\"collapse\" data-target=\"#descriptives5779751393131308880,#minihistogram5779751393131308880\"\n",
              "       aria-expanded=\"false\" aria-controls=\"collapseExample\">\n",
              "        Toggle details\n",
              "    </a>\n",
              "</div>\n",
              "<div class=\"row collapse col-md-12\" id=\"descriptives5779751393131308880\">\n",
              "    <ul class=\"nav nav-tabs\" role=\"tablist\">\n",
              "        <li role=\"presentation\" class=\"active\"><a href=\"#quantiles5779751393131308880\"\n",
              "                                                  aria-controls=\"quantiles5779751393131308880\" role=\"tab\"\n",
              "                                                  data-toggle=\"tab\">Statistics</a></li>\n",
              "        <li role=\"presentation\"><a href=\"#histogram5779751393131308880\" aria-controls=\"histogram5779751393131308880\"\n",
              "                                   role=\"tab\" data-toggle=\"tab\">Histogram</a></li>\n",
              "        <li role=\"presentation\"><a href=\"#common5779751393131308880\" aria-controls=\"common5779751393131308880\"\n",
              "                                   role=\"tab\" data-toggle=\"tab\">Common Values</a></li>\n",
              "        <li role=\"presentation\"><a href=\"#extreme5779751393131308880\" aria-controls=\"extreme5779751393131308880\"\n",
              "                                   role=\"tab\" data-toggle=\"tab\">Extreme Values</a></li>\n",
              "\n",
              "    </ul>\n",
              "\n",
              "    <div class=\"tab-content\">\n",
              "        <div role=\"tabpanel\" class=\"tab-pane active row\" id=\"quantiles5779751393131308880\">\n",
              "            <div class=\"col-md-4 col-md-offset-1\">\n",
              "                <p class=\"h4\">Quantile statistics</p>\n",
              "                <table class=\"stats indent\">\n",
              "                    <tr>\n",
              "                        <th>Minimum</th>\n",
              "                        <td>0</td>\n",
              "                    </tr>\n",
              "                    <tr>\n",
              "                        <th>5-th percentile</th>\n",
              "                        <td>0</td>\n",
              "                    </tr>\n",
              "                    <tr>\n",
              "                        <th>Q1</th>\n",
              "                        <td>1</td>\n",
              "                    </tr>\n",
              "                    <tr>\n",
              "                        <th>Median</th>\n",
              "                        <td>1</td>\n",
              "                    </tr>\n",
              "                    <tr>\n",
              "                        <th>Q3</th>\n",
              "                        <td>1</td>\n",
              "                    </tr>\n",
              "                    <tr>\n",
              "                        <th>95-th percentile</th>\n",
              "                        <td>1</td>\n",
              "                    </tr>\n",
              "                    <tr>\n",
              "                        <th>Maximum</th>\n",
              "                        <td>1</td>\n",
              "                    </tr>\n",
              "                    <tr>\n",
              "                        <th>Range</th>\n",
              "                        <td>1</td>\n",
              "                    </tr>\n",
              "                    <tr>\n",
              "                        <th>Interquartile range</th>\n",
              "                        <td>0</td>\n",
              "                    </tr>\n",
              "                </table>\n",
              "            </div>\n",
              "            <div class=\"col-md-4 col-md-offset-2\">\n",
              "                <p class=\"h4\">Descriptive statistics</p>\n",
              "                <table class=\"stats indent\">\n",
              "                    <tr>\n",
              "                        <th>Standard deviation</th>\n",
              "                        <td>0.36488</td>\n",
              "                    </tr>\n",
              "                    <tr>\n",
              "                        <th>Coef of variation</th>\n",
              "                        <td>0.43324</td>\n",
              "                    </tr>\n",
              "                    <tr>\n",
              "                        <th>Kurtosis</th>\n",
              "                        <td>1.5488</td>\n",
              "                    </tr>\n",
              "                    <tr>\n",
              "                        <th>Mean</th>\n",
              "                        <td>0.8422</td>\n",
              "                    </tr>\n",
              "                    <tr>\n",
              "                        <th>MAD</th>\n",
              "                        <td>0.2658</td>\n",
              "                    </tr>\n",
              "                    <tr class=\"\">\n",
              "                        <th>Skewness</th>\n",
              "                        <td>-1.8824</td>\n",
              "                    </tr>\n",
              "                    <tr>\n",
              "                        <th>Sum</th>\n",
              "                        <td>475</td>\n",
              "                    </tr>\n",
              "                    <tr>\n",
              "                        <th>Variance</th>\n",
              "                        <td>0.13314</td>\n",
              "                    </tr>\n",
              "                    <tr>\n",
              "                        <th>Memory size</th>\n",
              "                        <td>4.9 KiB</td>\n",
              "                    </tr>\n",
              "                </table>\n",
              "            </div>\n",
              "        </div>\n",
              "        <div role=\"tabpanel\" class=\"tab-pane col-md-8 col-md-offset-2\" id=\"histogram5779751393131308880\">\n",
              "            <img src=\"data:image/png;base64,iVBORw0KGgoAAAANSUhEUgAAAlgAAAGQCAYAAAByNR6YAAAABHNCSVQICAgIfAhkiAAAAAlwSFlzAAAPYQAAD2EBqD%2BnaQAAADl0RVh0U29mdHdhcmUAbWF0cGxvdGxpYiB2ZXJzaW9uIDMuMC4zLCBodHRwOi8vbWF0cGxvdGxpYi5vcmcvnQurowAAIABJREFUeJzt3XlU1XX%2Bx/EXFxKVTVDRogXLJXFhXFFzXLBRy9FcUMAzlVOWFuWIWlbWpI2mk3oslzGpU43aKUanUcGt45LVRM1Y2bmgLZBNRRmMckMQS7j390dHfl2x4aKfL3fx%2BTjH4%2BHz/fK97%2B9rJF7z/V6%2BBLlcLpcAAABgjM3bAwAAAAQaChYAAIBhFCwAAADDKFgAAACGUbAAAAAMo2ABAAAYRsECAAAwjIIFAABgGAULAADAMAoWAACAYRQsAAAAwyhYAAAAhlGwAAAADKNgAQAAGEbBAgAAMIyCBQAAYBgFCwAAwDAKFgAAgGEULAAAAMMoWAAAAIZRsAAAAAyjYAEAABhGwQIAADCMggUAAGAYBQsAAMAwChYAAIBhFCwAAADDKFgAAACGUbAAAAAMo2ABAAAYRsECAAAwjIIFAABgGAULAADAMAoWAACAYRQsAAAAwyhYAAAAhlGwAAAADKNgAQAAGEbBAgAAMCzE2wNcKkpLTxo/ps0WpJiYMJ04USmn02X8%2BJcysrUO2VqLfK1DttaxMtvWrSOMHs9TXMHyYzZbkIKCgmSzBXl7lIBDttYhW2uRr3XI1jqBmC0FCwAAwDAKFgAAgGEULAAAAMMoWAAAAIZRsAAAAAyjYAEAABhGwQIAADCMggUAAGAYBQsAAMAwChYAAIBhFCwAAADDKFgAAACGUbAAAAAMC/H2AAAAwBo3Pf1Pb4/gsYOLRnp7BKO4ggUAAGAYBQsAAMAwChYAAIBhFCwAAADDKFgAAACGUbAAAAAMo2ABAAAYRsECAAAwjIIFAABgGAULAADAMAoWAACAYRQsAAAAwyhYAAAAhlGwAAAADKNgAQAAGEbBAgAAMIyCBQAAYBgFCwAAwDAKFgAAgGEULAAAAMMoWAAAAIZRsAAAAAyjYAEAABhGwQIAADCMggUAAGAYBQsAAMAwChYAAIBhFCwAAADDKFgAAACGUbAAAAAMo2ABAAAYRsECAAAwjIIFAABgGAULAADAMAoWAACAYRQsAAAAwyhYAAAAhlGwAAAADKNgAQAAGEbBAgAAMIyCBQAAYBgFCwAAwDAKFgAAgGGXRMF68skn1alTp9qP8/LylJKSop49e2rUqFHatm2b2/7r16/XiBEj1LNnT6Wnpys/P7%2BxRwYAAH4s4AvWkSNHtHXr1tqPS0pKdO%2B99yotLU15eXmaN2%2BeHnvsMdntdknSvn37tGrVKj311FN65513NHToUE2fPl2nTp3y1ikAAAA/E9AFy%2Bl06vHHH9eUKVNq13JychQfH6%2BUlBSFhoZqwIABSk5O1qZNmyRJ2dnZGj9%2BvBITE9W0aVNNnTpVkrR//35vnAIAAPBDId4ewEqvvvqqQkNDNXr0aD399NOSpIKCAiUkJLjtl5CQoJ07d9Zuv/nmm2u32Ww2de7cWXa7XaNGjfLodUtKSlRaWuq2FhLSXLGxsRdzOnUEB9vc/oY5ZGsdsrUW%2BVqHbK0XSNkGbMH673//q1WrVmnDhg1u6w6HQ23atHFba9GihcrKymq3R0VFuW2Pioqq3e6J7OxsrV692m0tIyNDM2bMaMgpeCwyspklxwXZWolsrUW%2B1iFb6wRStgFbsBYvXqzx48erffv2%2Bvrrrxv0uS6X66JeOzU1VcnJyW5rISHNVVZWeVHHPVdwsE2Rkc1UXl6lmhqn0WNf6sjWOmRrLfK1Dtlaz4pso6PDjB7PUwFZsPLy8vThhx8qNze3zrbo6Gg5HA63tbKyMsXExPzidofDoQ4dOnj8%2BrGxsXVuB5aWnlR1tTVfkDU1TsuOfakjW%2BuQrbXI1zpka51AyjZwbnb%2BzLZt23T8%2BHENHTpUSUlJGj9%2BvCQpKSlJHTt2rPPYhfz8fCUmJkqSunbtqoKCgtptNTU1Onz4cO12AACA%2BgRkwXrooYe0e/dubd26VVu3blVWVpYkaevWrRo9erSKi4u1adMm/fDDDzpw4IAOHDigSZMmSZLS09O1ZcsWHTp0SFVVVVq7dq2aNGmiIUOGePGMAACAPwnIW4RRUVFub1Svrq6WJLVt21aStG7dOi1cuFALFixQXFycli5dquuvv16SNGjQIM2aNUszZ87U8ePH1a1bN2VlZalp06aNfyIAAMAvBWTBOteVV16pTz75pPbjPn36uD189FyTJ0/W5MmTG2M0AAAQgALyFiEAAIA3UbAAAAAMo2ABAAAYRsECAAAwjIIFAABgGAULAADAMAoWAACAYRQsAAAAwyhYAAAAhlGwAAAADKNgAQAAGEbBAgAAMIyCBQAAYBgFCwAAwDAKFgAAgGEULAAAAMMoWAAAAIZRsAAAAAyjYAEAABhGwQIAADCMggUAAGAYBQsAAMAwChYAAIBhFCwAAADDKFgAAACGUbAAAAAMo2ABAAAYRsECAAAwjIIFAABgGAULAADAMAoWAACAYRQsAAAAwyhYAAAAhlGwAAAADKNgAQAAGEbBAgAAMIyCBQAAYBgFCwAAwDAKFgAAgGEULAAAAMMoWAAAAIZRsAAAAAyjYAEAABhGwQIAADCMggUAAGAYBQsAAMAwChYAAIBhFCwAAADDKFgAAACGUbAAAAAMo2ABAAAYRsECAAAwjIIFAABgWMAWrI8//li33367evXqpQEDBmjmzJkqLS2VJOXl5SklJUU9e/bUqFGjtG3bNrfPXb9%2BvUaMGKGePXsqPT1d%2Bfn53jgFAADgpwKyYP3444%2B644471LdvX%2BXl5Sk3N1fHjx/X/PnzVVJSonvvvVdpaWnKy8vTvHnz9Nhjj8lut0uS9u3bp1WrVumpp57SO%2B%2B8o6FDh2r69Ok6deqUl88KAAD4i4AsWFVVVcrMzNS0adPUpEkTxcTE6De/%2BY0%2B%2B%2Bwz5eTkKD4%2BXikpKQoNDdWAAQOUnJysTZs2SZKys7M1fvx4JSYmqmnTppo6daokaf/%2B/d48JQAA4EcCsmBFRUVp4sSJCgkJkSR9/vnn%2Bsc//qGbbrpJBQUFSkhIcNs/ISGh9jbgudttNps6d%2B5ce4ULAACgPiHeHuBcycnJGj9%2BvCZMmKDLL7/8oo5VXFysESNGqLq6WpMmTdKMGTN01113qU2bNm77tWjRQmVlZZIkh8OhqKgot%2B1RUVG12z1RUlJS%2B36vs0JCmis2NvYCz%2BT8goNtbn/DHLK1Dtlai3ytQ7bWC6Rsfa5gTZgwQdu3b9fatWvVv39/TZo0ScnJybVXoxoiLi5Odrtd//nPf/THP/5RDz74oEef53K5GvxaP5edna3Vq1e7rWVkZGjGjBkXddxfEhnZzJLjgmytRLbWIl/rkK11AilbnytYGRkZysjIUEFBgXJzc/Xkk09qwYIFGjt2rFJSUtSuXbsGHS8oKEjx8fHKzMxUWlqaBg8eLIfD4bZPWVmZYmJiJEnR0dF1tjscDnXo0MHj10xNTVVycrLbWkhIc5WVVTZo9voEB9sUGdlM5eVVqqlxGj32pY5srUO21iJf65Ct9azINjo6zOjxPOVzBeusLl26qEuXLnrwwQe1Y8cOzZ8/Xy%2B88IIGDBigP/zhD%2Brevfsvfm5eXp7mz5%2BvnTt3ymb76XLj2b%2B7d%2B%2Bu3bt3u%2B2fn5%2BvxMRESVLXrl1VUFCgcePGSZJqamp0%2BPBhpaSkeDx7bGxsnduBpaUnVV1tzRdkTY3TsmNf6sjWOmRrLfK1DtlaJ5Cy9dmbnWfOnNGOHTt01113ae7cuWrTpo0efvhhde7cWVOmTFFOTs4vfm7Xrl1VUVGhpUuXqqqqSidOnNCqVavUu3dvpaenq7i4WJs2bdIPP/ygAwcO6MCBA5o0aZIkKT09XVu2bNGhQ4dUVVWltWvXqkmTJhoyZEgjnTkAAPB3PncFq6ioSJs3b9aWLVtUWVmpESNG6K9//at69epVu0%2BfPn00f/58jR49%2BrzHiIiI0AsvvKCFCxeqX79%2Bat68ufr166dFixapZcuWWrdunRYuXKgFCxYoLi5OS5cu1fXXXy9JGjRokGbNmqWZM2fq%2BPHj6tatm7KystS0adNGOX8AAOD/glwX%2B45uw66//nq1a9dOqampGjt2rFq0aHHe/RITE/XRRx818nQXrrT0pPFjhoTYFB0dprKyyoC5pOoryNY6ZGst8rWOP2Z709P/9PYIHju4aKQl2bZuHWH0eJ7yuStY69evV9%2B%2Bfevdz5/KFQAAuLT43HuwOnXqpOnTp2vPnj21ay%2B99JLuuuuuOj/dBwAA4It8rmAtXrxYJ0%2BeVPv27WvXhgwZIqfTqSVLlnhxMgAAAM/43C3Ct99%2BWzk5OYqOjq5di4%2BP17Jly/Tb3/7Wi5MBAAB4xueuYJ0%2BfVqhoaF11m02m6qqqrwwEQAAQMP4XMHq06ePlixZou%2B//7527bvvvtOCBQvcHtUAAADgq3zuFuEjjzyiO%2B64Q/3791d4eLicTqcqKyt11VVXacOGDd4eDwAAoF4%2BV7Cuuuoqbd%2B%2BXW%2B%2B%2Baa%2B/PJL2Ww2tWvXTgMHDlRwcLC3xwMAAKiXzxUsSWrSpIluvPFGb48BAABwQXyuYH311Vdavny5PvvsM50%2BfbrO9r1793phKgAAAM/5XMF65JFHVFJSooEDB6p58%2BbeHgcAAKDBfK5g5efna%2B/evYqJifH2KAAAABfE5x7T0LJlS65cAQAAv%2BZzBWvatGlavXq1XC6Xt0cBAAC4ID53i/DNN9/UBx98oNdee01XXnmlbDb3Dvjqq696aTIAAADP%2BFzBCg8P16BBg7w9BgAAwAXzuYK1ePFib48AAABwUXzuPViS9Pnnn2vVqlV6%2BOGHa9c%2B/PBDL04EAADgOZ8rWHl5eRozZoxef/115ebmSvrp4aO33XYbDxkFAAB%2BwecK1ooVK/TAAw8oJydHQUFBkn76/YRLlizRmjVrvDwdAABA/XyuYH366adKT0%2BXpNqCJUkjR45UUVGRt8YCAADwmM8VrIiIiPP%2BDsKSkhI1adLECxMBAAA0jM8VrJ49e%2BrJJ59URUVF7drRo0c1d%2B5c9e/f34uTAQAAeMbnHtPw8MMP6/bbb1dSUpJqamrUs2dPVVVVqUOHDlqyZIm3xwMAAKiXzxWstm3bKjc3VwcOHNDRo0fVtGlTtWvXTjfccIPbe7IAAAB8lc8VLEm67LLLdOONN3p7DAAAgAvicwUrOTn5f16p4llYAADA1/lcwbr55pvdClZNTY2OHj0qu92u22%2B/3YuTAQAAeMbnCtacOXPOu75792699957jTwNAABAw/ncYxp%2ByY033qjt27d7ewwAAIB6%2BU3BOnz4sFwul7fHAAAAqJfP3SJMS0urs1ZVVaWioiINHz7cCxMBAAA0jM8VrPj4%2BDo/RRgaGqqUlBRNnDjRS1MBAAB4zucKFk9rBwAA/s7nCtaWLVs83nfs2LEWTgIAAHBhfK5gzZs3T06ns84b2oOCgtzWgoKCKFgAAMAn%2BVzBev755/XCCy9o%2BvTp6tSpk1wulz755BM999xz%2Bt3vfqekpCRvjwgAAPA/%2BVzBWrJkibKystSmTZvatd69e%2Buqq67SnXfeqdzcXC9OBwAAUD%2Bfew7WF198oaioqDrrkZGRKi4u9sJEAAAADeNzBSsuLk5LlixRWVlZ7Vp5ebmWL1%2Buq6%2B%2B2ouTAQAAeMbnbhE%2B8sgjmj17trKzsxUWFiabzaaKigo1bdpUa9as8fZ4AAAA9fK5gjVw4EC98cYbOnDggI4dOyaXy6U2bdro17/%2BtSIiIrw9HgAAQL18rmBJUrNmzTRs2DAdO3ZMV111lbfHAQAAaBCfew/W6dOnNXfuXPXo0UM33XSTpJ/egzV16lSVl5d7eToAAID6%2BVzBWrp0qY4cOaJly5bJZvv/8WpqarRs2TIvTgYAAOAZnytYu3fv1sqVKzVy5MjaX/ocGRmpxYsX6/XXX/fydAAAAPXzuYJVWVmp%2BPj4OusxMTE6depU4w8EAADQQD5XsK6%2B%2Bmq99957kuT2uwd37dqlK664wltjAQAAeMznfopw8uTJuv/%2B%2BzVhwgQ5nU69%2BOKLys/P1%2B7duzVv3jxvjwcAAFAvnytYqampCgkJ0caNGxUcHKxnn31W7dq107JlyzRy5EhvjwcAAFAvnytYJ06c0IQJEzRhwgRvjwIAAHBBfO49WMOGDXN77xUAAIC/8bmClZSUpJ07d3p7DAAAgAvmc7cIL7/8ci1atEhZWVm6%2Buqrddlll7ltX758uUfHKS4u1pNPPqmDBw8qODhYgwYN0iOPPKLIyEgdOXJEixYt0pEjR9SyZUulpaXpjjvuqP3cHTt2aO3atfr666/Vrl07zZo1SwMHDjR6ngAAIHD53BWswsJCXXvttYqIiFBZWZlKSkrc/nhq%2BvTpioyM1L59%2B/Taa6/ps88%2B05///GedPn1a06ZNU79%2B/fTWW29pxYoVWrduXe1DTI8cOaK5c%2Bdqzpw5evfddzVlyhTdd999OnbsmFWnDAAAAozPXMHKzMzUihUrtGHDhtq1NWvWKCMjo8HHKi8vV9euXTV79myFhYUpLCxM48aN04YNG/TGG2/ozJkzuueeexQcHKwuXbpo4sSJys7O1vDhw7Vp0yYNHjxYgwcPliSNGTNGGzdu1LZt23T33XcbO18AABC4fOYK1r59%2B%2BqsZWVlXdCxzv5qnVatWtWuffvtt4qNjVVBQYE6deqk4ODg2m0JCQnKz8%2BXJBUUFCghIcHteAkJCbLb7Rc0CwAAuPT4zBWs8/3koKmfJrTb7dq4caPWrl2rnTt3KjIy0m17ixYt5HA45HQ65XA4FBUV5bY9KipKhYWFHr9eSUmJSktL3dZCQporNjb2wk/iPIKDbW5/wxyytQ7ZWot8rUO21gukbH2mYJ39xc71rTXU%2B%2B%2B/r3vuuUezZ8/WgAEDfvEnFH/%2BWhdb7LKzs7V69Wq3tYyMDM2YMeOijvtLIiObWXJckK2VyNZa5GsdsrVOIGXrMwXLCvv27dMDDzygxx57TGPHjpX00y%2BN/uKLL9z2czgcatGihWw2m6Kjo%2BVwOOpsj4mJ8fh1U1NTlZyc7LYWEtJcZWWVF3YivyA42KbIyGYqL69STY3T6LEvdWRrHbK1Fvlah2ytZ0W20dFhRo/nqYAtWB988IHmzp2rZ555xu0RC127dtUrr7yi6upqhYT8dPp2u12JiYm128%2B%2BH%2Bssu92uUaNGefzasbGxdW4HlpaeVHW1NV%2BQNTVOy459qSNb65CttcjXOmRrnUDK1mcK1pkzZzR79ux61zx5DlZ1dbUeffRRzZkzp87zqwYPHqzw8HCtXbtWU6dO1aeffqrNmzdr6dKlkqRJkyYpJSVFb7zxhvr376%2BcnBx98cUXGjNmzEWeIQAAuFT4TMHq1atXnedcnW/NE4cOHVJRUZEWLlyohQsXum3btWuXnn32WT3%2B%2BOPKyspSq1atlJmZqSFDhkiSOnbsqGXLlmnx4sUqLi5W%2B/bttW7dOrVu3fqCzw0AAFxaglz84r9GUVp60vgxQ0Jsio4OU1lZZcBcUvUVZGsdsrUW%2BVrHH7O96el/ensEjx1cNNKSbFu3jjB6PE8Fzs9DAgAA%2BAgKFgAAgGEULAAAAMMoWAAAAIZRsAAAAAyjYAEAABhGwQIAADCMggUAAGAYBQsAAMAwChYAAIBhFCwAAADDKFgAAACGUbAAAAAMo2ABAAAYRsECAAAwjIIFAABgGAULAADAMAoWAACAYRQsAAAAwyhYAAAAhlGwAAAADKNgAQAAGEbBAgAAMIyCBQAAYBgFCwAAwDAKFgAAgGEULAAAAMMoWAAAAIZRsAAAAAyjYAEAABhGwQIAADCMggUAAGAYBQsAAMAwChYAAIBhFCwAAADDKFgAAACGUbAAAAAMo2ABAAAYRsECAAAwjIIFAABgGAULAADAMAoWAACAYRQsAAAAwyhYAAAAhlGwAAAADKNgAQAAGEbBAgAAMIyCBQAAYBgFCwAAwDAKFgAAgGEULAAAAMMoWAAAAIZRsAAAAAwL2IL11ltvacCAAcrMzKyzbceOHRo9erR69Oih8ePH6%2B23367d5nQ6tWLFCg0bNkx9%2BvTRnXfeqa%2B%2B%2BqoxRwcAAH4uIAvWc889p4ULF%2Bqaa66ps%2B3IkSOaO3eu5syZo3fffVdTpkzRfffdp2PHjkmSXn75ZeXk5CgrK0v79%2B9XfHy8MjIy5HK5Gvs0AACAnwrIghUaGqrNmzeft2Bt2rRJgwcP1uDBgxUaGqoxY8aoY8eO2rZtmyQpOztbU6ZM0XXXXafw8HBlZmaqqKhIH330UWOfBgAA8FMBWbBuu%2B02RUREnHdbQUGBEhIS3NYSEhJkt9t1%2BvRpFRYWum0PDw/XNddcI7vdbunMAAAgcIR4e4DG5nA4FBUV5bYWFRWlwsJCff/993K5XOfdXlZW5vFrlJSUqLS01G0tJKS5YmNjL3zw8wgOtrn9DXPI1jpkay3ytQ7ZWi%2BQsr3kCpaket9PdbHvt8rOztbq1avd1jIyMjRjxoyLOu4viYxsZslxQbZWIltrka91yNY6gZTtJVewoqOj5XA43NYcDodiYmLUokUL2Wy2825v2bKlx6%2BRmpqq5ORkt7WQkOYqK6u88MHPIzjYpsjIZiovr1JNjdPosS91ZGsdsrUW%2BVqHbK1nRbbR0WFGj%2BepS65gde3aVfn5%2BW5rdrtdo0aNUmhoqDp06KCCggL17dtXklReXq4vv/xS3bt39/g1YmNj69wOLC09qepqa74ga2qclh37Uke21iFba5GvdcjWOoGUbeDc7PTQpEmT9M477%2BiNN97QDz/8oM2bN%2BuLL77QmDFjJEnp6elav369ioqKVFFRoWXLlqlz587q1q2blycHAAD%2BIiCvYJ0tQ9XV1ZKkPXv2SPrpSlXHjh21bNkyLV68WMXFxWrfvr3WrVun1q1bS5LS0tJUWlqqW2%2B9VZWVlUpKSqrzfioAAID/JcjFEzQbRWnpSePHDAmxKTo6TGVllQFzSdVXkK11yNZa5Gsdf8z2pqf/6e0RPHZw0UhLsm3d%2BvyPbbLaJXeLEAAAwGoBeYvwUtJ73i5vj%2BCxnTNv8PYIAAA0Cq5gAQAAGEbBAgAAMIyCBQAAYBgFCwAAwDAKFgAAgGEULAAAAMMoWAAAAIZRsAAAAAyjYAEAABhGwQIAADCMggUAAGAYBQsAAMAwChYAAIBhFCwAAADDKFgAAACGUbAAAAAMo2ABAAAYRsECAAAwjIIFAABgGAULAADAMAoWAACAYRQsAAAAwyhYAAAAhlGwAAAADKNgAQAAGEbBAgAAMIyCBQAAYBgFCwAAwDAKFgAAgGEULAAAAMMoWAAAAIZRsAAAAAyjYAEAABhGwQIAADCMggUAAGAYBQsAAMAwChYAAIBhFCwAAADDKFgAAACGUbAAAAAMo2ABAAAYRsECAAAwjIIFAABgGAULAADAMAoWAACAYRQsAAAAwyhYAAAAhlGwAAAADKNgAQAAGEbBAgAAMIyCBQAAYBgFCwAAwDAK1nkUFxfr7rvvVlJSkoYOHaqlS5fK6XR6eywAAOAnQrw9gC%2B6//771aVLF%2B3Zs0fHjx/XtGnT1KpVK/3%2B97/39mgAAMAPcAXrHHa7XR9//LHmzJmjiIgIxcfHa8qUKcrOzvb2aAAAwE9wBescBQUFiouLU1RUVO1aly5ddPToUVVUVCg8PLzeY5SUlKi0tNRtLSSkuWJjY43OGhzsX/04JMR/5j2brb9l7A/I1lrkax2ytV4gZUvBOofD4VBkZKTb2tmyVVZW5lHBys7O1urVq93W7rvvPt1///3mBtVPRe72tp8pNTXVeHm71JWUlOivf32ebC1AttYiX%2Bv4Y7YHF4309ggeKSkp0apVq/wq2/oETlU0yOVyXdTnp6am6rXXXnP7k5qaami6/1daWqrVq1fXuVqGi0e21iFba5GvdcjWOoGYLVewzhETEyOHw%2BG25nA4FBQUpJiYGI%2BOERsbGzANHAAANBxXsM7RtWtXffvttzpx4kTtmt1uV/v27RUWFubFyQAAgL%2BgYJ0jISFB3bp10/Lly1VRUaGioiK9%2BOKLSk9P9/ZoAADATwTPnz9/vreH8DW//vWvlZubqz/96U/avn27UlJSdOeddyooKMjbo9URFhamvn37cnXNAmRrHbK1Fvlah2ytE2jZBrku9h3dAAAAcMMtQgAAAMMoWAAAAIZRsAAAAAyjYAEAABhGwQIAADCMggUAAGAYBQsAAMAwChYAAIBhFCwAAADDKFg%2Brri4WHfffbeSkpI0dOhQLV26VE6n87z7rl%2B/XiNGjFDPnj2Vnp6u/Pz8Rp7WvzQk21deeUUjRoxQjx49dMstt2jPnj2NPK1/aUi2Z3333Xfq0aOHVq1a1UhT%2Bq%2BG5FtUVKRbb71ViYmJGjx4sF566aXGHdbPeJqt0%2BnUypUrlZycrB49emj06NHasWOHFyb2L2%2B99ZYGDBigzMzM/7mf0%2BnUihUrNGzYMPXp00d33nmnvvrqq0aa0hAXfNq4ceNcjz76qKu8vNx19OhR1/Dhw10vvPBCnf327t3r6t27t%2BvQoUOuqqoq17p161w33HCDq7Ky0gtT%2BwdPs921a5erV69eroMHD7p%2B/PFH19/%2B9jdXly5dXF9%2B%2BaUXpvYPnmb7c/fdd5%2BrV69erpUrVzbSlP7L03yrqqpcQ4YMcT333HOuU6dOuT766CPXqFGjXIWFhV6Y2j94mu3GjRtdAwcOdBUVFbmqq6td%2B/btcyUkJLiOHDnihan9Q1ZWlmv48OGutLQ018yZM//nvuvXr3cNHTrUVVhY6Dp58qTriSeecI0ePdrldDobadqLxxUsH2a32/Xxxx9rzpw5ioiIUHx8vKZMmaLs7Ow6%2B2ZnZ2v8%2BPFKTExU06ZNNXXqVEnS/v37G3tsv9CQbE%2BfPq1Zs2apV69euuyyyzRx4kSFhYXp0KFDXpjc9zUk27MOHDigwsJCDRkypPEG9VMNyXfnzp0KDw/X1KlT1axZM3V1U8DEAAAFgUlEQVTv3l25ubm67rrrvDC572tItgUFBerVq5euvfZaBQcHa%2BjQoWrRooU%2B%2BeQTL0zuH0JDQ7V582Zdc8019e6bnZ2tKVOm6LrrrlN4eLgyMzNVVFSkjz76qBEmNYOC5cMKCgoUFxenqKio2rUuXbro6NGjqqioqLNvQkJC7cc2m02dO3eW3W5vtHn9SUOyveWWWzR58uTaj8vLy1VZWak2bdo02rz%2BpCHZSj8V2CeeeEKPP/64QkJCGnNUv9SQfN9//3117NhRDz/8sHr37q2RI0dq27ZtjT2y32hItkOGDNG//vUvHTlyRD/%2B%2BKP27t2rqqoq9e3bt7HH9hu33XabIiIi6t3v9OnTKiwsdPueFh4ermuuucavvqdRsHyYw%2BFQZGSk29rZL/yysrI6%2B/78Pwpn9z13P/ykIdn%2BnMvl0qOPPqrExET%2BQ/oLGprtmjVr9Ktf/Ur9%2BvVrlPn8XUPyPXbsmPbu3asBAwborbfe0rRp0zR37lwdPny40eb1Jw3Jdvjw4UpNTdXYsWPVrVs3zZ49W4sXL9bll1/eaPMGqu%2B//14ul8vvv6fxfxd9nMvlsmRfNDyvM2fO6KGHHlJhYaHWr19v0VSBwdNsCwsLtWnTJuXk5Fg8UWDxNF%2BXy6UuXbpo9OjRkqRx48bp1Vdf1a5du9yuDuD/eZrtli1btGXLFm3atEmdOnVSXl6eZs%2Bercsvv1zdu3e3eMpLg79/T%2BMKlg%2BLiYmRw%2BFwW3M4HAoKClJMTIzbenR09Hn3PXc//KQh2Uo/XbKeNm2avvnmG7388stq1apVY43qdzzN1uVyaf78%2Bbr//vvVunXrxh7TbzXk327r1q3r3JKJi4tTaWmp5XP6o4Zku3HjRqWmpqp79%2B4KDQ3VkCFD1K9fP27BGtCiRQvZbLbz/m/RsmVLL03VcBQsH9a1a1d9%2B%2B23OnHiRO2a3W5X%2B/btFRYWVmffgoKC2o9ramp0%2BPBhJSYmNtq8/qQh2bpcLmVmZiokJEQvvfSSoqOjG3tcv%2BJptt98843%2B/e9/a%2BXKlUpKSlJSUpK2b9%2Bu559/XuPGjfPG6H6hIf92r7vuOn366aduVwKKi4sVFxfXaPP6k4Zk63Q6VVNT47b2448/NsqcgS40NFQdOnRw%2B55WXl6uL7/80q%2BuDlKwfFhCQoK6deum5cuXq6KiQkVFRXrxxReVnp4uSRo5cqQOHjwoSUpPT9eWLVt06NAhVVVVae3atWrSpAk/lfULGpJtTk6OCgsL9cwzzyg0NNSbY/sFT7Nt27atDhw4oK1bt9b%2BSU5OVlpamrKysrx8Fr6rIf92x4wZo7KyMj377LM6ffq0cnNzVVBQoDFjxnjzFHxWQ7JNTk7W5s2b9fHHH6u6ulpvv/228vLyNGzYMG%2Begt/67rvvNHLkyNpnXaWnp2v9%2BvUqKipSRUWFli1bps6dO6tbt25entRzvAfLx61cuVKPPfaYbrjhBoWHhystLa32J9qOHj2qU6dOSZIGDRqkWbNmaebMmTp%2B/Li6deumrKwsNW3a1Jvj%2BzRPs/373/%2Bu4uLiOm9qv%2BWWW7Rw4cJGn9sfeJJtcHCw2rZt6/Z5zZo1U3h4OLcM6%2BHpv902bdpo3bp1WrRokf7yl7/oiiuu0Jo1a3T11Vd7c3yf5mm206ZNU3V1tTIyMnTixAnFxcVp4cKF6t%2B/vzfH92lny1F1dbUk1T6w2W6368yZMzp69GjtVcC0tDSVlpbq1ltvVWVlpZKSkrR69WrvDH6Bglz%2B/i4yAAAAH8MtQgAAAMMoWAAAAIZRsAAAAAyjYAEAABhGwQIAADCMggUAAGAYBQsAAMAwChYAAIBhFCwAAADDKFgAAACGUbAAAAAMo2ABAAAYRsECAAAw7P8A5qm7AWSS5rcAAAAASUVORK5CYII%3D\"/>\n",
              "        </div>\n",
              "        <div role=\"tabpanel\" class=\"tab-pane col-md-12\" id=\"common5779751393131308880\">\n",
              "            \n",
              "<table class=\"freq table table-hover\">\n",
              "    <thead>\n",
              "    <tr>\n",
              "        <td class=\"fillremaining\">Value</td>\n",
              "        <td class=\"number\">Count</td>\n",
              "        <td class=\"number\">Frequency (%)</td>\n",
              "        <td style=\"min-width:200px\">&nbsp;</td>\n",
              "    </tr>\n",
              "    </thead>\n",
              "    <tr class=\"\">\n",
              "        <td class=\"fillremaining\">1.0</td>\n",
              "        <td class=\"number\">475</td>\n",
              "        <td class=\"number\">77.4%</td>\n",
              "        <td>\n",
              "            <div class=\"bar\" style=\"width:100%\">&nbsp;</div>\n",
              "        </td>\n",
              "</tr><tr class=\"\">\n",
              "        <td class=\"fillremaining\">0.0</td>\n",
              "        <td class=\"number\">89</td>\n",
              "        <td class=\"number\">14.5%</td>\n",
              "        <td>\n",
              "            <div class=\"bar\" style=\"width:19%\">&nbsp;</div>\n",
              "        </td>\n",
              "</tr><tr class=\"missing\">\n",
              "        <td class=\"fillremaining\">(Missing)</td>\n",
              "        <td class=\"number\">50</td>\n",
              "        <td class=\"number\">8.1%</td>\n",
              "        <td>\n",
              "            <div class=\"bar\" style=\"width:11%\">&nbsp;</div>\n",
              "        </td>\n",
              "</tr>\n",
              "</table>\n",
              "        </div>\n",
              "        <div role=\"tabpanel\" class=\"tab-pane col-md-12\"  id=\"extreme5779751393131308880\">\n",
              "            <p class=\"h4\">Minimum 5 values</p>\n",
              "            \n",
              "<table class=\"freq table table-hover\">\n",
              "    <thead>\n",
              "    <tr>\n",
              "        <td class=\"fillremaining\">Value</td>\n",
              "        <td class=\"number\">Count</td>\n",
              "        <td class=\"number\">Frequency (%)</td>\n",
              "        <td style=\"min-width:200px\">&nbsp;</td>\n",
              "    </tr>\n",
              "    </thead>\n",
              "    <tr class=\"\">\n",
              "        <td class=\"fillremaining\">0.0</td>\n",
              "        <td class=\"number\">89</td>\n",
              "        <td class=\"number\">14.5%</td>\n",
              "        <td>\n",
              "            <div class=\"bar\" style=\"width:19%\">&nbsp;</div>\n",
              "        </td>\n",
              "</tr><tr class=\"\">\n",
              "        <td class=\"fillremaining\">1.0</td>\n",
              "        <td class=\"number\">475</td>\n",
              "        <td class=\"number\">77.4%</td>\n",
              "        <td>\n",
              "            <div class=\"bar\" style=\"width:100%\">&nbsp;</div>\n",
              "        </td>\n",
              "</tr>\n",
              "</table>\n",
              "            <p class=\"h4\">Maximum 5 values</p>\n",
              "            \n",
              "<table class=\"freq table table-hover\">\n",
              "    <thead>\n",
              "    <tr>\n",
              "        <td class=\"fillremaining\">Value</td>\n",
              "        <td class=\"number\">Count</td>\n",
              "        <td class=\"number\">Frequency (%)</td>\n",
              "        <td style=\"min-width:200px\">&nbsp;</td>\n",
              "    </tr>\n",
              "    </thead>\n",
              "    <tr class=\"\">\n",
              "        <td class=\"fillremaining\">0.0</td>\n",
              "        <td class=\"number\">89</td>\n",
              "        <td class=\"number\">14.5%</td>\n",
              "        <td>\n",
              "            <div class=\"bar\" style=\"width:19%\">&nbsp;</div>\n",
              "        </td>\n",
              "</tr><tr class=\"\">\n",
              "        <td class=\"fillremaining\">1.0</td>\n",
              "        <td class=\"number\">475</td>\n",
              "        <td class=\"number\">77.4%</td>\n",
              "        <td>\n",
              "            <div class=\"bar\" style=\"width:100%\">&nbsp;</div>\n",
              "        </td>\n",
              "</tr>\n",
              "</table>\n",
              "        </div>\n",
              "    </div>\n",
              "</div>\n",
              "</div><div class=\"row variablerow\">\n",
              "    <div class=\"col-md-3 namecol\">\n",
              "        <p class=\"h4 pp-anchor\" id=\"pp_var_Dependents\">Dependents<br/>\n",
              "            <small>Categorical</small>\n",
              "        </p>\n",
              "    </div><div class=\"col-md-3\">\n",
              "    <table class=\"stats \">\n",
              "        <tr class=\"\">\n",
              "            <th>Distinct count</th>\n",
              "            <td>5</td>\n",
              "        </tr>\n",
              "        <tr>\n",
              "            <th>Unique (%)</th>\n",
              "            <td>0.8%</td>\n",
              "        </tr>\n",
              "        <tr class=\"alert\">\n",
              "            <th>Missing (%)</th>\n",
              "            <td>2.4%</td>\n",
              "        </tr>\n",
              "        <tr class=\"alert\">\n",
              "            <th>Missing (n)</th>\n",
              "            <td>15</td>\n",
              "        </tr>\n",
              "    </table>\n",
              "</div>\n",
              "<div class=\"col-md-6 collapse in\" id=\"minifreqtable1166640759361566060\">\n",
              "    <table class=\"mini freq\">\n",
              "        <tr class=\"\">\n",
              "    <th>0</th>\n",
              "    <td>\n",
              "        <div class=\"bar\" style=\"width:100%\" data-toggle=\"tooltip\" data-placement=\"right\" data-html=\"true\"\n",
              "             data-delay=500 title=\"Percentage: 56.2%\">\n",
              "            345\n",
              "        </div>\n",
              "        \n",
              "    </td>\n",
              "</tr><tr class=\"\">\n",
              "    <th>1</th>\n",
              "    <td>\n",
              "        <div class=\"bar\" style=\"width:30%\" data-toggle=\"tooltip\" data-placement=\"right\" data-html=\"true\"\n",
              "             data-delay=500 title=\"Percentage: 16.6%\">\n",
              "            102\n",
              "        </div>\n",
              "        \n",
              "    </td>\n",
              "</tr><tr class=\"\">\n",
              "    <th>2</th>\n",
              "    <td>\n",
              "        <div class=\"bar\" style=\"width:29%\" data-toggle=\"tooltip\" data-placement=\"right\" data-html=\"true\"\n",
              "             data-delay=500 title=\"Percentage: 16.4%\">\n",
              "            101\n",
              "        </div>\n",
              "        \n",
              "    </td>\n",
              "</tr>\n",
              "    </table>\n",
              "</div>\n",
              "<div class=\"col-md-12 text-right\">\n",
              "    <a role=\"button\" data-toggle=\"collapse\" data-target=\"#freqtable1166640759361566060, #minifreqtable1166640759361566060\"\n",
              "       aria-expanded=\"true\" aria-controls=\"collapseExample\">\n",
              "        Toggle details\n",
              "    </a>\n",
              "</div>\n",
              "<div class=\"col-md-12 extrapadding collapse\" id=\"freqtable1166640759361566060\">\n",
              "    \n",
              "<table class=\"freq table table-hover\">\n",
              "    <thead>\n",
              "    <tr>\n",
              "        <td class=\"fillremaining\">Value</td>\n",
              "        <td class=\"number\">Count</td>\n",
              "        <td class=\"number\">Frequency (%)</td>\n",
              "        <td style=\"min-width:200px\">&nbsp;</td>\n",
              "    </tr>\n",
              "    </thead>\n",
              "    <tr class=\"\">\n",
              "        <td class=\"fillremaining\">0</td>\n",
              "        <td class=\"number\">345</td>\n",
              "        <td class=\"number\">56.2%</td>\n",
              "        <td>\n",
              "            <div class=\"bar\" style=\"width:100%\">&nbsp;</div>\n",
              "        </td>\n",
              "</tr><tr class=\"\">\n",
              "        <td class=\"fillremaining\">1</td>\n",
              "        <td class=\"number\">102</td>\n",
              "        <td class=\"number\">16.6%</td>\n",
              "        <td>\n",
              "            <div class=\"bar\" style=\"width:30%\">&nbsp;</div>\n",
              "        </td>\n",
              "</tr><tr class=\"\">\n",
              "        <td class=\"fillremaining\">2</td>\n",
              "        <td class=\"number\">101</td>\n",
              "        <td class=\"number\">16.4%</td>\n",
              "        <td>\n",
              "            <div class=\"bar\" style=\"width:29%\">&nbsp;</div>\n",
              "        </td>\n",
              "</tr><tr class=\"\">\n",
              "        <td class=\"fillremaining\">3+</td>\n",
              "        <td class=\"number\">51</td>\n",
              "        <td class=\"number\">8.3%</td>\n",
              "        <td>\n",
              "            <div class=\"bar\" style=\"width:15%\">&nbsp;</div>\n",
              "        </td>\n",
              "</tr><tr class=\"missing\">\n",
              "        <td class=\"fillremaining\">(Missing)</td>\n",
              "        <td class=\"number\">15</td>\n",
              "        <td class=\"number\">2.4%</td>\n",
              "        <td>\n",
              "            <div class=\"bar\" style=\"width:5%\">&nbsp;</div>\n",
              "        </td>\n",
              "</tr>\n",
              "</table>\n",
              "</div>\n",
              "</div><div class=\"row variablerow\">\n",
              "    <div class=\"col-md-3 namecol\">\n",
              "        <p class=\"h4 pp-anchor\" id=\"pp_var_Education\">Education<br/>\n",
              "            <small>Categorical</small>\n",
              "        </p>\n",
              "    </div><div class=\"col-md-3\">\n",
              "    <table class=\"stats \">\n",
              "        <tr class=\"\">\n",
              "            <th>Distinct count</th>\n",
              "            <td>2</td>\n",
              "        </tr>\n",
              "        <tr>\n",
              "            <th>Unique (%)</th>\n",
              "            <td>0.3%</td>\n",
              "        </tr>\n",
              "        <tr class=\"ignore\">\n",
              "            <th>Missing (%)</th>\n",
              "            <td>0.0%</td>\n",
              "        </tr>\n",
              "        <tr class=\"ignore\">\n",
              "            <th>Missing (n)</th>\n",
              "            <td>0</td>\n",
              "        </tr>\n",
              "    </table>\n",
              "</div>\n",
              "<div class=\"col-md-6 collapse in\" id=\"minifreqtable-3441463626698499847\">\n",
              "    <table class=\"mini freq\">\n",
              "        <tr class=\"\">\n",
              "    <th>Graduate</th>\n",
              "    <td>\n",
              "        <div class=\"bar\" style=\"width:100%\" data-toggle=\"tooltip\" data-placement=\"right\" data-html=\"true\"\n",
              "             data-delay=500 title=\"Percentage: 78.2%\">\n",
              "            480\n",
              "        </div>\n",
              "        \n",
              "    </td>\n",
              "</tr><tr class=\"\">\n",
              "    <th>Not Graduate</th>\n",
              "    <td>\n",
              "        <div class=\"bar\" style=\"width:28%\" data-toggle=\"tooltip\" data-placement=\"right\" data-html=\"true\"\n",
              "             data-delay=500 title=\"Percentage: 21.8%\">\n",
              "            134\n",
              "        </div>\n",
              "        \n",
              "    </td>\n",
              "</tr>\n",
              "    </table>\n",
              "</div>\n",
              "<div class=\"col-md-12 text-right\">\n",
              "    <a role=\"button\" data-toggle=\"collapse\" data-target=\"#freqtable-3441463626698499847, #minifreqtable-3441463626698499847\"\n",
              "       aria-expanded=\"true\" aria-controls=\"collapseExample\">\n",
              "        Toggle details\n",
              "    </a>\n",
              "</div>\n",
              "<div class=\"col-md-12 extrapadding collapse\" id=\"freqtable-3441463626698499847\">\n",
              "    \n",
              "<table class=\"freq table table-hover\">\n",
              "    <thead>\n",
              "    <tr>\n",
              "        <td class=\"fillremaining\">Value</td>\n",
              "        <td class=\"number\">Count</td>\n",
              "        <td class=\"number\">Frequency (%)</td>\n",
              "        <td style=\"min-width:200px\">&nbsp;</td>\n",
              "    </tr>\n",
              "    </thead>\n",
              "    <tr class=\"\">\n",
              "        <td class=\"fillremaining\">Graduate</td>\n",
              "        <td class=\"number\">480</td>\n",
              "        <td class=\"number\">78.2%</td>\n",
              "        <td>\n",
              "            <div class=\"bar\" style=\"width:100%\">&nbsp;</div>\n",
              "        </td>\n",
              "</tr><tr class=\"\">\n",
              "        <td class=\"fillremaining\">Not Graduate</td>\n",
              "        <td class=\"number\">134</td>\n",
              "        <td class=\"number\">21.8%</td>\n",
              "        <td>\n",
              "            <div class=\"bar\" style=\"width:28%\">&nbsp;</div>\n",
              "        </td>\n",
              "</tr>\n",
              "</table>\n",
              "</div>\n",
              "</div><div class=\"row variablerow\">\n",
              "    <div class=\"col-md-3 namecol\">\n",
              "        <p class=\"h4 pp-anchor\" id=\"pp_var_Gender\">Gender<br/>\n",
              "            <small>Categorical</small>\n",
              "        </p>\n",
              "    </div><div class=\"col-md-3\">\n",
              "    <table class=\"stats \">\n",
              "        <tr class=\"\">\n",
              "            <th>Distinct count</th>\n",
              "            <td>3</td>\n",
              "        </tr>\n",
              "        <tr>\n",
              "            <th>Unique (%)</th>\n",
              "            <td>0.5%</td>\n",
              "        </tr>\n",
              "        <tr class=\"alert\">\n",
              "            <th>Missing (%)</th>\n",
              "            <td>2.1%</td>\n",
              "        </tr>\n",
              "        <tr class=\"alert\">\n",
              "            <th>Missing (n)</th>\n",
              "            <td>13</td>\n",
              "        </tr>\n",
              "    </table>\n",
              "</div>\n",
              "<div class=\"col-md-6 collapse in\" id=\"minifreqtable601329272024439292\">\n",
              "    <table class=\"mini freq\">\n",
              "        <tr class=\"\">\n",
              "    <th>Male</th>\n",
              "    <td>\n",
              "        <div class=\"bar\" style=\"width:100%\" data-toggle=\"tooltip\" data-placement=\"right\" data-html=\"true\"\n",
              "             data-delay=500 title=\"Percentage: 79.6%\">\n",
              "            489\n",
              "        </div>\n",
              "        \n",
              "    </td>\n",
              "</tr><tr class=\"\">\n",
              "    <th>Female</th>\n",
              "    <td>\n",
              "        <div class=\"bar\" style=\"width:23%\" data-toggle=\"tooltip\" data-placement=\"right\" data-html=\"true\"\n",
              "             data-delay=500 title=\"Percentage: 18.2%\">\n",
              "            112\n",
              "        </div>\n",
              "        \n",
              "    </td>\n",
              "</tr><tr class=\"missing\">\n",
              "    <th>(Missing)</th>\n",
              "    <td>\n",
              "        <div class=\"bar\" style=\"width:3%\" data-toggle=\"tooltip\" data-placement=\"right\" data-html=\"true\"\n",
              "             data-delay=500 title=\"Percentage: 2.1%\">\n",
              "            &nbsp;\n",
              "        </div>\n",
              "        13\n",
              "    </td>\n",
              "</tr>\n",
              "    </table>\n",
              "</div>\n",
              "<div class=\"col-md-12 text-right\">\n",
              "    <a role=\"button\" data-toggle=\"collapse\" data-target=\"#freqtable601329272024439292, #minifreqtable601329272024439292\"\n",
              "       aria-expanded=\"true\" aria-controls=\"collapseExample\">\n",
              "        Toggle details\n",
              "    </a>\n",
              "</div>\n",
              "<div class=\"col-md-12 extrapadding collapse\" id=\"freqtable601329272024439292\">\n",
              "    \n",
              "<table class=\"freq table table-hover\">\n",
              "    <thead>\n",
              "    <tr>\n",
              "        <td class=\"fillremaining\">Value</td>\n",
              "        <td class=\"number\">Count</td>\n",
              "        <td class=\"number\">Frequency (%)</td>\n",
              "        <td style=\"min-width:200px\">&nbsp;</td>\n",
              "    </tr>\n",
              "    </thead>\n",
              "    <tr class=\"\">\n",
              "        <td class=\"fillremaining\">Male</td>\n",
              "        <td class=\"number\">489</td>\n",
              "        <td class=\"number\">79.6%</td>\n",
              "        <td>\n",
              "            <div class=\"bar\" style=\"width:100%\">&nbsp;</div>\n",
              "        </td>\n",
              "</tr><tr class=\"\">\n",
              "        <td class=\"fillremaining\">Female</td>\n",
              "        <td class=\"number\">112</td>\n",
              "        <td class=\"number\">18.2%</td>\n",
              "        <td>\n",
              "            <div class=\"bar\" style=\"width:23%\">&nbsp;</div>\n",
              "        </td>\n",
              "</tr><tr class=\"missing\">\n",
              "        <td class=\"fillremaining\">(Missing)</td>\n",
              "        <td class=\"number\">13</td>\n",
              "        <td class=\"number\">2.1%</td>\n",
              "        <td>\n",
              "            <div class=\"bar\" style=\"width:3%\">&nbsp;</div>\n",
              "        </td>\n",
              "</tr>\n",
              "</table>\n",
              "</div>\n",
              "</div><div class=\"row variablerow\">\n",
              "    <div class=\"col-md-3 namecol\">\n",
              "        <p class=\"h4 pp-anchor\" id=\"pp_var_LoanAmount\">LoanAmount<br/>\n",
              "            <small>Numeric</small>\n",
              "        </p>\n",
              "    </div><div class=\"col-md-6\">\n",
              "    <div class=\"row\">\n",
              "        <div class=\"col-sm-6\">\n",
              "            <table class=\"stats \">\n",
              "                <tr>\n",
              "                    <th>Distinct count</th>\n",
              "                    <td>204</td>\n",
              "                </tr>\n",
              "                <tr>\n",
              "                    <th>Unique (%)</th>\n",
              "                    <td>33.2%</td>\n",
              "                </tr>\n",
              "                <tr class=\"alert\">\n",
              "                    <th>Missing (%)</th>\n",
              "                    <td>3.6%</td>\n",
              "                </tr>\n",
              "                <tr class=\"alert\">\n",
              "                    <th>Missing (n)</th>\n",
              "                    <td>22</td>\n",
              "                </tr>\n",
              "                <tr class=\"ignore\">\n",
              "                    <th>Infinite (%)</th>\n",
              "                    <td>0.0%</td>\n",
              "                </tr>\n",
              "                <tr class=\"ignore\">\n",
              "                    <th>Infinite (n)</th>\n",
              "                    <td>0</td>\n",
              "                </tr>\n",
              "            </table>\n",
              "\n",
              "        </div>\n",
              "        <div class=\"col-sm-6\">\n",
              "            <table class=\"stats \">\n",
              "\n",
              "                <tr>\n",
              "                    <th>Mean</th>\n",
              "                    <td>146.41</td>\n",
              "                </tr>\n",
              "                <tr>\n",
              "                    <th>Minimum</th>\n",
              "                    <td>9</td>\n",
              "                </tr>\n",
              "                <tr>\n",
              "                    <th>Maximum</th>\n",
              "                    <td>700</td>\n",
              "                </tr>\n",
              "                <tr class=\"ignore\">\n",
              "                    <th>Zeros (%)</th>\n",
              "                    <td>0.0%</td>\n",
              "                </tr>\n",
              "            </table>\n",
              "        </div>\n",
              "    </div>\n",
              "</div>\n",
              "<div class=\"col-md-3 collapse in\" id=\"minihistogram5915958038543251491\">\n",
              "    <img src=\"data:image/png;base64,iVBORw0KGgoAAAANSUhEUgAAAMgAAABLCAYAAAA1fMjoAAAABHNCSVQICAgIfAhkiAAAAAlwSFlzAAAPYQAAD2EBqD%2BnaQAAADl0RVh0U29mdHdhcmUAbWF0cGxvdGxpYiB2ZXJzaW9uIDMuMC4zLCBodHRwOi8vbWF0cGxvdGxpYi5vcmcvnQurowAAASVJREFUeJzt3MENwiAAQFE1juQQ7uTZnRzCnXAB82ONTVHfuzfh8ktLgP0YY%2ByApw5bDwBmdtx6AJ9wutwWP3O/nlcYCb/GDAJBIBAEAkEgEAQCQSAQBAJBIBAEAkEgEAQCQSAQBAJBIBAEAkEgEAQCQSAQBAJBIBAEAkEgEAQCQSAQfuLiuHe4bI5XmEEgCASCQCAIBIJAIAgEgkAgCASCQCAIBMJ0W03e2QICazGDQBAIBIFAEAgEgUCYbhVrZktX2Byw%2Bn5mEAgCgeATa0XOvX8/gUzm33cSzPaC2I8xxtaDgFn5B4EgEAgCgSAQCAKBIBAIAoEgEAgCgSAQCAKBIBAIAoEgEAgCgSAQCAKBIBAIAoEgEAgCgSAQCAKBIBAIAoHwAEi8GQBpnq4ZAAAAAElFTkSuQmCC\">\n",
              "\n",
              "</div>\n",
              "<div class=\"col-md-12 text-right\">\n",
              "    <a role=\"button\" data-toggle=\"collapse\" data-target=\"#descriptives5915958038543251491,#minihistogram5915958038543251491\"\n",
              "       aria-expanded=\"false\" aria-controls=\"collapseExample\">\n",
              "        Toggle details\n",
              "    </a>\n",
              "</div>\n",
              "<div class=\"row collapse col-md-12\" id=\"descriptives5915958038543251491\">\n",
              "    <ul class=\"nav nav-tabs\" role=\"tablist\">\n",
              "        <li role=\"presentation\" class=\"active\"><a href=\"#quantiles5915958038543251491\"\n",
              "                                                  aria-controls=\"quantiles5915958038543251491\" role=\"tab\"\n",
              "                                                  data-toggle=\"tab\">Statistics</a></li>\n",
              "        <li role=\"presentation\"><a href=\"#histogram5915958038543251491\" aria-controls=\"histogram5915958038543251491\"\n",
              "                                   role=\"tab\" data-toggle=\"tab\">Histogram</a></li>\n",
              "        <li role=\"presentation\"><a href=\"#common5915958038543251491\" aria-controls=\"common5915958038543251491\"\n",
              "                                   role=\"tab\" data-toggle=\"tab\">Common Values</a></li>\n",
              "        <li role=\"presentation\"><a href=\"#extreme5915958038543251491\" aria-controls=\"extreme5915958038543251491\"\n",
              "                                   role=\"tab\" data-toggle=\"tab\">Extreme Values</a></li>\n",
              "\n",
              "    </ul>\n",
              "\n",
              "    <div class=\"tab-content\">\n",
              "        <div role=\"tabpanel\" class=\"tab-pane active row\" id=\"quantiles5915958038543251491\">\n",
              "            <div class=\"col-md-4 col-md-offset-1\">\n",
              "                <p class=\"h4\">Quantile statistics</p>\n",
              "                <table class=\"stats indent\">\n",
              "                    <tr>\n",
              "                        <th>Minimum</th>\n",
              "                        <td>9</td>\n",
              "                    </tr>\n",
              "                    <tr>\n",
              "                        <th>5-th percentile</th>\n",
              "                        <td>56</td>\n",
              "                    </tr>\n",
              "                    <tr>\n",
              "                        <th>Q1</th>\n",
              "                        <td>100</td>\n",
              "                    </tr>\n",
              "                    <tr>\n",
              "                        <th>Median</th>\n",
              "                        <td>128</td>\n",
              "                    </tr>\n",
              "                    <tr>\n",
              "                        <th>Q3</th>\n",
              "                        <td>168</td>\n",
              "                    </tr>\n",
              "                    <tr>\n",
              "                        <th>95-th percentile</th>\n",
              "                        <td>297.8</td>\n",
              "                    </tr>\n",
              "                    <tr>\n",
              "                        <th>Maximum</th>\n",
              "                        <td>700</td>\n",
              "                    </tr>\n",
              "                    <tr>\n",
              "                        <th>Range</th>\n",
              "                        <td>691</td>\n",
              "                    </tr>\n",
              "                    <tr>\n",
              "                        <th>Interquartile range</th>\n",
              "                        <td>68</td>\n",
              "                    </tr>\n",
              "                </table>\n",
              "            </div>\n",
              "            <div class=\"col-md-4 col-md-offset-2\">\n",
              "                <p class=\"h4\">Descriptive statistics</p>\n",
              "                <table class=\"stats indent\">\n",
              "                    <tr>\n",
              "                        <th>Standard deviation</th>\n",
              "                        <td>85.587</td>\n",
              "                    </tr>\n",
              "                    <tr>\n",
              "                        <th>Coef of variation</th>\n",
              "                        <td>0.58456</td>\n",
              "                    </tr>\n",
              "                    <tr>\n",
              "                        <th>Kurtosis</th>\n",
              "                        <td>10.402</td>\n",
              "                    </tr>\n",
              "                    <tr>\n",
              "                        <th>Mean</th>\n",
              "                        <td>146.41</td>\n",
              "                    </tr>\n",
              "                    <tr>\n",
              "                        <th>MAD</th>\n",
              "                        <td>55.248</td>\n",
              "                    </tr>\n",
              "                    <tr class=\"\">\n",
              "                        <th>Skewness</th>\n",
              "                        <td>2.6776</td>\n",
              "                    </tr>\n",
              "                    <tr>\n",
              "                        <th>Sum</th>\n",
              "                        <td>86676</td>\n",
              "                    </tr>\n",
              "                    <tr>\n",
              "                        <th>Variance</th>\n",
              "                        <td>7325.2</td>\n",
              "                    </tr>\n",
              "                    <tr>\n",
              "                        <th>Memory size</th>\n",
              "                        <td>4.9 KiB</td>\n",
              "                    </tr>\n",
              "                </table>\n",
              "            </div>\n",
              "        </div>\n",
              "        <div role=\"tabpanel\" class=\"tab-pane col-md-8 col-md-offset-2\" id=\"histogram5915958038543251491\">\n",
              "            <img src=\"data:image/png;base64,iVBORw0KGgoAAAANSUhEUgAAAlgAAAGQCAYAAAByNR6YAAAABHNCSVQICAgIfAhkiAAAAAlwSFlzAAAPYQAAD2EBqD%2BnaQAAADl0RVh0U29mdHdhcmUAbWF0cGxvdGxpYiB2ZXJzaW9uIDMuMC4zLCBodHRwOi8vbWF0cGxvdGxpYi5vcmcvnQurowAAIABJREFUeJzt3Xtc1HXe//8nB6VUQHBFd83SzTAR8IBCoYVSYelq5gnpVmZZmVGkaWGWu7a2Ype6rkmXabt1WXhdkd4qD3loy7SD7na0BjSvRL0ybhiUTCiBCbx/f/R1fo1oIrxzhpnH/Xbzhr7f8/nM6zkz7T6ZGYYAY4wRAAAArAn09AAAAAC%2BhoIFAABgGQULAADAMgoWAACAZRQsAAAAyyhYAAAAllGwAAAALKNgAQAAWEbBAgAAsIyCBQAAYBkFCwAAwDIKFgAAgGUULAAAAMsoWAAAAJZRsAAAACyjYAEAAFhGwQIAALCMggUAAGAZBQsAAMAyChYAAIBlFCwAAADLKFgAAACWUbAAAAAso2ABAABYRsECAACwjIIFAABgGQULAADAMgoWAACAZRQsAAAAyyhYAAAAllGwAAAALKNgAQAAWEbBAgAAsIyCBQAAYBkFCwAAwDIKFgAAgGUULAAAAMsoWAAAAJZRsAAAACwL9vQA/qKs7Gijjw0MDFBkZGsdOVKpujpjcSrvR3b/zC75d36yk53s9rRvH2r1fA3FM1jNQGBggAICAhQYGODpUc47svtndsm/85Od7P7GF7NTsAAAACyjYAEAAFhGwQIAALCMggUAAGAZBQsAAMAyChYAAIBlFCwAAADLKFgAAACWUbAAAAAso2ABAABYRsECAACwjIIFAABgGQULAADAsmBPDwD/ccPf3vf0COdk09QBnh4BANBM8QwWAACAZRQsAAAAyyhYAAAAllGwAAAALKNgAQAAWOazBeuLL77QbbfdpoSEBCUnJ2vq1KkqKyuTJO3cuVNjxoxR3759NWzYMK1bt87t2BdeeEFDhgxR3759lZGRoYKCAk9EAAAAzZRPFqwff/xRd9xxhxITE7Vz505t2LBB3333nebMmaPS0lLde%2B%2B9Gj9%2BvHbu3KlHH31Us2fPlsPhkCRt3bpVS5cu1X/8x39ox44dGjx4sO655x798MMPHk4FAACaC58sWFVVVZo2bZomT56sli1bKjIyUtddd52%2B/PJLrV%2B/Xl26dNGYMWMUEhKi5ORkpaamavXq1ZKk/Px8jRo1Sr169dIFF1ygO%2B%2B8U5L09ttvezISAABoRnzyg0bDw8M1duxY17/379%2BvV199VTfccIMKCwsVExPjdvmYmBht2rRJklRYWKihQ4e69gIDA9WjRw85HA4NGzasQddfWlrqejnypODgVoqKimpUnqCgQLevOD%2BCgz17e/v7/e7P%2BclOdn/ji9l9smCdVFxcrCFDhqimpkbjxo1TVlaW7rrrLnXo0MHtcm3btlV5ebkkyel0Kjw83G0/PDzctd8Q%2Bfn5ys3NdVvLzMxUVlZWI5P8JCzswiYdj3MTEdHa0yNI4n735/xk909k9w0%2BXbA6deokh8Oh//u//9Mf//hHPfzwww06zhjTpOtNT09Xamqq21pwcCuVl1c26nxBQYEKC7tQFRVVqq2ta9JsaLjG3l%2B2%2BPv97s/5yU52stvjqW%2BWfbpgSVJAQIC6dOmiadOmafz48UpJSZHT6XS7THl5uSIjIyVJERER9fadTqcuu%2ByyBl9nVFRUvZcDy8qOqqamaQ%2Ba2tq6Jp8DDectt7W/3%2B/%2BnJ/sZPc3vpTdd17s/JmdO3dqyJAhqqv7/%2B%2BkwMCfosbHx9f72IWCggL16tVLkhQbG6vCwkLXXm1trXbv3u3aBwAAOBufLFixsbE6duyYFixYoKqqKh05ckRLly5Vv379lJGRoeLiYq1evVrHjx/X9u3btX37do0bN06SlJGRoddee027du1SVVWVli1bppYtW2rQoEGeDQUAAJoNnyxYoaGheu6551RQUKArrrhCw4YNU2hoqP7617%2BqXbt2Wr58ufLy8pSQkKB58%2BZpwYIFuvzyyyVJV199tR588EFNnTpViYmJ2rFjh1asWKELLrjAw6kAAEBz4bPvwerevbtefPHF0%2B71799fa9euPeOxN998s26%2B%2BeZfazQAAODjfPIZLAAAAE%2BiYAEAAFhGwQIAALCMggUAAGAZBQsAAMAyChYAAIBlFCwAAADLKFgAAACWUbAAAAAso2ABAABYRsECAACwjIIFAABgGQULAADAMgoWAACAZRQsAAAAyyhYAAAAllGwAAAALKNgAQAAWEbBAgAAsIyCBQAAYBkFCwAAwDIKFgAAgGUULAAAAMsoWAAAAJZRsAAAACyjYAEAAFhGwQIAALCMggUAAGAZBQsAAMAyChYAAIBlFCwAAADLKFgAAACWUbAAAAAso2ABAABYRsECAACwjIIFAABgGQULAADAMgoWAACAZT5bsIqLi5WZmamkpCQlJydr5syZqqio0Ndff63u3bsrLi7O7c8//vEP17EbN27U8OHD1adPH40aNUrvvfeeB5MAAIDmJtjTA/xa7rnnHsXGxmrr1q06evSoMjMz9eSTT2rKlCmSJIfDcdrj9uzZo%2BzsbOXm5uqKK67Qli1bdN9992nz5s3q2LHj%2BYwAAACaKZ98BquiokKxsbGaPn26WrdurY4dO%2Bqmm27SRx99dNZjV69erZSUFKWkpCgkJEQjRoxQdHS01q1bdx4mBwAAvsAnn8EKCwtTTk6O21pJSYmioqJc/3744Ye1Y8cO1dTUaOzYscrKylKLFi1UWFiolJQUt2NjYmLO%2BIzX6ZSWlqqsrMxtLTi4ldv1n4ugoEC3rzg/goM9e3v7%2B/3uz/nJTnZ/44vZfbJgncrhcCgvL0/Lli1Ty5Yt1adPH1133XX6y1/%2Boj179uj%2B%2B%2B9XcHCwHnjgATmdToWHh7sdHx4ern379jX4%2BvLz85Wbm%2Bu2lpmZqaysrCblCAu7sEnH49xERLT29AiSuN/9OT/Z/RPZfYPPF6yPP/5YU6ZM0fTp05WcnCxJeumll1z78fHxmjx5spYvX64HHnhAkmSMadJ1pqenKzU11W0tOLiVyssrG3W%2BoKBAhYVdqIqKKtXW1jVpNjRcY%2B8vW/z9fvfn/GQnO9nt8dQ3yz5dsLZu3aqHHnpIs2fP1siRI894uU6dOunbb7%2BVMUYRERFyOp1u%2B06nU5GRkQ2%2B3qioqHovB5aVHVVNTdMeNLW1dU0%2BBxrOW25rf7/f/Tk/2cnub3wpu%2B%2B82HmKTz75RNnZ2VqyZIlbudq5c6eWLVvmdtn9%2B/erU6dOCggIUGxsrAoKCtz2HQ6HevXqdV7mBgAAzZ9PFqyamho99thjmjFjhgYOHOi2Fxoaqqefflpr167ViRMn5HA49I9//EMZGRmSpHHjxmnHjh3atm2bjh8/rjVr1ujgwYMaMWKEJ6IAAIBmyCdfIty1a5eKior0xBNP6IknnnDb27x5sxYvXqzc3Fz98Y9/VGhoqG699VbddtttkqTo6GgtXLhQOTk5Ki4uVrdu3bR8%2BXK1b9/eE1EAAEAz5JMFq1%2B/ftq7d%2B8Z9zt16qTrrrvujPtpaWlKS0v7NUYDAAB%2BwCdfIgQAAPAkChYAAIBlFCwAAADLKFgAAACWUbAAAAAso2ABAABYRsECAACwjIIFAABgGQULAADAMgoWAACAZRQsAAAAyyhYAAAAllGwAAAALKNgAQAAWEbBAgAAsIyCBQAAYBkFCwAAwDIKFgAAgGUULAAAAMsoWAAAAJZRsAAAACyjYAEAAFhGwQIAALCMggUAAGAZBQsAAMAyChYAAIBlFCwAAADLKFgAAACWUbAAAAAso2ABAABYRsECAACwjIIFAABgGQULAADAMgoWAACAZRQsAAAAyyhYAAAAllGwAAAALKNgAQAAWOazBau4uFiZmZlKSkpScnKyZs6cqYqKCknSnj17dMsttyghIUFpaWl67rnn3I7duHGjhg8frj59%2BmjUqFF67733PBEBAAA0Uz5bsO655x6FhYVp69ateuWVV/Tll1/qySefVHV1tSZPnqwrrrhC7777rhYvXqzly5frjTfekPRT%2BcrOztaMGTP0r3/9SxMnTtR9992nw4cPezgRAABoLnyyYFVUVCg2NlbTp09X69at1bFjR91000366KOPtG3bNp04cUJTpkxRq1at1LNnT40dO1b5%2BfmSpNWrVyslJUUpKSkKCQnRiBEjFB0drXXr1nk4FQAAaC6CPT3AryEsLEw5OTluayUlJYqKilJhYaG6d%2B%2BuoKAg115MTIxWr14tSSosLFRKSorbsTExMXI4HA2%2B/tLSUpWVlbmtBQe3UlRU1LlGkSQFBQW6fcX5ERzs2dvb3%2B93f85PdrL7G1/M7pMF61QOh0N5eXlatmyZNm3apLCwMLf9tm3byul0qq6uTk6nU%2BHh4W774eHh2rdvX4OvLz8/X7m5uW5rmZmZysrKanwISWFhFzbpeJybiIjWnh5BEve7P%2Bcnu38iu2/w%2BYL18ccfa8qUKZo%2BfbqSk5O1adOm014uICDA9XdjTJOuMz09XampqW5rwcGtVF5e2ajzBQUFKizsQlVUVKm2tq5Js6HhGnt/2eLv97s/5yc72cluj6e%2BWfbpgrV161Y99NBDmj17tkaOHClJioyM1MGDB90u53Q61bZtWwUGBioiIkJOp7PefmRkZIOvNyoqqt7LgWVlR1VT07QHTW1tXZPPgYbzltva3%2B93f85PdrL7G1/K7jsvdp7ik08%2BUXZ2tpYsWeIqV5IUGxurvXv3qqamxrXmcDjUq1cv135BQYHbuX6%2BDwAAcDZeV7BSU1OVm5urkpKSRp%2BjpqZGjz32mGbMmKGBAwe67aWkpKhNmzZatmyZqqqq9Nlnn2nNmjXKyMiQJI0bN047duzQtm3bdPz4ca1Zs0YHDx7UiBEjmpQLAAD4D68rWKNHj9bGjRt17bXX6s4779Qbb7zh9mxTQ%2BzatUtFRUV64oknFBcX5/anrKxMzzzzjHbs2KHExERNnTpV06ZN06BBgyRJ0dHRWrhwoXJycpSQkKC8vDwtX75c7du3/xXSAgAAXxRgmvqO7l9JYWGhNmzYoE2bNunEiRMaOXKkxowZo65du3p6tEYpKzva6GODgwMVEdFa5eWVzfq16Rv%2B9r6nRzgnm6YO8Oj1%2B8r93lj%2BnJ/sZCe7Pe3bh1o9X0N53TNYJ/Xs2VPZ2dl6%2B%2B23NWvWLL388ssaOnSoJk2apM8//9zT4wEAAJyR1xasEydOaOPGjbrrrruUnZ2tDh066JFHHlGPHj00ceJErV%2B/3tMjAgAAnJbXfUxDUVGR1qxZo9dee02VlZUaMmSIVq5cqYSEBNdl%2Bvfvrzlz5mj48OEenBQAAOD0vK5gDRs2TF27dtXkyZM1cuRItW3btt5lUlJSdOTIEQ9MBwAAcHZeV7BeeOEFJSYmnvVyn3322XmYBgAA4Nx53XuwunfvrnvuuUdvvvmma%2B2//uu/dNddd9X7hHUAAABv5HUFKycnR0ePHlW3bt1ca4MGDVJdXZ3mz5/vwckAAAAaxuteInzvvfe0fv16RUREuNa6dOmihQsX6g9/%2BIMHJwMAAGgYr3sGq7q6WiEhIfXWAwMDVVVV5YGJAAAAzo3XFaz%2B/ftr/vz5%2Bv77711r33zzjR5//HG3j2oAAADwVl73EuGsWbN0xx136Morr1SbNm1UV1enyspKde7cWS%2B%2B%2BKKnxwMAADgrrytYnTt31uuvv6533nlHX331lQIDA9W1a1cNHDhQQUFBnh4PAADgrLyuYElSy5Ytde2113p6DAAAgEbxuoJ16NAhLVq0SF9%2B%2BaWqq6vr7b/11lsemAoAAKDhvK5gzZo1S6WlpRo4cKBatWrl6XEAAADOmdcVrIKCAr311luKjIz09CgAAACN4nUf09CuXTueuQIAAM2a1xWsyZMnKzc3V8YYT48CAADQKF73EuE777yjTz75RK%2B88oouuugiBQa6d8CXXnrJQ5MBAAA0jNcVrDZt2ujqq6/29BgAAACN5nUFKycnx9MjAAAANInXvQdLkvbv36%2BlS5fqkUceca19%2BumnHpwIAACg4byuYO3cuVMjRozQG2%2B8oQ0bNkj66cNHJ0yYwIeMAgCAZsHrCtbixYv10EMPaf369QoICJD00%2B8nnD9/vp5%2B%2BmkPTwcAAHB2Xlew/vd//1cZGRmS5CpYknT99derqKjIU2MBAAA0mNcVrNDQ0NP%2BDsLS0lK1bNnSAxMBAACcG68rWH379tW8efN07Ngx19qBAweUnZ2tK6%2B80oOTAQAANIzXfUzDI488ottuu01JSUmqra1V3759VVVVpcsuu0zz58/39HgAAABn5XUFq2PHjtqwYYO2b9%2BuAwcO6IILLlDXrl01YMAAt/dkAQAAeCuvK1iS1KJFC1177bWeHgMAAKBRvK5gpaam/uIzVXwWFgAA8HZeV7CGDh3qVrBqa2t14MABORwO3XbbbR6cDAAAoGG8rmDNmDHjtOtbtmzRv//97/M8DQAAwLnzuo9pOJNrr71Wr7/%2BuqfHAAAAOKtmU7B2794tY4ynxwAAADgrr3uJcPz48fXWqqqqVFRUpLS0NA9MBAAAcG68rmB16dKl3k8RhoSEaMyYMRo7dqyHpgIAAGg4rytYfFo7AABo7ryuYL322msNvuzIkSPPuPfuu%2B8qOztbSUlJWrx4sWv9lVde0axZs9SiRQu3y69atUrx8fGqq6vTkiVLtGHDBlVUVCg%2BPl5z5sxR586dzz0MAADwS15XsB599FHV1dXVe0N7QECA21pAQMAZC9azzz6rNWvW6JJLLjntfv/%2B/fXiiy%2Bedm/VqlVav369nn32WXXo0EGLFy9WZmam1q5dy6/qAQAADeJ1P0X497//XQMHDtSqVav00Ucf6cMPP1ReXp6uvvpqPfvss/r888/1%2Beef67PPPjvjOUJCQn6xYP2S/Px8TZw4UZdeeqnatGmjadOmqaio6BevDwAA4Oe87hms%2BfPna8WKFerQoYNrrV%2B/furcubMmTZqkDRs2nPUcEyZM%2BMX9kpIS3X777SooKFBYWJiysrJ04403qrq6Wvv27VNMTIzrsm3atNEll1wih8Oh3r17Nz4YAADwG15XsA4ePKjw8PB662FhYSouLm7y%2BSMjI9WlSxc9%2BOCD6tatm/75z3/q4YcfVlRUlH7/%2B9/LGFPv%2BsPDw1VeXt7g6ygtLVVZWZnbWnBwK0VFRTVq5qCgQLevOD%2BCgz17e/v7/e7P%2BclOdn/ji9m9rmB16tRJ8%2BfP1wMPPKCIiAhJUkVFhZ566ildfPHFTT7/oEGDNGjQINe/hw0bpn/%2B85965ZVXXL%2Bmp6kfaJqfn6/c3Fy3tczMTGVlZTXpvGFhFzbpeJybiIjWnh5BEve7P%2Bcnu38iu2/wuoI1a9YsTZ8%2BXfn5%2BWrdurUCAwN17NgxXXDBBXr66ad/levs1KmTCgoK1LZtWwUGBsrpdLrtO51OtWvXrsHnS09PV2pqqttacHArlZdXNmq%2BoKBAhYVdqIqKKtXW1jXqHDh3jb2/bPH3%2B92f85Od7GS3x1PfLHtdwRo4cKC2bdum7du36/DhwzLGqEOHDrrqqqsUGhra5PP/z//8j8LDwzV06FDXWlFRkTp37qyQkBBddtllKiwsVGJioqSfnj376quvFB8f3%2BDriIqKqvdyYFnZUdXUNO1BU1tb1%2BRzoOG85bb29/vdn/OTnez%2Bxpeye13BkqQLL7xQ11xzjQ4fPmz986d%2B/PFHzZ07V507d9bll1%2BuLVu26J133tHLL78sScrIyNCKFSt09dVXq0OHDlq4cKF69OihuLg4q3MAAADf5XUFq7q6Wn/605/0%2BuuvS5IKCgpUUVGhBx98UH/9618VFhZ21nOcLEM1NTWSpDfffFOS5HA4NGHCBFVWVuqBBx5QWVmZLrroIj399NOKjY2V9NPvQiwrK9Ott96qyspKJSUl1Xs/FQAAwC/xuoK1YMEC7dmzRwsXLtTDDz/sWq%2BtrdXChQv15z//%2BazncDgcZ9wLCAjQvffeq3vvvfeM%2B1lZWU1%2BQzoAAPBfXlewtmzZory8PHXp0kXZ2dmSfvqIhpycHI0cObJBBQuw4Ya/ve/pEc7JpqkDPD0CAOD/8boPnKisrFSXLl3qrUdGRuqHH344/wMBAACcI68rWBdffLH%2B/e9/S3L/PKrNmzfrd7/7nafGAgAAaDCve4nw5ptv1v3336/Ro0errq5Ozz//vAoKCrRlyxY9%2Buijnh4PAADgrLyuYKWnpys4OFh5eXkKCgrSM888o65du2rhwoW6/vrrPT0eAADAWXldwTpy5IhGjx6t0aNHe3oUAACARvG692Bdc801Tf5dgAAAAJ7kdQUrKSlJmzZt8vQYAAAAjeZ1LxH%2B9re/1V/%2B8hetWLFCF198sVq0aOG2v2jRIg9NBgAA0DBeV7D27dun3//%2B95Kk8vJyD08DAABw7rymYE2bNk2LFy/Wiy%2B%2B6Fp7%2BumnlZmZ6cGpAAAAzp3XvAdr69at9dZWrFjhgUkAAACaxmsK1ul%2BcpCfJgQAAM2R1xSsgICABq0BAAB4O68pWAAAAL6CggUAAGCZ1/wU4YkTJzR9%2BvSzrvE5WAAAwNt5TcFKSEhQaWnpWdcAAAC8ndcUrJ9//hUAAEBzxnuwAAAALKNgAQAAWEbBAgAAsIyCBQAAYBkFCwAAwDIKFgAAgGUULAAAAMsoWAAAAJZRsAAAACyjYAEAAFhGwQIAALCMggUAAGAZBQsAAMAyChYAAIBlFCwAAADLKFgAAACWUbAAAAAso2ABAABYRsECAACwzC8L1rvvvqvk5GRNmzat3t7GjRs1fPhw9enTR6NGjdJ7773n2qurq9PixYt1zTXXqH///po0aZIOHTp0PkcHAADNgN8VrGeffVZPPPGELrnkknp7e/bsUXZ2tmbMmKF//etfmjhxou677z4dPnxYkrRq1SqtX79eK1as0Ntvv60uXbooMzNTxpjzHQMAAHgxvytYISEhWrNmzWkL1urVq5WSkqKUlBSFhIRoxIgRio6O1rp16yRJ%2Bfn5mjhxoi699FK1adNG06ZNU1FRkT777LPzHQMAAHgxvytYEyZMUGho6Gn3CgsLFRMT47YWExMjh8Oh6upq7du3z22/TZs2uuSSS%2BRwOH7VmQEAQPMS7OkBvInT6VR4eLjbWnh4uPbt26fvv/9expjT7peXl7utlZaWqqyszG0tOLiVoqKiGjVXUFCg21fgdIKDfevx4c%2BPe7KT3d/4YnYK1inO9n6qhrzfKj8/X7m5uW5rmZmZysrKatJsYWEXNul4%2BLaIiNaeHuFX4c%2BPe7L7J7L7BgrWz0RERMjpdLqtOZ1ORUZGqm3btgoMDDztfrt27dzW0tPTlZqa6rYWHNxK5eWVjZorKChQYWEXqqKiSrW1dY06B3xfYx9f3sqfH/dkJzvZ7fHUN58UrJ%2BJjY1VQUGB25rD4dCwYcMUEhKiyy67TIWFhUpMTJQkVVRU6KuvvlJ8fLzbMVFRUfVeDiwrO6qamqY9aGpr65p8DvguX31s%2BPPjnuxk9ze%2BlN13Xuy0YNy4cdqxY4e2bdum48ePa82aNTp48KBGjBghScrIyNALL7ygoqIiHTt2TAsXLlSPHj0UFxfn4ckBAIA38btnsE6WoZqaGknSm2%2B%2BKemnZ6qio6O1cOFC5eTkqLi4WN26ddPy5cvVvn17SdL48eNVVlamW2%2B9VZWVlUpKSqr3XisAAAC/K1hn%2B0iFtLQ0paWlnXYvICBAWVlZTX6zOgAA8G28RAgAAGAZBQsAAMAyChYAAIBlFCwAAADLKFgAAACWUbAAAAAso2ABAABYRsECAACwjIIFAABgGQULAADAMgoWAACAZRQsAAAAyyhYAAAAllGwAAAALKNgAQAAWEbBAgAAsIyCBQAAYBkFCwAAwDIKFgAAgGUULAAAAMsoWAAAAJYFe3oANM0Nf3vf0yMAAIBT8AwWAACAZRQsAAAAyyhYAAAAllGwAAAALKNgAQAAWEbBAgAAsIyCBQAAYBkFCwAAwDIKFgAAgGUULAAAAMsoWAAAAJZRsAAAACyjYAEAAFhGwQIAALCMggUAAGAZBQsAAMCyYE8P4Andu3dXixYtFBAQ4FobN26cZs%2BerZ07d2rRokXav3%2B/fvvb32ry5MkaMWKEB6cFAADNjV8WLEnavHmzLrroIre10tJS3XvvvXr00Uc1fPhwffzxx5oyZYq6du2quLg4D00KAACaG14i/Jn169erS5cuGjNmjEJCQpScnKzU1FStXr3a06MBAIBmxG8L1qJFizRo0CD169dPs2fPVmVlpQoLCxUTE%2BN2uZiYGBUUFHhoSgAA0Bz55UuEvXv3VnJysp588kkdOnRIU6dO1eOPPy6n06kOHTq4XbZt27YqLy8/p/OXlpaqrKzMbS04uJWioqIaNW9QUKDbV%2BB0goN96/Hhz497spPd3/hidr8sWPn5%2Ba6/X3rppZoxY4amTJmihIQEa%2BfPzc11W8vMzFRWVlaTzhsWdmGTjodvi4ho7ekRfhX%2B/Lgnu38iu2/wy4J1qosuuki1tbUKDAyU0%2Bl02ysvL1dkZOQ5nS89PV2pqalua8HBrVReXtmo%2BYKCAhUWdqEqKqpUW1vXqHPA9zX28eWt/PlxT3ayk90eT33z6XcFa/fu3Vq3bp1mzpzpWisqKlLLli2VkpKiV1991e3yBQUF6tWr1zldR1RUVL2XA8vKjqqmpmkPmtrauiafA77LVx8b/vy4JzvZ/Y0vZfedFzsbqF27dsrPz9eKFSv0448/6sCBA1qyZInS09N14403qri4WKtXr9bx48e1fft2bd%2B%2BXePGjfP02AAAoBnxu4LVoUMHrVixQlu3blVSUpLGjx%2Bvq666Sg899JDatWun5cuXKy8vTwkJCZo3b54WLFigyy%2B/3NNjAwCAZsTvXiKUpP79%2B%2Bull146497atWvP80QAAMCX%2BN0zWAAAAL82ChYAAIBlFCwAAADLKFgAAACWUbAAAAAso2ABAABYRsECAACwjIIFAABgGQULAADAMgoWAACAZRQsAAAAy/zydxHA5X6dAAAM%2BklEQVQCvuiGv73v6REabNPUAZ4eAQB%2BVTyDBQAAYBkFCwAAwDIKFgAAgGUULAAAAMsoWAAAAJZRsAAAACyjYAEAAFhGwQIAALCMggUAAGAZBQsAAMAyChYAAIBlFCwAAADLKFgAAACWUbAAAAAso2ABAABYRsECAACwLNjTAwDwPzf87X1Pj3BONk0d4OkRADQzPIMFAABgGQULAADAMgoWAACAZRQsAAAAyyhYAAAAllGwAAAALKNgAQAAWEbBAgAAsIwPGgWAs%2BCDUQGcKwoWAPiY5lQIKYPwVbxEeBrFxcW6%2B%2B67lZSUpMGDB2vBggWqq6vz9FgAAKCZ4Bms07j//vvVs2dPvfnmm/ruu%2B80efJk/eY3v9Htt9/u6dEAwKc0p2fbmiOeIfQcCtYpHA6HvvjiCz3//PMKDQ1VaGioJk6cqJUrV1KwAADNSnMqsB/95XpPj2AVBesUhYWF6tSpk8LDw11rPXv21IEDB3Ts2DG1adPmrOcoLS1VWVmZ21pwcCtFRUU1aqagoEC3rwAA%2BCJf%2Bv85CtYpnE6nwsLC3NZOlq3y8vIGFaz8/Hzl5ua6rd133326//77GzVTaWmpVq78u9LT0%2BuVNF9r/KcqLS1Vfn7%2BabP7On/OLvl3frKT3R%2BzL1261Key%2B05VtMgY06Tj09PT9corr7j9SU9Pb/T5ysrKlJubW%2B9ZMX9Adv/MLvl3frKT3d/4YnaewTpFZGSknE6n25rT6VRAQIAiIyMbdI6oqCifaeAAAODc8QzWKWJjY1VSUqIjR4641hwOh7p166bWrVt7cDIAANBcULBOERMTo7i4OC1atEjHjh1TUVGRnn/%2BeWVkZHh6NAAA0EwEzZkzZ46nh/A2V111lTZs2KC5c%2Bfq9ddf15gxYzRp0iQFBAR4bKbWrVsrMTHRL59FI7t/Zpf8Oz/Zye5vfC17gGnqO7oBAADghpcIAQAALKNgAQAAWEbBAgAAsIyCBQAAYBkFCwAAwDIKFgAAgGUULAAAAMsoWAAAAJZRsAAAACyjYHm54uJi3X333UpKStLgwYO1YMEC1dXVeXosa959910lJydr2rRp9fY2btyo4cOHq0%2BfPho1apTee%2B89115dXZ0WL16sa665Rv3799ekSZN06NCh8zl6kxQXFyszM1NJSUlKTk7WzJkzVVFRIUnas2ePbrnlFiUkJCgtLU3PPfec27G/dLs0F1988YVuu%2B02JSQkKDk5WVOnTlVZWZkkaefOnRozZoz69u2rYcOGad26dW7HvvDCCxoyZIj69u2rjIwMFRQUeCJCk82bN0/du3d3/dsfcnfv3l2xsbGKi4tz/Zk7d64k/8i/bNkyDRw4UL1799bEiRP19ddfS/Lt7B9%2B%2BKHb/R0XF6fY2FjXY9%2BXs8vAq910003mscceMxUVFebAgQMmLS3NPPfcc54ey4oVK1aYtLQ0M378eDN16lS3vd27d5vY2Fizbds2U11dbdauXWt69eplSkpKjDHGvPDCC2bw4MFm37595ujRo%2BbPf/6zGT58uKmrq/NElHP2hz/8wcycOdMcO3bMlJSUmFGjRplZs2aZqqoqc9VVV5mlS5eayspKU1BQYBITE82WLVuMMWe/XZqD48ePmyuvvNLk5uaa48ePm%2B%2B%2B%2B87ccsst5t577zXffPON6d27t1m9erWprq4277//vomPjzeff/65McaYt956y/Tr18/s2rXLVFVVmeXLl5sBAwaYyspKD6c6N7t37zaJiYkmOjraGGP8Jnd0dLQ5dOhQvXV/yJ%2BXl2euv/56U1RUZI4ePWrmzp1r5s6d6xfZT7Vs2TLzwAMP%2BHx2CpYX%2B/zzz02PHj2M0%2Bl0rf33f/%2B3GTJkiAensmflypWmoqLCZGdn1ytYjz/%2BuMnMzHRbGzt2rFm%2BfLkxxphhw4aZlStXuvaOHj1qYmJizKeffvrrD95E33//vZk5c6YpKytzrb344osmLS3NbNq0yVxxxRWmpqbGtbdgwQJzxx13GGPOfrs0B06n07z88svmxIkTrrWVK1ea6667zvz97383I0eOdLv81KlTzezZs40xxtx9991m3rx5rr3a2lozYMAAs2HDhvMzvAW1tbVm7Nix5j//8z9dBcsfchtz5oLlD/lTU1Nd3yj9nD9k/7ni4mKTmJhoiouLfT47LxF6scLCQnXq1Enh4eGutZ49e%2BrAgQM6duyYByezY8KECQoNDT3tXmFhoWJiYtzWYmJi5HA4VF1drX379rntt2nTRpdccokcDsevOrMNYWFhysnJ0W9%2B8xvXWklJiaKiolRYWKju3bsrKCjItRcTE%2BN6WvyXbpfmIjw8XGPHjlVwcLAkaf/%2B/Xr11Vd1ww03nDHfmfIHBgaqR48ezSr/Sy%2B9pJCQEA0fPty15g%2B5T1q0aJEGDRqkfv36afbs2aqsrPT5/N98842%2B/vprff/99xo6dKiSkpKUlZWlI0eO%2BHz2Uy1ZskSjR4/W7373O5/PTsHyYk6nU2FhYW5rJ8tWeXm5J0Y6b5xOp1uxlH7KXl5eru%2B//17GmDPuNzcOh0N5eXmaMmXKae/ztm3byul0qq6u7hdvl%2BamuLhYsbGxGjp0qOLi4pSVlXXG/CfzNff83377rZYuXao//elPbuu%2Bnvuk3r17Kzk5WW%2B88Yby8/O1a9cuPf744z6f//Dhw5KkzZs36/nnn9fatWt1%2BPBhPfbYYz6f/ee%2B/vprvfHGG7r99tsl%2Bf7jnoLl5Ywxnh7BY86W3Rdum48//liTJk3S9OnTlZycfMbLBQQEuP7uC7klqVOnTnI4HNq8ebMOHjyohx9%2BuEHHNef8OTk5GjVqlLp163bOxzbn3Cfl5%2Bdr7NixatmypS699FLNmDFDGzZs0IkTJ856bHPOf3L2O%2B%2B8Ux06dFDHjh11//33a%2BvWred0fHO3atUqpaWlqX379g0%2Bpjlnp2B5scjISDmdTrc1p9OpgIAARUZGemiq8yMiIuK02SMjI9W2bVsFBgaedr9du3bnc8wm2bp1q%2B6%2B%2B27NmjVLEyZMkPTTfX7qd2dOp9OV%2BZdul%2BYoICBAXbp00bRp07RhwwYFBwfXy1deXu7K15zz79y5U59%2B%2BqkyMzPr7Z0ul6/k/iUXXXSRamtrT/vfsy/lP/l2gJ8/W9OpUycZY3TixAmfzv5zW7ZsUWpqquvfvv64p2B5sdjYWJWUlOjIkSOuNYfDoW7duql169YenOzXFxsbW%2B/HcR0Oh3r16qWQkBBddtllKiwsdO1VVFToq6%2B%2BUnx8/PketVE%2B%2BeQTZWdna8mSJRo5cqRrPTY2Vnv37lVNTY1r7WTuk/tnul2ai507d2rIkCFuHzcSGPjT/xTFx8fXy1dQUOCW/%2Bf3e21trXbv3t0s8q9bt07fffedBg8erKSkJI0aNUqSlJSUpOjoaJ/NfdLu3bs1f/58t7WioiK1bNlSKSkpPp2/Y8eOatOmjfbs2eNaKy4uVosWLXw%2B%2B0l79uxRcXGxBgwY4FqLi4vz7eyeeW89Gmrs2LFm1qxZ5ujRo2bfvn0mNTXV5OXleXosq073U4R79%2B41cXFx5u233zbV1dVm9erVpk%2BfPqa0tNQY89NPUw4aNMj1MQ2zZ882o0eP9sT45%2BzEiRPmhhtuMC%2B99FK9vePHj5vBgwebp556yvzwww9m165dpl%2B/fubtt982xpz9dmkOKioqTHJyspk/f7754YcfzHfffWcmTZpkbr75ZvPtt9%2BaPn36mJdfftlUV1ebbdu2mfj4eLNnzx5jjDHbt283CQkJ5tNPPzU//PCDWbp0qUlJSTFVVVUeTnV2TqfTlJSUuP58%2BumnJjo62pSUlJji4mKfzX3S4cOHTe/evc3y5cvN8ePHzf79%2B83QoUPN3Llzffp%2BP2nevHnmmmuuMQcPHjTffvutSU9PNzNnzvSL7MYYs2bNGpOYmOi25uvZKVherqSkxNx5550mPj7eJCcnm6eeeqrZfNbT2cTGxprY2Fhz%2BeWXm8svv9z175O2bNli0tLSTM%2BePc2NN95oPvjgA9deXV2dWbJkibnyyitNfHy8ueuuu5rNZ0F9%2BOGHJjo62pX353%2B%2B/vprs3fvXjN%2B/HgTGxtrBg0aZFatWuV2/C/dLs3FF198YW655RYTHx9vrrjiCjN16lRz%2BPBhY4wxH3zwgRkxYoTp2bOnSUtLq/ej7atWrTIpKSkmNjbWZGRkmL1793oiQpMdOnTI9TENxvhH7g8%2B%2BMCkp6eb3r17m8TERJOTk2Oqq6tde76c//jx42bOnDmmf//%2Bpnfv3iY7O9scO3bMGOP72Y0x5plnnjHDhg2rt%2B7L2QOMacbvIAMAAPBCvAcLAADAMgoWAACAZRQsAAAAyyhYAAAAllGwAAAALKNgAQAAWEbBAgAAsIyCBQAAYBkFCwAAwDIKFgAAgGUULAAAAMsoWAAAAJZRsAAAACz7/wAs2q802kpCewAAAABJRU5ErkJggg%3D%3D\"/>\n",
              "        </div>\n",
              "        <div role=\"tabpanel\" class=\"tab-pane col-md-12\" id=\"common5915958038543251491\">\n",
              "            \n",
              "<table class=\"freq table table-hover\">\n",
              "    <thead>\n",
              "    <tr>\n",
              "        <td class=\"fillremaining\">Value</td>\n",
              "        <td class=\"number\">Count</td>\n",
              "        <td class=\"number\">Frequency (%)</td>\n",
              "        <td style=\"min-width:200px\">&nbsp;</td>\n",
              "    </tr>\n",
              "    </thead>\n",
              "    <tr class=\"\">\n",
              "        <td class=\"fillremaining\">120.0</td>\n",
              "        <td class=\"number\">20</td>\n",
              "        <td class=\"number\">3.3%</td>\n",
              "        <td>\n",
              "            <div class=\"bar\" style=\"width:5%\">&nbsp;</div>\n",
              "        </td>\n",
              "</tr><tr class=\"\">\n",
              "        <td class=\"fillremaining\">110.0</td>\n",
              "        <td class=\"number\">17</td>\n",
              "        <td class=\"number\">2.8%</td>\n",
              "        <td>\n",
              "            <div class=\"bar\" style=\"width:4%\">&nbsp;</div>\n",
              "        </td>\n",
              "</tr><tr class=\"\">\n",
              "        <td class=\"fillremaining\">100.0</td>\n",
              "        <td class=\"number\">15</td>\n",
              "        <td class=\"number\">2.4%</td>\n",
              "        <td>\n",
              "            <div class=\"bar\" style=\"width:4%\">&nbsp;</div>\n",
              "        </td>\n",
              "</tr><tr class=\"\">\n",
              "        <td class=\"fillremaining\">160.0</td>\n",
              "        <td class=\"number\">12</td>\n",
              "        <td class=\"number\">2.0%</td>\n",
              "        <td>\n",
              "            <div class=\"bar\" style=\"width:3%\">&nbsp;</div>\n",
              "        </td>\n",
              "</tr><tr class=\"\">\n",
              "        <td class=\"fillremaining\">187.0</td>\n",
              "        <td class=\"number\">12</td>\n",
              "        <td class=\"number\">2.0%</td>\n",
              "        <td>\n",
              "            <div class=\"bar\" style=\"width:3%\">&nbsp;</div>\n",
              "        </td>\n",
              "</tr><tr class=\"\">\n",
              "        <td class=\"fillremaining\">128.0</td>\n",
              "        <td class=\"number\">11</td>\n",
              "        <td class=\"number\">1.8%</td>\n",
              "        <td>\n",
              "            <div class=\"bar\" style=\"width:3%\">&nbsp;</div>\n",
              "        </td>\n",
              "</tr><tr class=\"\">\n",
              "        <td class=\"fillremaining\">113.0</td>\n",
              "        <td class=\"number\">11</td>\n",
              "        <td class=\"number\">1.8%</td>\n",
              "        <td>\n",
              "            <div class=\"bar\" style=\"width:3%\">&nbsp;</div>\n",
              "        </td>\n",
              "</tr><tr class=\"\">\n",
              "        <td class=\"fillremaining\">130.0</td>\n",
              "        <td class=\"number\">10</td>\n",
              "        <td class=\"number\">1.6%</td>\n",
              "        <td>\n",
              "            <div class=\"bar\" style=\"width:3%\">&nbsp;</div>\n",
              "        </td>\n",
              "</tr><tr class=\"\">\n",
              "        <td class=\"fillremaining\">96.0</td>\n",
              "        <td class=\"number\">9</td>\n",
              "        <td class=\"number\">1.5%</td>\n",
              "        <td>\n",
              "            <div class=\"bar\" style=\"width:2%\">&nbsp;</div>\n",
              "        </td>\n",
              "</tr><tr class=\"\">\n",
              "        <td class=\"fillremaining\">95.0</td>\n",
              "        <td class=\"number\">9</td>\n",
              "        <td class=\"number\">1.5%</td>\n",
              "        <td>\n",
              "            <div class=\"bar\" style=\"width:2%\">&nbsp;</div>\n",
              "        </td>\n",
              "</tr><tr class=\"other\">\n",
              "        <td class=\"fillremaining\">Other values (193)</td>\n",
              "        <td class=\"number\">466</td>\n",
              "        <td class=\"number\">75.9%</td>\n",
              "        <td>\n",
              "            <div class=\"bar\" style=\"width:100%\">&nbsp;</div>\n",
              "        </td>\n",
              "</tr><tr class=\"missing\">\n",
              "        <td class=\"fillremaining\">(Missing)</td>\n",
              "        <td class=\"number\">22</td>\n",
              "        <td class=\"number\">3.6%</td>\n",
              "        <td>\n",
              "            <div class=\"bar\" style=\"width:5%\">&nbsp;</div>\n",
              "        </td>\n",
              "</tr>\n",
              "</table>\n",
              "        </div>\n",
              "        <div role=\"tabpanel\" class=\"tab-pane col-md-12\"  id=\"extreme5915958038543251491\">\n",
              "            <p class=\"h4\">Minimum 5 values</p>\n",
              "            \n",
              "<table class=\"freq table table-hover\">\n",
              "    <thead>\n",
              "    <tr>\n",
              "        <td class=\"fillremaining\">Value</td>\n",
              "        <td class=\"number\">Count</td>\n",
              "        <td class=\"number\">Frequency (%)</td>\n",
              "        <td style=\"min-width:200px\">&nbsp;</td>\n",
              "    </tr>\n",
              "    </thead>\n",
              "    <tr class=\"\">\n",
              "        <td class=\"fillremaining\">9.0</td>\n",
              "        <td class=\"number\">1</td>\n",
              "        <td class=\"number\">0.2%</td>\n",
              "        <td>\n",
              "            <div class=\"bar\" style=\"width:50%\">&nbsp;</div>\n",
              "        </td>\n",
              "</tr><tr class=\"\">\n",
              "        <td class=\"fillremaining\">17.0</td>\n",
              "        <td class=\"number\">1</td>\n",
              "        <td class=\"number\">0.2%</td>\n",
              "        <td>\n",
              "            <div class=\"bar\" style=\"width:50%\">&nbsp;</div>\n",
              "        </td>\n",
              "</tr><tr class=\"\">\n",
              "        <td class=\"fillremaining\">25.0</td>\n",
              "        <td class=\"number\">2</td>\n",
              "        <td class=\"number\">0.3%</td>\n",
              "        <td>\n",
              "            <div class=\"bar\" style=\"width:100%\">&nbsp;</div>\n",
              "        </td>\n",
              "</tr><tr class=\"\">\n",
              "        <td class=\"fillremaining\">26.0</td>\n",
              "        <td class=\"number\">1</td>\n",
              "        <td class=\"number\">0.2%</td>\n",
              "        <td>\n",
              "            <div class=\"bar\" style=\"width:50%\">&nbsp;</div>\n",
              "        </td>\n",
              "</tr><tr class=\"\">\n",
              "        <td class=\"fillremaining\">30.0</td>\n",
              "        <td class=\"number\">2</td>\n",
              "        <td class=\"number\">0.3%</td>\n",
              "        <td>\n",
              "            <div class=\"bar\" style=\"width:100%\">&nbsp;</div>\n",
              "        </td>\n",
              "</tr>\n",
              "</table>\n",
              "            <p class=\"h4\">Maximum 5 values</p>\n",
              "            \n",
              "<table class=\"freq table table-hover\">\n",
              "    <thead>\n",
              "    <tr>\n",
              "        <td class=\"fillremaining\">Value</td>\n",
              "        <td class=\"number\">Count</td>\n",
              "        <td class=\"number\">Frequency (%)</td>\n",
              "        <td style=\"min-width:200px\">&nbsp;</td>\n",
              "    </tr>\n",
              "    </thead>\n",
              "    <tr class=\"\">\n",
              "        <td class=\"fillremaining\">500.0</td>\n",
              "        <td class=\"number\">1</td>\n",
              "        <td class=\"number\">0.2%</td>\n",
              "        <td>\n",
              "            <div class=\"bar\" style=\"width:50%\">&nbsp;</div>\n",
              "        </td>\n",
              "</tr><tr class=\"\">\n",
              "        <td class=\"fillremaining\">570.0</td>\n",
              "        <td class=\"number\">1</td>\n",
              "        <td class=\"number\">0.2%</td>\n",
              "        <td>\n",
              "            <div class=\"bar\" style=\"width:50%\">&nbsp;</div>\n",
              "        </td>\n",
              "</tr><tr class=\"\">\n",
              "        <td class=\"fillremaining\">600.0</td>\n",
              "        <td class=\"number\">2</td>\n",
              "        <td class=\"number\">0.3%</td>\n",
              "        <td>\n",
              "            <div class=\"bar\" style=\"width:100%\">&nbsp;</div>\n",
              "        </td>\n",
              "</tr><tr class=\"\">\n",
              "        <td class=\"fillremaining\">650.0</td>\n",
              "        <td class=\"number\">1</td>\n",
              "        <td class=\"number\">0.2%</td>\n",
              "        <td>\n",
              "            <div class=\"bar\" style=\"width:50%\">&nbsp;</div>\n",
              "        </td>\n",
              "</tr><tr class=\"\">\n",
              "        <td class=\"fillremaining\">700.0</td>\n",
              "        <td class=\"number\">1</td>\n",
              "        <td class=\"number\">0.2%</td>\n",
              "        <td>\n",
              "            <div class=\"bar\" style=\"width:50%\">&nbsp;</div>\n",
              "        </td>\n",
              "</tr>\n",
              "</table>\n",
              "        </div>\n",
              "    </div>\n",
              "</div>\n",
              "</div><div class=\"row variablerow\">\n",
              "    <div class=\"col-md-3 namecol\">\n",
              "        <p class=\"h4 pp-anchor\" id=\"pp_var_Loan_Amount_Term\">Loan_Amount_Term<br/>\n",
              "            <small>Numeric</small>\n",
              "        </p>\n",
              "    </div><div class=\"col-md-6\">\n",
              "    <div class=\"row\">\n",
              "        <div class=\"col-sm-6\">\n",
              "            <table class=\"stats \">\n",
              "                <tr>\n",
              "                    <th>Distinct count</th>\n",
              "                    <td>11</td>\n",
              "                </tr>\n",
              "                <tr>\n",
              "                    <th>Unique (%)</th>\n",
              "                    <td>1.8%</td>\n",
              "                </tr>\n",
              "                <tr class=\"alert\">\n",
              "                    <th>Missing (%)</th>\n",
              "                    <td>2.3%</td>\n",
              "                </tr>\n",
              "                <tr class=\"alert\">\n",
              "                    <th>Missing (n)</th>\n",
              "                    <td>14</td>\n",
              "                </tr>\n",
              "                <tr class=\"ignore\">\n",
              "                    <th>Infinite (%)</th>\n",
              "                    <td>0.0%</td>\n",
              "                </tr>\n",
              "                <tr class=\"ignore\">\n",
              "                    <th>Infinite (n)</th>\n",
              "                    <td>0</td>\n",
              "                </tr>\n",
              "            </table>\n",
              "\n",
              "        </div>\n",
              "        <div class=\"col-sm-6\">\n",
              "            <table class=\"stats \">\n",
              "\n",
              "                <tr>\n",
              "                    <th>Mean</th>\n",
              "                    <td>342</td>\n",
              "                </tr>\n",
              "                <tr>\n",
              "                    <th>Minimum</th>\n",
              "                    <td>12</td>\n",
              "                </tr>\n",
              "                <tr>\n",
              "                    <th>Maximum</th>\n",
              "                    <td>480</td>\n",
              "                </tr>\n",
              "                <tr class=\"ignore\">\n",
              "                    <th>Zeros (%)</th>\n",
              "                    <td>0.0%</td>\n",
              "                </tr>\n",
              "            </table>\n",
              "        </div>\n",
              "    </div>\n",
              "</div>\n",
              "<div class=\"col-md-3 collapse in\" id=\"minihistogram6640822740344577883\">\n",
              "    <img src=\"data:image/png;base64,iVBORw0KGgoAAAANSUhEUgAAAMgAAABLCAYAAAA1fMjoAAAABHNCSVQICAgIfAhkiAAAAAlwSFlzAAAPYQAAD2EBqD%2BnaQAAADl0RVh0U29mdHdhcmUAbWF0cGxvdGxpYiB2ZXJzaW9uIDMuMC4zLCBodHRwOi8vbWF0cGxvdGxpYi5vcmcvnQurowAAASJJREFUeJzt19EJwjAUQNEqjuQQ7uS3OzmEO8UF5EKFtlHO%2BW7gEXJ59DTGGAvw0fnoAWBml6MHYH/X%2B3P1mdfjtsEk87NBIAgEgkAgCASCQCAIBIJAIAgEgkAgCASCQCAIBIJAIAgEgkAgCASCQCAIBIJAIAgEgkAgCASCQCAIBIJAIAgEgkAgCASCQCAIBIJAIAgEgkAgCASCQCAIBIJAIAgEgkAgCASCQCAIBMLl6AF%2ByfX%2BXPX963HbaBL2YoNAsEHYzNqNuyzzbd3pAvnmUme11wP5pzubzWmMMY4eAmblHwSCQCAIBIJAIAgEgkAgCASCQCAIBIJAIAgEgkAgCASCQCAIBIJAIAgEgkAgCASCQCAIBIJAIAgEgkAgCATCG9IhF2PMJxmZAAAAAElFTkSuQmCC\">\n",
              "\n",
              "</div>\n",
              "<div class=\"col-md-12 text-right\">\n",
              "    <a role=\"button\" data-toggle=\"collapse\" data-target=\"#descriptives6640822740344577883,#minihistogram6640822740344577883\"\n",
              "       aria-expanded=\"false\" aria-controls=\"collapseExample\">\n",
              "        Toggle details\n",
              "    </a>\n",
              "</div>\n",
              "<div class=\"row collapse col-md-12\" id=\"descriptives6640822740344577883\">\n",
              "    <ul class=\"nav nav-tabs\" role=\"tablist\">\n",
              "        <li role=\"presentation\" class=\"active\"><a href=\"#quantiles6640822740344577883\"\n",
              "                                                  aria-controls=\"quantiles6640822740344577883\" role=\"tab\"\n",
              "                                                  data-toggle=\"tab\">Statistics</a></li>\n",
              "        <li role=\"presentation\"><a href=\"#histogram6640822740344577883\" aria-controls=\"histogram6640822740344577883\"\n",
              "                                   role=\"tab\" data-toggle=\"tab\">Histogram</a></li>\n",
              "        <li role=\"presentation\"><a href=\"#common6640822740344577883\" aria-controls=\"common6640822740344577883\"\n",
              "                                   role=\"tab\" data-toggle=\"tab\">Common Values</a></li>\n",
              "        <li role=\"presentation\"><a href=\"#extreme6640822740344577883\" aria-controls=\"extreme6640822740344577883\"\n",
              "                                   role=\"tab\" data-toggle=\"tab\">Extreme Values</a></li>\n",
              "\n",
              "    </ul>\n",
              "\n",
              "    <div class=\"tab-content\">\n",
              "        <div role=\"tabpanel\" class=\"tab-pane active row\" id=\"quantiles6640822740344577883\">\n",
              "            <div class=\"col-md-4 col-md-offset-1\">\n",
              "                <p class=\"h4\">Quantile statistics</p>\n",
              "                <table class=\"stats indent\">\n",
              "                    <tr>\n",
              "                        <th>Minimum</th>\n",
              "                        <td>12</td>\n",
              "                    </tr>\n",
              "                    <tr>\n",
              "                        <th>5-th percentile</th>\n",
              "                        <td>180</td>\n",
              "                    </tr>\n",
              "                    <tr>\n",
              "                        <th>Q1</th>\n",
              "                        <td>360</td>\n",
              "                    </tr>\n",
              "                    <tr>\n",
              "                        <th>Median</th>\n",
              "                        <td>360</td>\n",
              "                    </tr>\n",
              "                    <tr>\n",
              "                        <th>Q3</th>\n",
              "                        <td>360</td>\n",
              "                    </tr>\n",
              "                    <tr>\n",
              "                        <th>95-th percentile</th>\n",
              "                        <td>360</td>\n",
              "                    </tr>\n",
              "                    <tr>\n",
              "                        <th>Maximum</th>\n",
              "                        <td>480</td>\n",
              "                    </tr>\n",
              "                    <tr>\n",
              "                        <th>Range</th>\n",
              "                        <td>468</td>\n",
              "                    </tr>\n",
              "                    <tr>\n",
              "                        <th>Interquartile range</th>\n",
              "                        <td>0</td>\n",
              "                    </tr>\n",
              "                </table>\n",
              "            </div>\n",
              "            <div class=\"col-md-4 col-md-offset-2\">\n",
              "                <p class=\"h4\">Descriptive statistics</p>\n",
              "                <table class=\"stats indent\">\n",
              "                    <tr>\n",
              "                        <th>Standard deviation</th>\n",
              "                        <td>65.12</td>\n",
              "                    </tr>\n",
              "                    <tr>\n",
              "                        <th>Coef of variation</th>\n",
              "                        <td>0.19041</td>\n",
              "                    </tr>\n",
              "                    <tr>\n",
              "                        <th>Kurtosis</th>\n",
              "                        <td>6.6735</td>\n",
              "                    </tr>\n",
              "                    <tr>\n",
              "                        <th>Mean</th>\n",
              "                        <td>342</td>\n",
              "                    </tr>\n",
              "                    <tr>\n",
              "                        <th>MAD</th>\n",
              "                        <td>37.62</td>\n",
              "                    </tr>\n",
              "                    <tr class=\"\">\n",
              "                        <th>Skewness</th>\n",
              "                        <td>-2.3624</td>\n",
              "                    </tr>\n",
              "                    <tr>\n",
              "                        <th>Sum</th>\n",
              "                        <td>205200</td>\n",
              "                    </tr>\n",
              "                    <tr>\n",
              "                        <th>Variance</th>\n",
              "                        <td>4240.7</td>\n",
              "                    </tr>\n",
              "                    <tr>\n",
              "                        <th>Memory size</th>\n",
              "                        <td>4.9 KiB</td>\n",
              "                    </tr>\n",
              "                </table>\n",
              "            </div>\n",
              "        </div>\n",
              "        <div role=\"tabpanel\" class=\"tab-pane col-md-8 col-md-offset-2\" id=\"histogram6640822740344577883\">\n",
              "            <img src=\"data:image/png;base64,iVBORw0KGgoAAAANSUhEUgAAAlgAAAGQCAYAAAByNR6YAAAABHNCSVQICAgIfAhkiAAAAAlwSFlzAAAPYQAAD2EBqD%2BnaQAAADl0RVh0U29mdHdhcmUAbWF0cGxvdGxpYiB2ZXJzaW9uIDMuMC4zLCBodHRwOi8vbWF0cGxvdGxpYi5vcmcvnQurowAAIABJREFUeJzt3Xt01PWd//FXJmkSuSQkamAXsGEFAmEgEC7ReEmIGgSEQgiGeDjKCpZLKodbC0JZZbXAFlirxKVkLa5It47xVLnIrZVLtaZ1VbCTBFhBbG1ObCLONBACC8n394eH%2BTkEzCT5MN9JeD7OyYn5fL/fmff3lYsv5juZhFmWZQkAAADGOOweAAAAoL2hYAEAABhGwQIAADCMggUAAGAYBQsAAMAwChYAAIBhFCwAAADDKFgAAACGUbAAAAAMo2ABAAAYRsECAAAwjIIFAABgGAULAADAMAoWAACAYRQsAAAAwyhYAAAAhlGwAAAADKNgAQAAGEbBAgAAMIyCBQAAYBgFCwAAwDAKFgAAgGEULAAAAMMoWAAAAIZRsAAAAAyjYAEAABhGwQIAADCMggUAAGAYBQsAAMAwChYAAIBhFCwAAADDKFgAAACGUbAAAAAMo2ABAAAYRsECAAAwjIIFAABgGAULAADAMAoWAACAYRQsAAAAwyLsHuB6UV19OqD9HI4wxcd31Fdf1aqhwbrGU0EiczuQefCRuT3IPfguz/zmmzvbM4ct94qrcjjCFBYWJocjzO5RrhtkHnxkHnxkbg9yD75QyZyCBQAAYBgFCwAAwDAKFgAAgGEULAAAAMMoWAAAAIZRsAAAAAyjYAEAABhGwQIAADCMggUAAGAYBQsAAMAwChYAAIBhFCwAAADDKFgAAACGRdg9AADg%2BjX6Z7%2B3e4Rm2TXvDrtHQBvRbh/BSkpKktPp1MCBA31vTz/9tCSppKREubm5Sk1N1dixY7Vt2za/Yzdv3qxRo0YpNTVV%2Bfn5Ki0tteMUAABAG9WuH8HavXu3evTo4bdWVVWlOXPmaNmyZRo3bpw%2B/PBDzZ49W7169dLAgQO1b98%2BrV%2B/Xi%2B%2B%2BKKSkpK0efNmzZo1S3v37lWHDh1sOhMAANCWtNtHsK5m%2B/btSkxMVG5urqKiopSenq6srCwVFxdLklwul3JycpSSkqLo6GjNmDFDkrR//347xwYAAG1Iuy5Y69atU2ZmpoYNG6bly5ertrZWZWVlSk5O9tsvOTnZdxnw8u0Oh0P9%2B/eX2%2B0O6uwAAKDtarcFa/DgwUpPT9fevXvlcrl0%2BPBhrVixQl6vVzExMX77dunSRR6PR5Lk9XoVGxvrtz02Nta3HQAAoCnt9jlYLpfL99%2B33nqrFi1apNmzZ2vo0KFNHmtZVqvuu6qqStXV1X5rEREdlJCQ0OSx4eEOv/e49sg8%2BMg8%2BMjcjIiI5uVH7sEXKpm324J1uR49eqi%2Bvl4Oh0Ner9dvm8fjUXx8vCQpLi6u0Xav16s%2BffoEfF8ul0uFhYV%2BawUFBZo7d27AtxETc0PA%2B8IMMg8%2BMg8%2BMm%2BduLiOLTqO3IPP7szbZcEqLy/Xtm3btGTJEt/aiRMnFBkZqYyMDL3xxht%2B%2B5eWliolJUWS5HQ6VVZWpokTJ0qS6uvrVV5ertzc3IDvPy8vT1lZWX5rEREd5PHUNnlseLhDMTE3qKamTvX1DQHfJ1qOzIOPzIOPzM0I5Of4N5F78F2eeUtLcWu1y4J14403yuVyKT4%2BXtOmTVNFRYWee%2B455eXl6Xvf%2B54KCwtVXFys8ePH6w9/%2BIMOHjzou6SYn5%2BvBQsW6IEHHlBSUpJ%2B8YtfKDIyUpmZmQHff0JCQqPLgdXVp3XxYuDfXPX1Dc3aH61H5sFH5sFH5q3T0uzIPfjszrxdFqyuXbuqqKhI69at04YNGxQZGamJEydq/vz5ioqK0saNG/XMM89oxYoV6t69u9asWaN%2B/fpJku6%2B%2B24tWLBA8%2BbN06lTpzRw4EAVFRUpOjra5rMCAABtRZjV2md0IyDV1acD2i8iwqG4uI7yeGr5106QkHnwkXnwhWrm7f1P5YRq7u3Z5ZnffHNnW%2Bbg1xoAAAAMo2ABAAAYRsECAAAwjIIFAABgGAULAADAMAoWAACAYRQsAAAAwyhYAAAAhlGwAAAADKNgAQAAGEbBAgAAMIyCBQAAYBgFCwAAwDAKFgAAgGEULAAAAMMoWAAAAIZRsAAAAAyjYAEAABhGwQIAADCMggUAAGAYBQsAAMAwChYAAIBhFCwAAADDKFgAAACGUbAAAAAMo2ABAAAYRsECAAAwjIIFAABgGAULAADAMAoWAACAYRQsAAAAwyhYAAAAhlGwAAAADKNgAQAAGEbBAgAAMIyCBQAAYBgFCwAAwDAKFgAAgGEULAAAAMMoWAAAAIZRsAAAAAyjYAEAABhGwQIAADCMggUAAGAYBQsAAMAwChYAAIBhFCwAAADDKFgAAACGUbAAAAAMo2ABAAAYdl0UrJUrVyopKcn3cUlJiXJzc5WamqqxY8dq27Ztfvtv3rxZo0aNUmpqqvLz81VaWhrskQEAQBvW7gvWkSNHtHXrVt/HVVVVmjNnjqZMmaKSkhItW7ZMy5cvl9vtliTt27dP69ev109/%2BlO99957GjlypGbNmqWzZ8/adQoAAKCNadcFq6GhQU8%2B%2BaSmTZvmW9u%2BfbsSExOVm5urqKgopaenKysrS8XFxZIkl8ulnJwcpaSkKDo6WjNmzJAk7d%2B/345TAAAAbVC7LlivvvqqoqKiNG7cON9aWVmZkpOT/fZLTk72XQa8fLvD4VD//v19j3ABAAA0JcLuAa6VL7/8UuvXr9crr7zit%2B71etW1a1e/tS5dusjj8fi2x8bG%2Bm2PjY31bQ9EVVWVqqur/dYiIjooISGhyWPDwx1%2B73HtkXnwkXnwkbkZERHNy4/cgy9UMm%2B3BWvVqlXKyclR79699de//rVZx1qW1ar7drlcKiws9FsrKCjQ3LlzA76NmJgbWjUDmo/Mg4/Mg4/MWycurmOLjiP34LM783ZZsEpKSnTo0CHt2LGj0ba4uDh5vV6/NY/Ho/j4%2BKtu93q96tOnT8D3n5eXp6ysLL%2B1iIgO8nhqmzw2PNyhmJgbVFNTp/r6hoDvEy1H5sFH5sFH5mYE8nP8m8g9%2BC7PvKWluLXaZcHatm2bTp06pZEjR0r6/49IpaWl6dFHH21UvEpLS5WSkiJJcjqdKisr08SJEyVJ9fX1Ki8vV25ubsD3n5CQ0OhyYHX1aV28GPg3V319Q7P2R%2BuRefCRefCReeu0NDtyDz67M2%2BXF4WXLFmiPXv2aOvWrdq6dauKiookSVu3btW4ceNUUVGh4uJinT9/XgcPHtTBgwf14IMPSpLy8/P15ptv6vDhw6qrq9OGDRsUGRmpzMxMG88IAAC0Je3yEazY2Fi/J6pfvHhRktStWzdJ0saNG/XMM89oxYoV6t69u9asWaN%2B/fpJku6%2B%2B24tWLBA8%2BbN06lTpzRw4EAVFRUpOjo6%2BCcCAADapHZZsC7Xo0cPHTt2zPfx8OHD/V589HIPPfSQHnrooWCMBgAA2qF2eYkQAADAThQsAAAAwyhYAAAAhlGwAAAADKNgAQAAGEbBAgAAMIyCBQAAYBgFCwAAwDAKFgAAgGEULAAAAMMoWAAAAIZRsAAAAAyjYAEAABhGwQIAADCMggUAAGAYBQsAAMAwChYAAIBhFCwAAADDKFgAAACGUbAAAAAMo2ABAAAYRsECAAAwjIIFAABgGAULAADAMAoWAACAYRQsAAAAwyhYAAAAhlGwAAAADKNgAQAAGEbBAgAAMIyCBQAAYBgFCwAAwDAKFgAAgGEULAAAAMMoWAAAAIZRsAAAAAyjYAEAABhGwQIAADCMggUAAGBYyBWsrKwsFRYWqrKy0u5RAAAAWiTkCtakSZO0c%2BdO3XvvvZoxY4b27t2rixcv2j0WAABAwEKuYBUUFGjnzp167bXX1KdPH61cuVIZGRlas2aNTp48afd4AAAATQq5gnXJgAEDtHjxYu3fv19Lly7Va6%2B9pjFjxmj69On605/%2BZPd4AAAAVxWyBevChQvauXOnHnvsMS1evFhdu3bVE088of79%2B2vatGnavn273SMCAABcUYTdA1zuxIkTev311/Xmm2%2BqtrZWo0aN0ssvv6yhQ4f69hk%2BfLieeuopjRs3zsZJAQAArizkCtbYsWPVq1cvzZw5UxMmTFCXLl0a7ZORkaGvvvrKhukAAACaFnIFa/PmzRoxYkST%2B3388cdBmAYAAKD5Qu45WElJSZo1a5Z%2B%2B9vf%2Btb%2B67/%2BS4899pi8Xq%2BNkwEAAAQm5ArWqlWrdPr0afXu3du3lpmZqYaGBq1evdrGyQAAAAITcgXr3XffVWFhoRITE31riYmJWrt2rd55552Ab%2Bfo0aN65JFHNHToUKWnp2vevHmqrq6WJJWUlCg3N1epqakaO3astm3b5nfs5s2bNWrUKKWmpio/P1%2BlpaVGzg0AAFwfQq5gnTt3TlFRUY3WHQ6H6urqArqN//u//9Ojjz6qESNGqKSkRDt27NCpU6f01FNPqaqqSnPmzNGUKVNUUlKiZcuWafny5XK73ZKkffv2af369frpT3%2Bq9957TyNHjtSsWbN09uxZo%2BcJAADar5ArWMOHD9fq1av197//3bf2t7/9TStWrPB7qYZvU1dXp/nz52vmzJmKjIxUfHy87rvvPn3yySfavn27EhMTlZubq6ioKKWnpysrK0vFxcWSJJfLpZycHKWkpCg6OlozZsyQJO3fv9/8yQIAgHYp5H6LcOnSpXr00Ud1%2B%2B23q1OnTmpoaFBtba169uypV155JaDbiI2N1eTJk30ff/rpp3rjjTc0evRolZWVKTk52W//5ORk7dq1S5JUVlamMWPG%2BLY5HA71799fbrdbY8eODej%2Bq6qqfJcjL4mI6KCEhIQmjw0Pd/i9x7VH5sFH5sFH5mZERDQvP3IPvlDJPOQKVs%2BePfXWW2/pd7/7nf7yl7/I4XCoV69euvPOOxUeHt6s26qoqNCoUaN08eJFPfjgg5o7d64ee%2Bwxde3a1W%2B/Ll26yOPxSJK8Xq9iY2P9tsfGxvq2B8LlcqmwsNBvraCgQHPnzg34NmJibgh4X5hB5sFH5sFH5q0TF9exRceRe/DZnXnIFSxJioyM1L333tvq2%2Bnevbvcbrf%2B/Oc/61/%2B5V/0ox/9KKDjLMtq1f3m5eUpKyvLby0iooM8ntomjw0Pdygm5gbV1NSpvr6hVXMgMGQefGQefGRuRiA/x7%2BJ3IPv8sxbWopbK%2BQK1ueff65169bpk08%2B0blz5xptf/vtt5t1e2FhYUpMTNT8%2BfM1ZcoUZWRkNHo9LY/Ho/j4eElSXFxco%2B1er1d9%2BvQJ%2BD4TEhIaXQ6srj6tixcD/%2Baqr29o1v5oPTIPPjIPPjJvnZZmR%2B7BZ3fmIVewli5dqqqqKt15553q0KFDi26jpKRETz31lHbt2iWH4%2BtrsJfeDxo0SHv27PHbv7S0VCkpKZIkp9OpsrIyTZw4UZJUX1%2Bv8vJy5ebmtvSUAADAdSbkClZpaanefvtt3yNKLeF0OnXmzBmtWbNGc%2BfOVV1dndavX69hw4YpPz9fmzZtUnFxscaPH68//OEPOnjwoFwulyQpPz9fCxYs0AMPPKCkpCT94he/UGRkpDIzMw2dIQAAaO9C7tcabrzxxhY/cnVJ586dtWnTJpWWluq2227T2LFj1blzZ/37v/%2B7brzxRm3cuFFbtmzR0KFDtXLlSq1Zs0b9%2BvWTJN19991asGCB5s2bpxEjRui9995TUVGRoqOjTZweAAC4DoRZrX1Gt2HFxcX685//rIULFyosLMzucYyprj4d0H4REQ7FxXWUx1PL9fogIfPgI/PgC9XMR//s93aP0Cy75t3RrP1DNff27PLMb765sz1z2HKv3%2BJ3v/udPvroI/36179Wjx49fM%2BduuTVV1%2B1aTIAAIDAhFzB6tSpk%2B6%2B%2B267xwAAAGixkCtYq1atsnsEAACAVgm5J7lLX/9pm/Xr1%2BuJJ57wrR06dMjGiQAAAAIXcgWrpKRE48eP1969e7Vjxw5JX7/46MMPP9zsFxkFAACwQ8gVrGeffVY//OEPtX37dt9vEfbs2VOrV6/WCy%2B8YPN0AAAATQu5gvW///u/ys/PlyS/l2m4//77deLECbvGAgAACFjIFazOnTtf8W8QVlVVKTIy0oaJAAAAmifkClZqaqpWrlypM2fO%2BNZOnjypxYsX6/bbb7dxMgAAgMCE3Ms0PPHEE3rkkUeUlpam%2Bvp6paamqq6uTn369NHq1avtHg8AAKBJIVewunXrph07dujgwYM6efKkoqOj1atXL91xxx3t6k/nAACA9ivkCpYkfec739G9995r9xgAAAAtEnIFKysr61sfqeK1sAAAQKgLuYI1ZswYv4JVX1%2BvkydPyu1265FHHrFxMgAAgMCEXMFatGjRFdf37NmjP/7xj0GeBgAAoPlC7mUarubee%2B/VW2%2B9ZfcYAAAATWozBau8vFyWZdk9BgAAQJNC7hLhlClTGq3V1dXpxIkTys7OtmEiAACA5gm5gpWYmNjotwijoqKUm5uryZMn2zQVAABA4EKuYPFq7QAAoK0LuYL15ptvBrzvhAkTruEkAAAALRNyBWvZsmVqaGho9IT2sLAwv7WwsDAKFgAACEkhV7BefPFFbdq0SbNmzVJSUpIsy9KxY8f0n//5n5o6darS0tLsHhEAAOBbhVzBWr16tYqKitS1a1ff2rBhw9SzZ09Nnz5dO3bssHE6AACApoXc62B99tlnio2NbbQeExOjiooKGyYCAABonpArWN27d9fq1avl8Xh8azU1NVq3bp1uueUWGycDAAAITMhdIly6dKkWLlwol8uljh07yuFw6MyZM4qOjtYLL7xg93gAAABNCrmCdeedd%2BrAgQM6ePCgvvjiC1mWpa5du%2Bquu%2B5S586d7R4PAACgSSFXsCTphhtu0D333KMvvvhCPXv2tHscAACAZgm552CdO3dOixcv1pAhQzR69GhJXz8Ha8aMGaqpqbF5OgAAgKaFXMFas2aNjhw5orVr18rh%2BP/j1dfXa%2B3atTZOBgAAEJiQK1h79uzR888/r/vvv9/3R59jYmK0atUq7d271%2BbpAAAAmhZyBau2tlaJiYmN1uPj43X27NngDwQAANBMIVewbrnlFv3xj3%2BUJL%2B/Pbh792794z/%2Bo11jAQAABCzkfovwoYce0uOPP65JkyapoaFBL730kkpLS7Vnzx4tW7bM7vEAAACaFHIFKy8vTxEREdqyZYvCw8P185//XL169dLatWt1//332z0eAABAk0KuYH311VeaNGmSJk2aZPcoAAAALRJyz8G65557/J57BQAA0NaEXMFKS0vTrl277B4DAACgxULuEuE//MM/6Cc/%2BYmKiop0yy236Dvf%2BY7f9nXr1tk0GQAAQGBCrmAdP35c//RP/yRJ8ng8Nk8DAADQfCFTsObPn69nn31Wr7zyim/thRdeUEFBgY1TAQAANF/IPAdr3759jdaKiopsmAQAAKB1QqZgXek3B/ltQgAA0BaFTMG69Iedm1oDAAAIdSFTsAAAANoLChYAAIBhIfNbhBcuXNDChQubXON1sAAAQKgLmUewhg4dqqqqKr%2B3K60FqqKiQgUFBUpLS1N6erqWLFmimpoaSdKRI0c0depUDR06VNnZ2dq0aZPfsTt37tS4ceM0ZMgQ5eTk6N133zV6rgAAoH0LmUewvvn6VybMmjVLTqdT%2B/bt0%2BnTp1VQUKB/%2B7d/0/LlyzVz5kw9%2BOCDKioq0smTJ/Xoo4%2BqR48eys7O1pEjR7R48WIVFhbqtttu0549e/SDH/xAu3fvVrdu3YzOCAAA2qeQeQTLpJqaGjmdTi1cuFAdO3ZUt27dNHHiRH3wwQc6cOCALly4oNmzZ6tDhw4aMGCAJk%2BeLJfLJUkqLi5WRkaGMjIyFBUVpfHjx6tv377atm2bzWcFAADainZZsGJiYrRq1SrddNNNvrXKykolJCSorKxMSUlJCg8P921LTk5WaWmpJKmsrEzJycl%2Bt5ecnCy32x2c4QEAQJsXMpcIryW3260tW7Zow4YN2rVrl2JiYvy2d%2BnSRV6vVw0NDfJ6vYqNjfXbHhsbq%2BPHjwd8f1VVVaqurvZbi4jooISEhCaPDQ93%2BL3HtUfmwUfmwUfmZkRENC8/cg%2B%2BUMm83ResDz/8ULNnz9bChQuVnp6uXbt2XXG/b76oaWtfQd7lcqmwsNBvraCgQHPnzg34NmJibmjVDGg%2BMg8%2BMg8%2BMm%2BduLiOLTqO3IPP7szbdcHat2%2BffvjDH2r58uWaMGGCJCk%2BPl6fffaZ335er1ddunSRw%2BFQXFycvF5vo%2B3x8fEB329eXp6ysrL81iIiOsjjqW3y2PBwh2JiblBNTZ3q6xsCvk%2B0HJkHH5kHH5mbEcjP8W8i9%2BC7PPOWluLWarcF66OPPtLixYv13HPP6c477/StO51O/epXv9LFixcVEfH16bvdbqWkpPi2X3o%2B1iVut1tjx44N%2BL4TEhIaXQ6srj6tixcD/%2Baqr29o1v5oPTIPPjIPPjJvnZZmR%2B7BZ3fm7fKi8MWLF/XjH/9YixYt8itXkpSRkaFOnTppw4YNqqur08cff6zXX39d%2Bfn5kqQHH3xQ7733ng4cOKDz58/r9ddf12effabx48fbcSoAAKANapePYB0%2BfFgnTpzQM888o2eeecZv2%2B7du/Xzn/9cTz75pIqKinTTTTdp/vz5yszMlCT17dtXa9eu1apVq1RRUaHevXtr48aNuvnmm204EwAA0Ba1y4I1bNgwHTt27Fv3%2BdWvfnXVbdnZ2crOzjY9FgAAuE60y0uEAAAAdqJgAQAAGEbBAgAAMIyCBQAAYBgFCwAAwDAKFgAAgGEULAAAAMMoWAAAAIZRsAAAAAyjYAEAABhGwQIAADCMggUAAGAYBQsAAMAwChYAAIBhFCwAAADDKFgAAACGUbAAAAAMo2ABAAAYRsECAAAwjIIFAABgGAULAADAMAoWAACAYRQsAAAAwyhYAAAAhlGwAAAADKNgAQAAGEbBAgAAMIyCBQAAYBgFCwAAwDAKFgAAgGEULAAAAMMoWAAAAIZRsAAAAAyjYAEAABhGwQIAADCMggUAAGAYBQsAAMAwChYAAIBhFCwAAADDKFgAAACGUbAAAAAMo2ABAAAYRsECAAAwjIIFAABgGAULAADAMAoWAACAYRQsAAAAwyhYAAAAhlGwAAAADGuXBau2tlbDhw9XUlKSnE6n8vPzVVpaavdYAADgOtHuClZ1dbXGjRvn%2B3jr1q0aOXKkZs2apbNnz9o4GQAAuF60u4Ll8Xjk8XiUlpbmW5sxY4Ykaf/%2B/XaNBQAAriMRdg9gWt%2B%2BfdWxY0clJyfrN7/5jSTJ4XCof//%2BcrvdGjt27DWfoaqqStXV1X5rEREdlJCQ0OSx4eEOv/e49sg8%2BMg8%2BMjcjIiI5uVH7sEXKpm3u4IlSV6vV7GxsX5rsbGx8ng8Qbl/l8ulwsJCv7WCggLNnTs34NuIibnB9FhoApkHH5kHH5m3TlxcxxYdR%2B7BZ3fm7bJgSZJlWbbdd15enrKysvzWIiI6yOOpbfLY8HCHYmJuUE1NnerrG67ViPgGMg8%2BMg8%2BMjcjkJ/j30TuwXd55i0txa3VLgtWXFycvF6v35rX61WfPn2Ccv8JCQmNLgdWV5/WxYuBf3PV1zc0a3%2B0HpkHH5kHH5m3TkuzI/fgszvzdnlR2Ol0%2Br0sQ319vcrLy5WSkmLjVAAA4HrRLgtWfn6%2BPvjgA0lfXyrcsGGDIiMjlZmZae9gAADgutDuLhH%2Bx3/8hzZs2OB7DtaECRNkWZYKCgoUHR1t83QAAOB60O4K1pw5czRnzhy7xwAAANexdnmJEAAAwE4ULAAAAMMoWAAAAIZRsAAAAAyjYAEAABhGwQIAADCMggUAAGAYBQsAAMAwChYAAIBhFCwAAADDKFgAAACGUbAAAAAMo2ABAAAYRsECAAAwjIIFAABgGAULAADAMAoWAACAYRQsAAAAwyhYAAAAhlGwAAAADKNgAQAAGEbBAgAAMIyCBQAAYBgFCwAAwDAKFgAAgGEULAAAAMMoWAAAAIZF2D0AADNG/%2Bz3do8QsN8susvuEQDgmuIRLAAAAMMoWAAAAIZRsAAAAAyjYAEAABhGwQIAADCMggUAAGAYBQsAAMAwChYAAIBhFCwAAADDKFgAAACGUbAAAAAMo2ABAAAYRsECAAAwjIIFAABgGAULAADAMAoWAACAYRF2DwAAAK6N0T/7vd0jBGzXvDvsHsEoChYAtDNt6X%2BqQHvFJUIAAADDKFgAAACGUbAAAAAM4zlYV1BRUaEVK1bo448/VocOHTRmzBgtXLhQDgd9tDXa2vNC2tsTLgEAwUPBuoLHH39cAwYM0G9/%2B1udOnVKM2fO1E033aR//ud/tns0AADQBlCwLuN2u3X06FG99NJL6ty5szp37qxp06bp5ZdfDsmC1dYeFWpLyPbauW/tO3aP0Cw8mgmguShYlykrK1P37t0VGxvrWxswYIBOnjypM2fOqFOnTk3eRlVVlaqrq/3WIiI6KCEhocljw8Mdfu8B2C8igu9HfK25Xwv8TA%2Bcqe%2BzUMmcgnUZr9ermJgYv7VLZcvj8QRUsFwulwoLC/3WfvCDH%2Bjxxx9v8tiqqiq9/PKLysvLC6iQffCT%2B5vcB9%2BuqqpKLpcr4MzRemR%2BbV3p5wKZ26O5P9NNux7/H2F35pdQqa/AsqxWHZ%2BXl6df//rXfm95eXkBHVtdXa3CwsJGj4Dh2iHz4CPz4CNze5B78IVK5jyCdZn4%2BHh5vV6/Na/Xq7CwMMXHxwd0GwkJCfwLEQCA6xiPYF3G6XSqsrJSX331lW/N7Xard%2B/e6tixo42TAQCAtoKCdZnk5GQNHDhQ69at05kzZ3TixAm99NJLys/Pt3s0AADQRoQ/9dRTT9k9RKi56667tGPHDj399NN66623lJubq%2BnTpyssLCwo99%2BxY0eNGDGCR8yCiMyDj8yDj8ztQe7BFwqZh1mtfUY3AAAA/HCJEAAAwDAKFgAAgGEULAAAAMMoWADz%2Bc0pAAAIyUlEQVQAAIZRsAAAAAyjYAEAABhGwQIAADCMggUAAGAYBQsAAMAwClaIqKio0Pe//32lpaVp5MiRWrNmjRoaGuweq8175513lJ6ervnz5zfatnPnTo0bN05DhgxRTk6O3n33Xd%2B2hoYGPfvss7rnnns0fPhwTZ8%2BXZ9//nkwR2%2BzKioqVFBQoLS0NKWnp2vJkiWqqamRJB05ckRTp07V0KFDlZ2drU2bNvkd%2B22fE1zd0aNH9cgjj2jo0KFKT0/XvHnzVF1dLUkqKSlRbm6uUlNTNXbsWG3bts3v2M2bN2vUqFFKTU1Vfn6%2BSktL7TiFNm3lypVKSkryfUzm105SUpKcTqcGDhzoe3v66aclhWDuFkLCxIkTrR//%2BMdWTU2NdfLkSSs7O9vatGmT3WO1aUVFRVZ2drY1ZcoUa968eX7bysvLLafTaR04cMA6d%2B6ctXXrVislJcWqrKy0LMuyNm/ebI0cOdI6fvy4dfr0aetf//VfrXHjxlkNDQ12nEqb8sADD1hLliyxzpw5Y1VWVlo5OTnW0qVLrbq6Ouuuu%2B6y1q9fb9XW1lqlpaXWiBEjrD179liW1fTnBFd2/vx56/bbb7cKCwut8%2BfPW6dOnbKmTp1qzZkzx/rb3/5mDR482CouLrbOnTtn/f73v7cGDRpk/elPf7Isy7Lefvtta9iwYdbhw4eturo6a%2BPGjdYdd9xh1dbW2nxWbUd5ebk1YsQIq2/fvpZlWWR%2BjfXt29f6/PPPG62HYu48ghUC3G63jh49qkWLFqlz585KTEzUtGnT5HK57B6tTYuKitLrr7%2Bu7373u422FRcXKyMjQxkZGYqKitL48ePVt29f3794XC6Xpk2bpltvvVWdOnXS/PnzdeLECX388cfBPo02paamRk6nUwsXLlTHjh3VrVs3TZw4UR988IEOHDigCxcuaPbs2erQoYMGDBigyZMn%2B77Om/qc4Mrq6uo0f/58zZw5U5GRkYqPj9d9992nTz75RNu3b1diYqJyc3MVFRWl9PR0ZWVlqbi4WNLXX%2Bc5OTlKSUlRdHS0ZsyYIUnav3%2B/nafUZjQ0NOjJJ5/UtGnTfGtkbo9QzJ2CFQLKysrUvXt3xcbG%2BtYGDBigkydP6syZMzZO1rY9/PDD6ty58xW3lZWVKTk52W8tOTlZbrdb586d0/Hjx/22d%2BrUSd/97nfldruv6cxtXUxMjFatWqWbbrrJt1ZZWamEhASVlZUpKSlJ4eHhvm3Jycm%2Bh%2Bm/7XOCq4uNjdXkyZMVEREhSfr000/1xhtvaPTo0VfN9GqZOxwO9e/fn8wD9OqrryoqKkrjxo3zrZH5tbdu3TplZmZq2LBhWr58uWpra0MydwpWCPB6vYqJifFbu1S2PB6PHSO1e16v16/QSl9n7vF49Pe//12WZV11OwLndru1ZcsWzZ49%2B4pf5126dJHX61VDQ8O3fk7QtIqKCjmdTo0ZM0YDBw7U3Llzr5r5pUzJvOW%2B/PJLrV%2B/Xk8%2B%2BaTfOplfW4MHD1Z6err27t0rl8ulw4cPa8WKFSGZOwUrRFiWZfcI152mMudz0joffvihpk%2BfroULFyo9Pf2q%2B4WFhfn%2Bm8xbrnv37nK73dq9e7c%2B%2B%2Bwz/ehHPwroODJvmVWrViknJ0e9e/du9rFk3nIul0uTJ09WZGSkbr31Vi1atEg7duzQhQsXmjw22LlTsEJAfHy8vF6v35rX61VYWJji4%2BNtmqp9i4uLu2Lm8fHx6tKlixwOxxW333jjjcEcs83at2%2Bfvv/972vp0qV6%2BOGHJX39dX75vxa9Xq8v72/7nCAwYWFhSkxM1Pz587Vjxw5FREQ0ytTj8fgyJfOWKSkp0aFDh1RQUNBo25UyJfNrp0ePHqqvr7/iz2y7c6dghQCn06nKykp99dVXvjW3263evXurY8eONk7Wfjmdzka/out2u5WSkqKoqCj16dNHZWVlvm01NTX6y1/%2BokGDBgV71Dbno48%2B0uLFi/Xcc89pwoQJvnWn06ljx47p4sWLvrVLmV/afrXPCa6upKREo0aN8ntZF4fj6x/tgwYNapRpaWmpX%2Bbf/Dqvr69XeXk5mTdh27ZtOnXqlEaOHKm0tDTl5ORIktLS0tS3b18yv0bKy8u1evVqv7UTJ04oMjJSGRkZoZf7Nfv9RDTL5MmTraVLl1qnT5%2B2jh8/bmVlZVlbtmyxe6x2YfHixY1epuHYsWPWwIEDrf3791vnzp2ziouLrSFDhlhVVVWWZVnWf//3f1uZmZm%2Bl2lYvny5NWnSJDvGb1MuXLhgjR492nr11VcbbTt//rw1cuRI6/nnn7fOnj1rHT582Bo2bJi1f/9%2By7Ka/pzgympqaqz09HRr9erV1tmzZ61Tp05Z06dPtx566CHryy%2B/tIYMGWK99tpr1rlz56wDBw5YgwYNso4cOWJZlmUdPHjQGjp0qHXo0CHr7Nmz1vr1662MjAyrrq7O5rMKbV6v16qsrPS9HTp0yOrbt69VWVlpVVRUkPk18sUXX1iDBw%2B2Nm7caJ0/f9769NNPrTFjxlhPP/10SH6tU7BCRGVlpTVjxgxr0KBBVnp6uvX888/zmkut5HQ6LafTafXr18/q16%2Bf7%2BNL9uzZY2VnZ1sDBgywvve971nvv/%2B%2Bb1tDQ4P13HPPWbfffrs1aNAg67HHHuP1mALwP//zP1bfvn19WX/z7a9//at17Ngxa8qUKZbT6bQyMzOtX/7yl37Hf9vnBFd39OhRa%2BrUqdagQYOs2267zZo3b571xRdfWJZlWe%2B//741fvx4a8CAAVZ2drbvdccu%2BeUvf2llZGRYTqfTys/Pt44dO2bHKbRpn3/%2Bue91sCyLzK%2Bl999/38rLy7MGDx5sjRgxwlq1apV17tw537ZQyj3Msni2HQAAgEk8BwsAAMAwChYAAIBhFCwAAADDKFgAAACGUbAAAAAMo2ABAAAYRsECAAAwjIIFAABgGAULAADAMAoWAACAYRQsAAAAwyhYAAAAhlGwAAAADPt/kZRfYB%2B97AwAAAAASUVORK5CYII%3D\"/>\n",
              "        </div>\n",
              "        <div role=\"tabpanel\" class=\"tab-pane col-md-12\" id=\"common6640822740344577883\">\n",
              "            \n",
              "<table class=\"freq table table-hover\">\n",
              "    <thead>\n",
              "    <tr>\n",
              "        <td class=\"fillremaining\">Value</td>\n",
              "        <td class=\"number\">Count</td>\n",
              "        <td class=\"number\">Frequency (%)</td>\n",
              "        <td style=\"min-width:200px\">&nbsp;</td>\n",
              "    </tr>\n",
              "    </thead>\n",
              "    <tr class=\"\">\n",
              "        <td class=\"fillremaining\">360.0</td>\n",
              "        <td class=\"number\">512</td>\n",
              "        <td class=\"number\">83.4%</td>\n",
              "        <td>\n",
              "            <div class=\"bar\" style=\"width:100%\">&nbsp;</div>\n",
              "        </td>\n",
              "</tr><tr class=\"\">\n",
              "        <td class=\"fillremaining\">180.0</td>\n",
              "        <td class=\"number\">44</td>\n",
              "        <td class=\"number\">7.2%</td>\n",
              "        <td>\n",
              "            <div class=\"bar\" style=\"width:9%\">&nbsp;</div>\n",
              "        </td>\n",
              "</tr><tr class=\"\">\n",
              "        <td class=\"fillremaining\">480.0</td>\n",
              "        <td class=\"number\">15</td>\n",
              "        <td class=\"number\">2.4%</td>\n",
              "        <td>\n",
              "            <div class=\"bar\" style=\"width:3%\">&nbsp;</div>\n",
              "        </td>\n",
              "</tr><tr class=\"\">\n",
              "        <td class=\"fillremaining\">300.0</td>\n",
              "        <td class=\"number\">13</td>\n",
              "        <td class=\"number\">2.1%</td>\n",
              "        <td>\n",
              "            <div class=\"bar\" style=\"width:3%\">&nbsp;</div>\n",
              "        </td>\n",
              "</tr><tr class=\"\">\n",
              "        <td class=\"fillremaining\">84.0</td>\n",
              "        <td class=\"number\">4</td>\n",
              "        <td class=\"number\">0.7%</td>\n",
              "        <td>\n",
              "            <div class=\"bar\" style=\"width:1%\">&nbsp;</div>\n",
              "        </td>\n",
              "</tr><tr class=\"\">\n",
              "        <td class=\"fillremaining\">240.0</td>\n",
              "        <td class=\"number\">4</td>\n",
              "        <td class=\"number\">0.7%</td>\n",
              "        <td>\n",
              "            <div class=\"bar\" style=\"width:1%\">&nbsp;</div>\n",
              "        </td>\n",
              "</tr><tr class=\"\">\n",
              "        <td class=\"fillremaining\">120.0</td>\n",
              "        <td class=\"number\">3</td>\n",
              "        <td class=\"number\">0.5%</td>\n",
              "        <td>\n",
              "            <div class=\"bar\" style=\"width:1%\">&nbsp;</div>\n",
              "        </td>\n",
              "</tr><tr class=\"\">\n",
              "        <td class=\"fillremaining\">36.0</td>\n",
              "        <td class=\"number\">2</td>\n",
              "        <td class=\"number\">0.3%</td>\n",
              "        <td>\n",
              "            <div class=\"bar\" style=\"width:1%\">&nbsp;</div>\n",
              "        </td>\n",
              "</tr><tr class=\"\">\n",
              "        <td class=\"fillremaining\">60.0</td>\n",
              "        <td class=\"number\">2</td>\n",
              "        <td class=\"number\">0.3%</td>\n",
              "        <td>\n",
              "            <div class=\"bar\" style=\"width:1%\">&nbsp;</div>\n",
              "        </td>\n",
              "</tr><tr class=\"\">\n",
              "        <td class=\"fillremaining\">12.0</td>\n",
              "        <td class=\"number\">1</td>\n",
              "        <td class=\"number\">0.2%</td>\n",
              "        <td>\n",
              "            <div class=\"bar\" style=\"width:1%\">&nbsp;</div>\n",
              "        </td>\n",
              "</tr><tr class=\"missing\">\n",
              "        <td class=\"fillremaining\">(Missing)</td>\n",
              "        <td class=\"number\">14</td>\n",
              "        <td class=\"number\">2.3%</td>\n",
              "        <td>\n",
              "            <div class=\"bar\" style=\"width:3%\">&nbsp;</div>\n",
              "        </td>\n",
              "</tr>\n",
              "</table>\n",
              "        </div>\n",
              "        <div role=\"tabpanel\" class=\"tab-pane col-md-12\"  id=\"extreme6640822740344577883\">\n",
              "            <p class=\"h4\">Minimum 5 values</p>\n",
              "            \n",
              "<table class=\"freq table table-hover\">\n",
              "    <thead>\n",
              "    <tr>\n",
              "        <td class=\"fillremaining\">Value</td>\n",
              "        <td class=\"number\">Count</td>\n",
              "        <td class=\"number\">Frequency (%)</td>\n",
              "        <td style=\"min-width:200px\">&nbsp;</td>\n",
              "    </tr>\n",
              "    </thead>\n",
              "    <tr class=\"\">\n",
              "        <td class=\"fillremaining\">12.0</td>\n",
              "        <td class=\"number\">1</td>\n",
              "        <td class=\"number\">0.2%</td>\n",
              "        <td>\n",
              "            <div class=\"bar\" style=\"width:25%\">&nbsp;</div>\n",
              "        </td>\n",
              "</tr><tr class=\"\">\n",
              "        <td class=\"fillremaining\">36.0</td>\n",
              "        <td class=\"number\">2</td>\n",
              "        <td class=\"number\">0.3%</td>\n",
              "        <td>\n",
              "            <div class=\"bar\" style=\"width:50%\">&nbsp;</div>\n",
              "        </td>\n",
              "</tr><tr class=\"\">\n",
              "        <td class=\"fillremaining\">60.0</td>\n",
              "        <td class=\"number\">2</td>\n",
              "        <td class=\"number\">0.3%</td>\n",
              "        <td>\n",
              "            <div class=\"bar\" style=\"width:50%\">&nbsp;</div>\n",
              "        </td>\n",
              "</tr><tr class=\"\">\n",
              "        <td class=\"fillremaining\">84.0</td>\n",
              "        <td class=\"number\">4</td>\n",
              "        <td class=\"number\">0.7%</td>\n",
              "        <td>\n",
              "            <div class=\"bar\" style=\"width:100%\">&nbsp;</div>\n",
              "        </td>\n",
              "</tr><tr class=\"\">\n",
              "        <td class=\"fillremaining\">120.0</td>\n",
              "        <td class=\"number\">3</td>\n",
              "        <td class=\"number\">0.5%</td>\n",
              "        <td>\n",
              "            <div class=\"bar\" style=\"width:75%\">&nbsp;</div>\n",
              "        </td>\n",
              "</tr>\n",
              "</table>\n",
              "            <p class=\"h4\">Maximum 5 values</p>\n",
              "            \n",
              "<table class=\"freq table table-hover\">\n",
              "    <thead>\n",
              "    <tr>\n",
              "        <td class=\"fillremaining\">Value</td>\n",
              "        <td class=\"number\">Count</td>\n",
              "        <td class=\"number\">Frequency (%)</td>\n",
              "        <td style=\"min-width:200px\">&nbsp;</td>\n",
              "    </tr>\n",
              "    </thead>\n",
              "    <tr class=\"\">\n",
              "        <td class=\"fillremaining\">180.0</td>\n",
              "        <td class=\"number\">44</td>\n",
              "        <td class=\"number\">7.2%</td>\n",
              "        <td>\n",
              "            <div class=\"bar\" style=\"width:9%\">&nbsp;</div>\n",
              "        </td>\n",
              "</tr><tr class=\"\">\n",
              "        <td class=\"fillremaining\">240.0</td>\n",
              "        <td class=\"number\">4</td>\n",
              "        <td class=\"number\">0.7%</td>\n",
              "        <td>\n",
              "            <div class=\"bar\" style=\"width:1%\">&nbsp;</div>\n",
              "        </td>\n",
              "</tr><tr class=\"\">\n",
              "        <td class=\"fillremaining\">300.0</td>\n",
              "        <td class=\"number\">13</td>\n",
              "        <td class=\"number\">2.1%</td>\n",
              "        <td>\n",
              "            <div class=\"bar\" style=\"width:3%\">&nbsp;</div>\n",
              "        </td>\n",
              "</tr><tr class=\"\">\n",
              "        <td class=\"fillremaining\">360.0</td>\n",
              "        <td class=\"number\">512</td>\n",
              "        <td class=\"number\">83.4%</td>\n",
              "        <td>\n",
              "            <div class=\"bar\" style=\"width:100%\">&nbsp;</div>\n",
              "        </td>\n",
              "</tr><tr class=\"\">\n",
              "        <td class=\"fillremaining\">480.0</td>\n",
              "        <td class=\"number\">15</td>\n",
              "        <td class=\"number\">2.4%</td>\n",
              "        <td>\n",
              "            <div class=\"bar\" style=\"width:3%\">&nbsp;</div>\n",
              "        </td>\n",
              "</tr>\n",
              "</table>\n",
              "        </div>\n",
              "    </div>\n",
              "</div>\n",
              "</div><div class=\"row variablerow\">\n",
              "    <div class=\"col-md-3 namecol\">\n",
              "        <p class=\"h4 pp-anchor\" id=\"pp_var_Loan_ID\">Loan_ID<br/>\n",
              "            <small>Categorical, Unique</small>\n",
              "        </p>\n",
              "    </div><div class=\"col-md-3 collapse in\" id=\"minivalues8187139245434034741\"><table border=\"1\" class=\"dataframe example_values\">\n",
              "  <thead>\n",
              "    <tr style=\"text-align: right;\">\n",
              "      <th>First 3 values</th>\n",
              "    </tr>\n",
              "  </thead>\n",
              "  <tbody>\n",
              "    <tr>\n",
              "      <td>LP002738</td>\n",
              "    </tr>\n",
              "    <tr>\n",
              "      <td>LP002226</td>\n",
              "    </tr>\n",
              "    <tr>\n",
              "      <td>LP002489</td>\n",
              "    </tr>\n",
              "  </tbody>\n",
              "</table></div>\n",
              "<div class=\"col-md-6 collapse in\" id=\"minivalues8187139245434034741\"><table border=\"1\" class=\"dataframe example_values\">\n",
              "  <thead>\n",
              "    <tr style=\"text-align: right;\">\n",
              "      <th>Last 3 values</th>\n",
              "    </tr>\n",
              "  </thead>\n",
              "  <tbody>\n",
              "    <tr>\n",
              "      <td>LP001066</td>\n",
              "    </tr>\n",
              "    <tr>\n",
              "      <td>LP001922</td>\n",
              "    </tr>\n",
              "    <tr>\n",
              "      <td>LP002821</td>\n",
              "    </tr>\n",
              "  </tbody>\n",
              "</table></div>\n",
              "<div class=\"col-md-12 text-right\">\n",
              "    <a role=\"button\" data-toggle=\"collapse\" data-target=\"#values8187139245434034741,#minivalues8187139245434034741\" aria-expanded=\"false\"\n",
              "       aria-controls=\"collapseExample\">\n",
              "        Toggle details\n",
              "    </a>\n",
              "</div>\n",
              "<div class=\"col-md-12 collapse\" id=\"values8187139245434034741\">\n",
              "    <p class=\"h4\">First 10 values</p>\n",
              "    \n",
              "<table class=\"freq table table-hover\">\n",
              "    <thead>\n",
              "    <tr>\n",
              "        <td class=\"fillremaining\">Value</td>\n",
              "        <td class=\"number\">Count</td>\n",
              "        <td class=\"number\">Frequency (%)</td>\n",
              "        <td style=\"min-width:200px\">&nbsp;</td>\n",
              "    </tr>\n",
              "    </thead>\n",
              "    <tr class=\"\">\n",
              "        <td class=\"fillremaining\">LP001002</td>\n",
              "        <td class=\"number\">1</td>\n",
              "        <td class=\"number\">0.2%</td>\n",
              "        <td>\n",
              "            <div class=\"bar\" style=\"width:100%\">&nbsp;</div>\n",
              "        </td>\n",
              "</tr><tr class=\"\">\n",
              "        <td class=\"fillremaining\">LP001003</td>\n",
              "        <td class=\"number\">1</td>\n",
              "        <td class=\"number\">0.2%</td>\n",
              "        <td>\n",
              "            <div class=\"bar\" style=\"width:100%\">&nbsp;</div>\n",
              "        </td>\n",
              "</tr><tr class=\"\">\n",
              "        <td class=\"fillremaining\">LP001005</td>\n",
              "        <td class=\"number\">1</td>\n",
              "        <td class=\"number\">0.2%</td>\n",
              "        <td>\n",
              "            <div class=\"bar\" style=\"width:100%\">&nbsp;</div>\n",
              "        </td>\n",
              "</tr><tr class=\"\">\n",
              "        <td class=\"fillremaining\">LP001006</td>\n",
              "        <td class=\"number\">1</td>\n",
              "        <td class=\"number\">0.2%</td>\n",
              "        <td>\n",
              "            <div class=\"bar\" style=\"width:100%\">&nbsp;</div>\n",
              "        </td>\n",
              "</tr><tr class=\"\">\n",
              "        <td class=\"fillremaining\">LP001008</td>\n",
              "        <td class=\"number\">1</td>\n",
              "        <td class=\"number\">0.2%</td>\n",
              "        <td>\n",
              "            <div class=\"bar\" style=\"width:100%\">&nbsp;</div>\n",
              "        </td>\n",
              "</tr>\n",
              "</table>\n",
              "    <p class=\"h4\">Last 10 values</p>\n",
              "    \n",
              "<table class=\"freq table table-hover\">\n",
              "    <thead>\n",
              "    <tr>\n",
              "        <td class=\"fillremaining\">Value</td>\n",
              "        <td class=\"number\">Count</td>\n",
              "        <td class=\"number\">Frequency (%)</td>\n",
              "        <td style=\"min-width:200px\">&nbsp;</td>\n",
              "    </tr>\n",
              "    </thead>\n",
              "    <tr class=\"\">\n",
              "        <td class=\"fillremaining\">LP002978</td>\n",
              "        <td class=\"number\">1</td>\n",
              "        <td class=\"number\">0.2%</td>\n",
              "        <td>\n",
              "            <div class=\"bar\" style=\"width:100%\">&nbsp;</div>\n",
              "        </td>\n",
              "</tr><tr class=\"\">\n",
              "        <td class=\"fillremaining\">LP002979</td>\n",
              "        <td class=\"number\">1</td>\n",
              "        <td class=\"number\">0.2%</td>\n",
              "        <td>\n",
              "            <div class=\"bar\" style=\"width:100%\">&nbsp;</div>\n",
              "        </td>\n",
              "</tr><tr class=\"\">\n",
              "        <td class=\"fillremaining\">LP002983</td>\n",
              "        <td class=\"number\">1</td>\n",
              "        <td class=\"number\">0.2%</td>\n",
              "        <td>\n",
              "            <div class=\"bar\" style=\"width:100%\">&nbsp;</div>\n",
              "        </td>\n",
              "</tr><tr class=\"\">\n",
              "        <td class=\"fillremaining\">LP002984</td>\n",
              "        <td class=\"number\">1</td>\n",
              "        <td class=\"number\">0.2%</td>\n",
              "        <td>\n",
              "            <div class=\"bar\" style=\"width:100%\">&nbsp;</div>\n",
              "        </td>\n",
              "</tr><tr class=\"\">\n",
              "        <td class=\"fillremaining\">LP002990</td>\n",
              "        <td class=\"number\">1</td>\n",
              "        <td class=\"number\">0.2%</td>\n",
              "        <td>\n",
              "            <div class=\"bar\" style=\"width:100%\">&nbsp;</div>\n",
              "        </td>\n",
              "</tr>\n",
              "</table>\n",
              "</div>\n",
              "</div><div class=\"row variablerow\">\n",
              "    <div class=\"col-md-3 namecol\">\n",
              "        <p class=\"h4 pp-anchor\" id=\"pp_var_Loan_Status\">Loan_Status<br/>\n",
              "            <small>Categorical</small>\n",
              "        </p>\n",
              "    </div><div class=\"col-md-3\">\n",
              "    <table class=\"stats \">\n",
              "        <tr class=\"\">\n",
              "            <th>Distinct count</th>\n",
              "            <td>2</td>\n",
              "        </tr>\n",
              "        <tr>\n",
              "            <th>Unique (%)</th>\n",
              "            <td>0.3%</td>\n",
              "        </tr>\n",
              "        <tr class=\"ignore\">\n",
              "            <th>Missing (%)</th>\n",
              "            <td>0.0%</td>\n",
              "        </tr>\n",
              "        <tr class=\"ignore\">\n",
              "            <th>Missing (n)</th>\n",
              "            <td>0</td>\n",
              "        </tr>\n",
              "    </table>\n",
              "</div>\n",
              "<div class=\"col-md-6 collapse in\" id=\"minifreqtable-6889349398840809919\">\n",
              "    <table class=\"mini freq\">\n",
              "        <tr class=\"\">\n",
              "    <th>Y</th>\n",
              "    <td>\n",
              "        <div class=\"bar\" style=\"width:100%\" data-toggle=\"tooltip\" data-placement=\"right\" data-html=\"true\"\n",
              "             data-delay=500 title=\"Percentage: 68.7%\">\n",
              "            422\n",
              "        </div>\n",
              "        \n",
              "    </td>\n",
              "</tr><tr class=\"\">\n",
              "    <th>N</th>\n",
              "    <td>\n",
              "        <div class=\"bar\" style=\"width:46%\" data-toggle=\"tooltip\" data-placement=\"right\" data-html=\"true\"\n",
              "             data-delay=500 title=\"Percentage: 31.3%\">\n",
              "            192\n",
              "        </div>\n",
              "        \n",
              "    </td>\n",
              "</tr>\n",
              "    </table>\n",
              "</div>\n",
              "<div class=\"col-md-12 text-right\">\n",
              "    <a role=\"button\" data-toggle=\"collapse\" data-target=\"#freqtable-6889349398840809919, #minifreqtable-6889349398840809919\"\n",
              "       aria-expanded=\"true\" aria-controls=\"collapseExample\">\n",
              "        Toggle details\n",
              "    </a>\n",
              "</div>\n",
              "<div class=\"col-md-12 extrapadding collapse\" id=\"freqtable-6889349398840809919\">\n",
              "    \n",
              "<table class=\"freq table table-hover\">\n",
              "    <thead>\n",
              "    <tr>\n",
              "        <td class=\"fillremaining\">Value</td>\n",
              "        <td class=\"number\">Count</td>\n",
              "        <td class=\"number\">Frequency (%)</td>\n",
              "        <td style=\"min-width:200px\">&nbsp;</td>\n",
              "    </tr>\n",
              "    </thead>\n",
              "    <tr class=\"\">\n",
              "        <td class=\"fillremaining\">Y</td>\n",
              "        <td class=\"number\">422</td>\n",
              "        <td class=\"number\">68.7%</td>\n",
              "        <td>\n",
              "            <div class=\"bar\" style=\"width:100%\">&nbsp;</div>\n",
              "        </td>\n",
              "</tr><tr class=\"\">\n",
              "        <td class=\"fillremaining\">N</td>\n",
              "        <td class=\"number\">192</td>\n",
              "        <td class=\"number\">31.3%</td>\n",
              "        <td>\n",
              "            <div class=\"bar\" style=\"width:46%\">&nbsp;</div>\n",
              "        </td>\n",
              "</tr>\n",
              "</table>\n",
              "</div>\n",
              "</div><div class=\"row variablerow\">\n",
              "    <div class=\"col-md-3 namecol\">\n",
              "        <p class=\"h4 pp-anchor\" id=\"pp_var_Married\">Married<br/>\n",
              "            <small>Categorical</small>\n",
              "        </p>\n",
              "    </div><div class=\"col-md-3\">\n",
              "    <table class=\"stats \">\n",
              "        <tr class=\"\">\n",
              "            <th>Distinct count</th>\n",
              "            <td>3</td>\n",
              "        </tr>\n",
              "        <tr>\n",
              "            <th>Unique (%)</th>\n",
              "            <td>0.5%</td>\n",
              "        </tr>\n",
              "        <tr class=\"ignore\">\n",
              "            <th>Missing (%)</th>\n",
              "            <td>0.5%</td>\n",
              "        </tr>\n",
              "        <tr class=\"ignore\">\n",
              "            <th>Missing (n)</th>\n",
              "            <td>3</td>\n",
              "        </tr>\n",
              "    </table>\n",
              "</div>\n",
              "<div class=\"col-md-6 collapse in\" id=\"minifreqtable6549784675059207423\">\n",
              "    <table class=\"mini freq\">\n",
              "        <tr class=\"\">\n",
              "    <th>Yes</th>\n",
              "    <td>\n",
              "        <div class=\"bar\" style=\"width:100%\" data-toggle=\"tooltip\" data-placement=\"right\" data-html=\"true\"\n",
              "             data-delay=500 title=\"Percentage: 64.8%\">\n",
              "            398\n",
              "        </div>\n",
              "        \n",
              "    </td>\n",
              "</tr><tr class=\"\">\n",
              "    <th>No</th>\n",
              "    <td>\n",
              "        <div class=\"bar\" style=\"width:53%\" data-toggle=\"tooltip\" data-placement=\"right\" data-html=\"true\"\n",
              "             data-delay=500 title=\"Percentage: 34.7%\">\n",
              "            213\n",
              "        </div>\n",
              "        \n",
              "    </td>\n",
              "</tr><tr class=\"missing\">\n",
              "    <th>(Missing)</th>\n",
              "    <td>\n",
              "        <div class=\"bar\" style=\"width:1%\" data-toggle=\"tooltip\" data-placement=\"right\" data-html=\"true\"\n",
              "             data-delay=500 title=\"Percentage: 0.5%\">\n",
              "            &nbsp;\n",
              "        </div>\n",
              "        3\n",
              "    </td>\n",
              "</tr>\n",
              "    </table>\n",
              "</div>\n",
              "<div class=\"col-md-12 text-right\">\n",
              "    <a role=\"button\" data-toggle=\"collapse\" data-target=\"#freqtable6549784675059207423, #minifreqtable6549784675059207423\"\n",
              "       aria-expanded=\"true\" aria-controls=\"collapseExample\">\n",
              "        Toggle details\n",
              "    </a>\n",
              "</div>\n",
              "<div class=\"col-md-12 extrapadding collapse\" id=\"freqtable6549784675059207423\">\n",
              "    \n",
              "<table class=\"freq table table-hover\">\n",
              "    <thead>\n",
              "    <tr>\n",
              "        <td class=\"fillremaining\">Value</td>\n",
              "        <td class=\"number\">Count</td>\n",
              "        <td class=\"number\">Frequency (%)</td>\n",
              "        <td style=\"min-width:200px\">&nbsp;</td>\n",
              "    </tr>\n",
              "    </thead>\n",
              "    <tr class=\"\">\n",
              "        <td class=\"fillremaining\">Yes</td>\n",
              "        <td class=\"number\">398</td>\n",
              "        <td class=\"number\">64.8%</td>\n",
              "        <td>\n",
              "            <div class=\"bar\" style=\"width:100%\">&nbsp;</div>\n",
              "        </td>\n",
              "</tr><tr class=\"\">\n",
              "        <td class=\"fillremaining\">No</td>\n",
              "        <td class=\"number\">213</td>\n",
              "        <td class=\"number\">34.7%</td>\n",
              "        <td>\n",
              "            <div class=\"bar\" style=\"width:53%\">&nbsp;</div>\n",
              "        </td>\n",
              "</tr><tr class=\"missing\">\n",
              "        <td class=\"fillremaining\">(Missing)</td>\n",
              "        <td class=\"number\">3</td>\n",
              "        <td class=\"number\">0.5%</td>\n",
              "        <td>\n",
              "            <div class=\"bar\" style=\"width:1%\">&nbsp;</div>\n",
              "        </td>\n",
              "</tr>\n",
              "</table>\n",
              "</div>\n",
              "</div><div class=\"row variablerow\">\n",
              "    <div class=\"col-md-3 namecol\">\n",
              "        <p class=\"h4 pp-anchor\" id=\"pp_var_Property_Area\">Property_Area<br/>\n",
              "            <small>Categorical</small>\n",
              "        </p>\n",
              "    </div><div class=\"col-md-3\">\n",
              "    <table class=\"stats \">\n",
              "        <tr class=\"\">\n",
              "            <th>Distinct count</th>\n",
              "            <td>3</td>\n",
              "        </tr>\n",
              "        <tr>\n",
              "            <th>Unique (%)</th>\n",
              "            <td>0.5%</td>\n",
              "        </tr>\n",
              "        <tr class=\"ignore\">\n",
              "            <th>Missing (%)</th>\n",
              "            <td>0.0%</td>\n",
              "        </tr>\n",
              "        <tr class=\"ignore\">\n",
              "            <th>Missing (n)</th>\n",
              "            <td>0</td>\n",
              "        </tr>\n",
              "    </table>\n",
              "</div>\n",
              "<div class=\"col-md-6 collapse in\" id=\"minifreqtable-2899220053050389439\">\n",
              "    <table class=\"mini freq\">\n",
              "        <tr class=\"\">\n",
              "    <th>Semiurban</th>\n",
              "    <td>\n",
              "        <div class=\"bar\" style=\"width:100%\" data-toggle=\"tooltip\" data-placement=\"right\" data-html=\"true\"\n",
              "             data-delay=500 title=\"Percentage: 37.9%\">\n",
              "            233\n",
              "        </div>\n",
              "        \n",
              "    </td>\n",
              "</tr><tr class=\"\">\n",
              "    <th>Urban</th>\n",
              "    <td>\n",
              "        <div class=\"bar\" style=\"width:86%\" data-toggle=\"tooltip\" data-placement=\"right\" data-html=\"true\"\n",
              "             data-delay=500 title=\"Percentage: 32.9%\">\n",
              "            202\n",
              "        </div>\n",
              "        \n",
              "    </td>\n",
              "</tr><tr class=\"\">\n",
              "    <th>Rural</th>\n",
              "    <td>\n",
              "        <div class=\"bar\" style=\"width:77%\" data-toggle=\"tooltip\" data-placement=\"right\" data-html=\"true\"\n",
              "             data-delay=500 title=\"Percentage: 29.2%\">\n",
              "            179\n",
              "        </div>\n",
              "        \n",
              "    </td>\n",
              "</tr>\n",
              "    </table>\n",
              "</div>\n",
              "<div class=\"col-md-12 text-right\">\n",
              "    <a role=\"button\" data-toggle=\"collapse\" data-target=\"#freqtable-2899220053050389439, #minifreqtable-2899220053050389439\"\n",
              "       aria-expanded=\"true\" aria-controls=\"collapseExample\">\n",
              "        Toggle details\n",
              "    </a>\n",
              "</div>\n",
              "<div class=\"col-md-12 extrapadding collapse\" id=\"freqtable-2899220053050389439\">\n",
              "    \n",
              "<table class=\"freq table table-hover\">\n",
              "    <thead>\n",
              "    <tr>\n",
              "        <td class=\"fillremaining\">Value</td>\n",
              "        <td class=\"number\">Count</td>\n",
              "        <td class=\"number\">Frequency (%)</td>\n",
              "        <td style=\"min-width:200px\">&nbsp;</td>\n",
              "    </tr>\n",
              "    </thead>\n",
              "    <tr class=\"\">\n",
              "        <td class=\"fillremaining\">Semiurban</td>\n",
              "        <td class=\"number\">233</td>\n",
              "        <td class=\"number\">37.9%</td>\n",
              "        <td>\n",
              "            <div class=\"bar\" style=\"width:100%\">&nbsp;</div>\n",
              "        </td>\n",
              "</tr><tr class=\"\">\n",
              "        <td class=\"fillremaining\">Urban</td>\n",
              "        <td class=\"number\">202</td>\n",
              "        <td class=\"number\">32.9%</td>\n",
              "        <td>\n",
              "            <div class=\"bar\" style=\"width:86%\">&nbsp;</div>\n",
              "        </td>\n",
              "</tr><tr class=\"\">\n",
              "        <td class=\"fillremaining\">Rural</td>\n",
              "        <td class=\"number\">179</td>\n",
              "        <td class=\"number\">29.2%</td>\n",
              "        <td>\n",
              "            <div class=\"bar\" style=\"width:77%\">&nbsp;</div>\n",
              "        </td>\n",
              "</tr>\n",
              "</table>\n",
              "</div>\n",
              "</div><div class=\"row variablerow\">\n",
              "    <div class=\"col-md-3 namecol\">\n",
              "        <p class=\"h4 pp-anchor\" id=\"pp_var_Self_Employed\">Self_Employed<br/>\n",
              "            <small>Categorical</small>\n",
              "        </p>\n",
              "    </div><div class=\"col-md-3\">\n",
              "    <table class=\"stats \">\n",
              "        <tr class=\"\">\n",
              "            <th>Distinct count</th>\n",
              "            <td>3</td>\n",
              "        </tr>\n",
              "        <tr>\n",
              "            <th>Unique (%)</th>\n",
              "            <td>0.5%</td>\n",
              "        </tr>\n",
              "        <tr class=\"alert\">\n",
              "            <th>Missing (%)</th>\n",
              "            <td>5.2%</td>\n",
              "        </tr>\n",
              "        <tr class=\"alert\">\n",
              "            <th>Missing (n)</th>\n",
              "            <td>32</td>\n",
              "        </tr>\n",
              "    </table>\n",
              "</div>\n",
              "<div class=\"col-md-6 collapse in\" id=\"minifreqtable4235876210284826318\">\n",
              "    <table class=\"mini freq\">\n",
              "        <tr class=\"\">\n",
              "    <th>No</th>\n",
              "    <td>\n",
              "        <div class=\"bar\" style=\"width:100%\" data-toggle=\"tooltip\" data-placement=\"right\" data-html=\"true\"\n",
              "             data-delay=500 title=\"Percentage: 81.4%\">\n",
              "            500\n",
              "        </div>\n",
              "        \n",
              "    </td>\n",
              "</tr><tr class=\"\">\n",
              "    <th>Yes</th>\n",
              "    <td>\n",
              "        <div class=\"bar\" style=\"width:17%\" data-toggle=\"tooltip\" data-placement=\"right\" data-html=\"true\"\n",
              "             data-delay=500 title=\"Percentage: 13.4%\">\n",
              "            &nbsp;\n",
              "        </div>\n",
              "        82\n",
              "    </td>\n",
              "</tr><tr class=\"missing\">\n",
              "    <th>(Missing)</th>\n",
              "    <td>\n",
              "        <div class=\"bar\" style=\"width:7%\" data-toggle=\"tooltip\" data-placement=\"right\" data-html=\"true\"\n",
              "             data-delay=500 title=\"Percentage: 5.2%\">\n",
              "            &nbsp;\n",
              "        </div>\n",
              "        32\n",
              "    </td>\n",
              "</tr>\n",
              "    </table>\n",
              "</div>\n",
              "<div class=\"col-md-12 text-right\">\n",
              "    <a role=\"button\" data-toggle=\"collapse\" data-target=\"#freqtable4235876210284826318, #minifreqtable4235876210284826318\"\n",
              "       aria-expanded=\"true\" aria-controls=\"collapseExample\">\n",
              "        Toggle details\n",
              "    </a>\n",
              "</div>\n",
              "<div class=\"col-md-12 extrapadding collapse\" id=\"freqtable4235876210284826318\">\n",
              "    \n",
              "<table class=\"freq table table-hover\">\n",
              "    <thead>\n",
              "    <tr>\n",
              "        <td class=\"fillremaining\">Value</td>\n",
              "        <td class=\"number\">Count</td>\n",
              "        <td class=\"number\">Frequency (%)</td>\n",
              "        <td style=\"min-width:200px\">&nbsp;</td>\n",
              "    </tr>\n",
              "    </thead>\n",
              "    <tr class=\"\">\n",
              "        <td class=\"fillremaining\">No</td>\n",
              "        <td class=\"number\">500</td>\n",
              "        <td class=\"number\">81.4%</td>\n",
              "        <td>\n",
              "            <div class=\"bar\" style=\"width:100%\">&nbsp;</div>\n",
              "        </td>\n",
              "</tr><tr class=\"\">\n",
              "        <td class=\"fillremaining\">Yes</td>\n",
              "        <td class=\"number\">82</td>\n",
              "        <td class=\"number\">13.4%</td>\n",
              "        <td>\n",
              "            <div class=\"bar\" style=\"width:17%\">&nbsp;</div>\n",
              "        </td>\n",
              "</tr><tr class=\"missing\">\n",
              "        <td class=\"fillremaining\">(Missing)</td>\n",
              "        <td class=\"number\">32</td>\n",
              "        <td class=\"number\">5.2%</td>\n",
              "        <td>\n",
              "            <div class=\"bar\" style=\"width:7%\">&nbsp;</div>\n",
              "        </td>\n",
              "</tr>\n",
              "</table>\n",
              "</div>\n",
              "</div>\n",
              "    <div class=\"row headerrow highlight\">\n",
              "        <h1>Correlations</h1>\n",
              "    </div>\n",
              "    <div class=\"row variablerow\">\n",
              "    <img src=\"data:image/png;base64,iVBORw0KGgoAAAANSUhEUgAAAq8AAAJkCAYAAAA/TsjqAAAABHNCSVQICAgIfAhkiAAAAAlwSFlzAAAPYQAAD2EBqD%2BnaQAAADl0RVh0U29mdHdhcmUAbWF0cGxvdGxpYiB2ZXJzaW9uIDMuMC4zLCBodHRwOi8vbWF0cGxvdGxpYi5vcmcvnQurowAAIABJREFUeJzs3XlY1OX%2B//EXIOKCoiiIC%2B6pqKi4b7mgprlEau5ZZrmkiHq0tDxWmtmmaYprJerJPBSWWtrPxGy3883QJBIXoNwBk0FRdub3Bzk5yqaDM0w%2BH9c1F3B/lnnPLcKL99zzGQej0WgUAAAAYAccbV0AAAAAUFSEVwAAANgNwisAAADsBuEVAAAAdoPwCgAAALtBeAUAAIDdILwCAADAbhBeAQAAYDcIrwAAALAbhFcAAADYjVK2LgAAbKFx48b5bnN2dlalSpXUvHlzPfzww%2Brbt68cHBysWB0AID8ORqPRaOsiAMDarofXFi1ayMPDw2xbenq6YmNjde7cOUlSz549tWLFCpUuXdrqdQIAzBFeAdyTrofXVatWqXfv3nnuEx4ermeeeUbXrl3T%2BPHjNWfOHGuWCADIA2teASAfvXv31qxZsyRJW7duVXp6uo0rAgCw5hUACvDAAw/o5ZdfVmpqqn777Tf5%2BfmZbT9w4IC2bNmiw4cPy2AwyNXVVU2aNNHQoUM1aNCgPM9pMBgUEhKir7/%2BWn/88YcyMjLk5uamFi1a6IknnlCHDh1uOcbf319nz57VO%2B%2B8o/T0dC1btkynT5/Wxo0b1aZNG0nS8ePHtWHDBh08eFDx8fEqVaqUPD091b59ez366KN5rvO9cuWKNm3apH379umPP/5QZmamqlatqtatW2vcuHHy9fU12//MmTPq1auXJOnIkSOKiYnRmjVrdOjQIRkMBnl6eqpXr16aOXOmypUrd0dzDgAFofMKAAWoVKmS6fPLly%2BbbVu2bJnGjRunvXv3ytXVVR06dJC7u7sOHDig2bNna8aMGcrOzjY7JjExUUOGDNHatWsVGxurpk2bqmPHjipdurT279%2Bvxx9/XNu2bcu3ntjYWM2cOVPOzs7q2LGjypQpI0n6v//7Pw0dOlSffPKJ0tPT1aZNG/n5%2BSklJUUffvihhg8frgMHDpid6%2BzZsxo8eLBWrlypkydPqkmTJurYsaOMRqM%2B%2B%2BwzDR8%2BXGFhYfnWEhERodGjRysqKkpNmjRRvXr1dPbsWW3evFnTpk0r8hwDwG0xAsA9qFGjRsZGjRoZ9%2B7dW%2BB%2BMTExpn2PHDliGv/iiy%2BMjRo1MrZr1874v//9z%2ByY//u//zN27tzZ2KhRI2NISIjZtkWLFhkbNWpk7Nu3r/HixYum8aysLOMrr7xibNSokbFNmzbGlJQUs%2BN69uxpbNSokdHf39%2B4Zs2aW%2BocNmyYsVGjRsbXXnvNmJ2dbXbeZcuWGRs1amQcOHCg2TGjR482NmrUyDhkyBBjfHy8aTw7O9u4cuVKY6NGjYzNmzc3xsbGmradPn3aNB89evQwrl%2B/3piTk2Pa/sknn5i2Hz16tKCpBYA7QucVAArwxRdfSJLc3Nzk4%2BNjGl%2BzZo0kac6cOWrfvr3ZMe3atdOzzz4rSdq0aZPZNk9PTw0YMECBgYGqUqWKadzJyUkzZ86Uo6Ojrly5osOHD%2BdZT05OjiZOnHjL%2BNGjRyVJQ4YMkaPj3z/anZycFBQUpKCgII0dO1YZGRmSpF9%2B%2BUUHDx6UJL3xxhvy9PQ0HePo6KjAwEA1a9ZMGRkZ%2Bu9//5tnLffdd58mTJhgdhmxgIAAubu7m%2B4DAIoba14BIB9ff/211q1bJ0l66qmnVKpU7o/M%2BPh4RUVFSZL69OmT57G9e/eWg4ODzp07p7i4ONWrV0%2BSNGHChHzvr2zZsqpSpYoSExOVmJiY5z4dO3Y0C6fXVaxYURcvXtTu3bs1ffp0s22Ojo6aOnWq2di3334rKfeqCw0aNMj3MURFRd2y3OC6vNb0Ojg4yNvbW5cuXVJSUlKexwGAJQivAO5p69at08cff2w2lpGRod9//12nT5%2BWlNvNfOqpp0zbjx8/bvp87ty5%2BZ67VKlSyszM1O%2B//24Kr9fP//XXX%2BvXX39VQkKCLl%2B%2BLONfVy28cuWKpNwOa16qVauW5/jjjz%2BupUuXavXq1fr22281cOBAderUKd83Yzh58qSk3O5pfurXry8pd51tXmrXrp3nuIuLiyQpMzMz33MDwJ0ivAK4px05cuSWMScnJ1WuXFm9evXSiBEj1L17d7PtycnJps/37dtX6H1cD6SSFB0dralTp%2BrMmTN3VK%2Bbm1ue49eXEqxbt06RkZGKjIyUJHl4eKhfv356/PHH5e3tfUtNFStWzPe%2BKlSoICk3hKalpZleHHYdb9oAwBYIrwDuaQW9SUF%2Brq/xdHZ2VmRkZJHfOjYtLU1PP/20zp07p7p162rKlCnq1KmTKleuLGdnZ0l/XxKrsPvOy8SJEzVy5EiFh4fr66%2B/1g8//KDExET95z//UWhoqN544w09%2BOCDRX6cxhvewyavpQoAYAuEVwC4Tdcvn5WZmamkpCTTC5QK88033%2BjcuXNycHDQ%2BvXrVadOnVv2SUtLs6i2ihUrasiQIRoyZIiys7P1ww8/aNWqVTp06JDmzZunjh07qnLlyqYO7s2X/7rR9W1lypShywqgxOBPaQC4TY0aNTJ9fuLEiSIf9/vvv0vKXSuaV3A9deqU/vzzT4vru87JyUn333%2B/Nm/erGrVqunq1aumZRLX17reuH73Zte3FbQuFgCsjfAKALfJw8NDzZo1kyR9%2BOGHee4TFxengIAA0yW1pL/XkOb3NrOrVq0yfX7zmxsU5JdfftHzzz%2BvDRs25Lm9dOnSqlq1qqS/O7vX1/EeP348zwCbk5NjukzY/fffX%2BRaAOBuI7wCwB2YPHmyJOmzzz7Txo0bzdaH/vHHHwoKClJ0dLTOnz9vGm/SpIkk6cKFCwoPDzeNp6amatGiRYqMjDS9/Wx%2Br/DPi5OTk7Zt26YVK1boq6%2B%2BumX73r17dfToUTk7O6t169aSpKZNm6pr166SpOeff16XLl0y7Z%2BVlaU333xTMTExqlChgkaOHFnkWgDgbmPNKwDcgQceeEATJ07U%2BvXr9eqrr2rz5s2qX7%2B%2BkpKSdPToUWVnZ6tp06aaPXu26Rg/Pz917dpV3333naZNm6aWLVvKxcVFv/76q0qVKqWQkBDt2rVLhw4d0ubNm3Xs2DE9/fTTateuXYG1NG/eXOPHj9eGDRs0adIk1axZU3Xq1JGjo6POnDljWq4wb948eXh4mI5bvHixHn/8cUVGRsrf31%2BNGjWSi4uLTpw4oaSkJJUpU0ZLly7N9/JcAGALhFcAuEOzZs1S586d9f777%2Bvw4cM6cOCAXFxc1Lx5c/Xv31%2BjR4%2B%2B5YVOy5cv15IlS7Rv3z79%2Buuv8vT0VN%2B%2BfTV58mTVrl1bXl5e%2Bu233xQREaETJ04U%2BUoGc%2BbMUbt27bR9%2B3b9%2BuuvOnTokLKysuTh4aGBAwfq0UcfNXV1r6tWrZrCwsK0ceNG7d27VydOnFBWVpaqVaumBx54QE8%2B%2BWSea3MBwJYcjDc%2B1wUAAACUYKx5BQAAgN0gvAIAAMBuEF4BAABgNwivAAAA97hvv/1WnTt31syZMwvcLycnR8uWLVOvXr3Url07Pfnkkzp9%2BrRpu8Fg0IwZM9S5c2d17dpV8%2BbNs/idA29GeAUAALiHvfPOO1q0aFGRri6yZcsWffrpp1q/fr3279%2BvunXraurUqaZrXc%2BfP1%2Bpqan67LPPtG3bNsXExGjJkiXFWi/hFQAA4B7m4uKisLCwIoXX0NBQjRs3Tg0aNJCrq6tmzpypmJgY/fLLL7p48aLCw8M1c%2BZMubu7q1q1apoyZYq2bdumzMzMYquX67wCAADYsYSEBCUmJpqNeXh4yNPTs0jHP/bYY0XaLy0tTSdPnlTTpk1NY66urqpTp44iIyN15coVOTk5qXHjxqbtzZo107Vr1xQbG2s2bgnCK%2B6uIl5g3abq1ZNOnJDuu0%2BKi7N1NYU6farkX5rZyUmqXl06f17KzrZ1NQXzfmOarUsoXJUq0gsvSAsXSn/%2BaetqCpXy6kpbl1AoBwepXDnp2jXJHq52XrasrSsoGkdHKSfH1lUUjZOTje74LvxeDF2xQsHBwWZjgYGBmjateH%2B%2BJScny2g0ys3NzWzczc1NSUlJqlSpklxdXc3eXOX6vklJScVWB%2BEVqFQp96dYpUq2ruQfw9Ex9%2Bezo2PJD692oWzZ3Mm0lwRjBxwc/r7ZQ3i1F/bQr/gnGjFihPz9/c3Gbnwr6OJW0PtbWeO9rwivAAAA1uJY/C838vT0LPISAUtUqlRJjo6OMhgMZuMGg0FVqlSRu7u7UlJSlJ2dLae/WtvX961SpUqx1cELtgAAAFAoFxcX3XfffYqKijKNXb58WadOnVKLFi3k4%2BMjo9Go6Oho0/bIyEhVrFhR9erVK7Y6CK8AAADW4uhY/Le7KD4%2BXv369TNdy3XUqFHavHmzYmJilJKSoiVLlsjHx0e%2Bvr5yd3dX3759tXz5cl26dEkXLlzQqlWr9Mgjj6hUqeJ7sp9lAwAAANZyl8PmnfD19ZUkZWVlSZLCw8Ml5XZNMzMzFRcXp4yMDEnSyJEjlZiYqLFjx%2Brq1avq0KGD2YvFFi5cqBdffFG9evWSs7OzBg4cWOgbH9wuwisAAMA9LDIyMt9ttWrV0rFjx0xfOzg4KCgoSEFBQXnuX6FCBb311lvFXuONCK8AAADWUgI7r/aGGQQAAIDdoPMKAABgLXReLUZ4BQAAsBbCq8WYQQAAANgNOq8AAADWQufVYswgAAAA7AadVwAAAGuh82oxwisAAIC1EF4txgwCAADAbtB5BQAAsBY6rxZjBgEAAGA36LwCAABYC51XixFeAQAArIXwajFmEAAAAHaDzisAAIC10Hm1GOEVAADAWgivFmMGAQAAYDfovAIAAFgLnVeLMYMAAACwG3ReAQAArIXOq8UIrwAAANZCeLUYMwgAAAC7QecVAADAWui8WowZBAAAgN2g8woAAGAtdF4tRngFAACwFsKrxZhBAAAA2A06rwAAANZC59VizCAAAADsxj0TXj/%2B%2BGN16dJFkvTTTz/J19dXGRkZNq4KAADcUxwdi/92jymRj/i7775T48aNtWDBgrty/nbt2ikyMlKlS5e%2BK%2Be/zmAw6KOPPjJ9fWOABgAA9yDCq8VK5CP%2B6KOPNGDAAO3atUvp6em2LueO/fjjj2bhFQAAAJYpceE1KSlJX375pYKCglS5cmXt3bvXtM3f318bN27UE088oRYtWuiBBx5QRESEJOnMmTNq3Lix9uzZowEDBqhFixZ69NFHlZiYeMt9/O9//1Pjxo1Nwfj06dMaP368/Pz81LNnT23evNm0b2RkpEaPHq22bduqc%2BfOevHFF5WZmWk6T5s2bfTNN9%2BoX79%2BatWqlZ588kklJyfr888/17/%2B9S8dOXJEvr6%2BOn369C11jB07VmvXrtUzzzyj1q1b6/7779eOHTtM2wuq68KFC3r66afVoUMHtWnTRjNnzpTBYDDV1bp1a%2B3bt0/%2B/v7y8/PT8uXLFRkZqYceekh%2Bfn4KDAw0PY6cnBytWLFCvXv3VsuWLTV06FD9/PPPd/xvCAAA8kHn1WIl7moDO3bskI%2BPj%2BrWratBgwYpLCxMAwcONG0PCQnR22%2B/LR8fH61YsUJTp07Vt99%2Ba9r%2B/vvva8OGDSpTpowCAwP10ksvadWqVQXeZ2BgoNq3b69Vq1bp999/15gxY9SgQQN16dJFM2fO1EMPPaT//Oc/io%2BP18iRI9WwYUONHTtWkpSamqpdu3YpNDRUqampeuSRR/Thhx9qwoQJOnnypL799lt9%2BOGHknLX2t5sy5YtWrx4sRYvXqy1a9dq4cKF6t%2B/v5ydnQusa8qUKWrYsKH27duntLQ0TZ8%2BXS%2B%2B%2BKLefvttU10HDhzQrl27tGfPHs2dO1fHjh3Txo0blZycrIceekhffvml%2Bvbtq02bNmnXrl169913VaNGDYWGhurpp5/WV199pXLlyhX53y4hIeGWPxY86tWTZ6VKRT6HTTRpYv6xhHN2tnUFhStVyvxjiVarlq0rKFy1auYfSzh7%2BF3q4PD3R3uoF8DfStyvlrCwMI0aNUqSFBAQoFWrVunMmTOq9dcvGH9/f7Vq1UqSNGnSJL333nv65ZdfVO2vH%2BqjR482fT5u3DjNmDFDOTk5%2Bd7fb7/9pmPHjmnTpk0qW7asfHx8FBwcbDrH9u3bVbp0aTk5OalGjRpq166dfv31V9Px2dnZeuqpp%2BTm5iY3Nze1adNGsbGxRX68fn5%2Buv/%2B%2ByVJDz74oIKDg5WQkKDk5OR86zp69KiioqK0bt06ubq6ytXVVRMnTtTUqVNNL0LLycnR6NGjVbZsWfn7%2B8toNKpv375yd3eXu7u76tevrz/%2B%2BMM05%2BPGjVPdunUl5XaEN23apK%2B%2B%2Bkr9%2B/cv8mMJDQ1VcHCw2Vjg9OmaNn16kc9hUx98YOsKisTL1gXchqpVbV1BEcyZY%2BsKim7cOFtXUCRF/5PX9sqWtXUF/zxOTrauoHDZ2Ta8c/5asliJCq%2BHDx/W77//rgcffFCS5O3trVatWunjjz9WUFCQJKlevXqm/StWrKgKFSooISHBFDZv3F6zZk1lZGSYnk7Py6lTp%2BTq6qpKN3QHO3fubPr8xx9/NHU%2Bs7KylJWVpX79%2Bpmdo9YNnZuyZcsqLS2tyI/5xmPLlCkjSUpLSyuwrr1798rNzU0eHh6mbbVr11ZmZqbi4%2BNNY9WrV5ckubi4SJJpjq6PXV82cerUKb3yyitavHixaXtOTo7Onz9f5MchSSNGjJC/v7/ZmMegQdKmTbd1Hqtr0iQ3uI4eLUVH27qaQl3YHWHrEgpVqlRucL14UcrKsnU1BfPa9LqtSyhctWq5wXXjRumG/%2BMl1bVpJf8PAgeH3OCamioZjbaupnB//Rgv8ZycbBwM7QHh1WIlKrx%2B9NFHysrKUq9evUxj1wNZYGCgJN3SRTUajXK4/vzPTduNRfiJ5OjomG9nNiYmRtOnT9ecOXM0fPhwlSlTRs8884yybvpt7GjBN2J%2BxxZUV0GX%2BLpxLm4%2Bd373VaZMGS1atEh9%2B/YtrNwCeXp6ytPT03wwLs6ic1pVdLR06JCtqyjUX0uV7UJWlh3Ue%2BaMrSsouvh4u6i3gCe7SozrPw6NRvuoF8DfSkx4vXr1qnbv3q0FCxaoY8eOpvHr60gPHDggKbdLeF1ycrJSUlLk5fX3E6mnTp1S06ZNJUlnz55VmTJlVLly5Xzv19vbW1evXlVCQoIpeIWHh6tixYpKSEhQ6dKl9dhjj0nKDcNHjx7VfffdV3wP/A7q8vb2VnJysi5evKiqfz0vGxsbKxcXF1WrVk1nz5697fs6duyYWXi9cakGAAAoJnReLVZiZnD37t1ycXHR4MGDVadOHdOtSZMm8vf3V1hYmCRp//79ioqKUnp6utatW6eqVavK19fXdJ6tW7fq4sWLMhgM2rRpk7p3727WjbyZj4%2BPmjZtquXLl%2Bvq1as6fvy45s2bp7S0NNWsWVNpaWk6evSokpOT9eabb6p06dJKSEgoUlfXxcVFiYmJMhgMt/2GCAXV5evrqwYNGmjp0qW6du2a4uPjtWbNGg0YMEDOd/BqnpEjR2rLli06fPiwsrOztXv3bg0cOFDnzp277XMBAADcTSUmvG7btk2DBg3K840Dhg4dqvDwcBkMBg0dOlRLlixRu3btFB4eruDgYDndsDr8oYce0uOPP256EdSLL75Y6H2vXbtWZ8%2BeVefOnTV58mRNmTJF3bp1k5%2Bfn8aMGaNHH31UAwYMUM2aNfX888/r%2BPHjmjlzZqHn7d27t4xGo3r06GH2Iq%2Biyq8uBwcHrV69WgkJCerRo4eGDx%2Buli1b6oUXXrjt%2B5CkRx55RKNHj1ZgYKDatGmjd999V8HBwapRo8YdnQ8AAOSDS2VZzMFYlBZiCeHv768JEyaYrkZwozNnzqhXr17avXu3GjRoYIPqkKcCut4lhp%2BfFBEhtW5tF2teT58q%2Bf9lnZ0lLy/pwoWSv%2BbV%2B41pti6hcLVq5V4V4fXX7WLNa8qrK21dQqEcHaVy5aRr1%2Bxjzau9XBXBnl6wZbOrItyNd9r8/vviP2cJVmLWvAIAAMD6zp49qwULFuiXX35RuXLl1L9/f82aNeuWF3qPHz/%2BlmvWZ2VlaerUqQoMDNTYsWMVERFhdly9evW0c%2BfOYq2X8AoAAGAtJfBp/mnTpqlZs2YKDw/Xn3/%2BqUmTJqlq1ap64oknzPbbsGGD2deXL19W//791adPH9PYyy%2B/rCFDhtzVeu0qvH755Zf5bqtVq5aOHTtmxWoAAADsW2RkpKKjoxUSEqIKFSqoQoUKGjdunDZt2nRLeL3Z8uXL1adPHzVu3NhK1eayq/AKAABg1%2B5C5zXPt2f38Lj12ut5iIqKUs2aNeXm5mYaa9asmeLi4pSSkiJXV9c8j/vjjz%2B0fft2hYeHm43v3r1b7777rs6fP6%2BWLVtq4cKFql279h08qvyVvN41AADAP9VduNpAaGiohgwZYnYLDQ0tUjkGg0EVK1Y0G7seZJOSkvI9bv369Ro6dKjc3d1NYw0aNNB9992nDz74QPv27ZO7u7ueeuqp275caGHovAIAANixPN%2Be/Ya3kC/M7V54ymAwaMeOHfr888/Nxl966SWzrxcuXKgOHTro559/VqdOnW7rPgpCeAUAALCWu7BsIM%2B3Zy8id3d3GQwGszGDwSAHBwezruqN9u3bp3r16snb27vAc7u6usrNzU3x8fF3VFt%2BWDYAAABwj2revLnOnz%2BvS5cumcYiIyPVsGFDlS9fPs9j9u3bpy43Xa82JSVFL730kllQvXTpki5dulRoyL1dhFcAAABrKWHvsNW0aVP5%2Bvpq6dKlSklJUUxMjEJCQkxvCNWvXz8dPHjQ7JijR4%2BqVq1aZmOurq765ZdftGjRIhkMBiUnJ2vBggVq3Lix/Pz8LKrxZoRXAAAAaylh4VWSVqxYoYSEBHXp0kWPPfaYHn74YY0ePVqSFBcXp2vXrpntn5iYqKpVq95ynlWrVsloNKpv377q0aOHMjMztX79%2Blve7MBSrHkFAAC4h3l5eemdd97Jc1te19D/9ddf89y3Ro0aCg4OLtba8kJ4BQAAsJYS%2BA5b9oYZBAAAgN2g8woAAGAtdF4tRngFAACwFsKrxZhBAAAA2A06rwAAANZC59VihFcAAABrIbxajBkEAACA3aDzCgAAYC10Xi3GDAIAAMBu0HkFAACwFjqvFiO8AgAAWAvh1WLMIAAAAOwGnVcAAABrofNqMWYQAAAAdoPOKwAAgLXQebUY4RUAAMBaCK8WYwYBAABgN%2Bi8AgAAWAudV4sxgwAAALAbdF4BAACshc6rxQivAAAA1kJ4tRgzCAAAALtB5xUAAMBa6LxajPCKu%2Br0KaOtSyiUs7PkJenC7ghlZtq6msJ513awdQmF8/OTIiLk1b%2B1dOiQraspWESErSsoXNmyuR8DAqTUVNvWUgTZ2bauoHDGv340ZWdLOTm2raUo7Cnv2FOtsE%2BEVwAAAGsh3VuM8AoAAGAthFeLMYMAAACwG3ReAQAArIXOq8WYQQAAANgNOq8AAADWQufVYoRXAAAAayG8WowZBAAAgN2g8woAAGAtdF4txgwCAADAbtB5BQAAsBY6rxYjvAIAAFgL4dVizCAAAADsBp1XAAAAa6HzajFmEAAAAHaDzisAAIC10Hm1GOEVAADAWgivFmMGAQAA7mFnz57VxIkT1aFDB/Xs2VNvvvmmcnJybtlv5cqV8vHxka%2Bvr9nt4sWLkqT09HS98MIL6tatmzp06KCgoCAlJSUVe72EVwAAAGtxdCz%2Bm4WmTZumatWqKTw8XCEhIQoPD9emTZvy3DcgIECRkZFmt6pVq0qSli1bpqioKIWGhmrPnj0yGo167rnnLK7vZoRXAACAe1RkZKSio6M1e/ZsVahQQXXr1tW4ceMUGhp6W%2BfJyspSWFiYpkyZourVq6tSpUqaMWOGvvrqK8XHxxdrzax5BQAAsJa7sOY1ISFBiYmJZmMeHh7y9PQs9NioqCjVrFlTbm5uprFmzZopLi5OKSkpcnV1Ndv/2LFjGjlypI4fP67q1avrueeeU9euXXXq1ClduXJFzZo1M%2B3boEEDlSlTRlFRUapWrZqFj/JvhFcAAABruQvhNTQ0VMHBwWZjgYGBmjZtWqHHGgwGVaxY0WzsepBNSkoyC69eXl7y9vbWrFmz5OnpqdDQUE2ePFk7d%2B6UwWCQpFvOVbFixWJf90p4BQAAsGMjRoyQv7%2B/2ZiHh0eRjzcajUXab9iwYRo2bJjp63HjxmnXrl3auXOnunXrdlvnsgThFQAAwFruQufV09OzSEsE8uLu7m7qml5nMBjk4OAgd3f3Qo%2BvWbOmEhISTPsaDAaVL1/etD05OVlVqlS5o9rywwu2AAAArKWEXW2gefPmOn/%2BvC5dumQai4yMVMOGDc1CqCStXr1aBw4cMBuLiYmRt7e3vL295ebmpqioKNO248ePKyMjQ82bN7eoxpsRXgEAAO5RTZs2la%2Bvr5YuXaqUlBTFxMQoJCREo0aNkiT169dPBw8elJTbVV2wYIFiY2OVnp6uDRs26NSpUxo8eLCcnJw0fPhwrV27VufPn1dSUpLeeust9enTx3QpreLCsgEAAABrKYHvsLVixQrNnz9fXbp0kaurq0aOHKnRo0dLkuLi4nTt2jVJ0qxZsyTlrnU1GAxq2LChNm7cKC8vL0lSUFCQrl69qoCAAGVlZalnz5566aWXir1eB6M1VtbinnX6tK0rKJyzs%2BTlJV24IGVm2rqawnnXdrB1CYXz85MiIqTWraVDh2xdTcEiImxdQeHKlpWaNJGio6XUVFtXU6jk%2Bn62LqFQjo5ShQrSlStSHm8kVOLc9ALuEsvBQbKXVOFgqx%2Blr75a/Oe8C28EUJLReQUAALCWEth5tTeEVwAAAGshvFqMGQQAAIDdoPMKAABgLXReLcYMAgAAwG7QeQUAALAWOq8WI7wCAABYC%2BGK5I9rAAAgAElEQVTVYswgAAAA7AadVwAAAGuh82qxe2YGz5w5o8aNGysmJkaS5Ovrq%2B%2B//97GVQEAAOB2FHt4jY2N1axZs9S5c2e1bNlS/v7%2BWrRokQwGQ3HflUUiIyPVpUuXu34/ISEhysrKknRrgAYAAPcYR8fiv91jivURHz16VI888oi8vLy0c%2BdORUREaNWqVTp27JhGjRqltLS04ry7Eu/SpUt6/fXXlZ2dbetSAABASUB4tVixPuKFCxeqa9eueuaZZ1S1alU5OTnJx8dHa9asUatWrZSQkKALFy7o6aefVocOHdSmTRvNnDnTrCu7c%2BdO9e/fX35%2BfvL399cHH3xg2jZ37lw999xzWrhwoVq3bq2OHTuabff399fGjRv1xBNPqEWLFnrggQcUERGRZ62NGzfWN998I0lKTU3V/Pnz1aFDB3Xs2FHz589XRkaGpNwAGhQUpE6dOqlt27aaMGGCzp8/b3aeL774QqNGjVKrVq00aNAg/fbbb7p48aK6desmo9Gotm3b6uOPP76lhpUrV%2Brpp5/WO%2B%2B8oy5duqhdu3ZatGiRaXtBdaWnp2vRokXq0aOHWrZsqTFjxujo0aNmde3atUtDhgxRixYtNHHiRF24cEFPPvmk/Pz8NGTIEJ05c8a0/%2B7duxUQEKBWrVqpV69eCg0NLdo/OgAAgBUV2wu2/vzzT0VEROg///nPLdtcXV316quvSpKGDBmihg0bat%2B%2BfUpLS9P06dP14osv6u2339bp06c1Z84cvffee%2BrUqZN%2B/PFHjR8/Xq1bt1aTJk0kSf/v//0/Pffcc/rxxx/1zTffKDAw0Gx7SEiI3n77bfn4%2BGjFihWaOnWqvv322wJrf%2Butt3Ty5El9/vnnkqSnnnpKq1at0syZM/Xmm2/q6tWr2rdvn4xGo2bMmKHFixdr5cqVpuPfffddvfbaa6pevboCAwO1bNkyvfPOO3rvvff02GOP6eDBg3JxcTELi9dFRESoRYsW2r9/v37%2B%2BWeNGzdODz30kFq0aFFgXcuWLdNPP/2k999/X1WrVtXSpUs1adIkhYeHq3Tp0pKk//73v1q7dq2uXbumQYMGacKECXr99ddVu3ZtjRkzRiEhIZo/f74iIyM1b948rVy5Up06ddKhQ4c0YcIE3XfffWrdunWRvwcSEhKUmJhoNpaT4yEPD88in8MWSpUy/1ji%2BfnZuoLC/fX/0fSxJCtb1tYVFM7FxfxjCWcPjaDrNdpDrfiH4ZvOYsX26/r06dOSpHr16uW7z9GjRxUVFaV169bJ1dVVrq6umjhxoqZOnaqMjAzVqlVLP/74o9zc3CRJnTp1UpUqVRQVFWUKpzVq1NDw4cMlSb1795aPj4/2799v2u7v769WrVpJkiZNmqT33ntPv/zyi6pVq5ZnTUajUdu3b9fixYvl7u4uSVq8eLEuX74sSVqwYIGysrJUrlw5032uXbvW7BwBAQGqX7%2B%2B6f7fe%2B%2B9Is%2Bbk5OTJk2aJEdHR3Xq1Enu7u6KiYmRr69vgXWFhYVp4cKFqlWrliRpxowZev/99xUREaGOHTtKkgYMGCBPz9zgWL9%2BfTVr1kxNmzaVJLVv316xsbGSpI8//lg9evRQ165dJUlt27bVgw8%2BqB07dtxWeA0NDVVwcLDZ2NSpgQoKmlbkc9hS1aq2rqCI8nk2oUS64ZkRFIMCfr6WJBVsXcBtKF/e1hX88zg42LqCwhmNtq4Alii28Orw13drTk5OvvucOXNGbm5u8vDwMI3Vrl1bmZmZio%2BPl7e3t7Zu3aqwsDAlJCTIaDQqIyPD9FS5dGs4rlGjhhISEvLcXrFiRVWoUEEJCQn5htekpCRdvnzZFAIlmYKwJP3xxx967bXXdOTIEaWlpSknJ0eVKlUyO8eNx5YtW1bp6en5zsHNatSoIccb/gorW7as0tLSCqwrOTlZV65cMQVmSSpfvryqVKmis2fPmsaqV69u%2BtzFxcVsDlxcXEzzeurUKR04cEC%2Bvr6m7Uaj0RRmi2rEiBHy9/c3G8vJ8dCFC7d1GqsrVSo3uF68KP312roSzat/0f%2BgsJkmTXKD6%2BjRUnS0raspmD0EbBeX3OAaFyfdxs8XW7lSs%2BR33B0dc4Pr1atSAb%2B2SgxXV1tXUDQODgTDQtF5tVixhdfatWtLkk6cOJFvULwxhN7MwcFBH330kdavX6/Vq1erXbt2cnJyUvfu3c32u/nFT0aj0RScpVvD883bb3Y9OOYVunNycjRp0iS1adNGe/bskbu7uz766CMtX778ltrvlGM%2B38QF1VXYPOZXV373VaZMGY0aNUrz588vtN6CeHp6mjq9150%2BLWVmWnRaq8nKspNaDx2ydQVFFx1d8utNTbV1BUWXnm4X9dpDGLwuJ8e%2B6sU/AOHVYsU2g5UrV1b79u0VEhJyy7bU1FQNGTJEHh4eSk5O1sWLF03bYmNjTV3ByMhItW3bVh07dpSTk5MSExPNuqrS38sTrjt37py8vLxMX586dcr0eXJyslJSUsy236xSpUqqWLGi4uLiTGNRUVHasWOHLl68qLNnz2rs2LGmp%2B5/%2B%2B23Is6IZQqqq0qVKipfvrzpaX8p97H%2B%2Beefpj8ibkft2rV17Ngxs7ELFy5wlQQAAFDiFGv8nzdvng4fPqx//etfunDhgnJycnT06FE99dRTKlOmjPz8/NSgQQMtXbpU165dU3x8vNasWaMBAwbI2dlZNWvWVGxsrJKTk3X27FktWrRINWrUUHx8vOk%2Bzp49q%2B3btyszM1N79%2B5VdHS0evToYdq%2Bf/9%2BRUVFKT09XevWrVPVqlXNng7Py5AhQ/Tuu%2B8qPj5eSUlJevnll3XixAm5u7urXLlyOnz4sNLT0/Xpp5/q6NGjSklJ0dWrVwudjzJlykiS4uLidO3atduez/zqcnR01MCBA7V%2B/XpduHBB165d05IlS%2BTt7S2/O3gxzyOPPKKIiAht27ZNGRkZOnr0qIYNG6Y9e/bc9rkAAEABuFSWxYr1ETdp0kQffvihcnJyNHjwYPn5%2BWnGjBnq2LGjNmzYIGdnZ61evVoJCQnq0aOHhg8frpYtW%2BqFF16QJI0aNUp16tRR9%2B7dNXHiRD366KN69NFHFRISoi1btkiSunXrpkOHDpkuHfXSSy%2BpUaNGphqGDh2qJUuWqF27dgoPD1dwcLCcnJwKrHvWrFlq0aKF%2Bvfvr/79%2B%2Bu%2B%2B%2B5TYGCgSpUqpZdeeknr169X586d9dNPP2nlypXy8vLSAw88UOh8%2BPj4yM/PT4888oi2bt162/OZX11S7mXDfHx8NGzYMPXs2VOJiYkKCQkp9LHm5fofFO%2B%2B%2B67atm2radOm6cknn1T//v1v%2B1wAAAB3k4PRaD9Lq%2BfOnav09HQtW7Ysz%2B3%2B/v6aMGGCRo0aZeXKkJ%2BbVnmUSM7OkpeXdOGCfax59a5tBy/l9fPLvSpC69Ylf82rPVy9oWzZ3BfBRUfbxZrX5Pol/3Jujo5ShQrSlSv2sea1YkVbV1A09vSCLZtdFWHTpuI/5%2BOPF/85SzB7ubIlAACA/bsHn%2BYvbswgAAAA7IZddV5fe%2B21Ard/%2BeWXVqoEAADgDtB5tRgzCAAAALthV51XAAAAu0bn1WKEVwAAAGshvFqMGQQAAIDdoPMKAABgLXReLcYMAgAAwG7QeQUAALAWOq8WI7wCAABYC%2BHVYswgAAAA7AadVwAAAGuh82oxZhAAAAB2g84rAACAtdB5tRjhFQAAwFoIrxZjBgEAAGA36LwCAABYC51XizGDAAAAsBt0XgEAAKyFzqvFCK8AAADWQni1GDMIAABwDzt79qwmTpyoDh06qGfPnnrzzTeVk5OT575bt25V37595efnp4CAAIWHh5u2zZ07V02bNpWvr6/p1rZt22Kvl84rAACAtZTAzuu0adPUrFkzhYeH688//9SkSZNUtWpVPfHEE2b77dmzR0uXLtW6devUokULbd%2B%2BXTNmzNDnn38ub29vSdLTTz%2BtadOm3dV6S94MAgAA/FM5Ohb/zQKRkZGKjo7W7NmzVaFCBdWtW1fjxo1TaGjoLfumpaXpX//6l9q0aSNnZ2cNGzZM5cuX1%2BHDhy2q4XbReQUAALBjCQkJSkxMNBvz8PCQp6dnocdGRUWpZs2acnNzM401a9ZMcXFxSklJkaurq2k8ICDA7NjLly/r6tWrqlatmmnsxx9/1L59%2B/THH3%2BoQYMGeumll9S8efM7fWh5IrwCAABYy11YNhAaGqrg4GCzscDAwCI9fW8wGFSxYkWzsetBNikpySy83shoNOrf//63WrZsqfbt20uSvL295ejoqOnTp6t8%2BfIKDg7W%2BPHjtWfPHlWuXPlOHlqeCK8AAAB2bMSIEfL39zcb8/DwKPLxRqPxtu4vMzNTc%2BfO1cmTJ7V582bT%2BNSpU832e%2BaZZ/TZZ58pPDxcw4YNu637KAjhFQAAwFruQufV09OzSEsE8uLu7i6DwWA2ZjAY5ODgIHd391v2T0tL05QpU5SamqotW7YU2FF1cnJS9erVlZCQcEe15YcXbAEAAFhLCXvBVvPmzXX%2B/HldunTJNBYZGamGDRuqfPnyZvsajUbNnDlTpUqV0saNG82Cq9Fo1Kuvvqro6GjTWEZGhk6dOmW6EkFxIbwCAADco65fl3Xp0qVKSUlRTEyMQkJCNGrUKElSv379dPDgQUnSp59%2BqpMnT%2Brtt9%2BWi4uL2XkcHBx05swZLViwQPHx8bp69aqWLFkiZ2dn9e7du1hrZtkAAACAtZTA67yuWLFC8%2BfPV5cuXeTq6qqRI0dq9OjRkqS4uDhdu3ZNkrRt2zadPXvW9AKt6wICArRo0SK98sorev311zVkyBClpKSoRYsW2rRpk8qVK1es9RJeAQAA7mFeXl5655138tx27Ngx0%2BebNm0q8DyVKlXSq6%2B%2BWqy15YXwCgAAYC0lsPNqbwivAAAA1kJ4tRjhFXeV9xt39/2Ni0WtWtKcOfLa9Lp05oytqylcRIStKyhc2bK5Hz/4QEpNtW0thWnd2tYVFM7PL/ffffRo6dAhW1dTKLeUFFuXUDhHR0llVaFUqpSTY%2BtqCpWdU77wnUoAJye7mE5JubXCPhFeAQAArIXOq8WYQQAAANgNOq8AAADWQufVYoRXAAAAayG8WowZBAAAgN2g8woAAGAtdF4txgwCAADAbtB5BQAAsBY6rxYjvAIAAFgL4dVizCAAAADsBp1XAAAAa6HzajFmEAAAAHaDzisAAIC10Hm1GOEVAADAWgivFmMGAQAAYDfovAIAAFgLnVeLMYMAAACwG3ReAQAArIXOq8UIrwAAANZCeLUYMwgAAAC7QecVAADAWui8WowZBAAAgN2g8woAAGAtdF4tRngFAACwFsKrxZhBAAAA2A06rwAAANZC59VizCAAAADsBp1XAAAAa6HzajHCKwAAgLUQXi3GDAIAAMBu0HkFAACwFjqvFiO8AgAAWAvh1WLMIAAAAOwGnVcAAABrofNqMWYQAAAAdoPOKwAAgLXQebUY4RUAAMBaCK8WYwYBAABgN%2Bi8AgAAWAudV4vdUzPo7%2B%2BvrVu32uz%2Bv/vuOzVu3FgLFiywWQ1FceDAAUVGRtq6DAAAYAVnz57VxIkT1aFDB/Xs2VNvvvmmcnJy8tx38%2BbN6tu3r1q3bq1Ro0bp119/NW1LT0/XCy%2B8oG7duqlDhw4KCgpSUlJSsdd7T4VXW/voo480YMAA7dq1S%2Bnp6bYuJ18bN240%2B2YEAADFxNGx%2BG8WmjZtmqpVq6bw8HCFhIQoPDxcmzZtumW/L7/8UitXrtQbb7yhH374QT179tTkyZN17do1SdKyZcsUFRWl0NBQ7dmzR0ajUc8995zF9d2M8PqXgwcPavjw4fLz81PXrl21bNky018dRqNRS5YsUffu3eXn56fBgwfrp59%2BMh07duxYrV27Vs8884xat26t%2B%2B%2B/Xzt27DA7f1JSkr788ksFBQWpcuXK2rt3r9n2sWPHavXq1QoMDFSrVq00cOBAxcbGatGiRWrbtq26d%2B%2Bub775xrT/iRMn9Nhjj6lt27bq0KGDXnzxRVMgXrlypYYPH252/i5duujjjz%2BWJM2dO1cvv/yyXn31VbVv314dO3bUO%2B%2B8I0maPHmyvvrqKy1atEiPP/54Mc0uAACQVOLCa2RkpKKjozV79mxVqFBBdevW1bhx4xQaGnrLvqGhoRoyZIhatmypMmXK6KmnnpIk7d%2B/X1lZWQoLC9OUKVNUvXp1VapUSTNmzNBXX32l%2BPh4i2q8GWteJV28eFFPPvmknn32WQ0bNkwnT57UhAkT5OnpqTFjxmjHjh3avn27wsLC5OHhoTVr1igoKEjfffednJycJElbtmzR4sWLtXjxYq1du1YLFy5U//795ezsLEnasWOHfHx8VLduXQ0aNEhhYWEaOHCgWR0ffvihVqxYoddee01jxozR%2BPHjFRQUpGeffVYvv/yy3nzzTXXr1k0ZGRkaP368Hn74Ya1fv14JCQmaPHmy3n77bT377LNFesyfffaZ5s6dq%2B%2B//147d%2B7U/PnzFRAQoLVr18rf318TJkzQqFGjbmseExISlJiYaDbmUa6cPN3db%2Bs8VletmvnHkq5sWVtXUDgXF/OPJZmfn60rKFyTJuYfSzp7WNPn4PD3R3uoFyhAnr9/PTzk6elZ6LFRUVGqWbOm3NzcTGPNmjVTXFycUlJS5OrqarZv//79TV87OjrKx8dHkZGR8vHx0ZUrV9SsWTPT9gYNGqhMmTKKiopStWL8HUt4VW6Qq1GjhsaMGSNJatq0qQICAvT5559rzJgxGjRokHr16qUKFSpIkgYMGKCVK1fq3Llz8vb2liT5%2Bfnp/vvvlyQ9%2BOCDCg4OVkJCgmrWrClJCgsLM4XBgIAArVq1SmfOnFGtWrVMdbRu3VotWrSQJLVv31779%2B/XkCFDJEndu3fX9u3bJUnffPONUlNTNW3aNJUuXVq1a9fWmDFj9O677xY5vNaqVUuDBw%2BWJPXv31/PP/%2B8fv/99yJ9o%2BcnNDRUwcHBZmOBU6dqWlDQHZ/TqsaNs3UF/zz16tm6gsJFRNi6gqL74ANbV/DPU6aMrSsoEidbF3AbnOyg2Oxs2923UQ7Ffs48f/8GBmratGmFHmswGFSxYkWzsetBNikpySy8GgwGs5B7fd%2BkpCQZDAZJuuVcFStWLPZ1r4RXSWfOnFGDBg3MxurUqaPPP/9ckpSamqrFixfrm2%2B%2BUXJysmmfjIwM0%2Bc3htAyf/0wTEtLkyQdPnxYv//%2Bux588EFJkre3t1q1aqWPP/5YQTcEOy8vL9PnLi4uZn%2BllC5d2nR/Z86ckbe3t0qXLm1W77lz5/JdYH2zG%2Bst%2B1cn73q9d2rEiBHy9/c3G/PYvFl6/XWLznvXVauWG1w3bpSK%2BamNuyIgwNYVFM7FJTe4xsVJJXh9tyRp9GhbV1C4Jk1yg%2Bvo0VJ0tK2rKdz339u6gsI5OOQG17Q0yWi0dTWFyi5tB8%2B4KDe42jIY3qvy/P3r4VHk44238X%2BgsH1v51x3ivAq8xB6I4e/nlZasGCBjh07pi1btqhOnTo6ffq0%2BvTpY7avYwFPO3300UfKyspSr169TGOZmZmKj49XYGCg6dibz5HfOQurNy/ZN/00KajeO%2BXp6Xlr5/batdybPYiPl86csXUVhUtNtXUFRZeeXvLrPXTI1hUUXXS0fdRbxD%2Biber6z0Cj0T7qxT/G3fh2y/P3bxG5u7ubuqbXGQwGOTg4yP2mZX%2BVK1fOc9/77rvPtK/BYFD58uVN25OTk1WlSpU7qi0/LPSRVLt2bcXGxpqNxcbGmpYEHDlyRA899JDq1q0rBwcHRUVFFfncV69e1e7du7VgwQJt377ddAsLC1NCQoIOHDhw2/V6e3vr9OnTZiE2NjZWtWrVkqOjo1xcXJR6Q2C4cuXKLd9sAADA%2BnJyiv9miebNm%2Bv8%2BfO6dOmSaSwyMlINGzY0C6HX970xA2VnZ%2Bu3335Ty5Yt5e3tLTc3N7Ptx48fV0ZGhpo3b25ZkTchvCp3jerp06cVGhqqrKwsHTlyRJ988olpTWitWrUUGRmpjIwMHT58WLt27ZKUu0C6MLt375aLi4sGDx6sOnXqmG5NmjSRv7%2B/wsLCbrvebt26qVSpUlq1apUyMjIUGxurzZs36%2BGHH5aUu4QgLi5Ox48fV1pampYvX37LN2BBXFxcdOrUKV25cuW2awMAAPajadOm8vX11dKlS5WSkqKYmBiFhISYXqfTr18/HTx4UJI0atQobd%2B%2BXYcPH1ZqaqrWrFmj0qVLq0ePHnJyctLw4cO1du1anT9/XklJSXrrrbfUp08fVa1atVhrvufC66JFi%2BTr62t2i4%2BPV3BwsEJDQ9WuXTs988wzmj59uikMzpo1SzExMWrfvr2WLVum%2BfPnq0%2BfPpoyZUqhXdht27Zp0KBBZutTrxs6dKjCw8Nvuytavnx5rV%2B/Xj/99JM6deqkCRMmKCAgQJMnT5Yk9erVS3379tXIkSP1wAMPqHnz5qpRo0aRzz98%2BHB98MEHevTRR2%2BrLgAAULCS1nmVpBUrVighIUFdunTRY489pocfflij/3o9QFxcnOk6rt26ddO//vUvzZgxQ%2B3bt9cPP/yg9evXm17rExQUpJYtWyogIEC9evVS%2BfLl9corr1he4E0cjNZYWYt7VxFe6WhztWpJc%2BbkvrDMHta8jh9v6woKV7Zs7ouMoqNL/prX1q1tXUHh/Pxyr4rQurV9rHlNSbF1BYVzdMz9Pk1NtYs1r9lliv7smS3Z0wu2bHVVhLvxGlZ7uCphceIFWwAAAFZiB38rlXiEVwAAACshvFrunlvzCgAAAPtF5xUAAMBK6Lxajs4rAAAA7AadVwAAACuh82o5wisAAICVEF4tx7IBAAAA2A06rwAAAFZC59VydF4BAABgN%2Bi8AgAAWAmdV8sRXgEAAKyE8Go5lg0AAADAbtB5BQAAsBI6r5aj8woAAAC7QecVAADASui8Wo7wCgAAYCWEV8uxbAAAAAB2g84rAACAldB5tRydVwAAANgNOq8AAABWQufVcoRXAAAAKyG8Wo5lAwAAALAbdF4BAACshM6r5QivAAAAVkJ4tRzLBgAAAGA36LwCAABYCZ1Xy9F5BQAAgN2g8woAAGAldF4tR3gFAACwEsKr5Vg2AAAAALtB5xUAAMBK6Lxajs4rAAAA7AadVwAAACuh82o5B6PRaLR1EfjnSkmxdQWFc3SUypWTrl2zjx8q2dm2rqBwjo5ShQrSlSslf07dSl21dQmFc3SUypaVUlNL/oRKkqurrSsonJ%2BfFBEhtW4tHTpk62oKZw//7pLk4CDZS6xwcLDJ3f78c/Gfs02b4j9nScayAQAAANgNlg0AAABYib000UsyOq8AAACwG3ReAQAArITOq%2BUIrwAAAFZCeLUcywYAAABgN%2Bi8AgAAWAmdV8vReQUAAEC%2BDAaDZsyYoc6dO6tr166aN2%2Be0tLS8t3/iy%2B%2B0EMPPSQ/Pz/17dtXH374oWnbypUr5ePjI19fX7PbxYsXi1wPnVcAAAArscfO6/z585WRkaHPPvtMmZmZmj59upYsWaJ///vft%2Bx75MgRzZ49W2%2B99ZZ69Oih77//XlOnTlX9%2BvXVtm1bSVJAQIBee%2B21O66H8AoAAGAldyO8JiQkKDEx0WzMw8NDnp6eFp/74sWLCg8P1yeffCJ3d3dJ0pQpUzR9%2BnTNmTNHzs7OZvsbDAZNmjRJvXv3liR1795djRo10sGDB03h1VKEVwAAADsWGhqq4OBgs7HAwEBNmzbN4nMfPXpUTk5Oaty4sWmsWbNmunbtmmJjY83GJalbt27q1q2b6eusrCwlJiaqWrVqprFjx45p5MiROn78uKpXr67nnntOXbt2LXJNhFcAAAAruRud1xEjRsjf399szMPDo1jObTAY5OrqKgcHB9OYm5ubJCkpKanQ45csWaJy5cqpf//%2BkiQvLy95e3tr1qxZ8vT0VGhoqCZPnqydO3eqfv36RaqJ8AoAAGDHPD09LVoisGPHDj377LN5bps5c6aMRuNtn9NoNGrJkiX67LPPtHnzZrm4uEiShg0bpmHDhpn2GzdunHbt2qWdO3dqxowZRTo34RUAAMBKSuILtgICAhQQEJDntu%2B//14pKSnKzs6Wk5OTpNxurCRVqVIlz2NycnL03HPP6ciRI9q6dau8vb0LvP%2BaNWsqISGhyPVyqSwAAAAryckp/tvd5OPjI6PRqOjoaNNYZGSkKlasqHr16uV5zOLFi3XixIk8g%2Bvq1at14MABs7GYmJhCA%2B6NCK8AAADIk7u7u/r27avly5fr0qVLunDhglatWqVHHnlEpUrlPoH/%2BOOPa/fu3ZKkn3/%2BWTt37tT69etVqVKlW85nMBi0YMECxcbGKj09XRs2bNCpU6c0ePDgItfEsgEAAAArKYnLBgqzcOFCvfjii%2BrVq5ecnZ01cOBAzZw507T99OnTSk5OliRt27ZNV65cUc%2BePc3O0a5dO23YsEGzZs2SlLvW1WAwqGHDhtq4caO8vLyKXI%2BD8U5W4QJFlJJi6woK5%2BgolSsnXbtmHz9UsrNtXUHhHB2lChWkK1dK/py6lbpq6xIK5%2BgolS0rpaaW/AmVJFdXW1dQOD8/KSJCat1aOnTI1tUUzh7%2B3SXJwUGyl1hxw6vnrWnPnuI/Z9%2B%2BxX/OkozOKwAAgJXYy98hJRnhFQAAwEoIr5bjBVsAAACwG3ReAQAArITOq%2BXovAIAAMBu0HkFAACwEjqvliO8AgAAWAnh1XIsGwAAAIDdoPMKAABgJXReLUfnFQAAAHaDzisAAICV0Hm1HOEVAADASgivlmPZAAAAAOwGnVcAAAArofNqOcIrAACAlRBeLceyAQAAANgNOq8AAABWQufVcnReAQAAYDfovAIAAFgJnVfLEV4BAACshPBqOZYNAAAAwG7cVnj19/fX1q1b71YtFgKlnkwAACAASURBVHvrrbfUuHFjff7557YupUBhYWG6dOlSofv99NNP8vX1Nd0aN26s5s2bm77%2B97//bYVqAQBAccnJKf7bveYfs2wgOztbn3zyiQYMGKBt27bpwQcftHVJecrOztZrr70mPz8/ubu7F7hvu3btFBkZafq6cePGWr16tbp163a3ywQAACiRii28Hjx4UG%2B88YZOnDih8uXLa%2BjQoZo%2BfbocHR1lNBq1dOlSffrpp7p8%2BbLq1q2r559/Xu3atZMkjR07Vl26dFFMTIz27dun8uXLa/bs2QoICCjy/X/99ddycnLS7Nmz1adPH124cEFeXl6m7Y0bN9Zbb72l9957TydPnlTHjh21cOFCzZs3T/%2BfvbuPq/H%2B/wD%2BOkVlJZYp0g1iaii5yc0Swtx2wzQ2u3E75KZh9p1hyM1uvjH3zNxszE0qlKQmthkyWm5iNVOhRCd0I5XTzfn94ed810506pzO1XXO6/l49KDrurp6neOU93lfn%2BvzSUhIQKtWrbBu3TrY2NgAAGJjY7Fu3Trcvn0bFhYWGDduHN5//31FXhcXF3z88ccAgJSUFAwdOhQnTpyAjY0NPD09MW3aNBw/fhwXLlxAkyZNsGTJEri7u8PNzQ0FBQXw8fHB1KlTMWPGDLWf%2B/T0dCxfvhyXLl1CeXk5%2Bvfvj4ULF8LMzAxnz57FrFmz4O/vj/Xr1%2BOHH37AiRMnkJKSgjZt2uDHH3%2BEiYkJli5diocPH2L9%2BvUoLi7GpEmT8OGHH1Yrh1QqRXZ2doVtpqZNYWlpqfZjrE0Syf/%2BNBDBQBq5XOgEVXv2PIrh%2BRRFSLG9SF1dhU5QNUfHin8SaYk%2Bdko1TSPF6/379zFx4kR88skn8PPzw40bNzB58mRYWlpi7NixCA8Px%2BHDhxEaGoqmTZti8%2BbNmDVrFk6fPg1DQ0MAwJ49e7By5UqsXLkSW7ZsQWBgIIYOHYr69eurlCEkJATDhw%2BHtbU1OnfujIMHD8Lf37/CMfv378eWLVtQWFgILy8vTJ48GV999RXs7OwwduxY7Ny5E4sWLUJycjICAgKwdu1a9OnTB/Hx8Zg6dSrs7e3Rp08flfJs374dX3/9NRwdHbFkyRKsXLkSUVFRCA8PR//%2B/REeHg4HB4fqPdGVKC8vh7%2B/P7p37441a9agoKAAc%2BbMQVBQEJYsWQIAkMlkuHPnDs6dOwcjIyOcOHECFy5cQJ8%2BfXD27FksWbIEixcvxuDBg3H8%2BHEcOXIEixcvhp%2BfH15%2B%2BWWVswQHB2PDhg0Vtk2fPgOzZs1U%2B3FqQ4MGQifQPaamQidQhYj%2B4U1MhE6gmoQEoROobu9eoRPonmdvtuoyAbsALF7Vp5HiNTIyEtbW1hg7diwA4LXXXoOPjw%2BOHTuGsWPHwsvLC/3790fDhg0BAMOGDcP69euRmZkJW1tbAICrqyt69%2B4NABgyZAg2bNgAqVSKFi1aVPn9s7OzcerUKcyZMwcA4Ovri82bN2PatGmQ/OOHaNiwYYouYOvWrdG%2BfXu89tprAAA3NzekpqYCAMLCwtCzZ08MGDAAANCzZ0/07dsXUVFRKhev/fr1g7OzMwBg0KBBOHz4MMpr4RV7%2BfJlpKWlISQkBCYmJmjQoAGmT5%2BOadOmKYrXJ0%2BeYOzYsTA2NlZ8XYMGDeDn5wcA8PDwQFhYGD788EMYGxvD09MTCxYsQEZGRrWK19GjR8PT07PCNlPTpigsVP9x1iaJ5GnhWlQkjq5mWZnQCapmYPC0cH38uO7/om5Yr0joCFWTSJ4WrsXF4niRvv660Amq5uj4tHB95x0gOVnoNFX74w%2BhE6hGIhHHa5RETSPFa0ZGhlIX0d7eXnHjVFFREVauXIlTp04hLy9PcYxMJlP8/dnlegAw%2Bf/uQnFxsUrf/9ChQ3j11VfRtm1bAE%2BLxcDAQPz%2B%2B%2B/o0aOH4rjmzZsr/m5sbAwrK6sKnz/L87zHk1CNbsK/H09ZWRlKSkpU/npV3b59GyUlJYohGM%2BUlZUhNzdX8fm/3wT8c0iFsbExDAwMFIX9syL3yZMn1cpiaWmpNESgoKDuFy/PrsLK5XU/KyCOjM%2BI4maCOh8Q4nuRXrwodALVJSeLKy%2BJnhh%2BhOs6jRSv/yxC/%2BlZ13Pp0qX466%2B/sGfPHtjb2yM9PR0DBw6scKyBGuO4wsLCkJGRAdd/jLOSyWQICwurULxK/nUp43nfs6rH82%2BVdVTVeTzVYWJiAnNzc1y4cOGFxz0bnvHMvx/L8x4bERERUV2ikeLVzs4O8fHxFbalpqYqhgRcuXIFfn5%2BaNmyJQDg2rVrmvi2AIDz588jIyMDwcHBimEJAPDHH39g6dKl%2BPzzzytsV4WdnZ1iCMEz/3w8RkZGFbrCt2/fVuMRqMfOzg75%2BfnIzMyEtbU1AKCgoAClpaVo3LixYLmIiIhIGTuv6tNIe3DIkCFIT09HcHAwSktLceXKFRw6dAgjRowA8PQSemJiImQyGS5duoSjR48CeHp3urpCQkLQu3dvdOjQAfb29ooPb29vNGzYEJGRkdU%2Bp7e3N86cOYOff/4ZpaWl%2BO233/DLL7/A19cXANCyZUvExcUhLy8P2dnZ2L9/v8rnfjYk4ubNmygoKKh2tn9zcnKCs7MzVqxYgZycHOTn52PhwoX49NNP1T43ERERaRbneVVftYvX5cuXV5g4v2PHjsjKysKGDRsQHByMbt26Yd68eQgICFAUe3PnzkVKSgrc3NzwzTffYNGiRRg4cCD8/f3V6sI%2BevQIP/30E0aNGqW0r169evDx8UFYWFi1z%2Bvq6ooVK1Zg1apV6NatG77%2B%2BmsEBQXBzc0NADBx4kQ0bNgQHh4emDBhAj744AOVz/3KK69g0KBBCAgIwJo1a6qdrTKrV6%2BGTCZDv3798MYbb8DAwAArV67UyLmJiIiI6hKJXM7bAqn2aKC5XOsMDICXXgIKC8XxDlYssw00bAg8elT3n9NG9R4LHaFqBgb/mxKjrj%2BhAGBmJnSCqrm6Pp3Sq3NncdywJYZ/d0Bcsw0IdK/H2rWaP2dAgObPWZeJYLZrIiIiIqKn6vTysFeuXFHMHVsZa2trxMTEaDGRZm3fvv2FQwd8fHywfPlyLSYiIiKi2iSWJnpdVqeLV2dnZyQmJgodo9ZMnDgREydOFDoGERERaQmLV/Vx2AARERERiUad7rwSERER6RJ2XtXHzisRERERiQY7r0RERERaws6r%2Bli8EhEREWkJi1f1cdgAEREREYkGi1ciIiIiLSkv1/xHbcvNzcVHH32EXr16wd3dHQsWLEBxcXGlxx48eBCOjo7o2LFjhY8rV678/%2BMvxzfffIP%2B/fujW7dumDhxItLT06uVh8UrERERET3XokWLUFRUhMjISISFhSElJQVBQUHPPb5bt25ITEys8OHs7AwA2LNnD44cOYKtW7fi559/RsuWLTF9%2BnTIq7GsMItXIiIiIi0RW%2Bf1/v37iI2NxezZs2FhYQErKyv4%2B/sjLCwMJSUl1T5fcHAwxo0bBwcHB5iZmWH27NlISUnB5cuXVT4Hb9giIiIi0pLaKDalUimys7MrbGvatCksLS3VPndSUhIMDQ3Rrl07xbb27dujsLAQqampFbY/c/fuXYwfPx5Xr16Fubk5Zs2aBR8fHxQXF%2BPGjRt47bXXFMeamZnB3t4eiYmJ6NSpk0qZWLwSERERiVhwcDA2bNhQYduMGTMwc%2BZMtc%2Bdm5sLMzMzSCQSxbZGjRoBAHJycpSOt7CwQMuWLTFnzhy0adMGx48fxyeffAJLS0u0bt0acrlc8fX/PF9l53oeFq9EREREWlIbndfRo0fD09OzwramTZuq/PXh4eH45JNPKt03e/bsao1H7du3L/r27av4fNiwYTh%2B/DgOHjyIjz/%2BGACqdb7KsHglIiIiEjFLS0u1hgj4%2BPjAx8en0n1nzpxBQUEBysrKYGhoCOBpNxYAmjRpotL5W7RogatXr6Jx48YwMDBQfP0zubm5Kp8L4A1bRERERFojthu2nJycIJfLkZycrNiWmJgIc3NztGrVSun4ffv2ISoqqsK2lJQU2NrawtjYGG3btsW1a9cU%2B/Lz83H79m3FbASqYPFKREREpCViK14tLCwwaNAgrFmzBg8fPsS9e/ewceNGjBo1CvXqPb2A/8EHHygKVplMhmXLliExMRElJSWIjIzEqVOnMGbMGADA22%2B/jV27diElJQUFBQUICgqCk5MTOnbsqHImDhsgIiIioucKDAzE4sWL0b9/f9SvXx/Dhw/H7NmzFfvT09ORl5cHAHj//ffx%2BPFjBAQEIDs7GzY2Nti4cSM6dOgAABgzZgyys7Px3nvv4fHjx%2BjevbvSzWZVkcjVHTVL9AIFBUInqJqBAfDSS0BhoTjWnC4rEzpB1QwMgIYNgUeP6v5z2qjeY6EjVM3AAGjQACgqqvtPKACYmQmdoGqurkBCAtC5M3DxotBpqiaGf3cAkEgAsZQV/7h7Xpvmz9f8Ob/4QvPnrMs4bICIiIiIRIPDBoiIiIi0RCxN9LqMxSsRERGRlrB4VR%2BHDRARERGRaLDzSkRERKQl7Lyqj51XIiIiIhINdl6JiIiItISdV/WxeCUiIiLSEhav6uOwASIiIiISDXZeiYiIiLSEnVf1sXglIiIi0hIWr%2BrjsAEiIiIiEg12XomIiIi0hJ1X9bHzSkRERESiwc4r1aoGDYROoDpjY6ETqMZARG85zcyETlC1snJToSOoxBBAmZE4fqAMxdRa%2BuMPoROoRgw/%2BK6uQEIC0KULcPGi0GmqJpcL8m3F9ONRV7F4JSIiItISFq/qE8FbOSIiIiKip9h5JSIiItISdl7Vx84rEREREYkGO69EREREWsLOq/pYvBIRERFpCYtX9XHYABERERGJBjuvRERERFrCzqv62HklIiIiItFg55WIiIhIS9h5VR%2BLVyIiIiItYfGqPg4bICIiIiLRYOeViIiISEvYeVUfO69EREREJBrsvBIRERFpCTuv6mPxSkRERKQlLF7Vx2EDRERERCQa7LwSERERaQk7r%2Bpj55WIiIiIRIOdVyIiIiItYedVfSxeiYiIiLSExav6OGyAiIiIiESDnVciIiIiLWHnVX3svBIRERGRaLDzSkRERKQl7Lyqj8UrERERkZaweFUfhw0QERERkWiw80pERESkJWLsvObm5mLJkiU4f/48DAwM0KdPHyxatAgmJiZKxy5cuBDh4eEVtpWVlcHHxwdffPEFPv30U0RERMDQ0FCx39jYGPHx8SrnYeeViIiIiJ5r0aJFKCoqQmRkJMLCwpCSkoKgoKBKj12%2BfDkSExMVHxcvXkTr1q0xePBgxTHTpk2rcEx1CleAxSsRERGR1pSXa/6jNt2/fx%2BxsbGYPXs2LCwsYGVlBX9/f4SFhaGkpKTKr//hhx9gbW2NPn36aCwThw0QERERaUltFJtSqRTZ2dkVtjVt2hSWlpZqnzspKQmGhoZo166dYlv79u1RWFiI1NTUCtv/LT8/H1u2bMHevXsrbD937hxOnDiBW7duwcHBAUuWLEGHDh1UzsTilYiIiEjEgoODsWHDhgrbZsyYgZkzZ6p97tzcXJiZmUEikSi2NWrUCACQk5Pzwq/98ccf0a1bN7Rt21axzdbWFgYGBggICICpqSk2bNiACRMmICYmBi%2B//LJKmVi8EhEREWlJbXReR48eDU9PzwrbmjZtqvLXh4eH45NPPql03%2BzZsyGXy6udqaysDHv27MGqVasqbJ8%2BfXqFz%2BfNm4fIyEjExsbCz89PpXOzeCUiIiISMUtLS7WGCPj4%2BMDHx6fSfWfOnEFBQQHKysoUMwTk5uYCAJo0afLcc164cAEymQxdu3Z94fc2NDRE8%2BbNIZVKVc7LG7aIiIiItERsN2w5OTlBLpcjOTlZsS0xMRHm5uZo1arVc7/uxIkT6NGjB%2BrV%2B1%2BfVC6X44svvqhwLplMhtu3b8PW1lblTCxeiYiIiLREbMWrhYUFBg0ahDVr1uDhw4e4d%2B8eNm7ciFGjRikK0w8%2B%2BABRUVEVvi4pKQk2NjYVtkkkEmRkZGDp0qXIysrC48ePERQUhPr162PAgAEqZ2LxSkRERETPFRgYiIYNG6J///7w9vaGs7MzZs%2Berdifnp6OvLy8Cl%2BTnZ2NV155RelcK1asQMuWLTFy5Ej06tULSUlJ%2BOGHH/DSSy%2BpnEcir8koXD32%2BuuvY%2B7cuRg5ciQGDRqESZMmqTzAuLru3LmDwYMHIyIi4oWt%2BbqsrEzoBKoxNBRPVgORvOWUSAAx/HYRy2o3YnqNGhqI4B8eEM%2BLFBDHD76rK5CQAHTuDFy8KHSaqgn0b9%2Bzp%2BbPGRen%2BXPWZSL4aVBdamoq5s6di169esHFxQWenp5Yvny5YmCxpsXExCgK1/T0dERHR6v8tZ6enti3b5/S9n379inuGGzRogUSExNVKlx/%2Bukn3Lp1S%2BXvT0RERNontmEDdZHOFK9JSUkYNWoUmjVrhoiICCQkJGDjxo3466%2B/8Pbbb6O4uLhWv/9PP/2EmJiYWv0eL7Ju3ToWr0RERKTzdKZ4DQwMhLu7O%2BbNm4dXXnkFhoaGcHJywubNm9GpUydIpVK0a9cO33//Pdzd3bF161YAQFxcHEaPHg1XV1f07t0bGzduVJyztLQUy5YtQ/fu3dG7d2%2BEhIRU%2BJ7Puqfbt29HUFAQoqOj0bFjR5Rp6NpeRkYG2rVrh5SUFADAwYMHMWjQIHTq1An9%2BvXDjh07AADe3t74%2B%2B%2B/4e/vj/nz5wMA/v77b7z//vvo2rUrunfvjsWLF%2BPJkyeK8wwfPhxffvklOnXqhEOHDqFXr14VcmdmZsLR0RFpaWkaeSxERETEzqsm6MQ8rw8ePEBCQgJ2796ttM/MzAxffPGF4vPY2FgcPnwYTZo0wb179%2BDv74/FixfDy8sLN27cwKRJk2BnZwcvLy%2BEhYUhOjoae/fuRfPmzfHVV18pDUgGgIkTJ%2BLvv//GkydP8M0339TKY7x37x4CAwMRHByMdu3a4erVq5g4cSJ69OiBiIgItGvXDps2bYKHhwdkMhkmTJgAX19fbN26FVKpFFOnTsXatWsVkxBLpVIYGxvjwoULKCkpQWBgIM6cOQMPDw8ATzvJHTp0qNZY28qWp2vSpCmaNlV/eToiIr3m6ip0gqo5Olb8sy4Tw5hcei6dKF7T09MBQKVCa8iQIYq73yIjI9G2bVv4%2BvoCANq1a4cxY8YgPDwcXl5eOH78OLy8vODg4AAACAgIQHBwsMZyL1%2B%2BHCtXrqywrby8HFZWVkrHFhQUoLy8XHE3XocOHRAXFweDSgbxnzp1CkVFRZg5cyaMjIxgZ2eHsWPHYtu2bYri9dGjR5g8eTLq16%2BP%2BvXr44033sCRI0cUxeuzx14dlS1PN336DMyapf7ydNrw/3Mvkwb9YzXBOktM/%2B7iySqCf/hnxPAiBZ7eCCUW/1rHvk4S8N9dHzulmqYTxeuz9XbLVXhFWFtbK/5%2B%2B/ZtJCYmomPHjoptcrlcUQRnZWWhb9%2B%2Bin0WFhaK9Xw1YeHChXj77bcrbNu3bx%2B%2B%2B%2B47pWMdHBzg4%2BODIUOGwM3NDe7u7hgxYkSl6wBnZGTA1tYWRkZGim329vbIzMxUPEfm5uYwMzNT7Pf19YW/vz%2BKiopQWFiIy5cvY%2B3atdV6PJUtT9ekSVNR3CEtpju5xXDTMSCeG7nF8h%2BJmF6jnG2gFnTpInSCqjk6Pi1c33kH%2BMck9FSRWH7n1GU6Ubza2dkBeDrOs7Ku5T8Z/qN1YWJigj59%2BmDLli2VHiuTyVBaWlphmyoFcm2QSCRYtmwZJk2ahNjYWERHR%2BO7777DgQMHlFalkMlkzz3HM/9c8QIAunfvjkaNGuHkyZN4/PgxunfvXun8bC9S2fJ0YvnPloioThPTZe7kZHHlJdERSQ/nxV5%2B%2BWW4ublh586dSvuKioowcuRI/PHHH0r77OzscP36dfxzqtvs7GxF8WdpaYl79%2B4p9kmlUuTn59fCI6haeXk58vPzYW9vj4kTJ%2BLAgQNo06YNjh8/rnSsra0t0tPTKxSxqampsLGxqXSYAQAYGBjAy8sL0dHROHbsWLWHDBAREVHVeMOW%2BnSieAWABQsW4NKlS5gzZw7u3buH8vJyJCUlYdKkSTAxMYGzs7PS1wwbNgy5ubnYtGkTiouLkZ6ejgkTJuCHH34AAPTu3RuRkZG4efMmCgoK8M0338DY2LjS729sbIy7d%2B8iPz9fqVurCVFRUfDz80NqaiqApwsYZGVlKbrOxsbGuHXrFgoKCuDh4YF69eph48aNkMlkSE1Nxa5duxRje5/H19cXv/32G65cuYKBAwdq/DEQERERqUsnhg0AgKOjIw4cOID169djxIgRKCwsRLNmzTB8%2BHDFjUn/9vLLL2PTpk34%2BuuvsWXLFlhYWMDHxwcTJkwAAIwbNw7p6el46623YGRkhFmzZlXawQWg6Fr269cPR44cqTC2VhOGDRuGv//%2BGx988AHy8/PxyiuvwM/PT7EW8JgxY/D111/j7Nmz2Lx5M7Zu3Yovv/wSPXv2ROPGjeHr64upU6e%2B8Hs4ODjAwcEB9vb2MDU11Wh%2BIiIi0s9OqaZxeVhSKCsrwxtvvIHly5ejp4bWrxPLmFcx3QzDG7Y0Syz/kYjpNcobtmqBGH7wuTysStq31/w5r13T/DnrMp3pvJJ6SktLsW7dOlhYWKBHjx5CxyEiIiKqFIvXWtC1a1fFalaViY6ORosWLbSY6MUyMzMxaNAgODk5YdWqVRVmJSAiIiLNEcvVnrqMxWstiI%2BPFzpCtVhbWyMxMVHoGERERERVYvFKREREpCXsvKqPxSsRERGRlrB4VZ8Ibl8kIiIiInqKnVciIiIiLWHnVX3svBIRERGRaLDzSkRERKQl7Lyqj8UrERERkZaweFUfhw0QERERkWiw80pERESkJey8qo%2BdVyIiIiISDXZeiYiIiLSEnVf1sXglIiIi0hIWr%2BrjsAEiIiIiEg12XomIiIi0hJ1X9bHzSkRERESiwc4rERERkZaw86o%2BFq9EREREWsLiVX0cNkBEREREosHOKxEREZGWsPOqPnZeiYiIiEg02HklIiIi0hJ2XtXH4pWIiIhIS1i8qo/DBoiIiIhINNh5JSIiItISdl7Vx84rEREREYkGO69EREREWsLOq/pYvBIRERFpCYtX9XHYABERERGJBotXIiIiIi0pL9f8hzYkJiZi4MCBeOutt6o8dteuXRg0aBA6d%2B6Mt99%2BG1evXlXse/LkCT7//HN4eHige/fumDVrFnJycqqVhcUrERERkZaIsXiNiIjAzJkzYW9vX%2BWxJ0%2BexPr16/H111/j7Nmz6NevH6ZOnYrCwkIAwDfffINr164hODgYMTExkMvlmD9/frXysHglIiIioud68uQJgoOD4eLiUuWxwcHBGDlyJFxcXGBiYoJJkyYBAH7%2B%2BWeUlpYiNDQU/v7%2BaN68ORo3boyPPvoIv/zyC7KyslTOwxu2iIiIiLSkNjqlUqkU2dnZFbY1bdoUlpaWGjm/n5%2Bfysdeu3YNQ4cOVXxuYGAAJycnJCYmwsnJCY8ePUL79u0V%2Bx0cHGBiYoJr167ByspKpe/B4pVqlaGh0AmqJpVKERwcjNGjR2vsB13fiek55Wu0NkiEDlAl0T2ncrnQCaoklUoRvH49RkdHi%2BM5FUht/FOuXx%2BMDRs2VNg2Y8YMzJw5U/PfrAq5ublo1KhRhW2NGjVCTk4OcnNzAQDm5uYV9pubm1dr3CuHDZDey87OxoYNG5TetVLN8TnVLD6fmsfnVPP4nApn9OjROHjwYIWP0aNHq/z14eHhaNeuXaUfBw8erHYeeRUVelX7q8LOKxEREZGIWVpaqtXt9vHxgY%2BPj0ayvPzyy4oO6zO5ublo27YtLCwsFJ%2Bbmpoq9ufl5aFJkyYqfw92XomIiIhIIzp06IBr164pPi8rK8Off/4JFxcX2NraolGjRhX2X79%2BHTKZDB06dFD5e7B4JSIiIqIaGzx4MOLj4wEAb7/9Ng4fPoxLly6hqKgImzdvhpGREfr27QtDQ0O89dZb2LJlC%2B7evYucnBysXr0aAwcOxCuvvKLy9%2BOwAdJ7TZs2xYwZM9C0aVOho%2BgMPqeaxedT8/icah6fU901aNAgZGZmoqysDOXl5ejYsSMAIDo6Gi1atEBaWppiHlcPDw/MmTMHH330ER48eICOHTti69atMDExAQDMmjULjx8/ho%2BPD0pLS9GvXz8sWbKkWnkkcnVHzRIRERERaQmHDRARERGRaLB4JSIiIiLRYPFKRERERKLB4pWIiIiIRIPFKxERERGJBotXIiIiIhINFq9EREREJBosXomIiIhINFi8EhEREZFosHglIiIiItFg8UpEREQ1cuvWLaEjkB5i8Up6qbi4GMeOHcPOnTsV2%2B7duydgIvG7dOkSli5dCn9/fwBAeXk5oqOjBU4lbuPHj690e0FBAUaMGKHlNETKBg8ejLfeegu7d%2B/Gw4cPhY5DeqKe0AGItC0hIQHTpk2Dubk57t69i/Hjx%2BPOnTsYPnw4Nm3ahJ49ewodUXQOHDiAL7/8EkOGDMFvv/0GAMjOzsbKlSshlUrx/vvvC5xQXK5du4bExERcuHABBw4cgFwur7D/9u3buHnzpjDhdEBeXh4yMjLw5MkTpX2dO3cWIJF4nThxAsePH0dMTAz%2B%2B9//ws3NDd7e3hg4cCAaNGggdDzSURL5v38rEuk4Pz8/%2BPr6YuzYsXB2dsaVK1cAAFFRUdi%2BfTvCwsIETig%2BAwcOxJdffokuXbpUeE6TkpIQEBCAn376SeCE4nLu3Dl8//33%2BOWXX2Btba2038TEBG%2B99RbGjRun/XAit3XrVqxbtw6lpaVK%2ByQSCZKSkgRIpRsePHiAkydP4tixY0hMTESfPn3g5%2BeH7t27Cx2NdAw7r6R3/v77b4wePRrA0/%2Bsnhk83rBGmQAAIABJREFUeDAWLFggVCxRu3//vqJj9c/ntE2bNpBKpULFEq0ePXqgR48emDZtGjZv3ix0HJ2yfft2LF26FJ6enjA2NhY6jk4xMzODqakpzMzMUFpaips3b2LBggVo0qQJgoKCYGtrK3RE0hEsXknvNG3aFHfv3lX6RZqYmAgzMzOBUombvb09zp07pzTkIjIystLOIalm8%2BbNuH//Pm7evIni4mKl/e7u7gKkEjcTExN4eXnByMhI6Cg6QS6X48yZMzhy5AhiY2PRqFEjeHl5ISAgAA4ODigvL8eaNWswb9487N%2B/X%2Bi4pCNYvJLe8fLywuTJkzF%2B/HiUl5cjNjYWycnJ2LNnD9555x2h44nShx9%2BCH9/f3h6eqK0tBTLly/HX3/9hYsXL2LVqlVCxxOt7du3Y/Xq1SgrK1Pax0vcNTNz5kz897//xdSpU9GkSROh44ieu7s7iouLMXDgQGzYsAE9evSocPXFwMAAs2bN4lhi0iiOeSW9I5fL8f333yMsLAy3b9%2BGiYkJbG1tMWbMGIwaNarCL15SXWJiIg4dOlThOfXz80Pr1q2FjiZaPXv2xLx58zB06FCYmJgIHUcnnDx5EosXL8b9%2B/dhYGCg9PN%2B9epVgZKJ0%2BHDhzFo0KAqb866e/cumjdvrqVUpOtYvBIR1VHdu3fH2bNnYWhoKHQUneHh4YHevXvDw8Oj0jGvffv21X4oEXN1dcUff/wBAwPOvEnaw%2BKV9E5ZWRlOnjyJmzdvVjpVzowZMwRIJW6ZmZnYsWMHbt26VelzumvXLgFSid%2BXX34JJycn%2BPj4CB1FZ3Tr1g1xcXGoV4%2Bj5jThq6%2B%2BgomJCSZNmgRTU1Oh45CeYPFKemfmzJn49ddf0bp1a6XOi0Qi4U0FNTBy5EiUl5fDzc2t0m7W3LlzBUglfsuXL8fRo0dhY2MDGxsbpe4WxxNX39q1a2FjY4M333xT6Cg6wcvLC1KpFAUFBTA3N1e6SnD69GmBkpEu41tP0junT59GREQEWrZsKXQUnZGWlobTp0%2Bz86Jhjx8/5mVsDbtx4wb27duHjRs3wsrKSukNwZ49ewRKJk4TJkwQOgLpIRavpHfs7OzQuHFjoWPolC5duiA9PR2Ojo5CR9EpX3zxhdARdI6DgwMcHByEjqEzuEwxCYHDBkjvXL16FZs3b8bgwYNhaWmp1Hnp1q2bQMnEKysrC5MnT4azszOsrKyU7uDmOOKaOXz48Av3%2B/r6aimJ7rh69So6dOggdAydIZPJsG7dOkRFReHu3buQSCSwsbHBiBEjMGXKFN7IRbWCxSvpnbVr12LLli1K68UDnDuzpqZOnYqzZ89yHLGG/XsRgrKyMuTm5sLMzAzW1tYIDw8XKJl4denSBefOnUP9%2BvWFjqITlixZggsXLmDs2LGwt7cHAKSkpGD37t3w9fXF9OnTBU5IuojFK%2Bmdzp07Y/Hixc9dHpIr71Sfi4sLjhw5Ajs7O6Gj6LxHjx5h7dq16NChAzuvNbBz507cuXMH7733Hpo3b6406wA7hdXTs2dPHDhwQGnFwtTUVEyZMgXHjx8XKBnpMo55Jb3TuHFjDB48mOuaa1CbNm14s5aWNGzYEB9//DEGDx7M4rUGNm3aBJlM9twbs3jlpXpKS0thZWWltN3Gxga5ubkCJCJ9wOKV9M7ChQsRFBSEd999F82aNVMan8nOa/VNnDgRs2fPhpeXV6V3cP/78jepJz09HY8ePRI6hiitW7dO6Ag65bXXXsPGjRsxY8YMxVCM0tJSbN68Ga%2B%2B%2BqrA6UhXcdgA6Z0uXbqgqKio0jGvADsvNfGiWQY4jrjmRo8erfTmqqioCKmpqRg0aBCCgoIESqYb8vPzYW5uLnQMUfv7778xceJEFBcXw8bGBgCQkZGBevXq4dtvv0XHjh0FTki6iMUr6Z3z58%2B/cL%2Bbm5uWkhC92IYNG5S2GRkZoWXLlujfvz%2BXja2BwsJCBAUF4fDhw5DJZLh69Sry8vIwf/58rFy5ktPo1YBMJsOpU6eQkZEBmUwGOzs7eHh44KWXXhI6GukoFq%2Bkt0pKSiCVSiGRSGBlZcVCQE2lpaVISEjAnTt3IJFIYGdnB1dXV6XOIZGQ5s%2Bfj8zMTEybNg0ffvghrly5gsePH2PhwoUwNDRkN7uaFixYgBUrVihtLygowH/%2B8x9s3LhRgFSk6zjmlfROfn4%2BFi9ejNjYWJSWlgIAjI2NMXz4cCxatIg3ctVAcnIypkyZguzsbDRp0gQA8ODBA9ja2uL7779H8%2BbNBU4oTpxDU/NOnjyJqKgoNGnSRPHGytTUFEuXLsXgwYMFTice6enpuHnzJiIiIjB06FClYVi3bt3i0rBUa1i8kt5ZsmQJsrOzsWHDhgrzEm7ZsgVBQUFYsGCBwAnFZ8WKFRg0aBA%2B%2BugjxaXCvLw8BAUFITAwEJs3bxY4oTitXLkSFy5cwKRJk5Tm0CwvL%2BccmjUgkUjQsGFDpe3l5eUoKioSIJE4JScnY926dSgpKcHEiROV9hsbG2PMmDECJCN9wGEDpHe6deuGmJgYWFhYVNielZWFMWPG4OeffxYomXi5urri999/V5qpobCwEJ6enjh37pxAycSNc2hq3tSpU2Fvb4%2B5c%2BeiW7duuHz5Mu7du4cVK1ZAJpPh22%2B/FTqiqPj4%2BHCxDNI6XnMivWNoaIgGDRoobTc3N0dhYaEAicSvcePGePDggdL2R48eceoxNXAOTc1buHAhzp49iy5duuDJkyfo3r07%2BvXrB6lUis8//1zoeKITHh6O5ORkxed37tzB999/zyYA1SoOGyC907lzZwQGBmLevHmK7uvDhw8RFBTEaV1qqH///vD398eUKVPQunVrAE%2B7g1u3bkXv3r0FTidenENT82xsbBAREYHLly/j9u3bMDExgZ2d3Qune6Pn27lzJ7799lucO3cOubm5eOutt%2BDg4ICsrCz8/fff%2BPDDD4WOSDqIwwZI72RlZWHatGlISkpSzPGYn58PBwcHbNq0iUuc1oBMJsPq1asRFhammDzf1NQUw4cPx6efflppp5uqduPGDUyYMIFzaGrA559/jsDAQKFj6BxPT0%2BsX78e7du3x86dOxEdHY3g4GDcuXMH48aN49AWqhUsXklvJScnK%2BYltLW1ZSGgIfn5%2BZDJZBXu5qaa4xyamuHi4oLLly8LHUPnuLq64uLFiwCerrTn7u6O8ePHK%2B0j0iQOGyC9FBcXBysrKwwYMAAAEB8fjzNnzuD1118XOJk4yWQybNq0Ce7u7ujatSsAICIiAjdu3MCMGTM47lUNRkZGitcp1Rz7NLXD0tISN27cgImJCc6fP48lS5YAANLS0iqd1YFIE1i8kt7ZvXs31q5di/Xr1yvGZ%2Bbl5eGzzz7DzJkz8e677wqcUHyWL1%2BOq1evYujQoYptbdq0wd69e7FixQosXbpUwHTidfr0aXz99de4desWZDKZ0n4uu6u68vJynDlzpsoi1t3dXUuJdMOUKVPg5%2BcHuVyOESNGwNbWFo8ePcK0adPw5ptvCh2PdBSHDZDe8fT0xKZNm5Ru0Lh%2B/TqmTZuGEydOCJRMvHr16oWjR4/i5ZdfrrA9JycHw4cPx5kzZwRKJm79%2BvVD79694eHhUeniGbwZTnWq3JAlkUj4hqAGsrKyUFBQAAcHBwBPu9xRUVEYNmyYwMlIV7HzSnonJydH0XH9JxsbGzx8%2BFCAROJXVlZW6fjWkpISPHnyRIBEuqGgoACff/456tXjr2p1GRsbc8yrhty6dUuxaEZaWhoAwMDAQPF34OlMGWlpaWjVqpUgGUm38Tci6Z3OnTtj9erVmD59umJM1v3797FmzRq4uLgInE6c3njjDUyfPh0TJkxAixYtIJfLkZaWhm3btrH7ogZfX19ERkbC19dX6ChECl5eXrhy5QoAYMiQIZBIJBWGYzz7nJ1sqi0cNkB6Jz09HTNnzsT169dhZmaG8vJyPH78GE5OTtiyZQssLS2Fjig6xcXFWLVqFcLDw5Gfnw/g6aIPI0eOxNy5cxVzlFL1pKWlYcKECahfvz6srKyUutu7du0SKJn4ODs7KwouUk9mZiasra0BPF2U4EVatGihjUikZ1i8kt76888/kZ6eDgMDA9ja2nKScg3JycmBgYEBGjVqJHQU0fPy8oKhoSHc3NwqHfM6d%2B5cAVKJU3x8vGImDFVwXliiuovFK%2BmlsrIySKVSFBcXK%2B3jGK2aSUxMREpKSqVjXEePHi1AIvFzdXXFmTNnOKerADgv7It5enqqNI8zb4Cl2sAxr6R3IiIisGzZMhQUFFTYzjFaNbdixQrs3r0bFhYWMDExqbBPIpGweK0hd3d3pKamokOHDkJH0Tvs67zYP5d9lcvlWLFiBRYuXChgItIn7LyS3unTpw/8/PwwZMgQpUIL4BitmnBzc8PatWvRs2dPoaPolM2bNyMkJASurq5o3rw5DAwMKuyfM2eOQMl0Hzuv1cPni7SJnVfSOwUFBZg2bRoMDQ2FjqIzjIyMqjWekFRz9uxZtGjRAlKpFFKptMI%2BLr1LRPqKxSvpnf79%2B%2BP3339Hr169hI6iM8aNG4cdO3ZgypQpQkfRKbt3737uvmezOhAR6RsWr6R3HBwcMH/%2BfLi6usLGxoaXYjUgISEBCQkJ2L17N6ytrZWe0/379wuUTPfExcUhNDQUsbGxvExLRHqJxSvpndOnT8POzg4PHjzAgwcPKuzjpdiaee211/Daa68JHUNnZWZm4uDBgzh06BCys7PRr18/rF%2B/XuhYOo23g7xYcHBwhc/Lyspw4MABpeeNN2tSbeANW0REdZBMJkNsbCxCQkJw/vx5uLi4IDExESEhIZyTWA0bN27E9OnTlbY/fvwYa9aswYIFCwAAO3bswIQJE7QdTzQ8PT2rPEYikXCqLKoVLF6JqMb%2BuZb5i3Du3OpZtmwZIiMj0bhxY3h5ecHHxwe2trZwdXVFREQEbG1thY4oOrm5uXj48CF8fX0RERGh1CG8efMmAgICuApXLbl79y6aN28udAzSERw2QHrD3d1dpeNOnz5dy0l0R2Xrmj/D9c1rbs%2BePRg2bBgCAgJgZ2cndBydcOLECXz55ZcoKSnBkCFDFK/Zf75%2B33jjDSEj6rTBgwdzjDZpDItX0htcSlPzeEmwdmzbtg2hoaHw8vKCk5MTfHx8MGTIEKFjidqbb74JX19fdO/eHeHh4Ur7TUxM0KRJEwGS6Qde5CVN4rAB0jsZGRmwsbFR2i6TyfDnn3%2BiU6dOAqQSt8OHD8PX11dpe1FREfbv34/x48cLkEr8cnJyEB4ejrCwMKSlpaG8vBxLly7FiBEjUK8eew/qkslkStuMjIwESKL7uIgBaRKLV9I7z/slmpeXh759%2B%2BLixYsCpBKn8vJylJaWolu3boiPj1fqrqSmpuKtt97iOEINuHTpEkJCQnDs2DGYmJjA29sbn376qdCxROfs2bNYuXIlbt68ibKyMqX9HOJSO1i8kibxrTvpjZCQEISGhkImk2HMmDFK%2B6VSKRo3bixAMvHatWsXvvrqKwCAs7Nzpcewk60ZnTp1QqdOnbBgwQIcPXoUYWFhQkcSpcWLF8PNzQ3z5s1DgwYNhI5DRDXAzivpjby8PMTFxWHu3LmYNm2a0n5jY2MMGDCAd8ZX08OHD%2BHh4YEdO3Yo7TMxMYGTkxPq168vQDLdUFZWBqlUiuLiYqV9fK1Wn6urKy5cuMBhF1rGzitpEn96SW80atQIgwcPBgDFn6Q%2BCwsL/Prrr7zZpRZERERg2bJlKCgoULo7nrM41IybmxuSk5PRoUMHoaMQUQ2xeCW98/rrr2P79u1ISUnBkydPlPavWrVKgFTilp2djc8%2B%2BwwpKSmVdgg5/VjNrFq1Ch988AGGDBkCExMToePohAEDBuCTTz5Bv379Kl0emitCVc%2BzN1L/VlZWhuzsbDRr1gwAb4QjzeKwAdI7kydPRnJyMrp06VLpmLcvvvhCgFTi5uXlBSsrK3h6elb6nI4YMUKAVOLXpUsXnD9/HoaGhkJH0RkvWhmKK0JV3/OGAzx69Aienp64cOGCAKlI17HzSnonPj4e0dHRsLKyEjqKzsjIyEBoaCiMjY2FjqJT%2Bvfvj99//x29evUSOorOOHnypNARdEJMTAxiYmJQUlJS6RzamZmZfNNFtYbFK%2BmdZs2awdTUVOgYOsXJyQn37t2Dvb290FF0ioODA%2BbPnw9XV9dKL3HPmTNHoGTilZmZ%2BcL91tbWWkoibq%2B99hoyMjIQHR1d6ZCAdu3acWEYqjUcNkB657fffkNUVBQmTZoEGxsbpfFaHJtVfcePH8f27dvh4%2BODFi1aKBVZqi7NSxW99957z90nkUiwa9cuLabRDY6OjpWO0XyGN8FVz44dOzBhwgShY5CeYfFKeqdr164oKipCeXl5pfv5n1f1OTo6Pncf74qvHUlJSXBychI6huikpqZW%2BLy8vBy3bt1CcHAwxo0bxyEaKggNDcWoUaMAAMHBwS88ljfAUW1g8Up65/z58y/c7%2BbmpqUkRFWTy%2BXIzMyssJRpVlYW/P39kZCQIGAy3ZKdnY1JkyYhPDxc6Ch13uDBgxEdHQ2AN8CRMDjmlfTOi4rTOXPmsHjVoKKiIgwcOJBTZdVQfHw8Zs2ahZycHAAVpyUaMGCAkNF0jrGxMW7fvi10DFF4VrgCvAGOhMHilfROWVkZ9u/fj6tXr1boZkmlUly/fl3AZOJ17949rFy5Uuk5ffz4MSwtLQVMJm4rV67E2LFjMXToUHh7eyMqKgpXr15FVFQUFi1aJHQ8UVq9erXStqKiIpw7d47DMFR0%2BPBhlY/19fWtxSSkr1i8kt5ZtmwZfv75Z3Tt2hXR0dEYNmwYkpKSYGRkhM2bNwsdT5Q%2B//xzAMDUqVMRGBiIJUuW4Nq1a0hKSsLGjRsFTideaWlp8Pf3h0QigUQiga2tLWxtbdG8eXP85z//wc6dO4WOKDoXL15U2mZsbIzu3btj4sSJAiQSn6CgoAqf5%2Bfno6SkBObm5pDL5cjPz4eJiQmsrKxYvFKt4JhX0jvu7u4IDQ1Fs2bN4OzsjCtXrkAulyMoKAg2NjZ4%2B%2B23hY4oOm5ubvj111/RoEGDCpOWR0ZGIj4%2BHkuWLBE2oEj17dsXBw4cgKWlJdzd3bFv3z7Y2tqipKQEbm5ulRZiRNoUEhKCa9euISAgAC%2B//DKAp1ex1qxZA1dXV/j5%2BQmckHQRi1fSO926dVOs%2BuLq6orff/8dRkZGyMvLg5eXF06dOiVwQvHp1asXfv75ZxgbG8PNzQ0//fQTGjduDJlMhtdff52r7NRQUFAQwsPDcezYMaxYsQJJSUnw9vZGYmIibty4gSNHjggdUZROnTqFY8eOISMjAxKJBHZ2dvD19UXXrl2FjiY6ffr0QUxMjNLyxQUFBRg6dCh/n1KtMKj6ECLd8uqrr2LDhg0oKSlBq1atEBISAgC4e/cuCgsLBU4nTl27dsWMGTNQVFSEjh074ssvv8TVq1dx4MABrrqlho8//hhz586FqakpFixYgLZt2%2BLAgQPIz8/H119/LXQ8Udq9ezdmzZqFoqIidO7cGa6ursjLy8P48eNx/PhxoeOJTnFxMe7evau0/cGDB3jy5IkAiUgfsPNKeicxMRFz5sxBeHg4zp49i48%2B%2BghGRkZ48uQJxo4di88%2B%2B0zoiKKTk5OD//73v1i6dClu3ryJKVOmIDMzEw0aNEBgYCC8vLyEjkgE4OmSuytWrECPHj0qbP/tt98UnW5S3bJlyxATEwMvLy/Y2NigrKwMd%2B/exdGjR9G3b18EBgYKHZF0EItX0nupqalISkpCixYt0KlTJ6Hj6AS5XI779%2B/DwsKC65urad%2B%2BfYiKisKdO3cUl7hHjBgBb29voaOJkqurK%2BLj45Vel2VlZXBzc8Mff/whUDJxKisrQ2hoKGJjY3Hv3j3IZDJYWlrCw8MD48aNQ/369YWOSDqIsw2QXoqLi4OVlRVat26N1q1b48GDBygoKBA6lmjJZDJs2rQJ7u7u6Nq1KyQSCeLi4nDjxg3MmDGDS%2B7W0Jo1axAaGgofHx9F9zolJQUrVqxAYWEhxowZI3BC8bGzs8Ovv/6qNLn%2B6dOnYW1tLVAq8TI0NMTo0aO5khZpFYtX0ju7d%2B/G2rVrsX79erRu3RrA06lePvvsM8ycORPvvvuuwAnFZ/ny5bh69SqGDh2q2NamTRvs3bsXK1aswNKlSwVMJ14HDx7Ed999pzT/6LBhw/Cf//yHxWsNzJw5E7NmzUKvXr3g4OAA4OnVlzNnzmD58uUCpxOno0ePIjw8HFKpFIcPH4ZMJsPu3bsxYcIExaIaRJrEYQOkdzw9PbFp0yY4OjpW2H79%2BnVMmzaNyxnWQK9evXD06FHFVDnP5OTkYPjw4Thz5oxAycStc%2BfOOH/%2BPOrVq9hn4CVu9SQnJ%2BPgwYPIyMiATCaDnZ0dvL29OWyoBjZt2oTg4GCMHj0aW7ZswZUrV3D//n2MHz8e/fv3x0cffSR0RNJB7LyS3snJyVF0XP/JxsYGDx8%2BFCCR%2BJWVlVXaYSkpKeEdx2po27YtQkNDlTqsBw8ehL29vUCpxM/R0ZE3ZmpIcHAwtm3bhrZt2%2BLbb78FALzyyivYtGkT3n//fRavVCtYvJLe6dy5M1avXo3p06ejYcOGAID79%2B9jzZo1cHFxETidOL3xxhuYPn06JkyYgBYtWkAulyMtLQ3btm3DsGHDhI4nWvPmzcOkSZOwe/fuCpe409PTsX79eoHTiVNmZiZ27NiBW7duVfrGateuXQKkEq9Hjx6hbdu2StstLS3ZDKBaw2EDpHfS09Mxc%2BZMXL9%2BHWZmZigvL8fjx4/h5OSELVu2wNLSUuiIolNcXIxVq1YhPDwc%2Bfn5AABzc3OMHDkSc%2BfO5R3Hanjw4AEiIyMrXOIeMmQIpFIpL3PXwMiRI1FeXg43N7dK5yCeO3euAKnEa8yYMXjnnXfg7e1dYXW9zZs34/jx4zh48KDACUkXsXglvfXnn38iPT0dBgYGsLW1VRoDSzWTk5MDAwMDNGrUSOgoOu2fhQKpztXVFadPn4apqanQUXRCXFwcpk%2BfjldffRVXrlxBnz59cP36deTl5WHTpk1wc3MTOiLpIA4bIL1QUlKi6P7JZDIAT%2B%2BGb9OmjeKYZ9s5rZNq4uLi0LNnTwBPpxl6EXd3d21E0ivsO9RMly5dkJ6ezjerGtKzZ08cO3YMkZGRaNeuHUxMTODu7o5hw4ahcePGQscjHcXOK%2BmFf3apHB0dK725SC6XQyKRICkpSdvxRMnZ2RlXrlwBgBcWAnxOawc7rzWTlZWFyZMnw9nZGVZWVkq/C2bMmCFQMnH67rvvMHnyZKFjkJ5h8Up6IT4%2BHl27dgUA/P777y%2Bce5CXuUgMWLzWzNSpU3H27Fm0bt1aacyrRCLB/v37BUomTu7u7oiIiICFhYXQUUiPcNgA6YVnhSsAdO/eXcAkuiMtLU2l4yQSCVq2bFm7YXRMcHBwlceUlZVpIYnuiYuLQ2RkJOzs7ISOohMmTZqEgIAADB06FNbW1krL7nLIENUGdl5JL1TnF2hV4zfpqWfDL6r6FcJhA9X376VLn%2BfkyZO1nET3vPnmm9i6dSuaNGkidBSdwCFDJAQWr6QXDh06pPKxI0aMqMUkuuPOnTsqH9uiRYtaTEKkuqioKOzfvx9eXl6wsrKCgYFBhf3sFKpOJpMhKysLtra2FbYnJCTA2dlZaWU4Ik1h8Up6LScnBxKJhHfFakB5eTkuX74MqVQKiUSCZs2aoWPHjlzbnOoUdgo1Iy8vD%2B%2B88w5cXFywcuXKCvtGjhwJU1NTbN%2B%2BnbO3UK1g8Up658GDB1iyZAlOnTqlmB7LxMQEffv2xaJFi3jjQQ1cvHgR06dPR05ODho2bAi5XI6CggK88sor2LhxI5ydnYWOSEQatGLFCiQnJ2PLli1Kc%2BYWFRVh8uTJ6NmzJ6ZPny5QQtJlLF5J77z33nuQSCQYN24crK2tAQAZGRn44YcfYGBggB9%2B%2BEHghOIzaNAgDBw4EFOmTFEsuZuXl4dvv/0WJ06cQExMjMAJiZ6voKAAR48eRVhYGA4cOCB0HFEYMGAANmzY8NxOdlJSEubMmYNjx45pORnpAw5IIb1z5coVnD59WlFkAU8vJXbt2hV9%2BvQRMJl43bt3D7NmzapwibBRo0YICAjAnj17BExG9Hznz59HWFgYfvrpJ5iamsLX11foSKLx4MEDtGvX7rn7HR0dce/ePS0mIn3C4pX0jq2tLYqLiysUr8DTqYf%2BfeMBqaZLly5ITk5WGh6QmpqKLl26CJSKSFlWVhYOHTqEgwcPQiqVoqSkBMuXL4e3t7fSNE/0fC%2B99BJycnKeO8xKKpWiQYMGWk5F%2BoLDBkjv/PTTT/jxxx/x7rvvomXLligvL8ft27exb98%2BeHt7o1OnTopjW7VqJWBS8fj%2B%2B%2B/xww8/wNPTE61atUJZWRnS09Nx8uRJjBo1qsK0RKNHjxYwKemrmJgYhIaGIi4uDp07d4avry/eeOMN9O7dGxEREXzjWk0ff/wxrK2tMWfOnEr3z507F3K5HKtXr9ZyMtIHLF5J71S1pvmzuUt557HqVJ2XVCKR4MSJE7WchkiZo6Mjhg0bhnnz5qFZs2aK7a6urixeayAtLQ2jRo2Ch4cHxo4dq3jTeuPGDezYsQOXL1/GgQMH2ACgWsHilfQO5ycl0j%2BrV6/G4cOHUa9ePXh5ecHb2xsODg4sXtWQlJSEZcuWISEhQTElnlwuh5ubGxYsWPDCMbFE6mDxSnqJc5Jq3l9//YVffvlF8ZxaWVnB09MTDg4OQkcjAvD05/6XX35BaGgoTp06hVdffRXXr19HSEgInJychI4nWg8fPkR6ejokEgns7Ow4bzbVOhavpHc4J6nm7du3D4GBgXBycoK1tTXkcjkyMzPx119/YenBi2EMAAAIXElEQVTSpfDz8xM6IlEF9%2B/fx8GDBxEWFoY7d%2B7Aw8MDo0aNUnkIDBEJh8Ur6R3OSap5vXr1QmBgIAYMGFBh%2B/Hjx7F48WKcPXtWoGREVTt//jxCQkIQGxuLixcvCh2HiKrA4pX0jouLCy5cuKC0bOGTJ0/g5uaGy5cvC5RMvLp06YLff/9daS3z0tJS9OjRA/Hx8QIlI1JdQUEBzMzMAABDhgzhBPtEdZSB0AGItO3ZnKT/xjlJa87X1xeHDx9W2h4VFQUvLy8BEhFV37PCFajejZ1EpF3svJLe4ZykmvfZZ58hJiYG1tbWiuf09u3buHPnDvr06QMDg/%2B9T161apWASYlU4%2BLiwqswRHUUi1fSOy%2B6ISM/Px/m5uYAOCdpdcyfP1/lY7/44otaTEKkGSxeieouFq%2Bk9%2BRyOeLi4hAaGooTJ07wPywN27t3L9555x2hYxBVC4tXorqrXtWHEOmmzMxMHDx4EIcOHUJ2djY8PT2xfv16oWOJ1vXr13Ht2jXIZDLFtqysLOzcuZPFKxERaQyLV9IrMpkMsbGxCAkJwfnz5%2BHi4gKpVIqQkJAql42l59u3bx%2BWLVuGJk2a4P79%2B7CysoJUKkWLFi0QEBAgdDwiItIhnG2A9MayZcvQu3dvrF27Fl26dEF0dDT27t2LevXqwdTUVOh4orZ9%2B3bs2LEDv/32G%2BrXr49ffvkFv/76K9q3b48OHToIHY%2Bo2jiijqjuYueV9MaePXswbNgwBAQEwM7OTug4OuXBgwfo0aMHAMDAwAByuRxNmzbFvHnzMHXqVBw5ckTghET/U1ZWBqlUiuLiYqV9rVq1AgD8%2BOOP2o5FRCpi8Up6Y9u2bQgNDYWXlxecnJzg4%2BODIUOGCB1LJ1hbW%2BPcuXPo0aMHmjZtivj4eHTr1g0NGzZERkaG0PGIFCIiIrBs2TIUFBQAeNphlUgkij%2BTkpIAgMtEE9VhnG2A9E5OTg7Cw8MRFhaGtLQ0lJeXY%2BnSpRgxYoTSClGkmoiICMyfPx/nzp3Dnj17sG3bNnTt2hWpqamws7PDtm3bhI5IBADo06cP/Pz8MGTIEJiYmCjtb9GihQCpiKg6WLySXrt06RJCQkJw7NgxmJiYwNvbG59%2B%2BqnQsUQpIyMDNjY2AICQkBAkJibCxsYGb7/9Nho2bChwOqKnunTpgvPnz8PQ0FDoKERUQyxeiQAUFhbi6NGjCAsLw/79%2B4WOI1olJSWQSqWQSCSwsrJigUB1zieffAJfX1/06tVL6ChEVEMsXolIbXl5eViyZAliY2NRWloKADA2Nsbw4cOxaNEiGBsbC5yQ6Klvv/0We/fuhaurK2xsbCosXQwAc%2BbMESgZEamKxSsRqW3OnDmQSqWYPHky7O3tAQApKSnYsmULOnXqhAULFgickOip995777n7JBIJdu3apcU0RFQTLF6JSG3dunVDTEwMLCwsKmzPysrCmDFj8PPPPwuUjEh1SUlJcHJyEjoGEVWBt1YTkdoMDQ3RoEEDpe3m5uYoLCwUIBHR88nlcmRmZiotZezv74%2BEhAQBkxGRKli8EpHaOnfujMDAQMybN0/RfX348CGCgoLQsWNHgdMR/U98fDxmzZqFnJwcAP%2Bb5xUABgwYIGQ0IlIRhw0QkdqysrIwbdo0JCUlwdzcHMDTm7gcHBywefNmrmhGdcbIkSPRv39/DB06FN7e3oiKisLVq1cRFRWFRYsWwdLSUuiIRFQFFq9EpBaZTIasrCzY2toiOTkZGRkZkMlksLS0hKurK6fLojrF1dUVCQkJkEgkcHZ2xpUrVwA8nfN57dq12Llzp8AJiagqHDZARDWWl5eHd955By4uLli5ciUcHR3h6OgI4GmHy9TUFNu3b4eRkZHASYmeatSoEbKzs2FpaQlzc3Okp6fD1tYW7du3x6VLl4SOR0QqMKj6ECKiym3YsAEWFhZYuHCh0r49e/b8X3t37JJaHEBx/LQ2NbUIxiUUQshwkBy6U4sQStQQ2BjU4iJRc0RLk2ANIoiDlEWIQ9Q/IYg1tEQN4nLBWmyU%2B4bHk/eeiWXg9db3M17vcMaDnPv7ybZt5XI5B5IB71tZWdHa2pra7baWlpaUTCaVz%2Be1t7fXvSEOwHhjNgBgaMvLyzo5Oen%2B2/q/h4cHpVIp3d7ejjgZ0F%2BlUlE8Htfb25sODg50f38vj8ej3d1djsoCXIDyCmBof%2B8H32PbtkKhkGq12oiTAQC%2BKzavAIY2OTmp19fXnssJ/rAs693zXwEnnZ%2Bf6%2BbmRs1mUxMTE/J6vVpdXVUsFnM6GoAPYPMKYGiRSESFQqHv78fHx1pcXBxdIGCAdDqt09NTzc/Pa2dnR9vb2/L7/To6OlKpVHI6HoAPYDYAYGjPz89aX1%2BXaZpKJBIyDEOdTkePj4/K5/Oq1%2Bu6vLyUYRhORwUkSaZpKpvN9mxb7%2B7utL%2B/zz4bcAFmAwCGZhiGisWiDg8Ptbm52d2%2B2ratcDisYrFIccVYabfb8vl8Pc8DgYAsy3IgEYDPorwC%2BJK5uTmdnZ3p5eVFjUajuyGcmppyOhrQw%2Bfz6erqShsbG/88L5fLmpmZcSgVgM9gNgAA%2BDGq1aq2trbk8Xg0OzsrSXp6elKj0VAmk5Fpmg4nBDAI5RUA8KO0Wi1dX193rzL2er2KRqOyLEsLCwtOxwMwAOUVAABJwWBQ9Xrd6RgABuCoLAAA9PtDQwDjj/IKAIDU96Y4AOOF8goAAADX4KgsAMC3d3FxMfCdTqczgiQAvoryCgD49rLZ7MB3pqenR5AEwFdx2gAAAABcg80rAAAAXIPyCgAAANegvAIAAMA1KK8AAABwDcorAAAAXIPyCgAAANegvAIAAMA1fgHBABDqauHZcwAAAABJRU5ErkJggg%3D%3D\" class=\"center-img\">\n",
              "    <img src=\"data:image/png;base64,iVBORw0KGgoAAAANSUhEUgAAAq8AAAJkCAYAAAA/TsjqAAAABHNCSVQICAgIfAhkiAAAAAlwSFlzAAAPYQAAD2EBqD%2BnaQAAADl0RVh0U29mdHdhcmUAbWF0cGxvdGxpYiB2ZXJzaW9uIDMuMC4zLCBodHRwOi8vbWF0cGxvdGxpYi5vcmcvnQurowAAIABJREFUeJzs3XlcVGX///EXIIKCoii4Ym6hqKi4b7lgpeFCmrtptLikuGWL3WUumdadpikuqYna4k2aqaV9TdR%2Btli3piYRqAnlDpgMCYIIzO8PYm5HQdDBGSbfz8djHsB1nXOdz1yM%2BJnPXOccB6PRaERERERExA442joAEREREZGiUvIqIiIiInZDyauIiIiI2A0lryIiIiJiN5S8ioiIiIjdUPIqIiIiInZDyauIiIiI2A0lryIiIiJiN5S8ioiIiIjdUPIqIiIiInajlK0DEBEpbkePHmXz5s0cPnyYM2fOkJ6ejouLC97e3jRp0oSgoCACAwNxcHCwdagiInKbHIxGo9HWQYiIFAej0cgbb7zBBx98AICHhwe%2Bvr64u7uTmppKTEwMqampAHTr1o3FixdTunRpW4YsIiK3ScmriPxjfPTRR8yePRtXV1dmzZpFnz59cHJyMvVnZGTwn//8h7feeoucnBxGjx7N1KlTbRixiIjcLq15FZF/jA0bNgAwcuRIHn30UbPEFcDV1ZWQkBBGjRoFwIcffkhGRobV4xQRkTun5FVE/jFOnToFQIMGDW65XUhICKtXr2bXrl24uroCMG3aNBo0aMBbb71FWloa8%2BbNIzAwEH9/f9q1a0doaCjHjx8vcMz9%2B/cTGhpKp06daNKkCe3atSMkJITPP/%2B8wH0MBgMLFy7k0UcfJSAggMaNG9OhQwfGjh3Ljz/%2BmO8%2BgYGBNGjQgH379rFr1y6CgoLw9/fnp59%2BAmDJkiU0aNCAadOmkZmZyZIlS%2BjRowdNmzalS5cuvP7661y5cgWAEydOMHHiRDp27Ii/vz99%2BvRh27Zt%2BR43PT2dVatWMWjQIFq1akWjRo1o27YtTz75JLt27cp3nxEjRtCgQQM2bNhAWloaCxcuNMXSunVrRo0axS%2B//FLg/IiI5EfJq4j8Y3h6egJw5MiRQrd74IEHqFy58k19aWlphISEsGHDBipWrEjr1q3Jzs5m165dDBw4MN9ka%2BHChYSEhLBr1y7c3d1p27Ytnp6e7N%2B/n%2Beff57JkyeTnZ1ttk9SUhL9%2B/dnxYoVxMXF0ahRI9q1a0fp0qXZu3cvTzzxBJ9%2B%2BmmBzyEuLo4pU6bg7OxMu3btTEn49V544QXWrFlDjRo1uP/%2B%2B0lMTOTDDz/kpZde4vjx4wwdOpTY2FgaNmyIl5cXx48f54UXXuDrr782Gyc9PZ1hw4Yxf/58oqOjqVevHu3bt8fDw4Pvv/%2Be0NBQlixZUmCsmZmZhISEsG7dOqpVq0bjxo3Jzs5m3759jBgxwvSmQ0SkSIwiIv8QL730ktHX19fYoEED41tvvWVMSEi47X1btGhh7N27t9m%2Bf/31l3HAgAFGX19f44ABA8z2%2B%2Bqrr4y%2Bvr7G1q1bG3/88Uezvv/%2B97/GDh06GH19fY3h4eFmfXPmzDH6%2Bvoae/ToYbx48aKpPSsry/jGG28YfX19jS1btjSmpqaa7detWzejr6%2BvMTAw0Lh8%2BfKbnsfixYuNvr6%2Bxk6dOhn79u1rTEpKMvXt2rXLND89e/Y0LlmyxJiTk2M0Go3G7Oxs4/jx442%2Bvr7Gp59%2B2mzM8PBwo6%2Bvr7Fdu3bG%2BPj4fPv8/PyMp06dMut7/PHHjb6%2BvsauXbsahw0bZvzzzz9NfYmJicaOHTsafX19jXPnzr3peYiIFESVVxH5x5g8eTLVqlXDaDTy/vvv07VrVx5//HEWLVrE999/T3p6eqFjpKamMnPmTLy9vU1t5cqVY9q0aUDuZbh%2B//13U9/y5csBeOmll2jTpo3ZWK1bt%2BbFF18EYN26dWZ93t7e9OrVi9DQUCpVqmRqd3JyYsqUKTg6OnL58uUCq8h5J5wVJDExkVmzZplVlx988EG8vLwwGo2UKlWK8ePHmy4X5ujoyODBgwH49ddfzcZyc3OjT58%2BjB07ltq1a5v1PfHEE3h5eZGdnc3%2B/fvzjSUpKYl33nnHVBkH8PLyok%2BfPgD8/PPPBT4PEZEb6TqvIvKPUbVqVTZu3Mjbb7/NF198QXZ2NgcOHODAgQMsX74cZ2dn2rZtS9%2B%2BfenVqxelSt38J9Db25uWLVve1B4QEICbmxtpaWkcOXKE2rVrk5CQQHR0NAAPPfRQvjE9%2BOCDODg4cO7cOeLj46lTpw6A6aSx/JQpU4ZKlSqRlJREUlJSvtu0a9cOR8eC6w9eXl40b978pvYaNWqQlJREt27dbrrObY0aNQBISUkxax84cCADBw7M9zgODg7UrFnzlrG2adOGKlWq3NReq1YtAJKTkwt8HiIiN1LyKiL/KF5eXvz73//mxRdfZNeuXezfv5%2BDBw/y559/cu3aNb799lu%2B/fZbVq1axbJly0wJVB5fX998x3V0dKRGjRocP36cM2fOAJidwJVXmc1PqVKluHbtGr///rspeYXctaD/7//9P3755RcSExP566%2B/MP599cLLly8DuRXW/OSXDF6vZs2a%2BbbnXdc2L1HNry8rK%2BumvpycHL777jsOHz5MYmIiBoPBFFt8fPwtY/Xx8cm33cXFBYBr167d6qmIiJhR8ioi/0iVK1dm6NChDB06FMg9wenHH39k69atHD58mBMnTjB69Gg%2B//xznJ2dTft5eHgUOGa5cuWA3JO6wLxCuXv37kJjyktIAWJjYxk/frwpEb5dt4oTMHtOd9J/vXPnzjF%2B/PiblhMUlW4EISLFScmriNwT6tatS926dRk6dCjr1q1j7ty5xMfHs2PHDoKDg03b3eqj%2BLzKYt42eR%2B7Ozs7ExUVVeTbzWZkZPDss89y7tw5ateuzbhx42jfvj0VK1Y0JZWBgYGcPXu2wDGseWvbiRMn8uuvv1K5cmUmTJhA586dqVy5sikpHTFiBP/973%2BtFo%2BI3NuUvIrIPeeJJ57gww8/5NSpU5w4ccKsL%2B/2sfnJ68urwFaoUAHI/dg7OTnZ7ISkW9m3bx/nzp3DwcGBlStXct999920TUm5eUJ0dDRRUVEAzJ8/n/bt29%2B0TUmJVUTuDbragIj8I%2BzatYvXXnuNlStXFmn7vI/d89Zd5vntt9/y3T47O9tUCc1bw3n9%2Btgbk%2BBbybtaQa1atfJNXE%2BdOsWff/5Z5PHupj/%2B%2BAPAdD3ZG6Wlpd3y5g0iIsVNyauI/CNERUURERHBypUrOXfu3C23TUhIIDY2FuCmM/JPnz5NTEzMTfv89NNPpjtTBQQEALknhzVu3BiATz75JN9jxcfHExwcbLqkFvyvcnv16tV891m6dKnp%2BxtvbmBt7u7uQO6SifxOrHr//fdNldf8TvQSESluSl5F5B/hySefxMvLi8uXL/PEE0/ke3tVo9HIDz/8wDPPPMO1a9do3rw5HTt2NNumXLlyvPrqq2aVT4PBwJtvvgnkXqKqevXqpr6xY8cC8MUXX7B27VrT1QIgt2o5ceJEYmNjOX/%2BvKm9YcOGAFy4cIHIyEhTe3p6OnPmzCEqKsqUIMfFxd3xnBQHX19fnJycyM7O5uOPPza1Z2Vl8d577xEREUG3bt2A/111QETkbtKaVxH5R6hYsSJr1qxhwoQJ/P7774wcORIvLy/q1q1L2bJlMRgMnDlzxnQt0pYtWxIWFnbTCVqBgYGcPn2a7t274%2B/vj7OzMz///DOpqam4u7vz2muvmW3/8MMPM3r0aFauXMm8efNYv349devWJTk5mZiYGLKzs2nUqBHPP/%2B8aZ%2BAgAA6derEt99%2By4QJE2jWrBkuLi788ssvlCpVivDwcLZv387hw4dZv349x44d49lnn6V169Z3fyJvULVqVQYMGEBERATz5s1j27ZtVKhQgZiYGNLS0ggLC%2BPMmTPs3buXnTt3MmLECIYNG8Yjjzxi9VhF5N6g5FVE/jF8fX35/PPP2b59O3v27CE2NpajR4%2BSmZmJq6srVapUoX379gQFBdG1a9d8z9h3dHRkzZo1LFu2jK%2B%2B%2Bopz587h5uZGjx49mDJlitl1WvNMnTqVDh068OGHH3LkyBH279%2BPi4sLTZo0ISgoiGHDht10uahFixYxf/58du/ezS%2B//IK3tzc9evRg7Nix1KpVi6pVq/Lrr79y6NAhTpw4YdWrC9zo1VdfxcPDgy%2B%2B%2BILjx49TqVIl2rZty5gxY/Dz8yMjI4Mff/yRffv2ceLECbPqs4hIcXMw6q%2BMiAjTpk3js88%2Bo1%2B/fqYlAiIiUvJozauIiIiI2A0lryIiIiJiN5S8ioiIiIjdUPIqIiIico/75ptv6NChA1OmTLnldjk5OSxcuJDu3bvTunVrnn76aU6fPm3qNxgMTJ48mQ4dOtCpUydeeeWVYr8Ln07YEhEREbmHrVq1ik2bNuHp6UnVqlVZuHBhgdt%2B8MEHhIeHs2rVKqpUqcLChQs5cOAAW7duxcHBgQkTJpCZmcm8efO4du0akyZNokmTJrz66qvFFq8qryIiIiL3MBcXFzZt2pTv7apvFBERQUhICPXq1cPd3Z0pU6Zw8uRJfv75Zy5evEhkZCRTpkzB09OTKlWqMG7cOD799NN879B3p3SdVxERERE7lpiYaLoBSx4vLy%2B8vb2LtP/IkSOLtF1GRga//fYbjRo1MrW5u7tz3333ERUVxeXLl3FycqJBgwam/saNG3PlyhXi4uLM2i2h5FXuLhteWL3I6tSBEyfg/vvBDm5v%2Bdnmkr/Sp2xZePhh%2BOoruHLF1tHcWr9D020dQuEqVoTJk2HRIkhOtnU0hUp96XVbh1AoB4fc1%2BmVK2APi%2BfcHdJsHULhHBygTBlIT7ePSXVzs81x78L/ixGLFxMWFmbWFhoayoQJE4r1OCkpKRiNRjw8PMzaPTw8SE5OpkKFCri7u5vdVCVv2%2BRi/Nul5FWkQgVwcsr9KsXC2Tn377Ozs60j%2BYdwdQVHx9yvUiwcHP73sIc8yy5oUm1m8ODBBAYGmrV5eXndtePd6nQpa5xKpeRVRERExFoci/90I29v7yIvEbBEhQoVcHR0xGAwmLUbDAYqVaqEp6cnqampZGdn4%2BTkZOoDqFSpUrHFoRO2RERERKRQLi4u3H///URHR5va/vrrL06dOkXTpk3x8/PDaDQSGxtr6o%2BKiqJ8%2BfLUqVOn2OJQ8ioiIiJiLY6Oxf%2B4ixISEujZs6fpWq5Dhw5l/fr1nDx5ktTUVObPn4%2Bfnx/%2B/v54enrSo0cPFi1axKVLl7hw4QJLly5lwIABlCpVfB/2a9mAiIiIiLXc5WTzTvj7%2BwOQlZUFQGRkJJBbNb127Rrx8fFkZmYCMGTIEJKSkhgxYgRpaWm0bdvW7GSx2bNnM2PGDLp3746zszO9e/cu9MYHt0vJq4iIiMg9LCoqqsC%2BmjVrcuzYMdPPDg4OTJw4kYkTJ%2Ba7fbly5XjnnXeKPcbrKXkVERERsZYSWHm1N5pBEREREbEbqryKiIiIWIsqrxZT8ioiIiJiLUpeLaYZFBERERG7ocqriIiIiLWo8moxzaCIiIiI2A1VXkVERESsRZVXiyl5FREREbEWJa8W0wyKiIiIiN1Q5VVERETEWlR5tZhmUERERETshiqvIiIiItaiyqvFlLyKiIiIWIuSV4tpBkVERETEbqjyKiIiImItqrxaTMmriIiIiLUoebWYZlBERERE7IYqryIiIiLWosqrxTSDIiIiImI3VHkVERERsRZVXi2m5FVERETEWpS8WkwzKCIiIiJ2Q5VXEREREWtR5dVimkERERERsRuqvIqIiIhYiyqvFlPyKiIiImItSl4tphkUEREREbuhyquIiIiItajyajHNoIiIiIjYjXsmed28eTMdO3YE4MCBA/j7%2B5OZmWnjqEREROSe4uhY/I97TIl8xt9%2B%2By0NGjRg1qxZd2X81q1bExUVRenSpe/K%2BHkMBgMbN240/Xx9Ai0iIiL3ICWvFiuRz3jjxo306tWL7du3c/XqVVuHc8d%2B%2BOEHs%2BRVRERERCxT4pLX5ORk9uzZw8SJE6lYsSK7du0y9QUGBrJ27VqefPJJmjZtysMPP8yhQ4cAOHPmDA0aNGDnzp306tWLpk2b8vjjj5OUlHTTMX788UcaNGhgSoxPnz7NU089RUBAAN26dWP9%2BvWmbaOiohg2bBitWrWiQ4cOzJgxg2vXrpnGadmyJfv27aNnz540b96cp59%2BmpSUFL788kuee%2B45jh49ir%2B/P6dPn74pjhEjRrBixQpeeOEFWrRowQMPPMDWrVtN/beK68KFCzz77LO0bduWli1bMmXKFAwGgymuFi1asHv3bgIDAwkICGDRokVERUXRt29fAgICCA0NNT2PnJwcFi9ezIMPPkizZs147LHH%2BOmnn%2B74dygiIiIFUOXVYiXuagNbt27Fz8%2BP2rVr06dPHzZt2kTv3r1N/eHh4bz77rv4%2BfmxePFixo8fzzfffGPq//DDD1mzZg2urq6EhoYyc%2BZMli5destjhoaG0qZNG5YuXcrvv//O8OHDqVevHh07dmTKlCn07duXDz74gISEBIYMGUL9%2BvUZMWIEAOnp6Wzfvp2IiAjS09MZMGAAn3zyCaNGjeK3337jm2%2B%2B4ZNPPgFy19re6KOPPmLu3LnMnTuXFStWMHv2bIKCgnB2dr5lXOPGjaN%2B/frs3r2bjIwMJk2axIwZM3j33XdNce3fv5/t27ezc%2BdOpk2bxrFjx1i7di0pKSn07duXPXv20KNHD9atW8f27dtZvXo11atXJyIigmeffZavv/6asmXLFvl3l5iYeNObBa86dfCuUKHIY9hEw4bmX0s4Dw9bR1A4d3fzryVatWq2jqBwlSubfy3h7OH/UgeH/321h3hxsIMg7WlSc3JsHYFYoMQlr5s2bWLo0KEABAcHs3TpUs6cOUPNmjWB3Opr8%2BbNARgzZgzvv/8%2BP//8M1WqVAFg2LBhpu9DQkKYPHkyObd4kf76668cO3aMdevWUaZMGfz8/AgLCzONsWXLFkqXLo2TkxPVq1endevW/PLLL6b9s7OzeeaZZ/Dw8MDDw4OWLVsSFxdX5OcbEBDAAw88AMAjjzxCWFgYiYmJpKSkFBhXTEwM0dHRvPfee7i7u%2BPu7s7o0aMZP3686SS0nJwchg0bRpkyZQgMDMRoNNKjRw88PT3x9PSkbt26/PHHH6Y5DwkJoXbt2kBuRXjdunV8/fXXBAUFFfm5REREEBYWZtYWOmkSEyZNKvIYNvXxx7aOoEgCbR3AbWjTxtYRFEHgOFtHUHSDBtk6giIp%2Blte2ytTxtYRFJXdBAqurraOoHBpabY7dklP7O1AiUpejxw5wu%2B//84jjzwCgI%2BPD82bN2fz5s1MnDgRgDp16pi2L1%2B%2BPOXKlSMxMdGUbF7fX6NGDTIzM00fp%2Bfn1KlTuLu7U%2BG66mCHDh1M3//www%2BmymdWVhZZWVn07NnTbIy8xBqgTJkyZGRkFPk5X7%2Bv69//4DMyMm4Z165du/Dw8MDLy8vUV6tWLa5du0ZCQoKprdrfFSUXFxcA0xzlteUtmzh16hRvvPEGc%2BfONfXn5ORw/vz5Ij8PgMGDBxMYaJ5aefXpA%2BvW3dY4VtewYW7iOmwYxMbaOppC7Zl/yNYhFMrdPTdx/e9/ITXV1tHcWmDsMluHULjKlXMT108%2BgYsXbR1Noa6ElPw3BA4OuYlrejoYjbaOpnBlHdJtHULhHBxyE9eMDPuYVFtR8mqxEpW8bty4kaysLLp3725qy0vIQkNDAW6qohqNRhzyPqq4od9YhH88jo6OBVZmT548yaRJk3jppZcYNGgQrq6uvPDCC2RlZd00xp0qaN9bxXWrS3xdPxc3jl3QsVxdXZkzZw49evQoLNxb8vb2xtvb27wxPt6iMa0qNhYOH7Z1FIVKSbF1BEWXmmoH8d7mmzSbunjRLuK1h09k8/4cGo32ES8OdhCk3U2q2KsSk7ympaWxY8cOZs2aRbt27UzteetI9%2B/fD%2BRWCfOkpKSQmppK1apVTW2nTp2iUaNGAJw9exZXV1cqVqxY4HF9fHxIS0sjMTHRlHhFRkZSvnx5EhMTKV26NCNHjgRyk%2BGYmBjuv//%2B4nvidxCXj48PKSkpXLx4kcp/r4GLi4vDxcWFKlWqcPbs2ds%2B1rFjx8yS1%2BuXaoiIiEgxUeXVYiVmBnfs2IGLiwv9%2BvXjvvvuMz0aNmxIYGAgmzZtAmDv3r1ER0dz9epV3nvvPSpXroy/v79pnA0bNnDx4kUMBgPr1q2jS5cuZtXIG/n5%2BdGoUSMWLVpEWloax48f55VXXiEjI4MaNWqQkZFBTEwMKSkpvP3225QuXZrExMQiVXVdXFxISkrCYDDc9g0RbhWXv78/9erVY8GCBVy5coWEhASWL19Or169cHZ2vq3jAAwZMoSPPvqII0eOkJ2dzY4dO%2Bjduzfnzp277bFERERE7qYSk7x%2B%2Bumn9OnTJ98bBzz22GNERkZiMBh47LHHmD9/Pq1btyYyMpKwsDCcnJxM2/bt25cnnnjCdBLUjBkzCj32ihUrOHv2LB06dGDs2LGMGzeOzp07ExAQwPDhw3n88cfp1asXNWrU4F//%2BhfHjx9nypQphY774IMPYjQa6dq1q9lJXkVVUFwODg4sW7aMxMREunbtyqBBg2jWrBmvvfbabR8DYMCAAQwbNozQ0FBatmzJ6tWrCQsLo3r16nc0noiIiBRAl8qymIOxKCXEEiIwMJBRo0aZrkZwvTNnztC9e3d27NhBvXr1bBCd5OsWVe8SIyAADh2CFi3sYs3rZ5tL/j9ZDw8IDIQ9e0r%2Bmtd%2Bh6bbOoTCVasG48bBsmV2seY19aXXbR1CoRwdoWxZuHLFPpZnujvY8Oz4onJ0/N9ZcPYwqW5utjnu3bjT5nffFf%2BYJViJWfMqIiIiItZ39uxZZs2axc8//0zZsmUJCgpi6tSpN53o/dRTT910zfqsrCzGjx9PaGgoI0aM4NChQ2b71alTh23bthVrvEpeRURERKylBH7MP2HCBBo3bkxkZCR//vknY8aMoXLlyjz55JNm261Zs8bs57/%2B%2BougoCAeeughU9vrr79O//7972q8dpW87tmzp8C%2BmjVrcuzYMStGIyIiImLfoqKiiI2NJTw8nHLlylGuXDlCQkJYt27dTcnrjRYtWsRDDz1EgwYNrBRtLrtKXkVERETs2l2ovOZ7e3Yvr5uvvZ6P6OhoatSogcd19x5v3Lgx8fHxpKam4l7Afb7/%2BOMPtmzZQmRkpFn7jh07WL16NefPn6dZs2bMnj2bWrVq3cGzKljJq12LiIiI/FPdhasNRERE0L9/f7NHREREkcIxGAyUL1/erC0vkU1OTi5wv5UrV/LYY4/h6elpaqtXrx73338/H3/8Mbt378bT05Nnnnnmti8XWhhVXkVERETsWL63Z7/uFvKFud0LTxkMBrZu3cqXX35p1j5z5kyzn2fPnk3btm356aefaN%2B%2B/W0d41aUvIqIiIhYy11YNpDv7dmLyNPTE4PBYNZmMBhwcHAwq6peb/fu3dSpUwcfH59bju3u7o6HhwcJCQl3FFtBtGxARERE5B7VpEkTzp8/z6VLl0xtUVFR1K9fH7cCroW7e/duOt5wvdrU1FRmzpxplqheunSJS5cuFZrk3i4lryIiIiLWUsLusNWoUSP8/f1ZsGABqampnDx5kvDwcNMNoXr27MnBgwfN9omJiaFmzZpmbe7u7vz888/MmTMHg8FASkoKs2bNokGDBgQEBFgU442UvIqIiIhYSwlLXgEWL15MYmIiHTt2ZOTIkTz66KMMGzYMgPj4eK5cuWK2fVJSEpUrV75pnKVLl2I0GunRowddu3bl2rVrrFy58qabHVhKa15FRERE7mFVq1Zl1apV%2Bfbldw39X375Jd9tq1evTlhYWLHGlh8lryIiIiLWUgLvsGVvNIMiIiIiYjdUeRURERGxFlVeLabkVURERMRalLxaTDMoIiIiInZDlVcRERERa1Hl1WJKXkVERESsRcmrxTSDIiIiImI3VHkVERERsRZVXi2mGRQRERERu6HKq4iIiIi1qPJqMSWvIiIiItai5NVimkERERERsRuqvIqIiIhYiyqvFtMMioiIiIjdUOVVRERExFpUebWYklcRERERa1HyajHNoIiIiIjYDVVeRURERKxFlVeLaQZFRERExG6o8ioiIiJiLaq8WkzJq4iIiIi1KHm1mGZQREREROyGKq8iIiIi1qLKq8WUvMpd9dlmo61DKJSHBwQCe%2BYfIiXF1tEUrl9/B1uHULiAADh0iMDnW8Dhw7aO5tb27bN1BIVzc8v92q4dpKXZNpYiKFPG1hEUnYuLrSMoGqOjm61DKBIHwOhqHy8AO/hLKgVQ8ioiIiJiLaq8WkzJq4iIiIi1KHm1mGZQREREROyGKq8iIiIi1qLKq8U0gyIiIiJiN1R5FREREbEWVV4tpuRVRERExFqUvFpMMygiIiIidkOVVxERERFrUeXVYppBEREREbEbqryKiIiIWIsqrxZT8ioiIiJiLUpeLaYZFBERERG7ocqriIiIiLWo8moxzaCIiIiI2A1VXkVERESsRZVXiyl5FREREbEWJa8W0wyKiIiI3MPOnj3L6NGjadu2Ld26dePtt98mJyfnpu2WLFmCn58f/v7%2BZo%2BLFy8CcPXqVV577TU6d%2B5M27ZtmThxIsnJycUer5JXEREREWtxdCz%2Bh4UmTJhAlSpViIyMJDw8nMjISNatW5fvtsHBwURFRZk9KleuDMDChQuJjo4mIiKCnTt3YjQaefnlly2O70ZKXkVERETuUVFRUcTGxvL8889Trlw5ateuTUhICBEREbc1TlZWFps2bWLcuHFUq1aNChUqMHnyZL7%2B%2BmsSEhKKNWateRURERGxlruw5jUxMZGkpCSzNi8vL7y9vQvdNzo6mho1auDh4WFqa9y4MfHx8aSmpuLu7m62/bFjxxgyZAjHjx%2BnWrVqvPzyy3Tq1IlTp05x%2BfJlGjdubNq2Xr16uLq6Eh0dTZUqVSx8lv%2Bj5FVERERyCC0UAAAgAElEQVTEWu5C8hoREUFYWJhZW2hoKBMmTCh0X4PBQPny5c3a8hLZ5ORks%2BS1atWq%2BPj4MHXqVLy9vYmIiGDs2LFs27YNg8EAcNNY5cuXL/Z1r0peRUREROzY4MGDCQwMNGvz8vIq8v5Go7FI2w0cOJCBAweafg4JCWH79u1s27aNzp0739ZYllDyKiIiImItd6Hy6u3tXaQlAvnx9PQ0VU3zGAwGHBwc8PT0LHT/GjVqkJiYaNrWYDDg5uZm6k9JSaFSpUp3FFtBdMKWiIiIiLWUsKsNNGnShPPnz3Pp0iVTW1RUFPXr1zdLQgGWLVvG/v37zdpOnjyJj48PPj4%2BeHh4EB0dbeo7fvw4mZmZNGnSxKIYb6TkVUREROQe1ahRI/z9/VmwYAGpqamcPHmS8PBwhg4dCkDPnj05ePAgkFtVnTVrFnFxcVy9epU1a9Zw6tQp%2BvXrh5OTE4MGDWLFihWcP3%2Be5ORk3nnnHR566CHTpbSKi5YNiIiIiFhLCbzD1uLFi5k%2BfTodO3bE3d2dIUOGMGzYMADi4%2BO5cuUKAFOnTgVy17oaDAbq16/P2rVrqVq1KgATJ04kLS2N4OBgsrKy6NatGzNnziz2eJW8ioiIiNzDqlatyqpVq/LtO3bsmOl7FxcX/vWvf/Gvf/0r321Lly7NjBkzmDFjxl2JM4%2BSVxERERFrKYGVV3uj5FVERETEWpS8WkwzKCIiIiJ2Q5VXEREREWtR5dVimkERERERsRuqvIqIiIhYiyqvFlPyKiIiImItSl4tphkUEREREbuhyquIiIiItajyarF7ZgbPnDlDgwYNOHnyJAD%2B/v589913No5KRERERG5HsSevcXFxTJ06lQ4dOtCsWTMCAwOZM2cOBoOhuA9lkaioKDp27HjXjxMeHk5WVhZwcwItIiIi9xhHx%2BJ/3GOK9RnHxMQwYMAAqlatyrZt2zh06BBLly7l2LFjDB06lIyMjOI8XIl36dIl3nrrLbKzs20dioiIiJQESl4tVqzPePbs2XTq1IkXXniBypUr4%2BTkhJ%2BfH8uXL6d58%2BYkJiZy4cIFnn32Wdq2bUvLli2ZMmWKWVV227ZtBAUFERAQQGBgIB9//LGpb9q0abz88svMnj2bFi1a0K5dO7P%2BwMBA1q5dy5NPPknTpk15%2BOGHOXToUL6xNmjQgH379gGQnp7O9OnTadu2Le3atWP69OlkZmYCuQnoxIkTad%2B%2BPa1atWLUqFGcP3/ebJyvvvqKoUOH0rx5c/r06cOvv/7KxYsX6dy5M0ajkVatWrF58%2BabYliyZAnPPvssq1atomPHjrRu3Zo5c%2BaY%2Bm8V19WrV5kzZw5du3alWbNmDB8%2BnJiYGLO4tm/fTv/%2B/WnatCmjR4/mwoULPP300wQEBNC/f3/OnDlj2n7Hjh0EBwfTvHlzunfvTkRERNF%2B6SIiIiJWVGwnbP35558cOnSIDz744KY%2Bd3d35s2bB0D//v2pX78%2Bu3fvJiMjg0mTJjFjxgzeffddTp8%2BzUsvvcT7779P%2B/bt%2BeGHH3jqqado0aIFDRs2BOD//u//ePnll/nhhx/Yt28foaGhZv3h4eG8%2B%2B67%2BPn5sXjxYsaPH88333xzy9jfeecdfvvtN7788ksAnnnmGZYuXcqUKVN4%2B%2B23SUtLY/fu3RiNRiZPnszcuXNZsmSJaf/Vq1fz5ptvUq1aNUJDQ1m4cCGrVq3i/fffZ%2BTIkRw8eBAXFxezZDHPoUOHaNq0KXv37uWnn34iJCSEvn370rRp01vGtXDhQg4cOMCHH35I5cqVWbBgAWPGjCEyMpLSpUsD8J///IcVK1Zw5coV%2BvTpw6hRo3jrrbeoVasWw4cPJzw8nOnTpxMVFcUrr7zCkiVLaN%2B%2BPYcPH2bUqFHcf//9tGjRosivgcTERJKSkszarl3zonJl7yKPYQvu7uZfS7yAAFtHULi//z2avpZkbm62jqBwZcqYfxUR%2B3UPVkqLW7Elr6dPnwagTp06BW4TExNDdHQ07733Hu7u7ri7uzN69GjGjx9PZmYmNWvW5IcffsDDwwOA9u3bU6lSJaKjo03JafXq1Rk0aBAADz74IH5%2Bfuzdu9fUHxgYSPPmzQEYM2YM77//Pj///DNVqlTJNyaj0ciWLVuYO3cunp6eAMydO5e//voLgFmzZpGVlUXZsmVNx1yxYoXZGMHBwdStW9d0/Pfff7/I8%2Bbk5MSYMWNwdHSkffv2eHp6cvLkSfz9/W8Z16ZNm5g9ezY1a9YEYPLkyXz44YccOnSIdu3aAdCrVy%2B8vXMTx7p169K4cWMaNWoEQJs2bYiLiwNg8%2BbNdO3alU6dOgHQqlUrHnnkEbZu3XpbyWtERARhYWFmbePHhzJo0IQij2FLbdrYOoIiKuDThBLpuk9GpBj4%2Bdk6giJxsnUAt8HJnoK1Ew4Oto6gcEajrSMQSxRb8urw96s1JyenwG3OnDmDh4cHXl5eprZatWpx7do1EhIS8PHxYcOGDWzatInExESMRiOZmZmmj8rh5uS4evXqJCYm5ttfvnx5ypUrR2JiYoHJa3JyMn/99ZcpCQRMiTDAH3/8wZtvvsnRo0fJyMggJyeHChUqmI1x/b5lypTh6tWrBc7BjapXr47jde/CypQpQ0ZGxi3jSklJ4fLly6aEGcDNzY1KlSpx9uxZU1u1atVM37u4uJjNgYuLi2leT506xf79%2B/H39zf1G41GUzJbVIMHDyYwMNCsLTraiz17bmsYq3N3z01c//tfSE21dTSFC3y%2B6G8obKZhw9zEddgwiI21dTS3tnq1rSMoXJkyuYlrTAykp9s6mkJlN7OD1yi5iau9nJJgL8U6BwclhoWyl19mCVZsyWutWrUAOHHiRIGJ4vVJ6I0cHBzYuHEjK1euZNmyZbRu3RonJye6dOlitt2NJz8ZjUZT4gw3J8839t8oL3HML%2BnOyclhzJgxtGzZkp07d%2BLp6cnGjRtZtGjRTbHfKccCXsS3iquweSworoKO5erqytChQ5k%2BfXqh8d6Kt7e3qdKb5/hxSEmxaFirSU21k1gPH7Z1BEUXG1vy401Ls3UERZeebl/xisjNlLxarNhmsGLFirRp04bw8PCb%2BtLT0%2Bnfvz9eXl6kpKRw8eJFU19cXJypKhgVFUWrVq1o164dTk5OJCUlmVVV4X/LE/KcO3eOqlWrmn4%2BdeqU6fuUlBRSU1PN%2Bm9UoUIFypcvT3x8vKktOjqarVu3cvHiRc6ePcuIESNMH93/%2BuuvRZwRy9wqrkqVKuHm5mb62B9yn%2Buff/5pehNxO2rVqsWxY8fM2i5cuKCrJIiIiEiJU6zp/yuvvMKRI0d47rnnuHDhAjk5OcTExPDMM8/g6upKQEAA9erVY8GCBVy5coWEhASWL19Or169cHZ2pkaNGsTFxZGSksLZs2eZM2cO1atXJyEhwXSMs2fPsmXLFq5du8auXbuIjY2la9eupv69e/cSHR3N1atXee%2B996hcubLZx%2BH56d%2B/P6tXryYhIYHk5GRef/11Tpw4gaenJ2XLluXIkSNcvXqVzz//nJiYGFJTU0krQvXD1dUVgPj4eK5cuXLb81lQXI6OjvTu3ZuVK1dy4cIFrly5wvz58/Hx8SHgDk7mGTBgAIcOHeLTTz8lMzOTmJgYBg4cyM6dO297LBEREbkFXSrLYsX6jBs2bMgnn3xCTk4O/fr1IyAggMmTJ9OuXTvWrFmDs7Mzy5YtIzExka5duzJo0CCaNWvGa6%2B9BsDQoUO577776NKlC6NHj%2Bbxxx/n8ccfJzw8nI8%2B%2BgiAzp07c/jwYdOlo2bOnImvr68phscee4z58%2BfTunVrIiMjCQsLw6mQFflTp06ladOmBAUFERQUxP33309oaCilSpVi5syZrFy5kg4dOnDgwAGWLFlC1apVefjhhwudDz8/PwICAhgwYAAbNmy47fksKC7IvWyYn58fAwcOpFu3biQlJREeHl7oc81P3huK1atX06pVKyZMmMDTTz9NUFDQbY8lIiIicjc5GI32s7R62rRpXL16lYULF%2BbbHxgYyKhRoxg6dKiVI5OCfPaZrSMonIcHBAbCnj32sea1X387OJU3ICD3qggtWpT8Na9/X%2B%2B5RHNzy53LQ4fsYs1rdocHbB1CkeiEreJnTyds2eyqCOvWFf%2BYTzxR/GOWYMV2wpaIiIiIFMJe3omUYJpBEREREbEbdlV5ffPNN2/Zv6ekX1BURERE7m2qvFpMMygiIiIidsOuKq8iIiIidk2VV4speRURERGxFiWvFtMMioiIiIjdUOVVRERExFpUebWYZlBERERE7IYqryIiIiLWosqrxZS8ioiIiFiLkleLaQZFRERExG6o8ioiIiJiLaq8WkwzKCIiIiJ2Q5VXEREREWtR5dViSl5FRERErEXJq8U0gyIiIiJiN1R5FREREbEWVV4tphkUEREREbuhyquIiIiItajyajElryIiIiLWouTVYppBERERkXvY2bNnGT16NG3btqVbt268/fbb5OTk5Lvthg0b6NGjBwEBAQQHBxMZGWnqmzZtGo0aNcLf39/0aNWqVbHHq8qriIiIiLWUwMrrhAkTaNy4MZGRkfz555%2BMGTOGypUr8%2BSTT5ptt3PnThYsWMB7771H06ZN2bJlC5MnT%2BbLL7/Ex8cHgGeffZYJEybc1XhL3gyKiIiI/FM5Ohb/wwJRUVHExsby/PPPU65cOWrXrk1ISAgRERE3bZuRkcFzzz1Hy5YtcXZ2ZuDAgbi5uXHkyBGLYrhdqryKiIiI2LHExESSkpLM2ry8vPD29i503%2BjoaGrUqIGHh4eprXHjxsTHx5Oamoq7u7upPTg42Gzfv/76i7S0NKpUqWJq%2B%2BGHH9i9ezd//PEH9erVY%2BbMmTRp0uROn1q%2BlLyKiIiIWMtdWDYQERFBWFiYWVtoaGiRPr43GAyUL1/erC0vkU1OTjZLXq9nNBp59dVXadasGW3atAHAx8cHR0dHJk2ahJubG2FhYTz11FPs3LmTihUr3slTy5eSVxERERE7NnjwYAIDA83avLy8iry/0Wi8reNdu3aNadOm8dtvv7F%2B/XpT%2B/jx4822e%2BGFF/jiiy%2BIjIxk4MCBt3WMW1HyKiIiImItd6Hy6u3tXaQlAvnx9PTEYDCYtRkMBhwcHPD09Lxp%2B4yMDMaNG0d6ejofffTRLSuqTk5OVKtWjcTExDuKrSA6YUtERETEWkrYCVtNmjTh/PnzXLp0ydQWFRVF/fr1cXNzM9vWaDQyZcoUSpUqxdq1a80SV6PRyLx584iNjTW1ZWZmcurUKdOVCIqLklcRERGRe1TedVkXLFhAamoqJ0%2BeJDw8nKFDhwLQs2dPDh48CMDnn3/Ob7/9xrvvvouLi4vZOA4ODpw5c4ZZs2aRkJBAWloa8%2BfPx9nZmQcffLBYY9ayARERERFrKYHXeV28eDHTp0%2BnY8eOuLu7M2TIEIYNGwZAfHw8V65cAeDTTz/l7NmzphO08gQHBzNnzhzeeOMN3nrrLfr3709qaipNmzZl3bp1lC1btljjVfIqIiIicg%2BrWrUqq1atyrfv2LFjpu/XrVt3y3EqVKjAvHnzijW2/Ch5FREREbGWElh5tTdKXkVERESsRcmrxZS8yl3V79B0W4dQuGrVIHAcgbHL4Px5W0dTuH37bB1B4fLOUF29GtLSbBtLYTp3tnUEhQsIgEOH4Jln4PBhW0dTKKfUVFuHUDhHRyhTBqfMdMjJsXU0hTKWdSt8I5F7hJJXEREREWtR5dVimkERERERsRuqvIqIiIhYiyqvFlPyKiIiImItSl4tphkUEREREbuhyquIiIiItajyajHNoIiIiIjYDVVeRURERKxFlVeLKXkVERERsRYlrxbTDIqIiIiI3VDlVURERMRaVHm1mGZQREREROyGKq8iIiIi1qLKq8WUvIqIiIhYi5JXi2kGRURERMRuqPIqIiIiYi2qvFpMMygiIiIidkOVVxERERFrUeXVYkpeRURERKxFyavFNIMiIiIiYjdUeRURERGxFlVeLaYZFBERERG7ocqriIiIiLWo8moxJa8iIiIi1qLk1WKaQRERERGxG6q8ioiIiFiLKq8W0wyKiIiIiN1Q5VVERETEWlR5tZiSVxERERFrUfJqMc2giIiIiNgNVV5FRERErEWVV4speRURERGxFiWvFtMMioiIiIjdUOVVRERExFpUebWYZlBERERE7IYqryIiIiLWosqrxZS8ioiIiFiLkleLaQZFRERExG6o8ioiIiJiLaq8WuyemsHAwEA2bNhgs%2BN/%2B%2B23NGjQgFmzZtkshqLYv38/UVFRtg5DRERErODs2bOMHj2atm3b0q1bN95%2B%2B21ycnLy3Xb9%2BvX06NGDFi1aMHToUH755RdT39WrV3nttdfo3Lkzbdu2ZeLEiSQnJxd7vPdU8mprGzdupFevXmzfvp2rV6/aOpwCrV271uzFKCIiIsXE0bH4HxaaMGECVapUITIykvDwcCIjI1m3bt1N2%2B3Zs4clS5bw73//m%2B%2B//55u3boxduxYrly5AsDChQuJjo4mIiKCnTt3YjQaefnlly2O70ZKXv928OBBBg0aREBAAJ06dWLhwoWmdx1Go5H58%2BfTpUsXAgIC6NevHwcOHDDtO2LECFasWMELL7xAixYteOCBB9i6davZ%2BMnJyezZs4eJEydSsWJFdu3aZdY/YsQIli1bRmhoKM2bN6d3797ExcUxZ84cWrVqRZcuXdi3b59p%2BxMnTjBy5EhatWpF27ZtmTFjhikhXrJkCYMGDTIbv2PHjmzevBmAadOm8frrrzNv3jzatGlDu3btWLVqFQBjx47l66%2B/Zs6cOTzxxBPFNLsiIiIClLjkNSoqitjYWJ5//nnKlStH7dq1CQkJISIi4qZtIyIi6N%2B/P82aNcPV1ZVnnnkGgL1795KVlcWmTZsYN24c1apVo0KFCkyePJmvv/6ahIQEi2K8kda8AhcvXuTpp5/mxRdfZODAgfz222%2BMGjUKb29vhg8fztatW9myZQubNm3Cy8uL5cuXM3HiRL799lucnJwA%2BOijj5g7dy5z585lxYoVzJ49m6CgIJydnQHYunUrfn5%2B1K5dmz59%2BrBp0yZ69%2B5tFscnn3zC4sWLefPNNxk%2BfDhPPfUUEydO5MUXX%2BT111/n7bffpnPnzmRmZvLUU0/x6KOPsnLlShITExk7dizvvvsuL774YpGe8xdffMG0adP47rvv2LZtG9OnTyc4OJgVK1YQGBjIqFGjGDp06G3NY2JiIklJSWZtXqVL412p0m2NY3WVK5t/Lenc3GwdQeHKlDH/WpIFBNg6gsI1bGj%2BtaSzhzV9Dg7/%2B2oP8YrcQr7//3p54e3tXei%2B0dHR1KhRAw8PD1Nb48aNiY%2BPJzU1FXd3d7Ntg4KCTD87Ojri5%2BdHVFQUfn5%2BXL58mcaNG5v669Wrh6urK9HR0VSpUsWSp2hGySu5iVz16tUZPnw4AI0aNSI4OJgvv/yS4cOH06dPH7p37065cuUA6NWrF0uWLOHcuXP4%2BPgAEBAQwAMPPADAI488QlhYGImJidSoUQOATZs2mZLB4OBgli5dypkzZ6hZs6YpjhYtWtC0aVMA2rRpw969e%2Bnfvz8AXbp0YcuWLQDs27eP9PR0JkyYQOnSpalVqxbDhw9n9erVRU5ea9asSb9%2B/QAICgriX//6F7///nuRXugFiYiIICwszKwtdPx4Jowbd8djWtUN1WopBn5%2Bto6gcIcO2TqCovv4Y1tH8M/j6mrrCIrEwdYB3AYHOwjWaLThse/CbzPf/39DQ5kwYUKh%2BxoMBsqXL2/WlpfIJicnmyWvBoPBLMnN2zY5ORmDwQBw01jly5cv9nWvSl6BM2fOUK9ePbO2%2B%2B67jy%2B//BKA9PR05s6dy759%2B0hJSTFtk5mZafr%2B%2BiTU9e8/hhkZGQAcOXKE33//nUceeQQAHx8fmjdvzubNm5k4caJpv6pVq5q%2Bd3FxMXuXUrp0adPxzpw5g4%2BPD6VLlzaL99y5cwUusL7R9fGW%2Bbs6lhfvnRo8eDCBgYFmbV6bN8OyZRaNe9dVrpybuH7yCVy8aOtoCteuna0jKFyZMrmJa0wMpKfbOppb%2B/tjrxKtYcPcxHXYMIiNtXU0hfvuO1tHUDgHh9zENSPDtplMERld7eBTDHKn1Q6m8x8n3/9/vbyKvL/xNn5phW17O2PdKSWvmCeh13P4%2B%2B3jrFmzOHbsGB999BH33Xcfp0%2Bf5qGHHjLb1vEWHztt3LiRrKwsunfvbmq7du0aCQkJhIaGmva9cYyCxiws3vxkZ2cXOd475e3tfXPl9j//gfPni/1Yd8XFi/YRa1qarSMouvT0kh/v4cO2jqDoYmPtI94ivom2qby/gUajfcQr/xh34%2BWW7/%2B/ReTp6WmqmuYxGAw4ODjg6elp1l6xYsV8t73//vtN2xoMBtyuW96WkpJCpWJePqiFPkCtWrWIi4sza4uLizMtCTh69Ch9%2B/aldu3aODg4EB0dXeSx09LS2LFjB7NmzWLLli2mx6ZNm0hMTGT//v23Ha%2BPjw%2BnT582S2Lj4uKoWbMmjo6OuLi4kH5dtevy5cs3vdhERETE%2BnJyiv9hiSZNmnD%2B/HkuXbpkaouKiqJ%2B/fpmSWjettfnQNnZ2fz66680a9YMHx8fPDw8zPqPHz9OZmYmTZo0sSzIGyh5JXeN6unTp4mIiCArK4ujR4/y2WefmdaE1qxZk6ioKDIzMzly5Ajbt28HchdIF2bHjh24uLjQr18/7rvvPtOjYcOGBAYGsmnTptuOt3PnzpQqVYqlS5eSmZlJXFwc69ev59FHHwVylxDEx8dz/PhxMjIyWLRo0U0vwFtxcXHh1KlTXL58%2BbZjExEREfvRqFEj/P39WbBgAampqZw8eZLw8HDTeTo9e/bk4MGDAAwdOpQtW7Zw5MgR0tPTWb58OaVLl6Zr1644OTkxaNAgVqxYwfnz50lOTuadd97hoYceonIxnxB9zyWvc%2BbMwd/f3%2ByRkJBAWFgYERERtG7dmhdeeIFJkyaZksGpU6dy8uRJ2rRpw8KFC5k%2BfToPPfQQ48aNK7QK%2B%2Bmnn9KnTx%2Bz9al5HnvsMSIjI2%2B7Kurm5sbKlSs5cOAA7du3Z9SoUQQHBzN27FgAunfvTo8ePRgyZAgPP/wwTZo0oXr16kUef9CgQXz88cc8/vjjtxWXiIiI3FpJq7wCLF68mMTERDp27MjIkSN59NFHGTZsGADx8fGm67h27tyZ5557jsmTJ9OmTRu%2B//57Vq5caTrXZ%2BLEiTRr1ozg4GC6d%2B%2BOm5sbb7zxhuUB3sDBaI2VtXLvmj7d1hEUrlo1GDcu98Qye1jz%2BvDDto6gcG5u0KJF7pn8JX3Na%2BfOto6gcAEBuXPZooV9rHlNTbV1BIVzdMw9sTA93S7WvBrL2sEl8rCvE7ZsdVWEu3GPIheX4h%2BzJNMJWyIiIiJWYgfvlUo8Ja8iIiIiVqLk1XL33JpXEREREbFfqryKiIiIWIkqr5ZT5VVERERE7IYqryIiIiJWosqr5ZS8ioiIiFiJklfLadmAiIiIiNgNVV5FRERErESVV8up8ioiIiIidkOVVxERERErUeXVckpeRURERKxEyavltGxAREREROyGKq8iIiIiVqLKq%2BVUeRURERERu6HKq4iIiIiVqPJqOSWvIiIiIlai5NVyWjYgIiIiInZDlVcRERERK1Hl1XKqvIqIiIiI3VDlVURERMRKVHm1nJJXEREREStR8mo5LRsQEREREbuhyquIiIiIlajyajklryIiIiJWouTVclo2ICIiIiJ2Q5VXEREREStR5dVyqryKiIiIiN1Q5VVERETESlR5tZySVxERERErUfJqOS0bEBERERG7ocqriIiIiJWo8mo5VV5FRERExG6o8ioiIiJiJaq8Ws7BaDQabR2E/HOlpto6gsI5OkLZsnDlin38USlTxtYRFI2TE2Rn2zqKwjllpNk6hMI5Oub%2B4tPT7eNF6u5u6wgKFxAAhw5BixZw%2BLCtoylcVpatIygae/mHD7mx2sBPPxX/mC1bFv%2BYJZmWDYiIiIiI3dCyARERERErsYcPT0o6VV5FRERExG6o8ioiIiJiJaq8Wk7Jq4iIiIiVKHm1nJYNiIiIiIjdUOVVRERExEpUebWcKq8iIiIiUiCDwcDkyZPp0KEDnTp14pVXXiEjI6PA7b/66iv69u1LQEAAPXr04JNPPjH1LVmyBD8/P/z9/c0eFy9eLHI8qryKiIiIWIk9Vl6nT59OZmYmX3zxBdeuXWPSpEnMnz%2BfV1999aZtjx49yvPPP88777xD165d%2Be677xg/fjx169alVatWAAQHB/Pmm2/ecTxKXkVERESs5G4kr4mJiSQlJZm1eXl54e3tbfHYFy9eJDIyks8%2B%2BwxPT08Axo0bx6RJk3jppZdwdnY2295gMDBmzBgefPBBALp06YKvry8HDx40Ja%2BWUvIqIiIiYsciIiIICwszawsNDWXChAkWjx0TE4OTkxMNGjQwtTVu3JgrV64QFxdn1g7QuXNnOnfubPo5KyuLpKQkqlSpYmo7duwYQ4YM4fjx41SrVo2XX36ZTp06FTkmJa8iIiIiVnI3Kq%2BDBw8mMDDQrM3Ly6tYxjYYDLi7u%2BPg4GBq8/DwACA5ObnQ/efPn0/ZsmUJCgoCoGrVqvj4%2BDB16lS8vb2JiIhg7NixbNu2jbp16xYpJiWvIiIiInbM29vboiUCW7du5cUXX8y3b8qUKRiNxtse02g0Mn/%2BfL744gvWr1%2BPi4sLAAMHDmTgwIGm7UJCQti%2BfTvbtm1j8uTJRRpbyauIiIiIlZTEE7aCg4MJDg7Ot%2B%2B7774jNTWV7OxsnJycgNxqLEClSpXy3ScnJ4eXX36Zo0ePsmHDBnx8fG55/Bo1apCYmFjkeHWpLBEREREryckp/sfd5Ofnh9FoJDY21tQWFRVF%2BfLlqU4Gab8AACAASURBVFOnTr77zJ07lxMnTuSbuC5btoz9%2B/ebtZ08ebLQBPd6Sl5FREREJF%2Benp706NGDRYsWcenSJS5cuMDSpUsZMGAApUrlfoD/xBNPsGPHDgB%2B%2Bukntm3bxsqVK6lQocJN4xkMBmbNmkVcXBxXr15lzZo1nDp1in79%2BhU5Ji0bEBEREbGSkrhsoDCzZ89mxowZdO/eHWdnZ3r37s2UKVNM/adPnyYlJQWATz/9lMuXL9OtWzezMVq3bs2aNWuYOnUqkLvW1WAwUL9%2BfdauXUvVqlWLHI%2BD8U5W4YoUUWqqrSMonKMjlC0LV67Yxx%2BVMmVsHUHRODlBdratoyicU0aarUMonKNj7i8%2BPd0%2BXqTu7raOoHABAXDoELRoAYcP2zqawmVl2TqCovn/7N19XI33/wfw1ymUlZtlilRuYtVGhHKzhDBCN0xjsxu3Q24aZt8ZhtzMfGPumbnZmJEKJam52WbIaIxYDRVKdEI3opw6nd8fvs5vZyc6dU7n6jrn9Xw8etB1XV3ndY7K%2B7yvz/X5iOUHH3iaVQDx8bo/Z//%2Buj9nTcbOKxEREZGeiOH9Z03H4pWIiIhIT1i8ao83bBERERGRaLDzSkRERKQn7Lxqj51XIiIiIhINdl6JiIiI9ISdV%2B2xeCUiIiLSExav2uOwASIiIiISDXZeiYiIiPSEnVftsfNKRERERKLBzisRERGRnrDzqj0Wr0RERER6wuJVexw2QERERESiwc4rERERkZ6w86o9Fq9EREREesLiVXscNkBEREREosHOKxEREZGesPOqPXZeiYiIiEg02HklIiIi0hN2XrXH4pWIiIhIT1i8ao/DBoiIiIhINCpVvHp7e2P37t3VlUVrK1euhJOTEw4fPix0lBeKiIjAgwcPKjzu3LlzaNeunfLDyckJbdu2VX4%2Bd%2B5cPaQlIiIiXSkr0/2HsTGYYQNyuRz79%2B/HoEGDEBkZCR8fH6EjlUsul2PZsmVwc3ODlZXVC491d3dHUlKS8nMnJyds2LABXl5e1R2TiIiIqEbSWfGamJiI5cuX49q1a7CwsMBbb72F4OBgmJiYQKFQYMWKFTh48CAKCgrQokULfP7553B3dwcAvP/%2B%2B3jjjTeQmpqKY8eOwcLCAp988gn8/f01fvxff/0Vpqam%2BOSTT9CvXz/cvXsXTZo0Ue53cnLCypUrsXXrVly/fh1du3ZFSEgI5syZg/Pnz6Nly5ZYs2YN7OzsAABHjx7FmjVrcOvWLVhZWWHUqFH44IMPlHnbt2%2BPTz75BACQmpqKgQMH4tixY7Czs4O3tzcmTZqEI0eO4Ny5c2jUqBEWLFgAT09PeHh4oLCwEP7%2B/pg4cSKmTJmi9WufkZGBxYsX488//0RZWRn69OmDuXPnwtLSEqdPn8a0adMQFBSEtWvX4vvvv8exY8eQmpqK1q1b44cffoC5uTkWLlyIBw8eYO3atSguLsa4cePw0UcfVSqHVCpFTk6OyjYLi8awtrbW%2BjlWJ4nk//804UAa4yOGf3SxfZO6uQmdoGLOzqp/EumJMXZKdU0nxeu9e/cwduxYfPrppwgMDMT169cxfvx4WFtbY%2BTIkYiKisKBAwcQERGBxo0bY%2BPGjZg2bRpOnjwJU1NTAMCuXbuwdOlSLF26FJs2bUJISAgGDhyI2rVra5QhPDwcgwcPhq2tLTp27Ih9%2B/YhKChI5Zg9e/Zg06ZNePz4MXx9fTF%2B/Hh89dVXcHBwwMiRI7F9%2B3bMmzcPKSkpCA4OxurVq9GzZ08kJiZi4sSJaN68OXr27KlRnq1bt2L58uVwdnbGggULsHTpUsTGxiIqKgp9%2BvRBVFQUHB0dK/dCl6OsrAxBQUHo0qULVq1ahcLCQsyYMQOhoaFYsGABAEAmk%2BH27ds4c%2BYM6tSpg2PHjuHcuXPo2bMnTp8%2BjQULFmD%2B/PkYMGAAjhw5goMHD2L%2B/PkIDAzEyy%2B/rHGWsLAwrFu3TmXb5MlTMG3aVK2fpz7UrSt0AsPzvx/vmk1M//Dm5kIn0Mz580In0NyPPwqdwPCI4QdfLhfsoVm8ak8nxWtMTAxsbW0xcuRIAMBrr70Gf39/HD58GCNHjoSvry/69OmDevXqAQAGDRqEtWvXIisrC/b29gAANzc39OjRAwDg4%2BODdevWQSqVolmzZhU%2Bfk5ODk6cOIEZM2YAAAICArBx40ZMmjQJkmcdi/897rMuYKtWrfD666/jtddeAwB4eHggLS0NABAZGYlu3bqhb9%2B%2BAIBu3bqhV69eiI2N1bh47d27N1xdXQEA/fv3x4EDB1BWDd%2BxFy9eRHp6OsLDw2Fubo66deti8uTJmDRpkrJ4ffLkCUaOHAkzMzPl19WtWxeBgYEAAC8vL0RGRuKjjz6CmZkZvL29MWfOHGRmZlaqeB0%2BfDi8vb1VtllYNMbjx9o/z%2BokkTytX4qKAIVC6DQV%2B8c/Y41mairo/w8aM5UVCR2hYhLJ08K1uFgc36RvvCF0goo5Oz8tXN99F0hJETpNxc6dEzqBZsTyg0%2BippPiNTMzU62L2Lx5c%2BWNU0VFRVi6dClOnDiB/Px85TEymUz592eX6wHA/H/dheLiYo0ef//%2B/Xj11VfRpk0bAE%2BLxZCQEPz%2B%2B%2B/o2rWr8rimTZsq/25mZgYbGxuVz5/led7zOV%2BJbsK/n49cLkdJSYnGX6%2BpW7duoaSkRDkE4xm5XI68vDzl5/9%2BE/DPIRVmZmYwMTFRFvbPitwnT55UKou1tbXaEIHCwpr/LvPZVViFouZnpWoghn90sX2TXrggdALNpaSIKy%2BJnhh%2BhGs6nRSv/yxC/%2BlZ13PhwoX4%2B%2B%2B/sWvXLjRv3hwZGRno16%2BfyrEmWozjioyMRGZmJtz%2BMc5KJpMhMjJSpXj9Zxf2RY9Z0fP5t/I6qto8n8owNzdH/fr1ca6Cd%2BWm/7qM8%2B/n8rznRkRERFST6KR4dXBwQGJiosq2tLQ05ZCAS5cuITAwEC1atAAAXLlyRRcPCwA4e/YsMjMzERYWphyWAAB//PEHFi5ciC%2B%2B%2BEJluyYcHByUQwie%2BefzqVOnjkpX%2BNatW1o8A%2B04ODigoKAAWVlZsLW1BQAUFhaitLQUDRs2FCwXERERqWPnVXs6aQ/6%2BPggIyMDYWFhKC0txaVLl7B//34MGTIEwNNL6ElJSZDJZPjzzz9x6NAhAE/vTtdWeHg4evTogbZt26J58%2BbKDz8/P9SrVw8xMTGVPqefnx9OnTqFn3/%2BGaWlpfjtt9/wyy%2B/ICAgAADQokULJCQkID8/Hzk5OdizZ4/G5342JOLGjRsoLCysdLZ/c3FxgaurK5YsWYLc3FwUFBRg7ty5%2BOyzz7Q%2BNxEREekW53nVXqWL18WLF6tMnN%2BuXTtkZ2dj3bp1CAsLg7u7O2bNmoXg4GBlsTdz5kykpqbCw8MDX3/9NebNm4d%2B/fohKChIqy7sw4cP8dNPP2HYsGFq%2B2rVqgV/f39ERkZW%2Brxubm5YsmQJVqxYAXd3dyxfvhyhoaHw8PAAAIwdOxb16tWDl5cXxowZgw8//FDjc7/yyivo378/goODsWrVqkpnK8/KlSshk8nQu3dvvPnmmzAxMcHSpUt1cm4iIiKimkSiUIjh1lUSKx00l6udiQnw0kvA48fieAcrlpmdxHLTsWnxI6EjVMzE5P%2BnxBDDN6mlpdAJKubm9nRKr44dxXHDVmmp0Ak0I5YffECwKb1Wr9b9OYODdX/OmkwEs10TERERET1Vo5eHvXTpknLu2PLY2toiPj5ej4l0a%2BvWrS8cOuDv74/FixfrMRERERFVJzFcPKnpanTx6urqiqSkJKFjVJuxY8di7NixQscgIiIiPWHxqj0OGyAiIiIi0ajRnVciIiIiQ8LOq/bYeSUiIiIi0WDnlYiIiEhP2HnVHotXIiIiIj1h8ao9DhsgIiIiItFg8UpERESkJ2Vluv%2Bobnl5efj444/RvXt3eHp6Ys6cOSguLi732H379sHZ2Rnt2rVT%2Bbh06dL/nn8Zvv76a/Tp0wfu7u4YO3YsMjIyKpWHxSsRERERPde8efNQVFSEmJgYREZGIjU1FaGhoc893t3dHUlJSSofrq6uAIBdu3bh4MGD2Lx5M37%2B%2BWe0aNECkydPhkKh0DgPi1ciIiIiPRFb5/XevXs4evQopk%2BfDisrK9jY2CAoKAiRkZEoKSmp9PnCwsIwatQoODo6wtLSEtOnT0dqaiouXryo8Tl4wxYRERGRnlRHsSmVSpGTk6OyrXHjxrC2ttb63MnJyTA1NYWTk5Ny2%2Buvv47Hjx8jLS1NZfszd%2B7cwejRo3H58mXUr18f06ZNg7%2B/P4qLi3H9%2BnW89tprymMtLS3RvHlzJCUloUOHDhplYvFKREREJGJhYWFYt26dyrYpU6Zg6tSpWp87Ly8PlpaWkEgkym0NGjQAAOTm5qodb2VlhRYtWmDGjBlo3bo1jhw5gk8//RTW1tZo1aoVFAqF8uv/eb7yzvU8LF6JiIiI9KQ6Oq/Dhw%2BHt7e3yrbGjRtr/PVRUVH49NNPy903ffr0So1H7dWrF3r16qX8fNCgQThy5Aj27duHTz75BAAqdb7ysHglIiIiEjFra2uthgj4%2B/vD39%2B/3H2nTp1CYWEh5HI5TE1NATztxgJAo0aNNDp/s2bNcPnyZTRs2BAmJibKr38mLy9P43MBvGGLiIiISG/EdsOWi4sLFAoFUlJSlNuSkpJQv359tGzZUu343bt3IzY2VmVbamoq7O3tYWZmhjZt2uDKlSvKfQUFBbh165ZyNgJNsHglIiIi0hOxFa9WVlbo378/Vq1ahQcPHuDu3btYv349hg0bhlq1nl7A//DDD5UFq0wmw6JFi5CUlISSkhLExMTgxIkTGDFiBADgnXfewY4dO5CamorCwkKEhobCxcUF7dq10zgThw0QERER0XOFhIRg/vz56NOnD2rXro3Bgwdj%2BvTpyv0ZGRnIz88HAHzwwQd49OgRgoODkZOTAzs7O6xfvx5t27YFAIwYMQI5OTl4//338ejRI3Tp0kXtZrOKSBTajpoleoHCQqETVMzEBHjpJeDxY3GsOV23rtAJNGNqCsjlQqeomGnxI6EjVMzE5Ok/fFGROL5JLS2FTlAxNzfg/HmgY0fgwgWh01SstFToBJoRyw8%2B8DSrAGbP1v05v/xS9%2BesyThsgIiIiIhEg8MGiIiIiPREDBdPajoWr0RERER6wuJVexw2QERERESiwc4rERERkZ6w86o9dl6JiIiISDTYeSUiIiLSE3ZetcfilYiIiEhPWLxqj8MGiIiIiEg02HklIiIi0hN2XrXH4pWIiIhIT1i8ao/DBoiIiIhINNh5JSIiItITdl61x84rEREREYkGO69UrSwlj4SOUDGJCYC6eElSBEhq/ltihYmF0BE0ZiKCt8eKl8TxekoAKMzrCh1DI5LSUqEjaO7cOaETaKaWCP67dnMDzp8H3N2BCxeETlMxhUKQh2XnVXsi%2BGkgIiIiMgwsXrUngr4IEREREdFT7LwSERER6Qk7r9pj55WIiIiIRIOdVyIiIiI9YedVeyxeiYiIiPSExav2OGyAiIiIiESDnVciIiIiPWHnVXvsvBIRERGRaLDzSkRERKQn7Lxqj8UrERERkZ6weNUehw0QERERkWiw80pERESkJ%2By8ao%2BdVyIiIiISDXZeiYiIiPSEnVftsXglIiIi0hMWr9rjsAEiIiIiEg12XomIiIj0hJ1X7bHzSkRERESiwc4rERERkZ6w86o9Fq9EREREesLiVXscNkBEREREosHOKxEREZGesPOqPXZeiYiIiEg02HklIiIi0hN2XrXH4pWIiIhIT1i8ao/DBoiIiIhINNh5JSIiItITMXZe8/LysGDBApw9exYmJibo2bMn5s2bB3Nzc7Vj586di6ioKJVtcrkc/v7%2B%2BPLLL/HZZ58hOjoapqamyv1mZmZITEzUOA87r0RERET0XPPmzUNRURFiYmIQGRmJ1NRUhIaGlnvs4sWLkZSUpPy4cOECWrVqhQEDBiiPmTRpksoxlSlcARavRERERHpTVqb7j%2Bp07949HD16FNOnT4eVlRVsbGwQFBSEyMhIlJSUVPj133//PWxtbdGzZ0%2BdZeKwASIiIiI9qY5iUyqVIicnR2Vb48aNYW1trfW5k5OTYWpqCicnJ%2BW2119/HY8fP0ZaWprK9n8rKCjApk2b8OOPP6psP3PmDI4dO4abN2/C0dERCxYsQNu2bTXOxOKViIiISMTCwsKwbt06lW1TpkzB1KlTtT53Xl4eLC0tIZFIlNsaNGgAAMjNzX3h1/7www9wd3dHmzZtlNvs7e1hYmKC4OBgWFhYYN26dRgzZgzi4%2BPx8ssva5SJxSsRERGRnlRH53X48OHw9vZW2da4cWONvz4qKgqffvppufumT58OhUJR6UxyuRy7du3CihUrVLZPnjxZ5fNZs2YhJiYGR48eRWBgoEbnZvFKREREJGLW1tZaDRHw9/eHv79/uftOnTqFwsJCyOVy5QwBeXl5AIBGjRo995znzp2DTCZD586dX/jYpqamaNq0KaRSqcZ5ecMWERERkZ6I7YYtFxcXKBQKpKSkKLclJSWhfv36aNmy5XO/7tixY%2BjatStq1fr/PqlCocCXX36pci6ZTIZbt27B3t5e40wsXomIiIj0RGzFq5WVFfr3749Vq1bhwYMHuHv3LtavX49hw4YpC9MPP/wQsbGxKl%2BXnJwMOzs7lW0SiQSZmZlYuHAhsrOz8ejRI4SGhqJ27dro27evxplYvBIRERHRc4WEhKBevXro06cP/Pz84OrqiunTpyv3Z2RkID8/X%2BVrcnJy8Morr6ida8mSJWjRogWGDh2K7t27Izk5Gd9//z1eeukljfNIFFUZhWvE3njjDcycORNDhw5F//79MW7cOI0HGFfW7du3MWDAAERHR7%2BwNV%2BjPXokdIKKmZgAdesCRUWiWPpE8ZKF0BE0IpEA/O2iO2J6PSVlcqEjaMbUFJCLJGstEdyi4uYGnD8PdOwIXLggdJqKCfQD1a2b7s%2BZkKD7c9ZkBtV5TUtLw8yZM9G9e3e0b98e3t7eWLx4sXJgsa7Fx8crC9eMjAzExcVp/LXe3t7YvXu32vbdu3cr7xhs1qwZkpKSNCpcf/rpJ9y8eVPjxyciIiL9E9uwgZrIYIrX5ORkDBs2DE2aNEF0dDTOnz%2BP9evX4%2B%2B//8Y777yD4uLian38n376CfHx8dX6GC%2ByZs0aFq9ERERk8AymeA0JCYGnpydmzZqFV155BaampnBxccHGjRvRoUMHSKVSODk54bvvvoOnpyc2b94MAEhISMDw4cPh5uaGHj16YP369cpzlpaWYtGiRejSpQt69OiB8PBwlcd81j3dunUrQkNDERcXh3bt2kGuo8tQmZmZcHJyQmpqKgBg37596N%2B/Pzp06IDevXtj27ZtAAA/Pz9cu3YNQUFBmD17NgDg2rVr%2BOCDD9C5c2d06dIF8%2BfPx5MnT5TnGTx4MJYtW4YOHTpg//796N69u0rurKwsODs7Iz09XSfPhYiIiNh51QURDKKp2P3793H%2B/Hns3LlTbZ%2BlpSW%2B/PJL5edHjx7FgQMH0KhRI9y9exdBQUGYP38%2BfH19cf36dYwbNw4ODg7w9fVFZGQk4uLi8OOPP6Jp06b46quv1AYkA8DYsWNx7do1PHnyBF9//XW1PMe7d%2B8iJCQEYWFhcHJywuXLlzF27Fh07doV0dHRcHJywoYNG%2BDl5QWZTIYxY8YgICAAmzdvhlQqxcSJE7F69WrlJMRSqRRmZmY4d%2B4cSkpKEBISglOnTsHLywvA005y27ZtKzXWttzl6SwtdbI8XbV6tmqIRPJ0/CsRUU3j5iZ0goo5O6v%2BWZOJYUwuPZdBFK8ZGRkAoFGh5ePjo7z7LSYmBm3atEFAQAAAwMnJCSNGjEBUVBR8fX1x5MgR%2BPr6wtHREQAQHByMsLAwneVevHgxli5dqrKtrKwMNjY2ascWFhairKxMeTde27ZtkZCQAJNyiq0TJ06gqKgIU6dORZ06deDg4ICRI0diy5YtyuL14cOHGD9%2BPGrXro3atWvjzTffxMGDB5XF67PnXhnlLk83eTKmTptWqfMIxtxc6AQakVR8SI0hEVNYERDN6/m/icxFQSxZz58XOoHm/rWOfY0k4A%2BTMXZKdc0gitdn6%2B2WafAdYWtrq/z7rVu3kJSUhHbt2im3KRQKZRGcnZ2NXr16KfdZWVkp1/PVhblz5%2BKdd95R2bZ79258%2B%2B23asc6OjrC398fPj4%2B8PDwgKenJ4YMGVLuOsCZmZmwt7dHnTp1lNuaN2%2BOrKws5WtUv359WFpaKvcHBAQgKCgIRUVFePz4MS5evIjVq1dX6vmUuzydpeXTu/hrMonkaeFaXCyK27kV5nWFjqARMd0dLwZiej0520A1cHcXOkHFnJ2fFq7vvgv8YxJ6UsXiVXsGUbw6ODgAeDrOs7yu5T%2BZ/uNdtrm5OXr27IlNmzaVe6xMJkNpaanKNk0K5OogkUiwaNEijBs3DkePHkVcXBy%2B/fZb7N27V21VCplM9txzPFPrX9OudOnSBQ0aNMDx48fx6NEjdOnSpdz52V6k3OXpHj2q%2BT%2Bpz7rXCkXNz0pExklMl7lTUsSVl0THIAb4vfzyy/Dw8MD27dvV9hUVFWHo0KH4448/1PY5ODjg6tWr%2BOdUtzk5Ocriz9raGnfv3lXuk0qlKCgoqIZnULGysjIUFBSgefPmGDt2LPbu3YvWrVvjyJEjasfa29sjIyNDpYhNS0uDnZ1ducMMAMDExAS%2Bvr6Ii4vD4cOHKz1kgIiIiCrGG7a0ZxDFKwDMmTMHf/75J2bMmIG7d%2B%2BirKwMycnJGDduHMzNzeHq6qr2NYMGDUJeXh42bNiA4uJiZGRkYMyYMfj%2B%2B%2B8BAD169EBMTAxu3LiBwsJCfP311zAzMyv38c3MzHDnzh0UFBSodWt1ITY2FoGBgUhLSwPwdAGD7OxsZdfZzMwMN2/eRGFhIby8vFCrVi2sX78eMpkMaWlp2LFjh3Js7/MEBATgt99%2Bw6VLl9CvXz%2BdPwciIiIibRnEsAEAcHZ2xt69e7F27VoMGTIEjx8/RpMmTTB48GDljUn/9vLLL2PDhg1Yvnw5Nm3aBCsrK/j7%2B2PMmDEAgFGjRiEjIwNvv/026tSpg2nTppXbwQWg7Fr27t0bBw8eVBlbqwuDBg3CtWvX8OGHH6KgoACvvPIKAgMDlWsBjxgxAsuXL8fp06exceNGbN68GcuWLUO3bt3QsGFDBAQEYOLEiS98DEdHRzg6OqJ58%2BawsBDHKk5ERERiYoydUl3j8rCkJJfL8eabb2Lx4sXopqv167g8rM5xeVjjJKbXkzdsVQMuD6t7Av1Avf667s955Yruz1mTieCngfShtLQUa9asgZWVFbp27Sp0HCIiIqJysXitBp07d1auZlWeuLg4NGvWTI%2BJXiwrKwv9%2B/eHi4sLVqxYoTIrAREREemOCC7w1XgsXqtBYmKi0BEqxdbWFklJSULHICIiIqoQi1ciIiIiPWHnVXssXomIiIj0hMWr9gxmnlciIiIiMnzsvBIRERHpCTuv2mPnlYiIiIhEg51XIiIiIj1h51V7LF6JiIiI9ITFq/Y4bICIiIiIRIOdVyIiIiI9YedVe%2By8EhEREZFosPNKREREpCfsvGqPxSsRERGRnrB41R6HDRARERGRaLDzSkRERKQn7Lxqj51XIiIiIhINdl6JiIiI9ISdV%2B2xeCUiIiLSExav2uOwASIiIiISDXZeiYiIiPSEnVftsfNKRERERKLBzisRERGRnrDzqj0Wr0RERER6wuJVexw2QERERESiwc4rERERkZ6w86o9dl6JiIiISDTYeSUiIiLSE3ZetcfilYiIiEhPWLxqj8MGiIiIiEg0WLwSERER6UlZme4/9CEpKQn9%2BvXD22%2B/XeGxO3bsQP/%2B/dGxY0e88847uHz5snLfkydP8MUXX8DLywtdunTBtGnTkJubW6ksLF6JiIiI9ESMxWt0dDSmTp2K5s2bV3js8ePHsXbtWixfvhynT59G7969MXHiRDx%2B/BgA8PXXX%2BPKlSsICwtDfHw8FAoFZs%2BeXak8LF6JiIiI6LmePHmCsLAwtG/fvsJjw8LCMHToULRv3x7m5uYYN24cAODnn39GaWkpIiIiEBQUhKZNm6Jhw4b4%2BOOP8csvvyA7O1vjPLxhi4iIiEhPqqNTKpVKkZOTo7KtcePGsLa21sn5AwMDNT72ypUrGDhwoPJzExMTuLi4ICkpCS4uLnj48CFef/115X5HR0eYm5vjypUrsLGx0egxWLxS9bKwEDpBhaRSKcK2bMHw4cN19oNenSRCB9CAVCpFWFiYaF7Tmk50r6epqdAJKiS611ShEDpBhaRSKcLWrsXwuDhxvKYCqY5/yrVrw7Bu3TqVbVOmTMHUqVN1/2AVyMvLQ4MGDVS2NWjQALm5ucjLywMA1K9fX2V//fr1KzXulcMGyOjl5ORg3bp1au9aqer4muoWX0/d42uqe3xNhTN8%2BHDs27dP5WP48OEaf31UVBScnJzK/di3b1%2Bl8ygqqNAr2l8Rdl6JiIiIRMza2lqrbre/vz/8/f11kuXll19WdlifycvLQ5s2bWBlZaX83OIfV2bz8/PRqFEjjR%2BDnVciIiIi0om2bdviypUrys/lcjn%2B%2BusvtG/fHvb29mjQoIHK/qtXr0Imk6Ft27YaPwaLVyIiIiKqsgEDBiAxMREA8M477%2BDAgQP4888/UVRUhI0bN6JOnTro1asXTE1N8fbbb2PTpk24c%2BcOcnNzsXLlSvTr1w%2BvvPKKxo/HYQNk9Bo3bowpU6agcePGQkcxGHxNdYuvp%2B7xNdU9vqaGq3///sjKyoJcLkdZWRnatWsHAIiLi0OzZs2Qnp6unMfVy8sLM2bMwMcff4z79%2B%2BjXbt22Lx5M8zNzQEAui/EIQAAIABJREFU06ZNw6NHj%2BDv74/S0lL07t0bCxYsqFQeiULbUbNERERERHrCYQNEREREJBosXomIiIhINFi8EhEREZFosHglIiIiItFg8UpEREREosHilYiIiIhEg8UrEREREYkGi1ciIiIiEg0Wr0REREQkGixeiYiIiEg0WLwSERFRldy8eVPoCGSEWLySUSouLsbhw4exfft25ba7d%2B8KmEj8/vzzTyxcuBBBQUEAgLKyMsTFxQmcStxGjx5d7vbCwkIMGTJEz2mI1A0YMABvv/02du7ciQcPHggdh4xELaEDEOnb%2BfPnMWnSJNSvXx937tzB6NGjcfv2bQwePBgbNmxAt27dhI4oOnv37sWyZcvg4%2BOD3377DQCQk5ODpUuXQiqV4oMPPhA4obhcuXIFSUlJOHfuHPbu3QuFQqGy/9atW7hx44Yw4QxAfn4%2BMjMz8eTJE7V9HTt2FCCReB07dgxHjhxBfHw8/vvf/8LDwwN%2Bfn7o168f6tatK3Q8MlASxb9/KxIZuMDAQAQEBGDkyJFwdXXFpUuXAACxsbHYunUrIiMjBU4oPv369cOyZcvQqVMnldc0OTkZwcHB%2BOmnnwROKC5nzpzBd999h19%2B%2BQW2trZq%2B83NzfH2229j1KhR%2Bg8ncps3b8aaNWtQWlqqtk8ikSA5OVmAVIbh/v37OH78OA4fPoykpCT07NkTgYGB6NKli9DRyMCw80pG59q1axg%2BfDiAp/9ZPTNgwADMmTNHqFiidu/ePWXH6p%2BvaevWrSGVSoWKJVpdu3ZF165dMWnSJGzcuFHoOAZl69atWLhwIby9vWFmZiZ0HINiaWkJCwsLWFpaorS0FDdu3MCcOXPQqFEjhIaGwt7eXuiIZCBYvJLRady4Me7cuaP2izQpKQmWlpYCpRK35s2b48yZM2pDLmJiYsrtHJJmNm7ciHv37uHGjRsoLi5W2%2B/p6SlAKnEzNzeHr68v6tSpI3QUg6BQKHDq1CkcPHgQR48eRYMGDeDr64vg4GA4OjqirKwMq1atwqxZs7Bnzx6h45KBYPFKRsfX1xfjx4/H6NGjUVZWhqNHjyIlJQW7du3Cu%2B%2B%2BK3Q8Ufroo48QFBQEb29vlJaWYvHixfj7779x4cIFrFixQuh4orV161asXLkScrlcbR8vcVfN1KlT8d///hcTJ05Eo0aNhI4jep6eniguLka/fv2wbt06dO3aVeXqi4mJCaZNm8axxKRTHPNKRkehUOC7775DZGQkbt26BXNzc9jb22PEiBEYNmyYyi9e0lxSUhL279%2Bv8poGBgaiVatWQkcTrW7dumHWrFkYOHAgzM3NhY5jEI4fP4758%2Bfj3r17MDExUft5v3z5skDJxOnAgQPo379/hTdn3blzB02bNtVTKjJ0LF6JiGqoLl264PTp0zA1NRU6isHw8vJCjx494OXlVe6Y1169euk/lIi5ubnhjz/%2BgIkJZ94k/WHxSkZHLpfj%2BPHjuHHjRrlT5UyZMkWAVOKWlZWFbdu24ebNm%2BW%2Bpjt27BAglfgtW7YMLi4u8Pf3FzqKwXB3d0dCQgJq1eKoOV346quvYG5ujnHjxsHCwkLoOGQkWLyS0Zk6dSp%2B/fVXtGrVSq3zIpFIeFNBFQwdOhRlZWXw8PAot5s1c%2BZMAVKJ3%2BLFi3Ho0CHY2dnBzs5OrbvF8cSVt3r1atjZ2eGtt94SOopB8PX1hVQqRWFhIerXr692leDkyZMCJSNDxreeZHROnjyJ6OhotGjRQugoBiM9PR0nT55k50XHHj16xMvYOnb9%2BnXs3r0b69evh42Njdobgl27dgmUTJzGjBkjdAQyQixeyeg4ODigYcOGQscwKJ06dUJGRgacnZ2FjmJQvvzyS6EjGBxHR0c4OjoKHcNgcJliEgKHDZDRuXz5MjZu3IgBAwbA2tparfPi7u4uUDLxys7Oxvjx4%2BHq6gobGxu1O7g5jrhqDhw48ML9AQEBekpiOC5fvoy2bdsKHcNgyGQyrFmzBrGxsbhz5w4kEgns7OwwZMgQTJgwgTdyUbVg8UpGZ/Xq1di0aZPaevEA586sqokTJ%2BL06dMcR6xj/16EQC6XIy8vD5aWlrC1tUVUVJRAycSrU6dOOHPmDGrXri10FIOwYMECnDt3DiNHjkTz5s0BAKmpqdi5cycCAgIwefJkgROSIWLxSkanY8eOmD9//nOXh%2BTKO5XXvn17HDx4EA4ODkJHMXgPHz7E6tWr0bZtW3Zeq2D79u24ffs23n//fTRt2lRt1gF2CiunW7du2Lt3r9qKhWlpaZgwYQKOHDkiUDIyZBzzSkanYcOGGDBgANc116HWrVvzZi09qVevHj755BMMGDCAxWsVbNiwATKZ7Lk3ZvHKS%2BWUlpbCxsZGbbudnR3y8vIESETGgMUrGZ25c%2BciNDQU7733Hpo0aaI2PpOd18obO3Yspk%2BfDl9f33Lv4P735W/STkZGBh4%2BfCh0DFFas2aN0BEMymuvvYb169djypQpyqEYpaWl2LhxI1599VWB05Gh4rABMjqdOnVCUVFRuWNeAXZequJFswxwHHHVDR8%2BXO3NVVFREdLS0tC/f3%2BEhoYKlMwwFBQUoH79%2BkLHELVr165h7NixKC4uhp2dHQAgMzMTtWrVwjfffIN27doJnJAMEYtXMjpnz5594X4PDw89JSF6sXXr1qltq1OnDlq0aIE%2Bffpw2dgqePz4MUJDQ3HgwAHIZDJcvnwZ%2Bfn5mD17NpYuXcpp9KpAJpPhxIkTyMzMhEwmg4ODA7y8vPDSSy8JHY0MFItXMlolJSWQSqWQSCSwsbFhIaCl0tJSnD9/Hrdv34ZEIoGDgwPc3NzUOodEQpo9ezaysrIwadIkfPTRR7h06RIePXqEuXPnwtTUlN3sSpozZw6WLFmitr2wsBD/%2Bc9/sH79egFSkaHjmFcyOgUFBZg/fz6OHj2K0tJSAICZmRkGDx6MefPm8UauKkhJScGECROQk5ODRo0aAQDu378Pe3t7fPfdd2jatKnACcWJc2jq3vHjxxEbG4tGjRop31hZWFhg4cKFGDBggMDpxCMjIwM3btxAdHQ0Bg4cqDYM6%2BbNm1walqoNi1cyOgsWLEBOTg7WrVunMi/hpk2bEBoaijlz5gicUHyWLFmC/v374%2BOPP1ZeKszPz0doaChCQkKwceNGgROK09KlS3Hu3DmMGzdObQ7NsrIyzqFZBRKJBPXq1VPbXlZWhqKiIgESiVNKSgrWrFmDkpISjB07Vm2/mZkZRowYIUAyMgYcNkBGx93dHfHx8bCyslLZnp2djREjRuDnn38WKJl4ubm54ffff1ebqeHx48fw9vbGmTNnBEombpxDU/cmTpyI5s2bY%2BbMmXB3d8fFixdx9%2B5dLFmyBDKZDN98843QEUXF39%2Bfi2WQ3vGaExkdU1NT1K1bV217/fr18fjxYwESiV/Dhg1x//59te0PHz7k1GNa4Byaujd37lycPn0anTp1wpMnT9ClSxf07t0bUqkUX3zxhdDxRCcqKgopKSnKz2/fvo3vvvuOTQCqVhw2QEanY8eOCAkJwaxZs5Td1wcPHiA0NJTTulRRnz59EBQUhAkTJqBVq1YAnnYHN2/ejB49egicTrw4h6bu2dnZITo6GhcvXsStW7dgbm4OBweHF073Rs%2B3fft2fPPNNzhz5gzy8vLw9ttvw9HREdnZ2bh27Ro%2B%2BugjoSOSAeKwATI62dnZmDRpEpKTk5VzPBYUFMDR0REbNmzgEqdVIJPJsHLlSkRGRionz7ewsMDgwYPx2Wefldvppopdv34dY8aM4RyaOvDFF18gJCRE6BgGx9vbG2vXrsXrr7%2BO7du3Iy4uDmFhYbh9%2BzZGjRrFoS1ULVi8ktFKSUlRzktob2/PQkBHCgoKIJPJVO7mpqrjHJq60b59e1y8eFHoGAbHzc0NFy5cAPB0pT1PT0%2BMHj1abR%2BRLnHYABmlhIQE2NjYoG/fvgCAxMREnDp1Cm%2B88YbAycRJJpNhw4YN8PT0ROfOnQEA0dHRuH79OqZMmcJxr1qoU6eO8vuUqo59muphbW2N69evw9zcHGfPnsWCBQsAAOnp6eXO6kCkCyxeyejs3LkTq1evxtq1a5XjM/Pz8/H5559j6tSpeO%2B99wROKD6LFy/G5cuXMXDgQOW21q1b48cff8SSJUuwcOFCAdOJ18mTJ7F8%2BXLcvHkTMplMbT%2BX3dVcWVkZTp06VWER6%2BnpqadEhmHChAkIDAyEQqHAkCFDYG9vj4cPH2LSpEl46623hI5HBorDBsjoeHt7Y8OGDWo3aFy9ehWTJk3CsWPHBEomXt27d8ehQ4fw8ssvq2zPzc3F4MGDcerUKYGSiVvv3r3Ro0cPeHl5lbt4Bm%2BG05wmN2RJJBK%2BIaiC7OxsFBYWwtHREcDTLndsbCwGDRokcDIyVOy8ktHJzc1Vdlz/yc7ODg8ePBAgkfjJ5fJyx7eWlJTgyZMnAiQyDIWFhfjiiy9QqxZ/VWvLzMyMY1515ObNm8pFM9LT0wEAJiYmyr8DT2fKSE9PR8uWLQXJSIaNvxHJ6HTs2BErV67E5MmTlWOy7t27h1WrVqF9%2B/YCpxOnN998E5MnT8aYMWPQrFkzKBQKpKenY8uWLey%2BaCEgIAAxMTEICAgQOgqRkq%2BvLy5dugQA8PHxgUQiURmO8exzdrKpunDYABmdjIwMTJ06FVevXoWlpSXKysrw6NEjuLi4YNOmTbC2thY6ougUFxdjxYoViIqKQkFBAYCniz4MHToUM2fOVM5RSpWTnp6OMWPGoHbt2rCxsVHrbu/YsUOgZOLj6uqqLLhIO1lZWbC1tQXwdFGCF2nWrJk%2BIpGRYfFKRuuvv/5CRkYGTExMYG9vz0nKdSQ3NxcmJiZo0KCB0FFEz9fXF6ampvDw8Ch3zOvMmTMFSCVOiYmJypkwNMF5YYlqLhavZJTkcjmkUimKi4vV9nGMVtUkJSUhNTW13DGuw4cPFyCR%2BLm5ueHUqVOc01UAnBf2xby9vTWax5k3wFJ14JhXMjrR0dFYtGgRCgsLVbZzjFbVLVmyBDt37oSVlRXMzc1V9kkkEhavVeTp6Ym0tDS0bdtW6ChGh32dF/vnsq8KhQJLlizB3LlzBUxExoSdVzI6PXv2RGBgIHx8fNQKLYBjtKrCw8MDq1evRrdu3YSOYlA2btyI8PBwuLm5oWnTpjAxMVHZP2PGDIGSGT52XiuHrxfpEzuvZHQKCwsxadIkmJqaCh3FYNSpU6dS4wlJM6dPn0azZs0glUohlUpV9nHpXSIyVixeyej06dMHv//%2BO7p37y50FIMxatQobNu2DRMmTBA6ikHZuXPnc/c9m9WBiMjYsHglo%2BPo6IjZs2fDzc0NdnZ2vBSrA%2BfPn8f58%2Bexc%2BdO2Nraqr2me/bsESiZ4UlISEBERASOHj3Ky7REZJRYvJLROXnyJBwcHHD//n3cv39fZR8vxVbNa6%2B9htdee03oGAYrKysL%2B/btw/79%2B5GTk4PevXtj7dq1QscyaLwd5MXCwsJUPpfL5di7d6/a68abNak68IYtIqIaSCaT4ejRowgPD8fZs2fRvn17JCUlITw8nHMSa2H9%2BvWYPHmy2vZHjx5h1apVmDNnDgBg27ZtGDNmjL7jiYa3t3eFx0gkEk6VRdWCxSsRVdk/1zJ/Ec6dWzmLFi1CTEwMGjZsCF9fX/j7%2B8Pe3h5ubm6Ijo6Gvb290BFFJy8vDw8ePEBAQACio6PVOoQ3btxAcHAwV%2BGqJnfu3EHTpk2FjkEGgsMGyGh4enpqdNzJkyerOYnhKG9d82e4vnnV7dq1C4MGDUJwcDAcHByEjmMQjh07hmXLlqGkpAQ%2BPj7K79l/fv%2B%2B%2BeabQkY0aAMGDOAYbdIZFq9kNLiUpu7xkmD12LJlCyIiIuDr6wsXFxf4%2B/vDx8dH6Fii9tZbbyEgIABdunRBVFSU2n5zc3M0atRIgGTGgRd5SZc4bICMTmZmJuzs7NS2y2Qy/PXXX%2BjQoYMAqcTtwIEDCAgIUNteVFSEPXv2YPTo0QKkEr/c3FxERUUhMjIS6enpKCsrw8KFCzFkyBDUqsXeg7ZkMpnatjp16giQxPBxEQPSJRavZHSe90s0Pz8fvXr1woULFwRIJU5lZWUoLS2Fu7s7EhMT1boraWlpePvttzmOUAf%2B/PNPhIeH4/DhwzA3N4efnx8%2B%2B%2BwzoWOJzunTp7F06VLcuHEDcrlcbT%2BHuFQPFq%2BkS3zrTkYjPDwcERERkMlkGDFihNp%2BqVSKhg0bCpBMvHbs2IGvvvoKAODq6lruMexk60aHDh3QoUMHzJkzB4cOHUJkZKTQkURp/vz58PDwwKxZs1C3bl2h4xBRFbDzSkYjPz8fCQkJmDlzJiZNmqS238zMDH379uWd8ZX04MEDeHl5Ydu2bWr7zM3N4eLigtq1awuQzDDI5XJIpVIUFxer7eP3auW5ubnh3LlzHHahZ%2By8ki7xp5eMRoMGDTBgwAAAUP5J2rOyssKvv/7Km12qQXR0NBYtWoTCwkK1u%2BM5i0PVeHh4ICUlBW3bthU6ChFVEYtXMjpvvPEGtm7ditTUVDx58kRt/4oVKwRIJW45OTn4/PPPkZqaWm6HkNOPVc2KFSvw4YcfwsfHB%2Bbm5kLHMQh9%2B/bFp59%2Bit69e5e7PDRXhKqcZ2%2Bk/k0ulyMnJwdNmjQBwBvhSLc4bICMzvjx45GSkoJOnTqVO%2Bbtyy%2B/FCCVuPn6%2BsLGxgbe3t7lvqZDhgwRIJX4derUCWfPnoWpqanQUQzGi1aG4opQlfe84QAPHz6Et7c3zp07J0AqMnTsvJLRSUxMRFxcHGxsbISOYjAyMzMREREBMzMzoaMYlD59%2BuD3339H9%2B7dhY5iMI4fPy50BIMQHx%2BP%2BPh4lJSUlDuHdlZWFt90UbVh8UpGp0mTJrCwsBA6hkFxcXHB3bt30bx5c6GjGBRHR0fMnj0bbm5u5V7injFjhkDJxCsrK%2BuF%2B21tbfWURNxee%2B01ZGZmIi4urtwhAU5OTlwYhqoNhw2Q0fntt98QGxuLcePGwc7OTm28FsdmVd6RI0ewdetW%2BPv7o1mzZmpFlqZL85Kq999//7n7JBIJduzYocc0hsHZ2bncMZrP8Ca4ytm2bRvGjBkjdAwyMixeyeh07twZRUVFKCsrK3c///OqPGdn5%2Bfu413x1SM5ORkuLi5CxxCdtLQ0lc/Lyspw8%2BZNhIWFYdSoURyioYGIiAgMGzYMABAWFvbCY3kDHFUHFq9kdM6ePfvC/R4eHnpKQlQxhUKBrKwslaVMs7OzERQUhPPnzwuYzLDk5ORg3LhxiIqKEjpKjTdgwADExcUB4A1wJAyOeSWj86LidMaMGSxedaioqAj9%2BvXjVFlVlJiYiGnTpiE3NxeA6rREffv2FTKawTEzM8OtW7eEjiEKzwpXgDfAkTBYvJLRkcvl2LNnDy5fvqzSzZJKpbh69aqAycTr7t27WLp0qdpr%2BujRI1hbWwuYTNyWLl2KkSNHYuDAgfDz80NsbCwuX76M2NhYzJs3T%2Bh4orRy5Uq1bUVFRThz5gyHYWjowIEDGh8bEBBQjUnIWLF4JaOzaNEi/Pzzz%2BjcuTPi4uIwaNAgJCcno06dOti4caPQ8UTpiy%2B%2BAABMnDgRISEhWLBgAa5cuYLk5GSsX79e4HTilZ6ejqCgIEgkEkgkEtjb28Pe3h5NmzbFf/7zH2zfvl3oiKJz4cIFtW1mZmbo0qULxo4dK0Ai8QkNDVX5vKCgACUlJahfvz4UCgUKCgpgbm4OGxsbFq9ULTjmlYyOp6cnIiIi0KRJE7i6uuLSpUtQKBQIDQ2FnZ0d3nnnHaEjio6Hhwd%2B/fVX1K1bV2XS8piYGCQmJmLBggXCBhSpXr16Ye/evbC2toanpyd2794Ne3t7lJSUwMPDo9xCjEifwsPDceXKFQQHB%2BPll18G8PQq1qpVq%2BDm5obAwECBE5IhYvFKRsfd3V256oubmxt%2B//131KlTB/n5%2BfD19cWJEycETig%2B3bt3x88//wwzMzN4eHjgp59%2BQsOGDSGTyfDGG29wlZ0qCg0NRVRUFA4fPowlS5YgOTkZfn5%2BSEpKwvXr13Hw4EGhI4rSiRMncPjwYWRmZkIikcDBwQEBAQHo3Lmz0NFEp2fPnoiPj1dbvriwsBADBw7k71OqFiYVH0JkWF599VWsW7cOJSUlaNmyJcLDwwEAd%2B7cwePHjwVOJ06dO3fGlClTUFRUhHbt2mHZsmW4fPky9u7dy1W3tPDJJ59g5syZsLCwwJw5c9CmTRvs3bsXBQUFWL58udDxRGnnzp2YNm0aioqK0LFjR7i5uSE/Px%2BjR4/GkSNHhI4nOsXFxbhz547a9vv37%2BPJkycCJCJjwM4rGZ2kpCTMmDEDUVFROH36ND7%2B%2BGPUqVMHT548wciRI/H5558LHVF0cnNz8d///hcLFy7EjRs3MGHCBGRlZaFu3boICQmBr6%2Bv0BGJADxdcnfJkiXo2rWryvbffvtN2ekmzS1atAjx8fHw9fWFnZ0d5HI57ty5g0OHDqFXr14ICQkROiIZIBavZPTS0tKQnJyMZs2aoUOHDkLHMQgKhQL37t2DlZUV1zfX0u7duxEbG4vbt28rL3EPGTIEfn5%2BQkcTJTc3NyQmJqp9X8rlcnh4eOCPP/4QKJk4yeVyRERE4OjRo7h79y5kMhmsra3h5eWFUaNGoXbt2kJHJAPE2QbIKCUkJMDGxgatWrVCq1atcP/%2BfRQWFgodS7RkMhk2bNgAT09PdO7cGRKJBAkJCbh%2B/TqmTJnCJXeraNWqVYiIiIC/v7%2Bye52amoolS5bg8ePHGDFihMAJxcfBwQG//vqr2uT6J0%2BehK2trUCpxMvU1BTDhw/nSlqkVyxeyejs3LkTq1evxtq1a9GqVSsAT6d6%2BfzzzzF16lS89957AicUn8WLF%2BPy5csYOHCgclvr1q3x448/YsmSJVi4cKGA6cRr3759%2BPbbb9XmHx00aBD%2B85//sHitgqlTp2LatGno3r07HB0dATy9%2BnLq1CksXrxY4HTidOjQIURFRUEqleLAgQOQyWTYuXMnxowZo1xUg0iXOGyAjI63tzc2bNgAZ2dnle1Xr17FpEmTuJxhFXTv3h2HDh1STpXzTG5uLgYPHoxTp04JlEzcOnbsiLNnz6JWLdU%2BAy9xayclJQX79u1DZmYmZDIZHBwc4Ofnx2FDVbBhwwaEhYVh%2BPDh2LRpEy5duoR79%2B5h9OjR6NOnDz7%2B%2BGOhI5IBYueVjE5ubq6y4/pPdnZ2ePDggQCJxE8ul5fbYSkpKeEdx1po06YNIiIi1Dqs%2B/btQ/PmzQVKJX7Ozs68MVNHwsLCsGXLFrRp0wbffPMNAOCVV17Bhg0b8MEHH7B4pWrB4pWMTseOHbFy5UpMnjwZ9erVAwDcu3cPq1atQvv27QVOJ05vvvkmJk%2BejDFjxqBZs2ZQKBRIT0/Hli1bMGjQIKHjidasWbMwbtw47Ny5U%2BUSd0ZGBtauXStwOnHKysrCtm3bcPPmzXLfWO3YsUOAVOL18OFDtGnTRm27tbU1mwFUbThsgIxORkYGpk6diqtXr8LS0hJlZWV49OgRXFxcsGnTJlhbWwsdUXSKi4uxYsUKREVFoaCgAABQv359DB06FDNnzuQdx1q4f/8%2BYmJiVC5x%2B/j4QCqV8jJ3FQwdOhRlZWXw8PAodw7imTNnCpBKvEaMGIF3330Xfn5%2BKqvrbdy4EUeOHMG%2BffsETkiGiMUrGa2//voLGRkZMDExgb29vdoYWKqa3NxcmJiYoEGDBkJHMWj/LBRIc25ubjh58iQsLCyEjmIQEhISMHnyZLz66qu4dOkSevbsiatXryI/Px8bNmyAh4eH0BHJAHHYABmFkpISZfdPJpMBeHo3fOvWrZXHPNvOaZ00k5CQgG7dugF4Os3Qi3h6euojklFh36FqOnXqhIyMDL5Z1ZFu3brh8OHDiImJgZOTE8zNzeHp6YlBgwahYcOGQscjA8XOKxmFf3apnJ2dy725SKFQQCKRIDk5Wd/xRMnV1RWXLl0CgBcWAnxNqwc7r1WTnZ2N8ePHw9XVFTY2Nmq/C6ZMmSJQMnH69ttvMX78eKFjkJFh8UpGITExEZ07dwYA/P777y%2Bce5CXuUgMWLxWzcSJE3H69Gm0atVKbcyrRCLBnj17BEomTp6enoiOjoaVlZXQUciIcNgAGYVnhSsAdOnSRcAkhiM9PV2j4yQSCVq0aFG9YQxMWFhYhcfI5XI9JDE8CQkJiImJgYODg9BRDMK4ceMQHByMgQMHwtbWVm3ZXQ4ZourAzisZhcr8Aq1o/CY99Wz4RUW/QjhsoPL%2BvXTp8xw/fryakxiet956C5s3b0ajRo2EjmIQOGSIhMDilYzC/v37NT52yJAh1ZjEcNy%2BfVvjY5s1a1aNSYg0Fxsbiz179sDX1xc2NjYwMTFR2c9OoeZkMhmys7Nhb2%2Bvsv38%2BfNwdXVVWxmOSFdYvJJRy83NhUQi4V2xOlBWVoaLFy9CKpVCIpGgSZMmaNeuHdc2pxqFnULdyM/Px7vvvov27dtj6dKlKvuGDh0KCwsLbN26lbO3ULVg8UpG5/79%2B1iwYAFOnDihnB7L3NwcvXr1wrx583jjQRVcuHABkydPRm5uLurVqweFQoHCwkK88sorWL9%2BPVxdXYWOSEQ6tGTJEqSkpGDTpk1qc%2BYWFRVh/Pjx6NatGyZPnixQQjJkLF7J6Lz//vuQSCQYNWoUbG1tAQCZmZn4/vvvYWJigu%2B//17ghOLTv39/9OvXDxMmTFAuuZufn49vvvkGx44dQ3x8vMAJiZ6vsLAQhw4dQmRkJPbu3St0HFHo27cv1q1b99xOdnJyMmbMmIHDhw/rORkZAw5IIaNz6dIlnDx5UllkAU8vJXbu3Bk9e/YUMJl43b17F9OmTVO5RNigQQMEBwdj165dAiYjer6zZ88iMjLH02EYAAAKlElEQVQSP/30EywsLBAQECB0JNG4f/8%2BnJycnrvf2dkZd%2B/e1WMiMiYsXsno2Nvbo7i4WKV4BZ5OPfTvGw9IM506dUJKSora8IC0tDR06tRJoFRE6rKzs7F//37s27cPUqkUJSUlWLx4Mfz8/NSmeaLne%2Bmll5Cbm/vcYVZSqRR169bVcyoyFhw2QEbnp59%2Bwg8//ID33nsPLVq0QFlZGW7duoXdu3fDz88PHTp0UB7bsmVLAZOKx3fffYfvv/8e3t7eaNmyJeRyOTIyMnD8%2BHEMGzZMZVqi4cOHC5iUjFV8fDwiIiKQkJCAjh07IiAgAG%2B%2B%2BSZ69OiB6OhovnGtpE8%2B%2BQS2traYMWNGuftnzpwJhUKBlStX6jkZGQMWr2R0KlrT/NncpbzzWHOazksqkUhw7Nixak5DpM7Z2RmDBg3CrFmz0KRJE%2BV2Nzc3Fq9VkJ6ejmHDhsHLywsjR45Uvmm9fv06tm3bhosXL2Lv3r1sAFC1YPFKRofzkxIZn5UrV%2BLAgQOoVasWfH194efnB0dHRxavWkhOTsaiRYtw/vx55ZR4CoUCHh4emDNnzgvHxBJpg8UrGSXOSap7f//9N3755Rfla2pjYwNvb284OjoKHY0IwNOf%2B19%2B%2BQURERE4ceIEXn31VVy9ehXh4eFwcXEROp5oPXjwABkZGZBIJHBwcOC82VTtWLyS0eGcpLq3e/duhISEwMXFBba2tlAoFMjKysLff/%2BNhQsXIjAwUOiIRCru3buHffv2ITIyErdv34aXlxeGDRum8RAYIhIOi1cyOpyTVPe6d%2B%2BOkJAQ9O3bV2X7kSNHMH/%2BfJw%2BfVqgZEQVO3v2LMLDw3H06FFcuHBB6DhEVAEWr2R02rdvj3PnzqktW/jkyRN4eHjg4sWLAiUTr06dOuH3339XW8u8tLQUXbt2RWJiokDJiDRXWFgIS0tLAICPjw8n2CeqoUyEDkCkb8/mJP03zkladQEBAThw4IDa9tjYWPj6%2BgqQiKjynhWuQOVu7CQi/WLnlYwO5yTVvc8//xzx8fGwtbVVvqa3bt3C7du30bNnT5iY/P/75BUrVgiYlEgz7du351UYohqKxSsZnRfdkFFQUID69esD4JyklTF79myNj/3yyy%2BrMQmRbrB4Jaq5WLyS0VMoFEhISEBERASOHTvG/7B07Mcff8S7774rdAyiSmHxSlRz1ar4ECLDlJWVhX379mH//v3IycmBt7c31q5dK3Qs0bp69SquXLkCmUym3JadnY3t27ezeCUiIp1h8UpGRSaT4ejRowgPD8fZs2fRvn17SKVShIeHV7hsLD3f7t27sWjRIjRq1Aj37t2DjY0NpFIpmjVrhuDgYKHjERGRAeFsA2Q0Fi1ahB49emD16tXo1KkT4uLi8OOPP6JWrVqwsLAQOp6obd26Fdu2bcNvv/2G2rVr45dffsGvv/6K119/HW3bthU6HlGlcUQdUc3FzisZjV27dmHQoEEIDg6Gg4OD0HEMyv3799G1a1cAgImJCRQKBRo3boxZs2Zh4sSJOHjwoMAJif6fXC6HVCpFcXGx2r6WLVsCAH744Qd9xyIiDbF4JaOxZcsWREREwNfXFy4uLvD394ePj4/QsQyCra0tzpw5g65du6Jx48ZITEyEu7s76tWrh8zMTKHjESlFR0dj0aJFKCwsBPC0wyqRSJR/JicnAwCXiSaqwTjbABmd3NxcREVFITIyEunp6SgrK8PChQsxZMgQtRWiSDPR0dGYPXs2zpw5g127dmHLli3o3Lkz0tLS4ODggC1btggdkQgA0LNnTwQGBsLHxwfm5uZq%2B5s1ayZAKiKqDBavZNT%2B/PNPhIeH4/DhwzA3N4efnx8%2B%2B%2BwzoWOJUmZmJuzs7AAA4eHhSEpKgp2dHd555x3Uq1dP4HRET3Xq1Alnz56Fqamp0FGIqIpYvBIBePz4MQ4dOoTIyEjs2bNH6DiiVVJSAqlUColEAhsbGxYIVON8%2BumnCAgI%2BL/27u%2Bl6T2O4/hrJ0gqWOLFbnTKGAtFUjdQKnA3elOI0Y8LSbtTsqAuhj8uTOgHeRFdKBk1Iosw04jwIhZC4D8g5jSYF/24WAVbqAirC0nWxTh2OlO2NtjH2fNx%2Bfl%2BL16XL768v%2B%2BPjhw5YjoKgAxRXgFkbXV1VVeuXNHr16/148cPSVJBQYGamprU39%2BvgoICwwmBBL/fr7GxMbndbpWUlPx2dbEk%2BXw%2BQ8kApIvyCiBrPp9P0WhUHR0dKisrkyS9f/9e9%2B7dU01Njfr6%2BgwnBBLOnj275TOLxaLHjx/nMA2ATFBeAWSttrZWU1NTKioq%2Bu08EomopaVF09PThpIB6QuFQqqoqDAdA0AK/FoNIGu7du3Snj17ks6tVqu%2Bf/9uIBGwtXg8ri9fviRdZXzhwgXNzs4aTAYgHZRXAFnzeDy6du2auru7N76%2BLi8v69atWzp48KDhdMAvMzMzunTpklZWViT92vMqSY2NjSajAUgTYwMAshaJRHT%2B/HmFQiFZrVZJiZ%2B4nE6n7t69y41m2DZOnjyphoYGHTt2TM3NzQoEAnr79q0CgYD6%2B/tls9lMRwSQAuUVQFbW1tYUiURkt9u1uLioT58%2BaW1tTTabTW63m3VZ2FbcbrdmZ2dlsVhUVVWl%2Bfl5SYmdz0NDQ3r48KHhhABSYWwAQMZWV1d15swZVVdXa2BgQOXl5SovL5eU%2BMK1b98%2BPXjwQLt37zacFEjYv3%2B/vn79KpvNJqvVqnA4LLvdrsrKSs3NzZmOByAN/6R%2BBQA2Nzw8rKKiIl2%2BfDnp2ZMnTxSPx3X//n0DyYDNNTU16dSpU4rFYqqvr9fFixc1MjKinp6ejRviAGxvjA0AyFhjY6OGh4c3vrb%2BXygUks/n06tXr3KcDNja5OSkjh8/rm/fvunq1ataWFhQcXGxurq6WJUF5AHKK4CM/Xd%2BcDPxeFwej0dv3rzJcTIAwE7FzCuAjO3du1crKytJlxP8KxqNbrr/FTDp6dOnCgQC%2Bvz5sywWi0pLS3XixAk1NzebjgYgDcy8AsjY4cOH9ejRoy2f37x5U4cOHcpdICCFwcFB3blzR1VVVers7NS5c%2Bd04MAB3bhxQ%2BPj46bjAUgDYwMAMvbx40edPn1aXq9Xra2tcjgcWl9f17t37zQyMqJgMKhnz57J4XCYjgpIkrxer/x%2Bf9Js6/z8vHp7e5nPBvIAYwMAMuZwODQ6Oqrr16%2Brra1tY/Y1Ho%2Brrq5Oo6OjFFdsK7FYTC6XK%2Bm8srJS0WjUQCIAf4ryCiArFRUVGhsb0/LyssLh8MYMYWFhoeloQBKXy6Xnz5%2BrpaXlt/MXL16orKzMUCoAf4KxAQDAX2NmZkbt7e0qLi6W0%2BmUJH348EHhcFi3b9%2BW1%2Bs1nBBAKpRXAMBfZWlpSS9fvty4yri0tFRHjx5VNBpVTU2N6XgAUqC8AgAgqbq6WsFg0HQMACmwKgsAACV%2BNASw/VFeAQCQtrwpDsD2QnkFAABA3mBVFgBgx5uYmEj5zvr6eg6SAMgW5RUAsOP5/f6U79hsthwkAZAttg0AAAAgbzDzCgAAgLxBeQUAAEDeoLwCAAAgb1BeAQAAkDcorwAAAMgblFcAAADkDcorAAAA8sZP4ajJDNzvLCsAAAAASUVORK5CYII%3D\" class=\"center-img\">\n",
              "</div>\n",
              "    <div class=\"row headerrow highlight\">\n",
              "        <h1>Sample</h1>\n",
              "    </div>\n",
              "    <div class=\"row variablerow\">\n",
              "    <div class=\"col-md-12\" style=\"overflow:scroll; width: 100%%; overflow-y: hidden;\">\n",
              "        <table border=\"1\" class=\"dataframe sample\">\n",
              "  <thead>\n",
              "    <tr style=\"text-align: right;\">\n",
              "      <th></th>\n",
              "      <th>Loan_ID</th>\n",
              "      <th>Gender</th>\n",
              "      <th>Married</th>\n",
              "      <th>Dependents</th>\n",
              "      <th>Education</th>\n",
              "      <th>Self_Employed</th>\n",
              "      <th>ApplicantIncome</th>\n",
              "      <th>CoapplicantIncome</th>\n",
              "      <th>LoanAmount</th>\n",
              "      <th>Loan_Amount_Term</th>\n",
              "      <th>Credit_History</th>\n",
              "      <th>Property_Area</th>\n",
              "      <th>Loan_Status</th>\n",
              "    </tr>\n",
              "  </thead>\n",
              "  <tbody>\n",
              "    <tr>\n",
              "      <th>0</th>\n",
              "      <td>LP001002</td>\n",
              "      <td>Male</td>\n",
              "      <td>No</td>\n",
              "      <td>0</td>\n",
              "      <td>Graduate</td>\n",
              "      <td>No</td>\n",
              "      <td>5849</td>\n",
              "      <td>0.0</td>\n",
              "      <td>NaN</td>\n",
              "      <td>360.0</td>\n",
              "      <td>1.0</td>\n",
              "      <td>Urban</td>\n",
              "      <td>Y</td>\n",
              "    </tr>\n",
              "    <tr>\n",
              "      <th>1</th>\n",
              "      <td>LP001003</td>\n",
              "      <td>Male</td>\n",
              "      <td>Yes</td>\n",
              "      <td>1</td>\n",
              "      <td>Graduate</td>\n",
              "      <td>No</td>\n",
              "      <td>4583</td>\n",
              "      <td>1508.0</td>\n",
              "      <td>128.0</td>\n",
              "      <td>360.0</td>\n",
              "      <td>1.0</td>\n",
              "      <td>Rural</td>\n",
              "      <td>N</td>\n",
              "    </tr>\n",
              "    <tr>\n",
              "      <th>2</th>\n",
              "      <td>LP001005</td>\n",
              "      <td>Male</td>\n",
              "      <td>Yes</td>\n",
              "      <td>0</td>\n",
              "      <td>Graduate</td>\n",
              "      <td>Yes</td>\n",
              "      <td>3000</td>\n",
              "      <td>0.0</td>\n",
              "      <td>66.0</td>\n",
              "      <td>360.0</td>\n",
              "      <td>1.0</td>\n",
              "      <td>Urban</td>\n",
              "      <td>Y</td>\n",
              "    </tr>\n",
              "    <tr>\n",
              "      <th>3</th>\n",
              "      <td>LP001006</td>\n",
              "      <td>Male</td>\n",
              "      <td>Yes</td>\n",
              "      <td>0</td>\n",
              "      <td>Not Graduate</td>\n",
              "      <td>No</td>\n",
              "      <td>2583</td>\n",
              "      <td>2358.0</td>\n",
              "      <td>120.0</td>\n",
              "      <td>360.0</td>\n",
              "      <td>1.0</td>\n",
              "      <td>Urban</td>\n",
              "      <td>Y</td>\n",
              "    </tr>\n",
              "    <tr>\n",
              "      <th>4</th>\n",
              "      <td>LP001008</td>\n",
              "      <td>Male</td>\n",
              "      <td>No</td>\n",
              "      <td>0</td>\n",
              "      <td>Graduate</td>\n",
              "      <td>No</td>\n",
              "      <td>6000</td>\n",
              "      <td>0.0</td>\n",
              "      <td>141.0</td>\n",
              "      <td>360.0</td>\n",
              "      <td>1.0</td>\n",
              "      <td>Urban</td>\n",
              "      <td>Y</td>\n",
              "    </tr>\n",
              "  </tbody>\n",
              "</table>\n",
              "    </div>\n",
              "</div>\n",
              "</div>"
            ],
            "text/plain": [
              "<pandas_profiling.ProfileReport at 0x7f9b8ed33358>"
            ]
          },
          "metadata": {
            "tags": []
          },
          "execution_count": 49
        }
      ]
    },
    {
      "cell_type": "code",
      "metadata": {
        "id": "qyKpopXEkTT8",
        "colab_type": "code",
        "colab": {}
      },
      "source": [
        ""
      ],
      "execution_count": 0,
      "outputs": []
    },
    {
      "cell_type": "code",
      "metadata": {
        "id": "3-xcf2rZj-us",
        "colab_type": "code",
        "colab": {}
      },
      "source": [
        ""
      ],
      "execution_count": 0,
      "outputs": []
    },
    {
      "cell_type": "code",
      "metadata": {
        "id": "s_fLZMZpiMVr",
        "colab_type": "code",
        "colab": {}
      },
      "source": [
        ""
      ],
      "execution_count": 0,
      "outputs": []
    },
    {
      "cell_type": "code",
      "metadata": {
        "id": "-jiwzYVViLIS",
        "colab_type": "code",
        "colab": {}
      },
      "source": [
        ""
      ],
      "execution_count": 0,
      "outputs": []
    },
    {
      "cell_type": "code",
      "metadata": {
        "id": "iIOS3BWxiGz6",
        "colab_type": "code",
        "colab": {}
      },
      "source": [
        ""
      ],
      "execution_count": 0,
      "outputs": []
    },
    {
      "cell_type": "code",
      "metadata": {
        "id": "k5zkHIX6hn-T",
        "colab_type": "code",
        "colab": {}
      },
      "source": [
        ""
      ],
      "execution_count": 0,
      "outputs": []
    },
    {
      "cell_type": "code",
      "metadata": {
        "id": "14wrH1ElhmcL",
        "colab_type": "code",
        "colab": {}
      },
      "source": [
        ""
      ],
      "execution_count": 0,
      "outputs": []
    },
    {
      "cell_type": "code",
      "metadata": {
        "id": "Wo4rfZ4Zhehc",
        "colab_type": "code",
        "colab": {}
      },
      "source": [
        ""
      ],
      "execution_count": 0,
      "outputs": []
    },
    {
      "cell_type": "code",
      "metadata": {
        "id": "1PMagthMfqKR",
        "colab_type": "code",
        "colab": {}
      },
      "source": [
        ""
      ],
      "execution_count": 0,
      "outputs": []
    },
    {
      "cell_type": "code",
      "metadata": {
        "id": "-AoN_ut7fKP6",
        "colab_type": "code",
        "colab": {}
      },
      "source": [
        ""
      ],
      "execution_count": 0,
      "outputs": []
    },
    {
      "cell_type": "code",
      "metadata": {
        "id": "uML1TWWFesEE",
        "colab_type": "code",
        "colab": {}
      },
      "source": [
        ""
      ],
      "execution_count": 0,
      "outputs": []
    },
    {
      "cell_type": "code",
      "metadata": {
        "id": "7KdP258sdd5-",
        "colab_type": "code",
        "colab": {}
      },
      "source": [
        ""
      ],
      "execution_count": 0,
      "outputs": []
    },
    {
      "cell_type": "code",
      "metadata": {
        "id": "kxu82O9mdQjB",
        "colab_type": "code",
        "colab": {}
      },
      "source": [
        ""
      ],
      "execution_count": 0,
      "outputs": []
    },
    {
      "cell_type": "code",
      "metadata": {
        "id": "DTuBVJPcdHl5",
        "colab_type": "code",
        "colab": {}
      },
      "source": [
        ""
      ],
      "execution_count": 0,
      "outputs": []
    },
    {
      "cell_type": "code",
      "metadata": {
        "id": "eAMazfwrdE2B",
        "colab_type": "code",
        "colab": {}
      },
      "source": [
        ""
      ],
      "execution_count": 0,
      "outputs": []
    }
  ]
}
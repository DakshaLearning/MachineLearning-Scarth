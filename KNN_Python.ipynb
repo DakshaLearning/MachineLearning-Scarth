{
  "nbformat": 4,
  "nbformat_minor": 0,
  "metadata": {
    "colab": {
      "name": "KNN Python.ipynb",
      "provenance": [],
      "collapsed_sections": []
    },
    "kernelspec": {
      "name": "python3",
      "display_name": "Python 3"
    }
  },
  "cells": [
    {
      "cell_type": "code",
      "metadata": {
        "id": "ZOo00nQs5u1-",
        "colab_type": "code",
        "colab": {}
      },
      "source": [
        "import numpy as np\n",
        "import pandas as pd\n",
        "import warnings\n",
        "warnings.filterwarnings('ignore')"
      ],
      "execution_count": 0,
      "outputs": []
    },
    {
      "cell_type": "code",
      "metadata": {
        "id": "ZRUS1EAt7EQc",
        "colab_type": "code",
        "colab": {}
      },
      "source": [
        "dc_listings = pd.read_csv('listings3.csv')\n",
        "#dc_listings.columns"
      ],
      "execution_count": 0,
      "outputs": []
    },
    {
      "cell_type": "code",
      "metadata": {
        "id": "zyLSLOVo7SJ1",
        "colab_type": "code",
        "colab": {}
      },
      "source": [
        "dc_listings = dc_listings[['accommodates', 'bedrooms', 'bathrooms','number_of_reviews','price']]"
      ],
      "execution_count": 0,
      "outputs": []
    },
    {
      "cell_type": "code",
      "metadata": {
        "id": "OE5eSPAZ7TOJ",
        "colab_type": "code",
        "outputId": "dc7f1211-315b-4ea3-e12d-649d95bfa610",
        "colab": {
          "base_uri": "https://localhost:8080/",
          "height": 1071
        }
      },
      "source": [
        "dc_listings['price']"
      ],
      "execution_count": 0,
      "outputs": [
        {
          "output_type": "execute_result",
          "data": {
            "text/plain": [
              "0       $160.00\n",
              "1       $350.00\n",
              "2        $50.00\n",
              "3        $95.00\n",
              "4        $50.00\n",
              "5        $99.00\n",
              "6       $100.00\n",
              "7       $100.00\n",
              "8        $38.00\n",
              "9        $71.00\n",
              "10       $97.00\n",
              "11       $55.00\n",
              "12       $50.00\n",
              "13       $99.00\n",
              "14       $60.00\n",
              "15       $52.00\n",
              "16       $23.00\n",
              "17      $200.00\n",
              "18       $40.00\n",
              "19          NaN\n",
              "20          NaN\n",
              "21          NaN\n",
              "22          NaN\n",
              "23          NaN\n",
              "24          NaN\n",
              "25          NaN\n",
              "26          NaN\n",
              "27          NaN\n",
              "28          NaN\n",
              "29          NaN\n",
              "         ...   \n",
              "3693        NaN\n",
              "3694        NaN\n",
              "3695        NaN\n",
              "3696        NaN\n",
              "3697        NaN\n",
              "3698        NaN\n",
              "3699        NaN\n",
              "3700        NaN\n",
              "3701        NaN\n",
              "3702        NaN\n",
              "3703        NaN\n",
              "3704        NaN\n",
              "3705        NaN\n",
              "3706        NaN\n",
              "3707        NaN\n",
              "3708        NaN\n",
              "3709        NaN\n",
              "3710        NaN\n",
              "3711        NaN\n",
              "3712        NaN\n",
              "3713        NaN\n",
              "3714        NaN\n",
              "3715        NaN\n",
              "3716        NaN\n",
              "3717        NaN\n",
              "3718        NaN\n",
              "3719        NaN\n",
              "3720        NaN\n",
              "3721        NaN\n",
              "3722        NaN\n",
              "Name: price, Length: 3723, dtype: object"
            ]
          },
          "metadata": {
            "tags": []
          },
          "execution_count": 16
        }
      ]
    },
    {
      "cell_type": "code",
      "metadata": {
        "id": "_GqHLG0b7uL4",
        "colab_type": "code",
        "colab": {}
      },
      "source": [
        "dc_listings['price'] = dc_listings['price'].apply(lambda x:x.replace('$',''))\n",
        "dc_listings['price'] = dc_listings['price'].apply(lambda x:x.replace(',',''))\n",
        "dc_listings['price'] = dc_listings['price'].astype('float')"
      ],
      "execution_count": 0,
      "outputs": []
    },
    {
      "cell_type": "code",
      "metadata": {
        "id": "3mTiMuQx70v8",
        "colab_type": "code",
        "outputId": "c8b21362-9f4e-4ba5-e2ec-b4f9b2b59abf",
        "colab": {
          "base_uri": "https://localhost:8080/",
          "height": 119
        }
      },
      "source": [
        "dc_listings['price'].head()"
      ],
      "execution_count": 0,
      "outputs": [
        {
          "output_type": "execute_result",
          "data": {
            "text/plain": [
              "0    160.0\n",
              "1    350.0\n",
              "2     50.0\n",
              "3     95.0\n",
              "4     50.0\n",
              "Name: price, dtype: float64"
            ]
          },
          "metadata": {
            "tags": []
          },
          "execution_count": 24
        }
      ]
    },
    {
      "cell_type": "code",
      "metadata": {
        "id": "kaexN_8R73GR",
        "colab_type": "code",
        "outputId": "5a075ae9-9703-4173-edd1-f0451fbc84ec",
        "colab": {
          "base_uri": "https://localhost:8080/",
          "height": 187
        }
      },
      "source": [
        "dc_listings.info()"
      ],
      "execution_count": 0,
      "outputs": [
        {
          "output_type": "stream",
          "text": [
            "<class 'pandas.core.frame.DataFrame'>\n",
            "Int64Index: 17 entries, 0 to 18\n",
            "Data columns (total 5 columns):\n",
            "accommodates         17 non-null float64\n",
            "bedrooms             17 non-null float64\n",
            "bathrooms            17 non-null float64\n",
            "number_of_reviews    17 non-null float64\n",
            "price                17 non-null float64\n",
            "dtypes: float64(5)\n",
            "memory usage: 816.0 bytes\n"
          ],
          "name": "stdout"
        }
      ]
    },
    {
      "cell_type": "code",
      "metadata": {
        "id": "EyHNfg9a8Atj",
        "colab_type": "code",
        "outputId": "11f00d44-5ce5-46d5-89d6-b293c40aba06",
        "colab": {
          "base_uri": "https://localhost:8080/",
          "height": 187
        }
      },
      "source": [
        "\n",
        "dc_listings = dc_listings.dropna(axis=0)\n",
        "dc_listings.info()"
      ],
      "execution_count": 0,
      "outputs": [
        {
          "output_type": "stream",
          "text": [
            "<class 'pandas.core.frame.DataFrame'>\n",
            "Int64Index: 17 entries, 0 to 18\n",
            "Data columns (total 5 columns):\n",
            "accommodates         17 non-null float64\n",
            "bedrooms             17 non-null float64\n",
            "bathrooms            17 non-null float64\n",
            "number_of_reviews    17 non-null float64\n",
            "price                17 non-null float64\n",
            "dtypes: float64(5)\n",
            "memory usage: 816.0 bytes\n"
          ],
          "name": "stdout"
        }
      ]
    },
    {
      "cell_type": "code",
      "metadata": {
        "id": "EGU7Y2nM8Erz",
        "colab_type": "code",
        "colab": {}
      },
      "source": [
        "train_rows  =  int(dc_listings.shape[0] * 0.66)\n",
        "train = dc_listings.iloc[0:train_rows]\n",
        "test = dc_listings.iloc[train_rows:]"
      ],
      "execution_count": 0,
      "outputs": []
    },
    {
      "cell_type": "code",
      "metadata": {
        "id": "0JoP0DHT8K70",
        "colab_type": "code",
        "outputId": "e765d9b5-28cf-4042-dd7b-3bcbaaca2ccf",
        "colab": {
          "base_uri": "https://localhost:8080/",
          "height": 34
        }
      },
      "source": [
        "features = list(train.columns)\n",
        "features.remove('price')\n",
        "features"
      ],
      "execution_count": 0,
      "outputs": [
        {
          "output_type": "execute_result",
          "data": {
            "text/plain": [
              "['accommodates', 'bedrooms', 'bathrooms', 'number_of_reviews']"
            ]
          },
          "metadata": {
            "tags": []
          },
          "execution_count": 29
        }
      ]
    },
    {
      "cell_type": "code",
      "metadata": {
        "id": "9Wu0vTuw8PZN",
        "colab_type": "code",
        "colab": {}
      },
      "source": [
        "def predict_price(row,temp_df):\n",
        "    distances = temp_df[features] - row\n",
        "    squared = np.square(distances)\n",
        "    dist = squared.sum(axis=1)\n",
        "    temp_df['distance'] = dist**0.5\n",
        "    new_df = temp_df.sort_values('distance')\n",
        "    nearest_neighbor_prices = new_df['price'].iloc[0:5]\n",
        "    predicted_price = nearest_neighbor_prices.mean()\n",
        "    return predicted_price\n",
        "   "
      ],
      "execution_count": 0,
      "outputs": []
    },
    {
      "cell_type": "code",
      "metadata": {
        "id": "Et9_g5N48jDi",
        "colab_type": "code",
        "colab": {}
      },
      "source": [
        "for i,row in test[features].iterrows():\n",
        "    predicted_price = predict_price(row,train)\n",
        "    test.loc[i,'predicted_price'] = predicted_price"
      ],
      "execution_count": 0,
      "outputs": []
    },
    {
      "cell_type": "code",
      "metadata": {
        "id": "iAG71v8-9Tjx",
        "colab_type": "code",
        "outputId": "46da8fda-6934-414e-bbb0-99df126a419e",
        "colab": {
          "base_uri": "https://localhost:8080/",
          "height": 235
        }
      },
      "source": [
        "train.sort_values('distance')\n",
        "test"
      ],
      "execution_count": 0,
      "outputs": [
        {
          "output_type": "execute_result",
          "data": {
            "text/html": [
              "<div>\n",
              "<style scoped>\n",
              "    .dataframe tbody tr th:only-of-type {\n",
              "        vertical-align: middle;\n",
              "    }\n",
              "\n",
              "    .dataframe tbody tr th {\n",
              "        vertical-align: top;\n",
              "    }\n",
              "\n",
              "    .dataframe thead th {\n",
              "        text-align: right;\n",
              "    }\n",
              "</style>\n",
              "<table border=\"1\" class=\"dataframe\">\n",
              "  <thead>\n",
              "    <tr style=\"text-align: right;\">\n",
              "      <th></th>\n",
              "      <th>accommodates</th>\n",
              "      <th>bedrooms</th>\n",
              "      <th>bathrooms</th>\n",
              "      <th>number_of_reviews</th>\n",
              "      <th>price</th>\n",
              "      <th>predicted_price</th>\n",
              "    </tr>\n",
              "  </thead>\n",
              "  <tbody>\n",
              "    <tr>\n",
              "      <th>12</th>\n",
              "      <td>2.0</td>\n",
              "      <td>1.0</td>\n",
              "      <td>1.0</td>\n",
              "      <td>0.0</td>\n",
              "      <td>50.0</td>\n",
              "      <td>67.6</td>\n",
              "    </tr>\n",
              "    <tr>\n",
              "      <th>13</th>\n",
              "      <td>2.0</td>\n",
              "      <td>0.0</td>\n",
              "      <td>1.0</td>\n",
              "      <td>0.0</td>\n",
              "      <td>99.0</td>\n",
              "      <td>67.6</td>\n",
              "    </tr>\n",
              "    <tr>\n",
              "      <th>15</th>\n",
              "      <td>2.0</td>\n",
              "      <td>1.0</td>\n",
              "      <td>1.0</td>\n",
              "      <td>1.0</td>\n",
              "      <td>52.0</td>\n",
              "      <td>67.6</td>\n",
              "    </tr>\n",
              "    <tr>\n",
              "      <th>16</th>\n",
              "      <td>1.0</td>\n",
              "      <td>1.0</td>\n",
              "      <td>1.0</td>\n",
              "      <td>1.0</td>\n",
              "      <td>23.0</td>\n",
              "      <td>67.6</td>\n",
              "    </tr>\n",
              "    <tr>\n",
              "      <th>17</th>\n",
              "      <td>2.0</td>\n",
              "      <td>1.0</td>\n",
              "      <td>1.0</td>\n",
              "      <td>0.0</td>\n",
              "      <td>200.0</td>\n",
              "      <td>67.6</td>\n",
              "    </tr>\n",
              "    <tr>\n",
              "      <th>18</th>\n",
              "      <td>4.0</td>\n",
              "      <td>2.0</td>\n",
              "      <td>1.0</td>\n",
              "      <td>0.0</td>\n",
              "      <td>40.0</td>\n",
              "      <td>100.8</td>\n",
              "    </tr>\n",
              "  </tbody>\n",
              "</table>\n",
              "</div>"
            ],
            "text/plain": [
              "    accommodates  bedrooms  bathrooms  number_of_reviews  price  \\\n",
              "12           2.0       1.0        1.0                0.0   50.0   \n",
              "13           2.0       0.0        1.0                0.0   99.0   \n",
              "15           2.0       1.0        1.0                1.0   52.0   \n",
              "16           1.0       1.0        1.0                1.0   23.0   \n",
              "17           2.0       1.0        1.0                0.0  200.0   \n",
              "18           4.0       2.0        1.0                0.0   40.0   \n",
              "\n",
              "    predicted_price  \n",
              "12             67.6  \n",
              "13             67.6  \n",
              "15             67.6  \n",
              "16             67.6  \n",
              "17             67.6  \n",
              "18            100.8  "
            ]
          },
          "metadata": {
            "tags": []
          },
          "execution_count": 46
        }
      ]
    },
    {
      "cell_type": "code",
      "metadata": {
        "id": "Y6fOOWZh8obn",
        "colab_type": "code",
        "outputId": "d9f78772-4dff-48bc-cc34-46090f8eccfd",
        "colab": {
          "base_uri": "https://localhost:8080/",
          "height": 51
        }
      },
      "source": [
        "mae = np.absolute(test['price'] - test['predicted_price']).sum()/test.shape[0]\n",
        "print(test.shape[0])\n",
        "print(mae)"
      ],
      "execution_count": 0,
      "outputs": [
        {
          "output_type": "stream",
          "text": [
            "6\n",
            "50.4\n"
          ],
          "name": "stdout"
        }
      ]
    },
    {
      "cell_type": "code",
      "metadata": {
        "id": "Dnr-sWxpWCmd",
        "colab_type": "code",
        "outputId": "7d999e7a-dbfe-42d2-b8aa-737f30c9d462",
        "colab": {
          "base_uri": "https://localhost:8080/",
          "height": 34
        }
      },
      "source": [
        "np.absolute(test['price'] - test['predicted_price']).sum()"
      ],
      "execution_count": 0,
      "outputs": [
        {
          "output_type": "execute_result",
          "data": {
            "text/plain": [
              "302.4"
            ]
          },
          "metadata": {
            "tags": []
          },
          "execution_count": 41
        }
      ]
    },
    {
      "cell_type": "code",
      "metadata": {
        "id": "VSked34_9aa8",
        "colab_type": "code",
        "outputId": "7c2fe2d2-edc4-41cd-dff4-a9af3e57c4e8",
        "colab": {
          "base_uri": "https://localhost:8080/",
          "height": 34
        }
      },
      "source": [
        "our_flat = pd.Series([4,2,1,23])\n",
        "our_flat.index = pd.Index(features)\n",
        "predicted_price = predict_price(our_flat,train)\n",
        "print(\"We should list our flat at a nightly rate of $%d.\"%(predicted_price))"
      ],
      "execution_count": 0,
      "outputs": [
        {
          "output_type": "stream",
          "text": [
            "We should list our flat at a nightly rate of $199.\n"
          ],
          "name": "stdout"
        }
      ]
    },
    {
      "cell_type": "markdown",
      "metadata": {
        "id": "dc4O0fRt7Vkq",
        "colab_type": "text"
      },
      "source": [
        ""
      ]
    }
  ]
}
{
  "nbformat": 4,
  "nbformat_minor": 0,
  "metadata": {
    "colab": {
      "name": "Linear Assumptions.ipynb",
      "provenance": [],
      "collapsed_sections": []
    },
    "kernelspec": {
      "name": "python3",
      "display_name": "Python 3"
    },
    "accelerator": "GPU"
  },
  "cells": [
    {
      "cell_type": "code",
      "metadata": {
        "id": "-W5Tv1g4cT6X",
        "colab_type": "code",
        "colab": {}
      },
      "source": [
        "import numpy as np\n",
        "import statsmodels\n",
        "import seaborn as sns\n",
        "\n",
        "from matplotlib import pyplot as plt\n",
        "%matplotlib inline\n",
        "import pandas as pd\n"
      ],
      "execution_count": 0,
      "outputs": []
    },
    {
      "cell_type": "code",
      "metadata": {
        "id": "YEgcaW9N6c1U",
        "colab_type": "code",
        "colab": {}
      },
      "source": [
        ""
      ],
      "execution_count": 0,
      "outputs": []
    },
    {
      "cell_type": "code",
      "metadata": {
        "id": "27gAekwvdLFl",
        "colab_type": "code",
        "outputId": "0f74604b-65d8-449b-b825-f7e57a1b9b44",
        "colab": {
          "base_uri": "https://localhost:8080/",
          "height": 204
        }
      },
      "source": [
        "!pip install pa"
      ],
      "execution_count": 0,
      "outputs": [
        {
          "output_type": "stream",
          "text": [
            "Collecting pa\n",
            "  Downloading https://files.pythonhosted.org/packages/6e/ff/5605ddd218fad24ade33b2696aed17b724fbcb2ae22c1cb4139a466ecc7f/pa-0.0.23.dev0.tar.gz\n",
            "Collecting html2text (from pa)\n",
            "  Downloading https://files.pythonhosted.org/packages/16/20/de2b458ef434713053dd83209a03a5431ebe0527c8e14d9ae7838ff67d8a/html2text-2018.1.9-py3-none-any.whl\n",
            "Requirement already satisfied: lxml in /usr/local/lib/python3.6/dist-packages (from pa) (4.2.6)\n",
            "Building wheels for collected packages: pa\n",
            "  Running setup.py bdist_wheel for pa ... \u001b[?25l-\b \b\\\b \bdone\n",
            "\u001b[?25h  Stored in directory: /root/.cache/pip/wheels/6b/26/8a/3e0ae4378f4f8d59283df3460f395c25a25eb3a68feabb1187\n",
            "Successfully built pa\n",
            "Installing collected packages: html2text, pa\n",
            "Successfully installed html2text-2018.1.9 pa-0.0.23.dev0\n"
          ],
          "name": "stdout"
        }
      ]
    },
    {
      "cell_type": "markdown",
      "metadata": {
        "id": "W7yQbNwI4i1Q",
        "colab_type": "text"
      },
      "source": [
        ""
      ]
    },
    {
      "cell_type": "code",
      "metadata": {
        "id": "JZ1W79OfzOXt",
        "colab_type": "code",
        "colab": {}
      },
      "source": [
        ""
      ],
      "execution_count": 0,
      "outputs": []
    },
    {
      "cell_type": "code",
      "metadata": {
        "id": "IkZ9dKJwdODV",
        "colab_type": "code",
        "colab": {}
      },
      "source": [
        "import pa"
      ],
      "execution_count": 0,
      "outputs": []
    },
    {
      "cell_type": "code",
      "metadata": {
        "id": "jRNsLDJs3t0D",
        "colab_type": "code",
        "colab": {}
      },
      "source": [
        ""
      ],
      "execution_count": 0,
      "outputs": []
    },
    {
      "cell_type": "markdown",
      "metadata": {
        "id": "qzgqK4lzeTRV",
        "colab_type": "text"
      },
      "source": [
        "**http://vincentarelbundock.github.io/Rdatasets/datasets.html**"
      ]
    },
    {
      "cell_type": "code",
      "metadata": {
        "id": "zCTdG2Jeced3",
        "colab_type": "code",
        "colab": {}
      },
      "source": [
        "\n",
        "data=pd.read_csv('Ginzberg.csv')\n",
        "df = data[['adjdep', 'adjfatal', 'adjsimp']]\n",
        "df"
      ],
      "execution_count": 0,
      "outputs": []
    },
    {
      "cell_type": "code",
      "metadata": {
        "id": "9EWoo-_K7bGw",
        "colab_type": "code",
        "colab": {}
      },
      "source": [
        ""
      ],
      "execution_count": 0,
      "outputs": []
    },
    {
      "cell_type": "code",
      "metadata": {
        "id": "qA5ZAYBZ3u5E",
        "colab_type": "code",
        "colab": {}
      },
      "source": [
        ""
      ],
      "execution_count": 0,
      "outputs": []
    },
    {
      "cell_type": "code",
      "metadata": {
        "id": "pK-z2w-9g9Jp",
        "colab_type": "code",
        "colab": {}
      },
      "source": [
        "%%capture\n",
        "#gather features\n",
        "features = \"+\".join(df.columns)\n"
      ],
      "execution_count": 0,
      "outputs": []
    },
    {
      "cell_type": "code",
      "metadata": {
        "id": "p0aGXOZh3vvD",
        "colab_type": "code",
        "colab": {}
      },
      "source": [
        ""
      ],
      "execution_count": 0,
      "outputs": []
    },
    {
      "cell_type": "code",
      "metadata": {
        "id": "dCV0HVcNhrdZ",
        "colab_type": "code",
        "colab": {}
      },
      "source": [
        "# get y and X dataframes based on this regression:\n",
        "y, X = dmatrices('adjdep ~' + features, df, return_type='dataframe')"
      ],
      "execution_count": 0,
      "outputs": []
    },
    {
      "cell_type": "code",
      "metadata": {
        "id": "zvczkPkBhzxx",
        "colab_type": "code",
        "colab": {}
      },
      "source": [
        ""
      ],
      "execution_count": 0,
      "outputs": []
    },
    {
      "cell_type": "markdown",
      "metadata": {
        "id": "OmNE2_Qyh3cN",
        "colab_type": "text"
      },
      "source": [
        "**Step 2: Calculate VIF Factors**"
      ]
    },
    {
      "cell_type": "code",
      "metadata": {
        "id": "r9JccqwMh4Qx",
        "colab_type": "code",
        "colab": {}
      },
      "source": [
        "# For each X, calculate VIF and save in dataframe\n",
        "vif = pd.DataFrame()\n",
        "vif[\"VIF Factor\"] = [variance_inflation_factor(X.values, i) for i in range(X.shape[1])]\n",
        "vif[\"features\"] = X.columns"
      ],
      "execution_count": 0,
      "outputs": []
    },
    {
      "cell_type": "code",
      "metadata": {
        "id": "w3SdzTtG3xNU",
        "colab_type": "code",
        "colab": {}
      },
      "source": [
        ""
      ],
      "execution_count": 0,
      "outputs": []
    },
    {
      "cell_type": "code",
      "metadata": {
        "id": "T_Pr9y7Rh7UJ",
        "colab_type": "code",
        "outputId": "27bd002d-7d24-477a-8eb9-d6476e83ce3f",
        "colab": {
          "base_uri": "https://localhost:8080/",
          "height": 173
        }
      },
      "source": [
        "vif.round(1)"
      ],
      "execution_count": 0,
      "outputs": [
        {
          "output_type": "execute_result",
          "data": {
            "text/html": [
              "<div>\n",
              "<style scoped>\n",
              "    .dataframe tbody tr th:only-of-type {\n",
              "        vertical-align: middle;\n",
              "    }\n",
              "\n",
              "    .dataframe tbody tr th {\n",
              "        vertical-align: top;\n",
              "    }\n",
              "\n",
              "    .dataframe thead th {\n",
              "        text-align: right;\n",
              "    }\n",
              "</style>\n",
              "<table border=\"1\" class=\"dataframe\">\n",
              "  <thead>\n",
              "    <tr style=\"text-align: right;\">\n",
              "      <th></th>\n",
              "      <th>VIF Factor</th>\n",
              "      <th>features</th>\n",
              "    </tr>\n",
              "  </thead>\n",
              "  <tbody>\n",
              "    <tr>\n",
              "      <th>0</th>\n",
              "      <td>6.7</td>\n",
              "      <td>Intercept</td>\n",
              "    </tr>\n",
              "    <tr>\n",
              "      <th>1</th>\n",
              "      <td>1.8</td>\n",
              "      <td>adjdep</td>\n",
              "    </tr>\n",
              "    <tr>\n",
              "      <th>2</th>\n",
              "      <td>1.7</td>\n",
              "      <td>adjfatal</td>\n",
              "    </tr>\n",
              "    <tr>\n",
              "      <th>3</th>\n",
              "      <td>1.6</td>\n",
              "      <td>adjsimp</td>\n",
              "    </tr>\n",
              "  </tbody>\n",
              "</table>\n",
              "</div>"
            ],
            "text/plain": [
              "   VIF Factor   features\n",
              "0         6.7  Intercept\n",
              "1         1.8     adjdep\n",
              "2         1.7   adjfatal\n",
              "3         1.6    adjsimp"
            ]
          },
          "metadata": {
            "tags": []
          },
          "execution_count": 31
        }
      ]
    },
    {
      "cell_type": "code",
      "metadata": {
        "id": "2PchF_-dh-Ah",
        "colab_type": "code",
        "colab": {}
      },
      "source": [
        ""
      ],
      "execution_count": 0,
      "outputs": []
    },
    {
      "cell_type": "markdown",
      "metadata": {
        "id": "Q1KOc2idiA8B",
        "colab_type": "text"
      },
      "source": [
        "\n",
        "**Conclusion : There is no multicolliniority  \n",
        " VIF <= 4 No multicolinority  and  whereas a value of >= 10 implies serious multicollinearity. **"
      ]
    },
    {
      "cell_type": "code",
      "metadata": {
        "id": "CPMKGot0g_hg",
        "colab_type": "code",
        "colab": {}
      },
      "source": [
        ""
      ],
      "execution_count": 0,
      "outputs": []
    },
    {
      "cell_type": "markdown",
      "metadata": {
        "id": "Pl-H0MI8dWZe",
        "colab_type": "text"
      },
      "source": [
        "**inear regression is simple, with statsmodels. We are able to use R style regression formula.**"
      ]
    },
    {
      "cell_type": "code",
      "metadata": {
        "id": "LIa-eUbPdXY9",
        "colab_type": "code",
        "colab": {}
      },
      "source": [
        "import statsmodels.formula.api as smf\n",
        "reg = smf.ols('adjdep ~ adjfatal + adjsimp', data=df).fit()\n",
        "\n",
        "\n",
        "#dw_res = np.sum(np.diff(reg.resid.values))"
      ],
      "execution_count": 0,
      "outputs": []
    },
    {
      "cell_type": "code",
      "metadata": {
        "id": "FRboHcQH4Tdz",
        "colab_type": "code",
        "outputId": "89f70d3e-adc7-46ba-ddda-bdc935a428f4",
        "colab": {
          "base_uri": "https://localhost:8080/",
          "height": 34
        }
      },
      "source": [
        "dw_res"
      ],
      "execution_count": 0,
      "outputs": [
        {
          "output_type": "execute_result",
          "data": {
            "text/plain": [
              "0.7221554079763797"
            ]
          },
          "metadata": {
            "tags": []
          },
          "execution_count": 47
        }
      ]
    },
    {
      "cell_type": "code",
      "metadata": {
        "id": "TYQmbmzz4WfD",
        "colab_type": "code",
        "outputId": "405394b5-4f01-4ad8-b2f2-a6945d27aec4",
        "colab": {
          "base_uri": "https://localhost:8080/",
          "height": 397
        }
      },
      "source": [
        "reg.summary()"
      ],
      "execution_count": 0,
      "outputs": [
        {
          "output_type": "execute_result",
          "data": {
            "text/html": [
              "<table class=\"simpletable\">\n",
              "<caption>OLS Regression Results</caption>\n",
              "<tr>\n",
              "  <th>Dep. Variable:</th>         <td>adjdep</td>      <th>  R-squared:         </th> <td>   0.433</td>\n",
              "</tr>\n",
              "<tr>\n",
              "  <th>Model:</th>                   <td>OLS</td>       <th>  Adj. R-squared:    </th> <td>   0.419</td>\n",
              "</tr>\n",
              "<tr>\n",
              "  <th>Method:</th>             <td>Least Squares</td>  <th>  F-statistic:       </th> <td>   30.19</td>\n",
              "</tr>\n",
              "<tr>\n",
              "  <th>Date:</th>             <td>Wed, 09 Jan 2019</td> <th>  Prob (F-statistic):</th> <td>1.82e-10</td>\n",
              "</tr>\n",
              "<tr>\n",
              "  <th>Time:</th>                 <td>09:20:45</td>     <th>  Log-Likelihood:    </th> <td> -35.735</td>\n",
              "</tr>\n",
              "<tr>\n",
              "  <th>No. Observations:</th>      <td>    82</td>      <th>  AIC:               </th> <td>   77.47</td>\n",
              "</tr>\n",
              "<tr>\n",
              "  <th>Df Residuals:</th>          <td>    79</td>      <th>  BIC:               </th> <td>   84.69</td>\n",
              "</tr>\n",
              "<tr>\n",
              "  <th>Df Model:</th>              <td>     2</td>      <th>                     </th>     <td> </td>   \n",
              "</tr>\n",
              "<tr>\n",
              "  <th>Covariance Type:</th>      <td>nonrobust</td>    <th>                     </th>     <td> </td>   \n",
              "</tr>\n",
              "</table>\n",
              "<table class=\"simpletable\">\n",
              "<tr>\n",
              "      <td></td>         <th>coef</th>     <th>std err</th>      <th>t</th>      <th>P>|t|</th>  <th>[0.025</th>    <th>0.975]</th>  \n",
              "</tr>\n",
              "<tr>\n",
              "  <th>Intercept</th> <td>    0.2492</td> <td>    0.105</td> <td>    2.365</td> <td> 0.021</td> <td>    0.039</td> <td>    0.459</td>\n",
              "</tr>\n",
              "<tr>\n",
              "  <th>adjfatal</th>  <td>    0.3845</td> <td>    0.100</td> <td>    3.829</td> <td> 0.000</td> <td>    0.185</td> <td>    0.584</td>\n",
              "</tr>\n",
              "<tr>\n",
              "  <th>adjsimp</th>   <td>    0.3663</td> <td>    0.100</td> <td>    3.649</td> <td> 0.000</td> <td>    0.166</td> <td>    0.566</td>\n",
              "</tr>\n",
              "</table>\n",
              "<table class=\"simpletable\">\n",
              "<tr>\n",
              "  <th>Omnibus:</th>       <td>10.510</td> <th>  Durbin-Watson:     </th> <td>   1.178</td>\n",
              "</tr>\n",
              "<tr>\n",
              "  <th>Prob(Omnibus):</th> <td> 0.005</td> <th>  Jarque-Bera (JB):  </th> <td>  10.561</td>\n",
              "</tr>\n",
              "<tr>\n",
              "  <th>Skew:</th>          <td> 0.836</td> <th>  Prob(JB):          </th> <td> 0.00509</td>\n",
              "</tr>\n",
              "<tr>\n",
              "  <th>Kurtosis:</th>      <td> 3.542</td> <th>  Cond. No.          </th> <td>    5.34</td>\n",
              "</tr>\n",
              "</table>"
            ],
            "text/plain": [
              "<class 'statsmodels.iolib.summary.Summary'>\n",
              "\"\"\"\n",
              "                            OLS Regression Results                            \n",
              "==============================================================================\n",
              "Dep. Variable:                 adjdep   R-squared:                       0.433\n",
              "Model:                            OLS   Adj. R-squared:                  0.419\n",
              "Method:                 Least Squares   F-statistic:                     30.19\n",
              "Date:                Wed, 09 Jan 2019   Prob (F-statistic):           1.82e-10\n",
              "Time:                        09:20:45   Log-Likelihood:                -35.735\n",
              "No. Observations:                  82   AIC:                             77.47\n",
              "Df Residuals:                      79   BIC:                             84.69\n",
              "Df Model:                           2                                         \n",
              "Covariance Type:            nonrobust                                         \n",
              "==============================================================================\n",
              "                 coef    std err          t      P>|t|      [0.025      0.975]\n",
              "------------------------------------------------------------------------------\n",
              "Intercept      0.2492      0.105      2.365      0.021       0.039       0.459\n",
              "adjfatal       0.3845      0.100      3.829      0.000       0.185       0.584\n",
              "adjsimp        0.3663      0.100      3.649      0.000       0.166       0.566\n",
              "==============================================================================\n",
              "Omnibus:                       10.510   Durbin-Watson:                   1.178\n",
              "Prob(Omnibus):                  0.005   Jarque-Bera (JB):               10.561\n",
              "Skew:                           0.836   Prob(JB):                      0.00509\n",
              "Kurtosis:                       3.542   Cond. No.                         5.34\n",
              "==============================================================================\n",
              "\n",
              "Warnings:\n",
              "[1] Standard Errors assume that the covariance matrix of the errors is correctly specified.\n",
              "\"\"\""
            ]
          },
          "metadata": {
            "tags": []
          },
          "execution_count": 48
        }
      ]
    },
    {
      "cell_type": "code",
      "metadata": {
        "id": "vF6hiWgY6fzK",
        "colab_type": "code",
        "colab": {}
      },
      "source": [
        "DW = np.sum( np.diff( result.resid.values )**2.0 ) / result.ssr\n",
        "print 'Durbin-Watson: {:.5f}'.format( DW )"
      ],
      "execution_count": 0,
      "outputs": []
    },
    {
      "cell_type": "markdown",
      "metadata": {
        "id": "5ulDLvg14iZG",
        "colab_type": "text"
      },
      "source": [
        "**Look for Durbin – Watson (DW) statistic. It must lie between 0 and 4. If DW = 2, implies no autocorrelation, 0 < DW < 2 implies positive autocorrelation while 2 < DW < 4 indicates negative autocorrelation. Also, you can see residual vs time plot and look for the seasonal or correlated pattern in residual values.**"
      ]
    },
    {
      "cell_type": "code",
      "metadata": {
        "id": "eB4uBusi4kwb",
        "colab_type": "code",
        "colab": {}
      },
      "source": [
        ""
      ],
      "execution_count": 0,
      "outputs": []
    },
    {
      "cell_type": "markdown",
      "metadata": {
        "id": "UkPL1FwK4828",
        "colab_type": "text"
      },
      "source": [
        "**The presence of correlation in error terms drastically reduces model’s accuracy. This usually occurs in time series models where the next instant is dependent on previous instant.**"
      ]
    },
    {
      "cell_type": "code",
      "metadata": {
        "id": "-1kcTD8149uD",
        "colab_type": "code",
        "colab": {}
      },
      "source": [
        ""
      ],
      "execution_count": 0,
      "outputs": []
    },
    {
      "cell_type": "code",
      "metadata": {
        "id": "3nLuFYOy4N18",
        "colab_type": "code",
        "colab": {}
      },
      "source": [
        ""
      ],
      "execution_count": 0,
      "outputs": []
    },
    {
      "cell_type": "code",
      "metadata": {
        "id": "1Tk-ezIb30Xr",
        "colab_type": "code",
        "colab": {}
      },
      "source": [
        ""
      ],
      "execution_count": 0,
      "outputs": []
    },
    {
      "cell_type": "markdown",
      "metadata": {
        "id": "-kHrr7Hndjvt",
        "colab_type": "text"
      },
      "source": [
        "**Regression assumptions\n",
        "**"
      ]
    },
    {
      "cell_type": "markdown",
      "metadata": {
        "id": "R4uY8bUPdovF",
        "colab_type": "text"
      },
      "source": [
        "**1.Linearity & Equal variance**"
      ]
    },
    {
      "cell_type": "markdown",
      "metadata": {
        "id": "8zVJXAqfd1ZU",
        "colab_type": "text"
      },
      "source": [
        "**Both can be tested by plotting residuals vs. predictions, where residuals are prediction errors.\n",
        "**"
      ]
    },
    {
      "cell_type": "code",
      "metadata": {
        "id": "v2cf5HnNd2O8",
        "colab_type": "code",
        "colab": {}
      },
      "source": [
        "pred_val = reg.fittedvalues.copy()"
      ],
      "execution_count": 0,
      "outputs": []
    },
    {
      "cell_type": "code",
      "metadata": {
        "id": "ic4uCxUgeCIL",
        "colab_type": "code",
        "colab": {}
      },
      "source": [
        "true_val = df['adjdep'].values.copy()"
      ],
      "execution_count": 0,
      "outputs": []
    },
    {
      "cell_type": "code",
      "metadata": {
        "id": "K42mJdLyeIud",
        "colab_type": "code",
        "colab": {}
      },
      "source": [
        "residual = true_val - pred_val"
      ],
      "execution_count": 0,
      "outputs": []
    },
    {
      "cell_type": "code",
      "metadata": {
        "id": "muRuwf3aeK2c",
        "colab_type": "code",
        "outputId": "f5f00447-17bc-457b-d65d-53c403e56ebe",
        "colab": {
          "base_uri": "https://localhost:8080/",
          "height": 201
        }
      },
      "source": [
        "fig, ax = plt.subplots(figsize=(6,2.5))\n",
        "_ = ax.scatter(residual, pred_val)\n",
        "plt.plot(pred_val, pred_val, color='red')\n",
        "\n",
        "\n"
      ],
      "execution_count": 0,
      "outputs": [
        {
          "output_type": "execute_result",
          "data": {
            "text/plain": [
              "[<matplotlib.lines.Line2D at 0x7fb291579208>]"
            ]
          },
          "metadata": {
            "tags": []
          },
          "execution_count": 51
        },
        {
          "output_type": "display_data",
          "data": {
            "image/png": "[encoded data removed]",
            "text/plain": [
              "<matplotlib.figure.Figure at 0x7fb292e27fd0>"
            ]
          },
          "metadata": {
            "tags": []
          }
        }
      ]
    },
    {
      "cell_type": "code",
      "metadata": {
        "id": "x1CK1lYn7Qjw",
        "colab_type": "code",
        "colab": {}
      },
      "source": [
        ""
      ],
      "execution_count": 0,
      "outputs": []
    },
    {
      "cell_type": "markdown",
      "metadata": {
        "id": "pGZlUgo47R0Q",
        "colab_type": "text"
      },
      "source": [
        "**Cook's D Definition - Data points with large residuals (outliers) and/or high leverage may distort the outcome and accuracy of a regression. Cook's distance measures the effect of deleting a given observation. Points with a large Cook's distance are considered to merit closer examination in the analysis\n",
        ":**"
      ]
    },
    {
      "cell_type": "code",
      "metadata": {
        "id": "spjAuLGF7UgQ",
        "colab_type": "code",
        "colab": {}
      },
      "source": [
        ""
      ],
      "execution_count": 0,
      "outputs": []
    },
    {
      "cell_type": "code",
      "metadata": {
        "id": "-6qrsCzj7Sk1",
        "colab_type": "code",
        "colab": {}
      },
      "source": [
        ""
      ],
      "execution_count": 0,
      "outputs": []
    },
    {
      "cell_type": "code",
      "metadata": {
        "id": "WzeS7SvDlD3A",
        "colab_type": "code",
        "outputId": "be92ded8-7865-45b7-e20e-475884ec1e17",
        "colab": {
          "base_uri": "https://localhost:8080/",
          "height": 522
        }
      },
      "source": [
        "import scipy.stats as scipystats\n",
        "import statsmodels.api as sm\n",
        "import statsmodels.stats.stattools as stools\n",
        "import statsmodels.stats as stats \n",
        "from statsmodels.graphics.regressionplots import *\n",
        "\n",
        "fig, ax = plt.subplots(figsize=(8,8))\n",
        "fig = sm.graphics.influence_plot(reg, ax = ax, criterion=\"cooks\", plot_alpha=0.5)\n",
        "plt.show()"
      ],
      "execution_count": 0,
      "outputs": [
        {
          "output_type": "display_data",
          "data": {
            "image/png": "[encoded data removed]",
            "text/plain": [
              "<matplotlib.figure.Figure at 0x7fb2953a3208>"
            ]
          },
          "metadata": {
            "tags": []
          }
        }
      ]
    },
    {
      "cell_type": "code",
      "metadata": {
        "id": "J92HxBTn6-9o",
        "colab_type": "code",
        "colab": {}
      },
      "source": [
        ""
      ],
      "execution_count": 0,
      "outputs": []
    },
    {
      "cell_type": "code",
      "metadata": {
        "id": "gDtE2wqN61-w",
        "colab_type": "code",
        "colab": {}
      },
      "source": [
        ""
      ],
      "execution_count": 0,
      "outputs": []
    },
    {
      "cell_type": "markdown",
      "metadata": {
        "id": "gRbVJxLtlQWJ",
        "colab_type": "text"
      },
      "source": [
        "**residuals versus predicted values If we speak as a layman, the errors (or residuals) should be close to zero (negitive or positive) for any predicted value. That said the dots should be close to horizantal line.**"
      ]
    },
    {
      "cell_type": "code",
      "metadata": {
        "id": "M6RxvUlilRIt",
        "colab_type": "code",
        "colab": {}
      },
      "source": [
        ""
      ],
      "execution_count": 0,
      "outputs": []
    },
    {
      "cell_type": "code",
      "metadata": {
        "id": "XZ53Jlk7eYwE",
        "colab_type": "code",
        "colab": {}
      },
      "source": [
        ""
      ],
      "execution_count": 0,
      "outputs": []
    },
    {
      "cell_type": "markdown",
      "metadata": {
        "id": "g3M43SsiejBD",
        "colab_type": "text"
      },
      "source": [
        "**It seems like the corresponding residual plot is reasonably random. To confirm that, let’s go with a hypothesis test, Harvey-Collier multiplier test, for linearity**"
      ]
    },
    {
      "cell_type": "code",
      "metadata": {
        "id": "dCCkniMKekGT",
        "colab_type": "code",
        "outputId": "2d04b9ec-9a8e-492a-9455-7657162ce3f8",
        "colab": {
          "base_uri": "https://localhost:8080/",
          "height": 88
        }
      },
      "source": [
        "import statsmodels.stats.api as sms\n",
        "sms.linear_harvey_collier(reg)\n"
      ],
      "execution_count": 0,
      "outputs": [
        {
          "output_type": "stream",
          "text": [
            "/usr/local/lib/python3.6/dist-packages/statsmodels/compat/pandas.py:56: FutureWarning: The pandas.core.datetools module is deprecated and will be removed in a future version. Please use the pandas.tseries module instead.\n",
            "  from pandas.core import datetools\n"
          ],
          "name": "stderr"
        },
        {
          "output_type": "execute_result",
          "data": {
            "text/plain": [
              "Ttest_1sampResult(statistic=4.9902148829829125, pvalue=3.5816973971950396e-06)"
            ]
          },
          "metadata": {
            "tags": []
          },
          "execution_count": 18
        }
      ]
    },
    {
      "cell_type": "code",
      "metadata": {
        "id": "SIz-ud_CetRz",
        "colab_type": "code",
        "colab": {}
      },
      "source": [
        ""
      ],
      "execution_count": 0,
      "outputs": []
    },
    {
      "cell_type": "markdown",
      "metadata": {
        "id": "3tXPU_6ofUjM",
        "colab_type": "text"
      },
      "source": [
        "**Several tests exist for equal variance, with different alternative hypotheses. Let’s go with Breusch-Pagan test as an example. More can be found here. Small p-value (pval below) shows that there is violation of homoscedasticity.**"
      ]
    },
    {
      "cell_type": "code",
      "metadata": {
        "id": "XtSk4ah3fVZi",
        "colab_type": "code",
        "outputId": "011fa01f-0f6d-4fbb-a2a9-ed9f29b1bf47",
        "colab": {
          "base_uri": "https://localhost:8080/",
          "height": 34
        }
      },
      "source": [
        "_, pval, __, f_pval = statsmodels.stats.diagnostic.het_breuschpagan(residual, df[['adjfatal', 'adjsimp']])\n",
        "pval, f_pval\n"
      ],
      "execution_count": 0,
      "outputs": [
        {
          "output_type": "execute_result",
          "data": {
            "text/plain": [
              "(6.448482473014033e-08, 2.2130738396034907e-08)"
            ]
          },
          "metadata": {
            "tags": []
          },
          "execution_count": 33
        }
      ]
    },
    {
      "cell_type": "markdown",
      "metadata": {
        "id": "5yvjaID6kAdA",
        "colab_type": "text"
      },
      "source": [
        "**Usually assumption violations are not independent of each other. Having one violations may lead to another. In this case, we see that both linearity and homoscedasticity are not met**"
      ]
    },
    {
      "cell_type": "code",
      "metadata": {
        "id": "JPJD_G3ukBeG",
        "colab_type": "code",
        "colab": {}
      },
      "source": [
        ""
      ],
      "execution_count": 0,
      "outputs": []
    },
    {
      "cell_type": "markdown",
      "metadata": {
        "id": "GBdfEoByfiB2",
        "colab_type": "text"
      },
      "source": [
        "**Normality\n",
        "We can apply normal probability plot to assess how the data (error) depart from normality visually:**"
      ]
    },
    {
      "cell_type": "code",
      "metadata": {
        "id": "obQdL0hrfi9i",
        "colab_type": "code",
        "outputId": "491d3801-e242-46d4-8452-e111e94e73d4",
        "colab": {
          "base_uri": "https://localhost:8080/",
          "height": 230
        }
      },
      "source": [
        "import scipy as sp\n",
        "fig, ax = plt.subplots(figsize=(6,2.5))\n",
        "_, (__, ___, r) = sp.stats.probplot(residual, plot=ax, fit=True)\n",
        "r**2\n"
      ],
      "execution_count": 0,
      "outputs": [
        {
          "output_type": "execute_result",
          "data": {
            "text/plain": [
              "0.9523990893322949"
            ]
          },
          "metadata": {
            "tags": []
          },
          "execution_count": 32
        },
        {
          "output_type": "display_data",
          "data": {
            "image/png": "[encoded data removed]",
            "text/plain": [
              "<matplotlib.figure.Figure at 0x7fb293663198>"
            ]
          },
          "metadata": {
            "tags": []
          }
        }
      ]
    },
    {
      "cell_type": "code",
      "metadata": {
        "id": "x-KSYZsHi0aI",
        "colab_type": "code",
        "colab": {}
      },
      "source": [
        ""
      ],
      "execution_count": 0,
      "outputs": []
    },
    {
      "cell_type": "markdown",
      "metadata": {
        "id": "cPgeoiLgi055",
        "colab_type": "text"
      },
      "source": [
        "**The good fit indicates that normality is a reasonable approximation**"
      ]
    },
    {
      "cell_type": "code",
      "metadata": {
        "id": "Wo-DTtds4FO1",
        "colab_type": "code",
        "colab": {}
      },
      "source": [
        ""
      ],
      "execution_count": 0,
      "outputs": []
    },
    {
      "cell_type": "code",
      "metadata": {
        "id": "fi-II-3x3-xM",
        "colab_type": "code",
        "colab": {}
      },
      "source": [
        ""
      ],
      "execution_count": 0,
      "outputs": []
    },
    {
      "cell_type": "code",
      "metadata": {
        "id": "v2x_djbdd0s9",
        "colab_type": "code",
        "colab": {}
      },
      "source": [
        ""
      ],
      "execution_count": 0,
      "outputs": []
    },
    {
      "cell_type": "code",
      "metadata": {
        "id": "ULvr30LgdD0V",
        "colab_type": "code",
        "colab": {}
      },
      "source": [
        ""
      ],
      "execution_count": 0,
      "outputs": []
    },
    {
      "cell_type": "code",
      "metadata": {
        "id": "C4i8U32jc7Ot",
        "colab_type": "code",
        "colab": {}
      },
      "source": [
        ""
      ],
      "execution_count": 0,
      "outputs": []
    },
    {
      "cell_type": "code",
      "metadata": {
        "id": "kUTJVyj-c0p9",
        "colab_type": "code",
        "colab": {}
      },
      "source": [
        ""
      ],
      "execution_count": 0,
      "outputs": []
    },
    {
      "cell_type": "code",
      "metadata": {
        "id": "Ajva831_cyR1",
        "colab_type": "code",
        "colab": {}
      },
      "source": [
        ""
      ],
      "execution_count": 0,
      "outputs": []
    },
    {
      "cell_type": "code",
      "metadata": {
        "id": "KctFjncKcmle",
        "colab_type": "code",
        "colab": {}
      },
      "source": [
        ""
      ],
      "execution_count": 0,
      "outputs": []
    },
    {
      "cell_type": "code",
      "metadata": {
        "id": "rS5rXt6LckhW",
        "colab_type": "code",
        "colab": {}
      },
      "source": [
        ""
      ],
      "execution_count": 0,
      "outputs": []
    }
  ]
}
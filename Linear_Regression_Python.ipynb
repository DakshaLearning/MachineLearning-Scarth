{
  "nbformat": 4,
  "nbformat_minor": 0,
  "metadata": {
    "kernelspec": {
      "display_name": "Python 3",
      "language": "python",
      "name": "python3"
    },
    "language_info": {
      "codemirror_mode": {
        "name": "ipython",
        "version": 3
      },
      "file_extension": ".py",
      "mimetype": "text/x-python",
      "name": "python",
      "nbconvert_exporter": "python",
      "pygments_lexer": "ipython3",
      "version": "3.6.5"
    },
    "colab": {
      "name": "Linear Regression Python.ipynb",
      "provenance": []
    }
  },
  "cells": [
    {
      "cell_type": "code",
      "metadata": {
        "id": "kkA5OtsQtEA7",
        "colab_type": "code",
        "colab": {}
      },
      "source": [
        "# Required Python Packages\n",
        "import pandas as pd\n",
        "from math import pow\n"
      ],
      "execution_count": 0,
      "outputs": []
    },
    {
      "cell_type": "code",
      "metadata": {
        "id": "9sKrn6x0tEBB",
        "colab_type": "code",
        "colab": {}
      },
      "source": [
        "def get_headers(dataframe):\n",
        "    \"\"\"\n",
        "    Get the headers name of the dataframe\n",
        "    :param dataframe:\n",
        "    :return:\n",
        "    \"\"\"\n",
        "    return dataframe.columns.values\n",
        "\n",
        "\n",
        "\n"
      ],
      "execution_count": 0,
      "outputs": []
    },
    {
      "cell_type": "code",
      "metadata": {
        "id": "7Ssip4ivtEBF",
        "colab_type": "code",
        "colab": {}
      },
      "source": [
        "def cal_mean(readings):\n",
        "    \"\"\"\n",
        "    Function to calculate the mean value of the input readings\n",
        "    :param readings:\n",
        "    :return:\n",
        "    \"\"\"\n",
        "    readings_total = sum(readings)\n",
        "    number_of_readings = len(readings)\n",
        "    mean = readings_total / float(number_of_readings)\n",
        "    return mean\n"
      ],
      "execution_count": 0,
      "outputs": []
    },
    {
      "cell_type": "code",
      "metadata": {
        "id": "RD0GRhTitEBH",
        "colab_type": "code",
        "colab": {}
      },
      "source": [
        "def cal_variance(readings):\n",
        "    \"\"\"\n",
        "    Calculating the variance of the readings\n",
        "    :param readings:\n",
        "    :return:\n",
        "    \"\"\"\n",
        "    # To calculate the variance we need the mean value\n",
        "    # Calculating the mean value from the cal_mean function\n",
        "    readings_mean = cal_mean(readings)\n",
        "    # mean difference squared readings\n",
        "    mean_difference_squared_readings = [pow((reading - readings_mean), 2) for reading in readings]\n",
        "    variance = sum(mean_difference_squared_readings)\n",
        "    return variance / float(len(readings) - 1)\n",
        "\n",
        "\n",
        "def cal_covariance(readings_1, readings_2):\n",
        "    \"\"\"\n",
        "    Calculate the covariance between two different list of readings\n",
        "    :param readings_1:\n",
        "    :param readings_2:\n",
        "    :return:\n",
        "    \"\"\"\n",
        "    readings_1_mean = cal_mean(readings_1)\n",
        "    readings_2_mean = cal_mean(readings_2)\n",
        "    readings_size = len(readings_1)\n",
        "    covariance = 0.0\n",
        "    for i in xrange(0, readings_size):\n",
        "        covariance += (readings_1[i] - readings_1_mean) * (readings_2[i] - readings_2_mean)\n",
        "    return covariance / float(readings_size - 1)\n"
      ],
      "execution_count": 0,
      "outputs": []
    },
    {
      "cell_type": "code",
      "metadata": {
        "id": "taOtdsHotEBK",
        "colab_type": "code",
        "colab": {}
      },
      "source": [
        "def cal_simple_linear_regression_coefficients(x_readings, y_readings):\n",
        "    \"\"\"\n",
        "    Calculating the simple linear regression coefficients (B0, B1)\n",
        "    :param x_readings:\n",
        "    :param y_readings:\n",
        "    :return:\n",
        "    \"\"\"\n",
        "    # Coefficient B1 = covariance of x_readings and y_readings divided by variance of x_readings\n",
        "    # Directly calling the implemented covariance and the variance functions\n",
        "    # To calculate the coefficient B1\n",
        "    b1 = cal_covariance(x_readings, y_readings) / float(cal_variance(x_readings))\n",
        "\n",
        "    # Coefficient B0 = mean of y_readings - ( B1 * the mean of the x_readings )\n",
        "    b0 = cal_mean(y_readings) - (b1 * cal_mean(x_readings))\n",
        "    return b0, b1\n",
        "\n",
        "\n",
        "def predict_target_value(x, b0, b1):\n",
        "    \"\"\"\n",
        "    Calculating the target (y) value using the input x and the coefficients b0, b1\n",
        "    :param x:\n",
        "    :param b0:\n",
        "    :param b1:\n",
        "    :return:\n",
        "    \"\"\"\n",
        "    return b0 + b1 * x\n",
        "\n",
        "\n",
        "def cal_rmse(actual_readings, predicted_readings):\n",
        "    \"\"\"\n",
        "    Calculating the root mean square error\n",
        "    :param actual_readings:\n",
        "    :param predicted_readings:\n",
        "    :return:\n",
        "    \"\"\"\n",
        "    square_error_total = 0.0\n",
        "    total_readings = len(actual_readings)\n",
        "    for i in range(0, total_readings):\n",
        "        error = predicted_readings[i] - actual_readings[i]\n",
        "        square_error_total += pow(error, 2)\n",
        "    rmse = square_error_total / float(total_readings)\n",
        "    \n",
        "    return rmse\n",
        "\n"
      ],
      "execution_count": 0,
      "outputs": []
    },
    {
      "cell_type": "code",
      "metadata": {
        "id": "bg5zH_ICtEBN",
        "colab_type": "code",
        "colab": {}
      },
      "source": [
        ""
      ],
      "execution_count": 0,
      "outputs": []
    },
    {
      "cell_type": "code",
      "metadata": {
        "id": "gVawu3yntEBP",
        "colab_type": "code",
        "colab": {}
      },
      "source": [
        ""
      ],
      "execution_count": 0,
      "outputs": []
    },
    {
      "cell_type": "code",
      "metadata": {
        "id": "VLzCSrdgtEBR",
        "colab_type": "code",
        "colab": {}
      },
      "source": [
        "def simple_linear_regression(dataset):\n",
        "    \"\"\"\n",
        "    Implementing the simple linear regression without using any python library\n",
        "    :param dataset:\n",
        "    :return:\n",
        "    \"\"\"\n",
        "\n",
        "    # Get the dataset header names\n",
        "    dataset_headers = get_headers(dataset)\n",
        "    print (\"Dataset Headers :: \", dataset_headers)\n",
        "\n",
        "    # Calculating the mean of the square feet and the price readings\n",
        "    square_feet_mean = cal_mean(dataset[dataset_headers[0]])\n",
        "    price_mean = cal_mean(dataset[dataset_headers[1]])\n",
        "\n",
        "    square_feet_variance = cal_variance(dataset[dataset_headers[0]])\n",
        "    price_variance = cal_variance(dataset[dataset_headers[1]])\n",
        "\n",
        "    # Calculating the regression\n",
        "    covariance_of_price_and_square_feet = dataset.cov()[dataset_headers[0]][dataset_headers[1]]\n",
        "    w1 = covariance_of_price_and_square_feet / float(square_feet_variance)\n",
        "\n",
        "    w0 = price_mean - (w1 * square_feet_mean)\n",
        "    \n",
        "    print('co efficent :' , w1)\n",
        "    print('Intercept :' ,   w0)\n",
        "\n",
        "    # Predictions\n",
        "    dataset['Predicted_Salary'] = w0 + w1 * dataset[dataset_headers[0]]\n",
        "    print(dataset)\n",
        "    \n",
        "    RMSE=cal_rmse(dataset['Salary'], dataset['Predicted_Salary'])\n",
        "    print('RMSE::', RMSE)\n",
        "\n",
        "\n"
      ],
      "execution_count": 0,
      "outputs": []
    },
    {
      "cell_type": "code",
      "metadata": {
        "id": "GeU2Mvpst9j0",
        "colab_type": "code",
        "colab": {}
      },
      "source": [
        ""
      ],
      "execution_count": 0,
      "outputs": []
    },
    {
      "cell_type": "code",
      "metadata": {
        "id": "CYMGY-tBtEBW",
        "colab_type": "code",
        "colab": {}
      },
      "source": [
        "if __name__ == \"__main__\":\n",
        "\n",
        "    input_path = 'Salary_Data.csv'\n",
        "    house_price_dataset = pd.read_csv(input_path)\n",
        "    "
      ],
      "execution_count": 0,
      "outputs": []
    },
    {
      "cell_type": "code",
      "metadata": {
        "id": "i2EvP70-t-tj",
        "colab_type": "code",
        "colab": {}
      },
      "source": [
        ""
      ],
      "execution_count": 0,
      "outputs": []
    },
    {
      "cell_type": "code",
      "metadata": {
        "id": "R7s0EQr-tEBb",
        "colab_type": "code",
        "colab": {
          "base_uri": "https://localhost:8080/",
          "height": 605
        },
        "outputId": "7ac37395-1679-4890-bc7e-d9450b11477e"
      },
      "source": [
        "simple_linear_regression(house_price_dataset)\n"
      ],
      "execution_count": 11,
      "outputs": [
        {
          "output_type": "stream",
          "text": [
            "Dataset Headers ::  ['YearsExperience' 'Salary']\n",
            "co efficent : 9449.962321455076\n",
            "Intercept : 25792.200198668696\n",
            "    YearsExperience    Salary  Predicted_Salary\n",
            "0               1.1   39343.0      36187.158752\n",
            "1               1.3   46205.0      38077.151217\n",
            "2               1.5   37731.0      39967.143681\n",
            "3               2.0   43525.0      44692.124842\n",
            "4               2.2   39891.0      46582.117306\n",
            "5               2.9   56642.0      53197.090931\n",
            "6               3.0   60150.0      54142.087163\n",
            "7               3.2   54445.0      56032.079627\n",
            "8               3.2   64445.0      56032.079627\n",
            "9               3.7   57189.0      60757.060788\n",
            "10              3.9   63218.0      62647.053252\n",
            "11              4.0   55794.0      63592.049484\n",
            "12              4.0   56957.0      63592.049484\n",
            "13              4.1   57081.0      64537.045717\n",
            "14              4.5   61111.0      68317.030645\n",
            "15              4.9   67938.0      72097.015574\n",
            "16              5.1   66029.0      73987.008038\n",
            "17              5.3   83088.0      75877.000502\n",
            "18              5.9   81363.0      81546.977895\n",
            "19              6.0   93940.0      82491.974127\n",
            "20              6.8   91738.0      90051.943985\n",
            "21              7.1   98273.0      92886.932681\n",
            "22              7.9  101302.0     100446.902538\n",
            "23              8.2  113812.0     103281.891235\n",
            "24              8.7  109431.0     108006.872395\n",
            "25              9.0  105582.0     110841.861092\n",
            "26              9.5  116969.0     115566.842252\n",
            "27              9.6  112635.0     116511.838485\n",
            "28             10.3  122391.0     123126.812110\n",
            "29             10.5  121872.0     125016.804574\n",
            "RMSE:: 31270951.722280968\n"
          ],
          "name": "stdout"
        }
      ]
    },
    {
      "cell_type": "code",
      "metadata": {
        "id": "tIx7WaQMt_cz",
        "colab_type": "code",
        "colab": {}
      },
      "source": [
        "# Importing the libraries\n",
        "import numpy as np\n",
        "import matplotlib.pyplot as plt\n",
        "import pandas as pd\n",
        "\n",
        "# Importing the dataset\n",
        "dataset = pd.read_csv('Salary_Data.csv')\n",
        "X = dataset.iloc[:, :-1].values\n",
        "y = dataset.iloc[:, 1].values\n"
      ],
      "execution_count": 0,
      "outputs": []
    },
    {
      "cell_type": "code",
      "metadata": {
        "id": "Koqibg8Iu9B7",
        "colab_type": "code",
        "colab": {
          "base_uri": "https://localhost:8080/",
          "height": 34
        },
        "outputId": "8a55a334-f045-4daa-c0cc-d7889424ac3e"
      },
      "source": [
        "# Fitting Simple Linear Regression to the Training set\n",
        "from sklearn.linear_model import LinearRegression\n",
        "regressor = LinearRegression()\n",
        "regressor.fit(X, y)"
      ],
      "execution_count": 13,
      "outputs": [
        {
          "output_type": "execute_result",
          "data": {
            "text/plain": [
              "LinearRegression(copy_X=True, fit_intercept=True, n_jobs=None, normalize=False)"
            ]
          },
          "metadata": {
            "tags": []
          },
          "execution_count": 13
        }
      ]
    },
    {
      "cell_type": "code",
      "metadata": {
        "id": "UEqSJJc2vBsf",
        "colab_type": "code",
        "colab": {}
      },
      "source": [
        "# Predicting the Test set results\n",
        "y_pred = regressor.predict(X)"
      ],
      "execution_count": 0,
      "outputs": []
    },
    {
      "cell_type": "code",
      "metadata": {
        "id": "s-2skA-ivrNK",
        "colab_type": "code",
        "colab": {}
      },
      "source": [
        "from sklearn.metrics import mean_squared_error"
      ],
      "execution_count": 0,
      "outputs": []
    },
    {
      "cell_type": "code",
      "metadata": {
        "id": "3K7wg4revu9Z",
        "colab_type": "code",
        "colab": {
          "base_uri": "https://localhost:8080/",
          "height": 34
        },
        "outputId": "af4385ae-657c-47f9-aa93-163c1022aa94"
      },
      "source": [
        "mean_squared_error(y, y_pred)"
      ],
      "execution_count": 16,
      "outputs": [
        {
          "output_type": "execute_result",
          "data": {
            "text/plain": [
              "31270951.722280964"
            ]
          },
          "metadata": {
            "tags": []
          },
          "execution_count": 16
        }
      ]
    },
    {
      "cell_type": "code",
      "metadata": {
        "id": "6IytOdhGv2ip",
        "colab_type": "code",
        "colab": {}
      },
      "source": [
        "def rmse(predictions, targets):\n",
        "    return np.sqrt(((predictions - targets) ** 2).mean())"
      ],
      "execution_count": 0,
      "outputs": []
    },
    {
      "cell_type": "code",
      "metadata": {
        "id": "2TS09XofwG75",
        "colab_type": "code",
        "colab": {
          "base_uri": "https://localhost:8080/",
          "height": 34
        },
        "outputId": "0a086387-4504-4c4c-da59-705ddb751f03"
      },
      "source": [
        "rmse(y_pred,y)"
      ],
      "execution_count": 18,
      "outputs": [
        {
          "output_type": "execute_result",
          "data": {
            "text/plain": [
              "5592.043608760661"
            ]
          },
          "metadata": {
            "tags": []
          },
          "execution_count": 18
        }
      ]
    },
    {
      "cell_type": "code",
      "metadata": {
        "id": "Uy4W7iYqwL6B",
        "colab_type": "code",
        "colab": {}
      },
      "source": [
        ""
      ],
      "execution_count": 0,
      "outputs": []
    },
    {
      "cell_type": "code",
      "metadata": {
        "id": "-dPZVOAMtEBh",
        "colab_type": "code",
        "colab": {}
      },
      "source": [
        ""
      ],
      "execution_count": 0,
      "outputs": []
    },
    {
      "cell_type": "code",
      "metadata": {
        "id": "4vV3kfRctEBj",
        "colab_type": "code",
        "colab": {}
      },
      "source": [
        ""
      ],
      "execution_count": 0,
      "outputs": []
    },
    {
      "cell_type": "code",
      "metadata": {
        "id": "Lrom8voCtEBl",
        "colab_type": "code",
        "colab": {}
      },
      "source": [
        ""
      ],
      "execution_count": 0,
      "outputs": []
    },
    {
      "cell_type": "code",
      "metadata": {
        "id": "v9iTZrnStEBo",
        "colab_type": "code",
        "colab": {}
      },
      "source": [
        ""
      ],
      "execution_count": 0,
      "outputs": []
    },
    {
      "cell_type": "code",
      "metadata": {
        "id": "UZmLthkRtEBq",
        "colab_type": "code",
        "colab": {}
      },
      "source": [
        ""
      ],
      "execution_count": 0,
      "outputs": []
    },
    {
      "cell_type": "code",
      "metadata": {
        "id": "rwaalay_tEBs",
        "colab_type": "code",
        "colab": {}
      },
      "source": [
        ""
      ],
      "execution_count": 0,
      "outputs": []
    },
    {
      "cell_type": "code",
      "metadata": {
        "id": "W2jDB1n8tEBv",
        "colab_type": "code",
        "colab": {}
      },
      "source": [
        ""
      ],
      "execution_count": 0,
      "outputs": []
    },
    {
      "cell_type": "code",
      "metadata": {
        "id": "3pArcYyXtEBx",
        "colab_type": "code",
        "colab": {}
      },
      "source": [
        ""
      ],
      "execution_count": 0,
      "outputs": []
    },
    {
      "cell_type": "code",
      "metadata": {
        "id": "WOLHrGEKtEBz",
        "colab_type": "code",
        "colab": {}
      },
      "source": [
        ""
      ],
      "execution_count": 0,
      "outputs": []
    },
    {
      "cell_type": "code",
      "metadata": {
        "id": "hKwWJqsBtEB2",
        "colab_type": "code",
        "colab": {}
      },
      "source": [
        ""
      ],
      "execution_count": 0,
      "outputs": []
    },
    {
      "cell_type": "code",
      "metadata": {
        "id": "j5fZDWzdtEB7",
        "colab_type": "code",
        "colab": {}
      },
      "source": [
        ""
      ],
      "execution_count": 0,
      "outputs": []
    }
  ]
}